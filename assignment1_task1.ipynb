{
 "cells": [
  {
   "cell_type": "code",
   "execution_count": null,
   "metadata": {
    "scrolled": false
   },
   "outputs": [],
   "source": [
    "import pandas as pd\n",
    "import matplotlib.pyplot as plt\n",
    "%matplotlib inline"
   ]
  },
  {
   "cell_type": "markdown",
   "metadata": {},
   "source": [
    "# Task 1: Explore a small dataset\n",
    "### Task 1A: Exploration"
   ]
  },
  {
   "cell_type": "code",
   "execution_count": null,
   "metadata": {},
   "outputs": [],
   "source": [
    "df = pd.read_csv(\"data/ODI-2020.csv\", sep=';')\n",
    "\n",
    "# rename to normal column names for easier referencing later\n",
    "df.columns=[\"program\", \"ml_course\", \"ir_course\", \"stat_course\", \"db_course\", \"gender\",\n",
    "                \"chocolate\", \"birthday\", \"neighbors\", \"standed_up\", \"stress\", \"local_dm_comp\", \"random_number\",\n",
    "                \"bedtime_yesterday\", \"happy1\", \"happy2\"]\n",
    "display(df)"
   ]
  },
  {
   "cell_type": "markdown",
   "metadata": {},
   "source": [
    "### Clean"
   ]
  },
  {
   "cell_type": "code",
   "execution_count": null,
   "metadata": {
    "scrolled": false
   },
   "outputs": [],
   "source": [
    "# clean up open questions: master can be CLS/computational science/Computational Science/Master Computational Science, etc.\n",
    "import string\n",
    "\n",
    "df = pd.read_csv(\"data/ODI-2020.csv\", sep=';')\n",
    "\n",
    "# rename to normal column names for easier referencing later\n",
    "df.columns=[\"program\", \"ml_course\", \"ir_course\", \"stat_course\", \"db_course\", \"gender\",\n",
    "                \"chocolate\", \"birthday\", \"neighbors\", \"standed_up\", \"stress\", \"local_dm_comp\", \"random_number\",\n",
    "                \"bedtime_yesterday\", \"happy1\", \"happy2\"]\n",
    "display(df)\n",
    "\n",
    "\n",
    "\n",
    "\n",
    "\n",
    "print(\"Unique progams:\", len(df.program.unique()))\n",
    "print(\"Changing everything to lowercase\")\n",
    "df.program = df.program.map(str.lower)\n",
    "\n",
    "print(\"Unique progams:\", len(df.program.unique()))\n",
    "print(\"Deleting all punctuation\")\n",
    "# text = text.translate()\n",
    "\n",
    "df.program = df.program.map(lambda s: s.translate(str.maketrans('','', string.punctuation)))\n",
    "print(\"Unique progams:\", len(df.program.unique()))\n",
    "\n",
    "\n",
    "print(\"\\n\\n\\n\")\n",
    "\n",
    "for index, row in df.iterrows():\n",
    "    if \"computational\" in row.program or \"cls\" in row.program:\n",
    "        row.program = \"CLS\"\n",
    "    elif \"artificial\" in row.program or \"ai\" in row.program:\n",
    "        row.program = \"AI\"\n",
    "    elif \"computer science\" in row.program or \"cs\" in row.program:\n",
    "        row.program = \"CS\"\n",
    "    elif \"quantitative risk management\" in row.program or \"qrm\" in row.program:\n",
    "        row.program = \"QRM\"\n",
    "    \n",
    "print(\"Unique progams:\", len(df.program.unique()))\n",
    "print(df.program.unique())"
   ]
  },
  {
   "cell_type": "markdown",
   "metadata": {},
   "source": [
    "### Explore"
   ]
  },
  {
   "cell_type": "code",
   "execution_count": null,
   "metadata": {},
   "outputs": [],
   "source": [
    "# import os\n",
    "# if not os.path.exists('results/odi/'):\n",
    "#     os.makedirs('results/odi/')\n",
    "    \n",
    "# from collections import Counter\n",
    "\n",
    "\n",
    "# def show_save_histogram(df, column_name):\n",
    "#     \"\"\" Makes and saves a histogram of a specific df column. \"\"\"\n",
    "#     train_df.hist(column=column_name)\n",
    "#     plt.savefig(\"results/odi/\" + column_name + \".png\")\n",
    "\n",
    "\n",
    "\n",
    "# def make_bar_chart(df, column_name):\n",
    "#     \"\"\" Makes a bar chart given a data frame column. \"\"\"\n",
    "    \n",
    "#     freqs = Counter(df[column_name])\n",
    "#     xvals = range(len(freqs.values()))\n",
    "    \n",
    "#     plt.figure()\n",
    "#     plt.bar(xvals, freqs.values())\n",
    "#     plt.xticks(xvals, freqs.keys())\n",
    "    \n",
    "#     plt.savefig(\"results/odi/\" + column_name + \".png\")\n",
    "\n",
    "# show_save_histogram(df, \"Age\")\n",
    "# show_save_histogram(df, \"SibSp\")\n",
    "# show_save_histogram(df, \"Fare\")\n",
    "# show_save_histogram(df, \"Parch\")\n",
    "# show_save_histogram(df, \"Pclass\")\n",
    "# show_save_histogram(df, \"Survived\")\n",
    "\n",
    "# make_bar_chart(df, \"Sex\")\n",
    "# make_bar_chart(df, \"Embarked\")\n",
    "# make_bar_chart(df, \"Cabin\")"
   ]
  }
 ],
 "metadata": {
  "kernelspec": {
   "display_name": "Python 3",
   "language": "python",
   "name": "python3"
  },
  "language_info": {
   "codemirror_mode": {
    "name": "ipython",
    "version": 3
   },
   "file_extension": ".py",
   "mimetype": "text/x-python",
   "name": "python",
   "nbconvert_exporter": "python",
   "pygments_lexer": "ipython3",
   "version": "3.7.3"
  }
 },
 "nbformat": 4,
 "nbformat_minor": 2
}
