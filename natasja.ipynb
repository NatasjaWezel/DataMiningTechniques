{
 "cells": [
  {
   "cell_type": "code",
   "execution_count": null,
   "metadata": {
    "scrolled": false
   },
   "outputs": [],
   "source": [
    "import pandas as pd\n",
    "import matplotlib.pyplot as plt\n",
    "%matplotlib inline"
   ]
  },
  {
   "cell_type": "markdown",
   "metadata": {},
   "source": [
    "# Task 1: Explore a small dataset\n",
    "### Task 1A: Exploration"
   ]
  },
  {
   "cell_type": "code",
   "execution_count": null,
   "metadata": {},
   "outputs": [],
   "source": [
    "# dataset still missing"
   ]
  },
  {
   "cell_type": "markdown",
   "metadata": {},
   "source": [
    "### Task 1B: Basic classification/regression\n",
    "\n",
    "\n",
    "# Task 2 Compete in a kaggle competition to predict Titanic Survival\n",
    "\n",
    "#### SibSp\n",
    "number of siblings/spouses on board<br>\n",
    "Sibling = brother sister stepbrother stepsister<br>\n",
    "spouse = husband, wife (mistresses and fiancés were ignored)\n",
    "\n",
    "#### Parch\n",
    "number of parents/children<br>\n",
    "Parent = mother, father<br>\n",
    "Child = daughter, son, stepdaughter, stepson<br>\n",
    "some children travelled only with a nanny, parch=0 for them\n",
    "\n",
    "#### Class\n",
    "proxy for socio-economic status 1=upper, 2=middle, 3=lower\n",
    "\n",
    "#### Survived\n",
    "1 = Yes, 0 = No\n",
    "\n",
    "#### Embarked\n",
    "C = Cherbourg, Q=Queenstown, S=Southampton\n",
    "\n",
    "### Task 2A: Preparation"
   ]
  },
  {
   "cell_type": "code",
   "execution_count": null,
   "metadata": {
    "scrolled": false
   },
   "outputs": [],
   "source": [
    "train_df = pd.read_csv(\"data/train.csv\")\n",
    "test_df = pd.read_csv(\"data/test.csv\")\n",
    "\n",
    "display(train_df.head())\n",
    "display(test_df.head())\n",
    "display(train_df.describe())\n",
    "display(test_df.describe())"
   ]
  },
  {
   "cell_type": "markdown",
   "metadata": {},
   "source": [
    "### Plotjes"
   ]
  },
  {
   "cell_type": "code",
   "execution_count": null,
   "metadata": {
    "scrolled": false
   },
   "outputs": [],
   "source": [
    "import os\n",
    "if not os.path.exists('results/titanic/'):\n",
    "    os.makedirs('results/titanic/')\n",
    "    \n",
    "from collections import Counter\n",
    "\n",
    "\n",
    "def show_save_histogram(df, column_name):\n",
    "    \"\"\" Makes and saves a histogram of a specific df column. \"\"\"\n",
    "    train_df.hist(column=column_name)\n",
    "    plt.savefig(\"results/titanic/\" + column_name + \".png\")\n",
    "\n",
    "show_save_histogram(df, \"Age\")\n",
    "show_save_histogram(df, \"SibSp\")\n",
    "show_save_histogram(df, \"Fare\")\n",
    "show_save_histogram(df, \"Parch\")\n",
    "show_save_histogram(df, \"Pclass\")\n",
    "show_save_histogram(df, \"Survived\")\n",
    "\n",
    "def make_bar_chart(df, column_name):\n",
    "    \"\"\" Makes a bar chart given a data frame column. \"\"\"\n",
    "    \n",
    "    freqs = Counter(df[column_name])\n",
    "    xvals = range(len(freqs.values()))\n",
    "    \n",
    "    plt.figure()\n",
    "    plt.bar(xvals, freqs.values())\n",
    "    plt.xticks(xvals, freqs.keys())\n",
    "    \n",
    "    plt.savefig(\"results/titanic/\" + column_name + \".png\")\n",
    "\n",
    "\n",
    "make_bar_chart(train_df, \"Sex\")\n",
    "make_bar_chart(train_df, \"Embarked\")\n",
    "make_bar_chart(train_df, \"Cabin\")"
   ]
  },
  {
   "cell_type": "markdown",
   "metadata": {},
   "source": [
    "### Task 2B: Classification and Evaluation"
   ]
  },
  {
   "cell_type": "markdown",
   "metadata": {},
   "source": [
    "# Task 3: Research and theory\n",
    "### Task 3A: Research - State of the art solutions\n",
    "### Task 3B: Theory - MSE versus MAE\n",
    "### Task 3C: Theory - analyze a less obvious dataset"
   ]
  },
  {
   "cell_type": "code",
   "execution_count": null,
   "metadata": {},
   "outputs": [],
   "source": [
    "def read_file(filename):\n",
    "    \"\"\" Reads a file. \"\"\"\n",
    "    \n",
    "    f = open(filename, \"r\")\n",
    "    lines = f.readlines()\n",
    "    f.close()\n",
    "    \n",
    "    return lines\n",
    "\n",
    "\n",
    "def create_dataframe(lines):\n",
    "    \"\"\" Create a dataframe from a csv file. \"\"\"\n",
    "    \n",
    "    # get column names from first line\n",
    "    col_names = lines[0].split(';')\n",
    "    cols = [col_names[i].strip() for i in range(len(col_names))]\n",
    "    \n",
    "    # prepare data frame\n",
    "    amount_lines = len(lines)\n",
    "    df = pd.DataFrame(columns=cols, index=range(amount_lines - 1))\n",
    "    \n",
    "    # fill dataframe\n",
    "    i = 0\n",
    "    for line in lines[1:]:\n",
    "\n",
    "        parts = line.split(';', 1)\n",
    "\n",
    "        df.loc[i].label = parts[0]\n",
    "        df.loc[i].text = parts[1].strip()\n",
    "\n",
    "        i = i + 1\n",
    "        \n",
    "    return df"
   ]
  },
  {
   "cell_type": "code",
   "execution_count": null,
   "metadata": {},
   "outputs": [],
   "source": [
    "lines = read_file(\"data/SmsCollection.csv\")\n",
    "df = create_dataframe(lines)\n",
    "display(df)"
   ]
  },
  {
   "cell_type": "code",
   "execution_count": null,
   "metadata": {},
   "outputs": [],
   "source": []
  }
 ],
 "metadata": {
  "kernelspec": {
   "display_name": "Python 3",
   "language": "python",
   "name": "python3"
  },
  "language_info": {
   "codemirror_mode": {
    "name": "ipython",
    "version": 3
   },
   "file_extension": ".py",
   "mimetype": "text/x-python",
   "name": "python",
   "nbconvert_exporter": "python",
   "pygments_lexer": "ipython3",
   "version": "3.7.3"
  }
 },
 "nbformat": 4,
 "nbformat_minor": 2
}
