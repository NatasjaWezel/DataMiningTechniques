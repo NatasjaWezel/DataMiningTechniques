{
 "cells": [
  {
   "cell_type": "code",
   "execution_count": null,
   "metadata": {
    "button": false,
    "new_sheet": false,
    "run_control": {
     "read_only": false
    },
    "scrolled": false
   },
   "outputs": [],
   "source": [
    "import pandas as pd\n",
    "import matplotlib.pyplot as plt\n",
    "%matplotlib inline\n",
    "from random import randrange\n",
    "import random\n",
    "import seaborn as sns\n",
    "from sklearn.ensemble import RandomForestClassifier\n",
    "from sklearn.linear_model import LogisticRegression\n",
    "from collections import Counter\n",
    "\n",
    "font = {'family' : 'normal',\n",
    "        'weight' : 'bold',\n",
    "        'size'   : 22}\n",
    "\n",
    "plt.rc('font', **font)\n",
    "plt.rcParams.update({'font.size': 22})"
   ]
  },
  {
   "cell_type": "markdown",
   "metadata": {
    "button": false,
    "new_sheet": false,
    "run_control": {
     "read_only": false
    }
   },
   "source": [
    "# Task 2 Compete in a kaggle competition to predict Titanic Survival\n",
    "\n",
    "#### SibSp\n",
    "number of siblings/spouses on board<br>\n",
    "Sibling = brother sister stepbrother stepsister<br>\n",
    "spouse = husband, wife (mistresses and fiancés were ignored)\n",
    "\n",
    "#### Parch\n",
    "number of parents/children<br>\n",
    "Parent = mother, father<br>\n",
    "Child = daughter, son, stepdaughter, stepson<br>\n",
    "some children travelled only with a nanny, parch=0 for them\n",
    "\n",
    "#### Class\n",
    "proxy for socio-economic status 1=upper, 2=middle, 3=lower\n",
    "\n",
    "#### Survived\n",
    "1 = Yes, 0 = No\n",
    "\n",
    "#### Embarked\n",
    "C = Cherbourg, Q=Queenstown, S=Southampton\n",
    "\n",
    "### Task 2A: Preparation"
   ]
  },
  {
   "cell_type": "code",
   "execution_count": null,
   "metadata": {
    "button": false,
    "new_sheet": false,
    "run_control": {
     "read_only": false
    },
    "scrolled": false
   },
   "outputs": [],
   "source": [
    "train_df = pd.read_csv(\"data/train.csv\")\n",
    "test_df = pd.read_csv(\"data/test.csv\")\n",
    "\n",
    "display(train_df.head())\n",
    "display(test_df.head())\n",
    "display(train_df.describe())\n",
    "display(test_df.describe())\n"
   ]
  },
  {
   "cell_type": "code",
   "execution_count": null,
   "metadata": {},
   "outputs": [],
   "source": [
    "# Data bekjken (Lotte) - lelijkste code ooit!! Heb enorm rondgeklooid haha\n",
    "#for col in train_df:\n",
    "#    print(f\"Column name: {train_df[col]} data type: {train_df[col].dtypes} distinct values: {train_df[col].unique()}\")\n",
    "\n",
    "#roomletters = []\n",
    "# print(train_df['Cabin'].unique())\n",
    "# for room in train_df['Cabin'].unique():\n",
    "#     roomletters.append(str(room)[0])\n",
    "# print(set(roomletters))\n",
    "    \n",
    "\n",
    "# train_df['Died'] = 1 - train_df['Survived']\n",
    "# # alldata = train_df.groupby('Sex').agg('sum')[['Survived', 'Died']]\n",
    "# plt.style.use('seaborn')\n",
    "\n",
    "# plot = train_df.groupby('Fare').agg('sum')[['Survived', 'Died']].plot(kind='bar', \n",
    "#                                                                     fontsize=14, \n",
    "#                                                                     figsize=(4, 6),\n",
    "#                                                                     stacked=False, \n",
    "#                                                                     color=['black', 'grey'],\n",
    "#                                                                     title=\"Survival based on place of embarkment\");\n",
    "# # plot.figure.savefig(\"results/embark\")\n",
    "#plt.hist(train_df['SibSp'])\n",
    "# plot = train_df['Fare'].plot(kind='hist', fontsize=14, figsize=(4, 6),stacked=False, title=\"Fare\");\n",
    "# plot.figure.savefig(\"results/Fare_histo\")\n",
    "# plt.plot(train_df['Fare'],train_df['Survived'])\n",
    "# plot = train_df['Age'].plot(kind='hist', fontsize=14, figsize=(4, 6),stacked=False, color=['black','grey']title=\"Age\");\n",
    "# plot.figure.savefig(\"results/Age_box\")"
   ]
  },
  {
   "cell_type": "markdown",
   "metadata": {},
   "source": [
    "Survived: int64, [0,1]\n",
    "\n",
    "Pclass: int64, [3,1,2]\n",
    "\n",
    "Name: __weghalen__\n",
    "\n",
    "Sex: object (= string?), [male,female]\n",
    "\n",
    "Age: float 64, soms NaN data, nog naar distributie kijken, en waarom is dit een float? hoe kan je 0.67 zijn?\n",
    "\n",
    "Sibsp: int64, [1,0,3,4,2,5,8]\n",
    "\n",
    "Parch: int64, [0,1,2,3,4,5,6]\n",
    "\n",
    "Ticket: object(string?),  __weghalen?__\n",
    "\n",
    "Fare(tarief): float64, duurdere tickets is betere kamer? verband met cabin & pclass bekijken.\n",
    "\n",
    "Cabin: object(string?), er zijn missing values (nan), cabin nr bestaat uit: [letter,cijfer,(cijfer),(cijfer)]. Kamerletters zijn: {'G', 'F', 'D', 'T', 'C', 'A', 'E', 'B'} (op volgorde: A,B,C,D,E,F,G,T). Maar, sommige mensen hebben meerdere cabins:'D10 D12' en 'B51 B53 B55' of een kamernummer met alleen een letter 'D'. Hoe eerder in het alfabet de letter van je kamer, hoe hoger de verdieping waarop je slaapt. Kijken naar verband met Pclass: mensen met meer geld slapen misschien op bepaalde verdiepingen? En hogere verdieping is hogere kans op overleven?\n",
    "\n",
    "Embarked: object(string), [S,C,Q,nan] & [644,168,77,2] dus er zijn 2 missing values\n",
    "\n",
    "Died: explicit relation met survived, toch? even checken of de data overeen komt. [0,1]: gecheckt, iedereen die overleefd heeft is niet dood en iedereen die niet overleefd heeft is wel dood. dus __weghalen?__"
   ]
  },
  {
   "cell_type": "markdown",
   "metadata": {
    "button": false,
    "new_sheet": false,
    "run_control": {
     "read_only": false
    }
   },
   "source": [
    "### Plotjes"
   ]
  },
  {
   "cell_type": "code",
   "execution_count": null,
   "metadata": {
    "button": false,
    "new_sheet": false,
    "run_control": {
     "read_only": false
    }
   },
   "outputs": [],
   "source": [
    "import os\n",
    "if not os.path.exists('results/titanic/'):\n",
    "    os.makedirs('results/titanic/')\n",
    "    \n",
    "from collections import Counter\n",
    "\n",
    "\n",
    "def show_save_histogram(df, column_name):\n",
    "    \"\"\" Makes and saves a histogram of a specific df column. \"\"\"\n",
    "    train_df.hist(column=column_name)\n",
    "    plt.savefig(\"results/titanic/\" + column_name + \".png\")\n",
    "\n",
    "def make_bar_chart(df, column_name):\n",
    "    \"\"\" Makes a bar chart given a data frame column. \"\"\"\n",
    "    \n",
    "    freqs = Counter(df[column_name])\n",
    "    xvals = range(len(freqs.values()))\n",
    "    \n",
    "    plt.figure()\n",
    "    plt.bar(xvals, freqs.values())\n",
    "    plt.xticks(xvals, freqs.keys())\n",
    "    \n",
    "    plt.savefig(\"results/titanic/\" + column_name + \".png\")\n",
    "\n",
    "\n",
    "make_bar_chart(train_df, \"Sex\")\n",
    "make_bar_chart(train_df, \"Embarked\")\n",
    "make_bar_chart(train_df, \"Cabin\")"
   ]
  },
  {
   "cell_type": "code",
   "execution_count": null,
   "metadata": {
    "button": false,
    "new_sheet": false,
    "run_control": {
     "read_only": false
    }
   },
   "outputs": [],
   "source": [
    "train_df['Died'] = 1 - train_df['Survived']\n",
    "alldata = train_df.groupby('Sex').agg('sum')[['Survived', 'Died']]\n",
    "plt.style.use('seaborn')\n",
    "\n",
    "print(alldata)\n",
    "plot = train_df.groupby('Sex').agg('sum')[['Survived', 'Died']].plot(kind='bar', \n",
    "                                                                    fontsize=14, \n",
    "                                                                    figsize=(4, 6),\n",
    "                                                                    stacked=False, \n",
    "                                                                    color=['black', 'grey'],\n",
    "                                                                    title=\"Survival based on gender\");\n",
    "plot.figure.savefig(\"results/gender\")"
   ]
  },
  {
   "cell_type": "code",
   "execution_count": null,
   "metadata": {
    "button": false,
    "new_sheet": false,
    "run_control": {
     "read_only": false
    }
   },
   "outputs": [],
   "source": [
    "# g = sns.FacetGrid(train_df, col='Survived', height=5, aspect=.9, col_order=[1, 0])\n",
    "# g.map(plt.hist, 'Age', bins=25, color='black')\n",
    "# g.fig.subplots_adjust(top=0.9)\n",
    "# g.fig.suptitle('Survival based on age', fontsize=16)\n",
    "# g.savefig(\"results/age\")\n",
    "\n",
    "figure = plt.figure(figsize=(6, 6))\n",
    "plt.hist([data[data['Survived'] == 1]['Age'], data[data['Survived'] == 0]['Age']], \n",
    "         stacked=True, color = ['black','grey'],\n",
    "         bins = 25, label = ['Survived','Dead'])\n",
    "plt.title('Survival based on age')\n",
    "plt.xlabel('Age')\n",
    "plt.ylabel('Number of passengers')\n",
    "plt.legend();\n",
    "plt.savefig(\"results/agestacked\")"
   ]
  },
  {
   "cell_type": "code",
   "execution_count": null,
   "metadata": {
    "button": false,
    "new_sheet": false,
    "run_control": {
     "read_only": false
    },
    "scrolled": false
   },
   "outputs": [],
   "source": [
    "g = sns.FacetGrid(train_df, col='Survived')\n",
    "g.map(plt.hist, 'Fare', bins=20)\n",
    "\n",
    "g = sns.FacetGrid(train_df, col='Survived', height=5, aspect=.9, col_order=[1, 0])\n",
    "g.map(plt.hist, 'Fare', bins=25, color='black')\n",
    "g.fig.subplots_adjust(top=0.9)\n",
    "g.fig.suptitle('Survival based on fare', fontsize=16)\n",
    "# g.savefig(\"results/age\")"
   ]
  },
  {
   "cell_type": "markdown",
   "metadata": {
    "button": false,
    "new_sheet": false,
    "run_control": {
     "read_only": false
    }
   },
   "source": [
    "### Task 2B: Classification and Evaluation"
   ]
  },
  {
   "cell_type": "markdown",
   "metadata": {
    "run_control": {}
   },
   "source": [
    "#### Random solution"
   ]
  },
  {
   "cell_type": "code",
   "execution_count": null,
   "metadata": {
    "button": false,
    "new_sheet": false,
    "run_control": {
     "read_only": false
    }
   },
   "outputs": [],
   "source": [
    "# Random solution to titanic kaggle competition\n",
    "\n",
    "# Create basis for dataframe\n",
    "random_data = {'PassengerId': [], 'Survived':[]}\n",
    "\n",
    "# Iterate over test data\n",
    "for index,row in test_df.iterrows():\n",
    "\n",
    "    # Append Passenger ID\n",
    "    random_data['PassengerId'].append(row['PassengerId'])\n",
    "    \n",
    "    # Append random survival value from (0,1)\n",
    "    random_data['Survived'].append(randrange(2))\n",
    "\n",
    "# Make pandas dataframe\n",
    "df_random_solution = pd.DataFrame(random_data)\n",
    "\n",
    "# Save solution as csv\n",
    "df_random_solution.to_csv('results/randomsol.csv', index=False)"
   ]
  },
  {
   "cell_type": "markdown",
   "metadata": {
    "run_control": {}
   },
   "source": [
    "#### Non-random solution"
   ]
  },
  {
   "cell_type": "code",
   "execution_count": null,
   "metadata": {
    "button": false,
    "new_sheet": false,
    "run_control": {
     "read_only": false
    }
   },
   "outputs": [],
   "source": [
    "train_df = pd.read_csv(\"data/train.csv\")\n",
    "test_df = pd.read_csv(\"data/test.csv\")\n",
    "\n",
    "# Trainingset: Preprocess data\n",
    "train_df.info()"
   ]
  },
  {
   "cell_type": "markdown",
   "metadata": {
    "button": false,
    "new_sheet": false,
    "run_control": {
     "read_only": false
    }
   },
   "source": [
    "#### It is clear that some data is missing for 'age', 'cabin' and 'embarked'. Cabin has too little data, so it is dropped from the dataset. Name and ticket seem to not be relevant."
   ]
  },
  {
   "cell_type": "code",
   "execution_count": null,
   "metadata": {
    "button": false,
    "new_sheet": false,
    "run_control": {
     "read_only": false
    }
   },
   "outputs": [],
   "source": [
    "# Drop from training and test set\n",
    "try: \n",
    "    train_df = train_df.drop(['Ticket', 'Cabin', 'Name'], axis=1)\n",
    "    test_df = test_df.drop(['Ticket', 'Cabin', 'Name'], axis=1)\n",
    "except KeyError:\n",
    "    print(\"Already deleted columns\")\n",
    "train_df.head(15)"
   ]
  },
  {
   "cell_type": "markdown",
   "metadata": {
    "button": false,
    "new_sheet": false,
    "run_control": {
     "read_only": false
    }
   },
   "source": [
    "#### From the plots of survived people in a specific age category, it seems that the most people between 20 and 30 did not survive. "
   ]
  },
  {
   "cell_type": "code",
   "execution_count": null,
   "metadata": {
    "button": false,
    "new_sheet": false,
    "run_control": {
     "read_only": false
    }
   },
   "outputs": [],
   "source": [
    "# Obtain 4 category's for age\n",
    "train_df['age_category'] = pd.cut(train_df['Age'], 5)\n",
    "\n",
    "# Fill missing value with mean age\n",
    "mean_age = train_df.Age.dropna().mean()\n",
    "train_df.Age.fillna(mean_age, inplace=True)\n",
    "test_df.Age.fillna(mean_age, inplace=True)\n",
    "\n",
    "# Change in both datasets\n",
    "train_df.loc[ train_df['Age'] <= 16, 'Age'] = 0\n",
    "train_df.loc[(train_df['Age'] > 16) & (train_df['Age'] <= 32), 'Age'] = 1\n",
    "train_df.loc[(train_df['Age'] > 32) & (train_df['Age'] <= 48), 'Age'] = 2\n",
    "train_df.loc[(train_df['Age'] > 48) & (train_df['Age'] <= 64), 'Age'] = 3\n",
    "train_df.loc[ train_df['Age'] > 64, 'Age'] = 4\n",
    "\n",
    "test_df.loc[ test_df['Age'] <= 16, 'Age'] = 0\n",
    "test_df.loc[(test_df['Age'] > 16) & (test_df['Age'] <= 32), 'Age'] = 1\n",
    "test_df.loc[(test_df['Age'] > 32) & (test_df['Age'] <= 48), 'Age'] = 2\n",
    "test_df.loc[(test_df['Age'] > 48) & (test_df['Age'] <= 64), 'Age'] = 3\n",
    "test_df.loc[ test_df['Age'] > 64, 'Age'] = 4\n",
    "\n",
    "train_df.head(10)\n",
    "\n",
    "# Drop age category from dataframe\n",
    "train_df.drop(columns=['age_category'], axis=1, inplace=True)"
   ]
  },
  {
   "cell_type": "code",
   "execution_count": null,
   "metadata": {
    "button": false,
    "new_sheet": false,
    "run_control": {
     "read_only": false
    }
   },
   "outputs": [],
   "source": [
    "# Convert sex to only have zeros and ones\n",
    "train_df['Sex'] = train_df['Sex'].map({'female': 1, 'male': 0})\n",
    "test_df['Sex'] = test_df['Sex'].map({'female': 1, 'male': 0})\n",
    "\n",
    "train_df.head()"
   ]
  },
  {
   "cell_type": "code",
   "execution_count": null,
   "metadata": {
    "button": false,
    "new_sheet": false,
    "run_control": {
     "read_only": false
    }
   },
   "outputs": [],
   "source": [
    "# Preprocess embarked\n",
    "\n",
    "# Get mode for missing values\n",
    "mode = train_df.Embarked.dropna().mode()[0]\n",
    "\n",
    " # Fill missing values with mode\n",
    "train_df['Embarked'] = train_df['Embarked'].fillna(mode)\n",
    "test_df['Embarked'] = test_df['Embarked'].fillna(mode)\n",
    "    \n",
    "train_df[['Embarked', 'Survived']].groupby(['Embarked'], as_index=False).mean().sort_values(by='Survived', ascending=False)\n",
    "\n",
    "# Convert to integers\n",
    "train_df['Embarked'] = train_df['Embarked'].map( {'S': 0, 'C': 1, 'Q': 2} ).astype(int)\n",
    "test_df['Embarked'] = test_df['Embarked'].map( {'S': 0, 'C': 1, 'Q': 2} ).astype(int)\n",
    "\n",
    "train_df.head()"
   ]
  },
  {
   "cell_type": "markdown",
   "metadata": {
    "button": false,
    "new_sheet": false,
    "run_control": {
     "read_only": false
    }
   },
   "source": [
    "#### Process fare information"
   ]
  },
  {
   "cell_type": "code",
   "execution_count": null,
   "metadata": {
    "button": false,
    "new_sheet": false,
    "run_control": {
     "read_only": false
    }
   },
   "outputs": [],
   "source": [
    "g = sns.FacetGrid(train_df, col='Survived')\n",
    "g.map(plt.hist, 'Fare', bins=20)"
   ]
  },
  {
   "cell_type": "markdown",
   "metadata": {
    "button": false,
    "new_sheet": false,
    "run_control": {
     "read_only": false
    }
   },
   "source": [
    "#### It seems like survivalrate is small when fare rate was little and that survival rate is higher when fare rate is very high. "
   ]
  },
  {
   "cell_type": "code",
   "execution_count": null,
   "metadata": {
    "button": false,
    "new_sheet": false,
    "run_control": {
     "read_only": false
    }
   },
   "outputs": [],
   "source": [
    "# First, fill in missing values with the median\n",
    "median_fare = test_df['Fare'].dropna().median()\n",
    "test_df['Fare'].fillna(median_fare, inplace=True)\n",
    "\n",
    "train_df['FareBand'] = pd.qcut(train_df['Fare'], 3)\n",
    "train_df[['FareBand', 'Survived']].groupby(['FareBand'], as_index=False).mean().sort_values(by='FareBand', ascending=True)\n",
    "\n",
    "# Categorize\n",
    "train_df.loc[ (train_df['Fare'] <= 8.662) & (train_df['Fare'] > 0.0), 'Fare'] = 0\n",
    "train_df.loc[(train_df['Fare'] > 8.662) & (train_df['Fare'] <= 26.0), 'Fare'] = 1\n",
    "train_df.loc[ train_df['Fare'] > 26.0, 'Fare'] = 3\n",
    "\n",
    "test_df.loc[ (test_df['Fare'] <= 8.662) & (test_df['Fare'] > 0.0), 'Fare'] = 0\n",
    "test_df.loc[(test_df['Fare'] > 8.662) & (test_df['Fare'] <= 26.0), 'Fare'] = 1\n",
    "test_df.loc[ test_df['Fare'] > 26.0, 'Fare'] = 3\n",
    "\n",
    "# Drop fareband from dataset\n",
    "train_df = train_df.drop(['FareBand'], axis=1)"
   ]
  },
  {
   "cell_type": "code",
   "execution_count": null,
   "metadata": {
    "button": false,
    "new_sheet": false,
    "run_control": {
     "read_only": false
    }
   },
   "outputs": [],
   "source": [
    "for column in train_df:\n",
    "    train_df[column].astype(int)\n",
    "\n",
    "train_df.head(10)"
   ]
  },
  {
   "cell_type": "code",
   "execution_count": null,
   "metadata": {
    "button": false,
    "new_sheet": false,
    "run_control": {
     "read_only": false
    }
   },
   "outputs": [],
   "source": [
    "X_train = train_df.drop(\"Survived\", axis=1).copy()\n",
    "X_train = X_train.drop(\"PassengerId\", axis=1).copy()\n",
    "Y_train = train_df[\"Survived\"]\n",
    "X_test  = test_df.drop(\"PassengerId\", axis=1).copy()\n",
    "X_train.shape, Y_train.shape, X_test.shape\n",
    "\n",
    "# Random forest\n",
    "random_forest = RandomForestClassifier(n_estimators=100)\n",
    "random_forest.fit(X_train, Y_train)\n",
    "Y_pred = random_forest.predict(X_test)\n",
    "random_forest.score(X_train, Y_train)\n",
    "acc_random_forest = round(random_forest.score(X_train, Y_train) * 100, 2)\n",
    "acc_random_forest"
   ]
  }
 ],
 "metadata": {
  "kernelspec": {
   "display_name": "Python 3",
   "language": "python",
   "name": "python3"
  },
  "language_info": {
   "codemirror_mode": {
    "name": "ipython",
    "version": 3
   },
   "file_extension": ".py",
   "mimetype": "text/x-python",
   "name": "python",
   "nbconvert_exporter": "python",
   "pygments_lexer": "ipython3",
   "version": "3.7.4"
  }
 },
 "nbformat": 4,
 "nbformat_minor": 2
}
