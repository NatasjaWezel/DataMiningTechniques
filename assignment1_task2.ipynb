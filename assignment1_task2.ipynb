{
 "cells": [
  {
   "cell_type": "code",
   "execution_count": null,
   "metadata": {
    "scrolled": false
   },
   "outputs": [],
   "source": [
    "import pandas as pd\n",
    "import matplotlib.pyplot as plt\n",
    "%matplotlib inline\n",
    "from random import randrange\n",
    "import random"
   ]
  },
  {
   "cell_type": "markdown",
   "metadata": {},
   "source": [
    "# Task 2 Compete in a kaggle competition to predict Titanic Survival\n",
    "\n",
    "#### SibSp\n",
    "number of siblings/spouses on board<br>\n",
    "Sibling = brother sister stepbrother stepsister<br>\n",
    "spouse = husband, wife (mistresses and fiancés were ignored)\n",
    "\n",
    "#### Parch\n",
    "number of parents/children<br>\n",
    "Parent = mother, father<br>\n",
    "Child = daughter, son, stepdaughter, stepson<br>\n",
    "some children travelled only with a nanny, parch=0 for them\n",
    "\n",
    "#### Class\n",
    "proxy for socio-economic status 1=upper, 2=middle, 3=lower\n",
    "\n",
    "#### Survived\n",
    "1 = Yes, 0 = No\n",
    "\n",
    "#### Embarked\n",
    "C = Cherbourg, Q=Queenstown, S=Southampton\n",
    "\n",
    "### Task 2A: Preparation"
   ]
  },
  {
   "cell_type": "code",
   "execution_count": null,
   "metadata": {
    "scrolled": false
   },
   "outputs": [],
   "source": [
    "train_df = pd.read_csv(\"data/train.csv\")\n",
    "test_df = pd.read_csv(\"data/test.csv\")\n",
    "\n",
    "display(train_df.head())\n",
    "display(test_df.head())\n",
    "display(train_df.describe())\n",
    "display(test_df.describe())"
   ]
  },
  {
   "cell_type": "markdown",
   "metadata": {},
   "source": [
    "### Plotjes"
   ]
  },
  {
   "cell_type": "code",
   "execution_count": null,
   "metadata": {
    "scrolled": false
   },
   "outputs": [],
   "source": [
    "import os\n",
    "if not os.path.exists('results/titanic/'):\n",
    "    os.makedirs('results/titanic/')\n",
    "    \n",
    "from collections import Counter\n",
    "\n",
    "\n",
    "def show_save_histogram(df, column_name):\n",
    "    \"\"\" Makes and saves a histogram of a specific df column. \"\"\"\n",
    "    train_df.hist(column=column_name)\n",
    "    plt.savefig(\"results/titanic/\" + column_name + \".png\")\n",
    "\n",
    "show_save_histogram(train_df, \"Age\")\n",
    "show_save_histogram(train_df, \"SibSp\")\n",
    "show_save_histogram(train_df, \"Fare\")\n",
    "show_save_histogram(train_df, \"Parch\")\n",
    "show_save_histogram(train_df, \"Pclass\")\n",
    "show_save_histogram(train_df, \"Survived\")\n",
    "\n",
    "def make_bar_chart(df, column_name):\n",
    "    \"\"\" Makes a bar chart given a data frame column. \"\"\"\n",
    "    \n",
    "    freqs = Counter(df[column_name])\n",
    "    xvals = range(len(freqs.values()))\n",
    "    \n",
    "    plt.figure()\n",
    "    plt.bar(xvals, freqs.values())\n",
    "    plt.xticks(xvals, freqs.keys())\n",
    "    \n",
    "    plt.savefig(\"results/titanic/\" + column_name + \".png\")\n",
    "\n",
    "\n",
    "make_bar_chart(train_df, \"Sex\")\n",
    "make_bar_chart(train_df, \"Embarked\")\n",
    "make_bar_chart(train_df, \"Cabin\")"
   ]
  },
  {
   "cell_type": "markdown",
   "metadata": {},
   "source": [
    "### Task 2B: Classification and Evaluation"
   ]
  },
  {
   "cell_type": "code",
   "execution_count": null,
   "metadata": {},
   "outputs": [],
   "source": [
    "# Random solution to titanic kaggle competition\n",
    "\n",
    "# Create basis for dataframe\n",
    "random_data = {'PassengerId': [], 'Survived':[]}\n",
    "\n",
    "# Iterate over test data\n",
    "for index,row in test_df.iterrows():\n",
    "\n",
    "    # Append Passenger ID\n",
    "    random_data['PassengerId'].append(row['PassengerId'])\n",
    "    \n",
    "    # Append random survival value from (0,1)\n",
    "    random_data['Survived'].append(randrange(2))\n",
    "\n",
    "# Make pandas dataframe\n",
    "df_random_solution = pd.DataFrame(random_data)\n",
    "\n",
    "# Save solution as csv\n",
    "df_random_solution.to_csv('randomsol.csv', index=False)"
   ]
  },
  {
   "cell_type": "code",
   "execution_count": null,
   "metadata": {},
   "outputs": [],
   "source": [
    "# Gender based solution to titanic kaggle competition\n",
    "male_survived = 0\n",
    "male_total = 0\n",
    "female_survived = 0\n",
    "female_total = 0\n",
    "\n",
    "# Create basis for dataframe\n",
    "random_data = {'PassengerId': [], 'Survived':[]}\n",
    "\n",
    "# Iterate over train data\n",
    "for index,row in train_df.iterrows():\n",
    "\n",
    "    if row['Sex'] == 'male':\n",
    "        male_survived += row['Survived']\n",
    "        male_total += 1\n",
    "    else:\n",
    "        female_survived += row['Survived']\n",
    "        female_total += 1\n",
    "\n",
    "# Compute survival chance based on sex\n",
    "male_chance = male_survived / male_total\n",
    "female_chance = female_survived / female_total\n",
    "print(f\"male chance = {male_chance}\")\n",
    "print(f\"female chance = {female_chance}\")\n",
    "        \n",
    "# Iterate over test data\n",
    "for index,row in test_df.iterrows():\n",
    "\n",
    "    # Append Passenger ID\n",
    "    random_data['PassengerId'].append(row['PassengerId'])\n",
    "    \n",
    "    if row['Sex'] == 'male':\n",
    "        if random.random() <= male_chance:\n",
    "            random_data['Survived'].append(1)\n",
    "        else:\n",
    "            random_data['Survived'].append(0)\n",
    "    else:\n",
    "        if random.random() <= female_chance:\n",
    "            random_data['Survived'].append(1)\n",
    "        else:\n",
    "            random_data['Survived'].append(0)\n",
    "\n",
    "# Make pandas dataframe\n",
    "df_random_solution = pd.DataFrame(random_data)\n",
    "\n",
    "# Save solution as csv\n",
    "df_random_solution.to_csv('sexbasedsol.csv', index=False)"
   ]
  },
  {
   "cell_type": "code",
   "execution_count": null,
   "metadata": {},
   "outputs": [],
   "source": []
  }
 ],
 "metadata": {
  "kernelspec": {
   "display_name": "Python 3",
   "language": "python",
   "name": "python3"
  },
  "language_info": {
   "codemirror_mode": {
    "name": "ipython",
    "version": 3
   },
   "file_extension": ".py",
   "mimetype": "text/x-python",
   "name": "python",
   "nbconvert_exporter": "python",
   "pygments_lexer": "ipython3",
   "version": "3.7.3"
  }
 },
 "nbformat": 4,
 "nbformat_minor": 2
}
