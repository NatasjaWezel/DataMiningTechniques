{
 "cells": [
  {
   "cell_type": "code",
   "execution_count": 3,
   "metadata": {
    "button": false,
    "new_sheet": false,
    "run_control": {
     "read_only": false
    },
    "scrolled": false
   },
   "outputs": [],
   "source": [
    "import pandas as pd\n",
    "import matplotlib.pyplot as plt\n",
    "%matplotlib inline\n",
    "from random import randrange\n",
    "import random\n",
    "import seaborn as sns\n",
    "from sklearn.ensemble import RandomForestClassifier\n",
    "from sklearn.linear_model import LogisticRegression\n",
    "from collections import Counter\n",
    "\n",
    "font = {'family' : 'normal',\n",
    "        'weight' : 'bold',\n",
    "        'size'   : 22}\n",
    "\n",
    "plt.rc('font', **font)\n",
    "plt.rcParams.update({'font.size': 22})"
   ]
  },
  {
   "cell_type": "markdown",
   "metadata": {
    "button": false,
    "new_sheet": false,
    "run_control": {
     "read_only": false
    }
   },
   "source": [
    "# Task 2 Compete in a kaggle competition to predict Titanic Survival\n",
    "\n",
    "#### SibSp\n",
    "number of siblings/spouses on board<br>\n",
    "Sibling = brother sister stepbrother stepsister<br>\n",
    "spouse = husband, wife (mistresses and fiancés were ignored)\n",
    "\n",
    "#### Parch\n",
    "number of parents/children<br>\n",
    "Parent = mother, father<br>\n",
    "Child = daughter, son, stepdaughter, stepson<br>\n",
    "some children travelled only with a nanny, parch=0 for them\n",
    "\n",
    "#### Class\n",
    "proxy for socio-economic status 1=upper, 2=middle, 3=lower\n",
    "\n",
    "#### Survived\n",
    "1 = Yes, 0 = No\n",
    "\n",
    "#### Embarked\n",
    "C = Cherbourg, Q=Queenstown, S=Southampton\n",
    "\n",
    "### Task 2A: Preparation"
   ]
  },
  {
   "cell_type": "code",
   "execution_count": 4,
   "metadata": {
    "button": false,
    "new_sheet": false,
    "run_control": {
     "read_only": false
    },
    "scrolled": false
   },
   "outputs": [
    {
     "data": {
      "text/html": [
       "<div>\n",
       "<style scoped>\n",
       "    .dataframe tbody tr th:only-of-type {\n",
       "        vertical-align: middle;\n",
       "    }\n",
       "\n",
       "    .dataframe tbody tr th {\n",
       "        vertical-align: top;\n",
       "    }\n",
       "\n",
       "    .dataframe thead th {\n",
       "        text-align: right;\n",
       "    }\n",
       "</style>\n",
       "<table border=\"1\" class=\"dataframe\">\n",
       "  <thead>\n",
       "    <tr style=\"text-align: right;\">\n",
       "      <th></th>\n",
       "      <th>PassengerId</th>\n",
       "      <th>Survived</th>\n",
       "      <th>Pclass</th>\n",
       "      <th>Name</th>\n",
       "      <th>Sex</th>\n",
       "      <th>Age</th>\n",
       "      <th>SibSp</th>\n",
       "      <th>Parch</th>\n",
       "      <th>Ticket</th>\n",
       "      <th>Fare</th>\n",
       "      <th>Cabin</th>\n",
       "      <th>Embarked</th>\n",
       "    </tr>\n",
       "  </thead>\n",
       "  <tbody>\n",
       "    <tr>\n",
       "      <th>0</th>\n",
       "      <td>1</td>\n",
       "      <td>0</td>\n",
       "      <td>3</td>\n",
       "      <td>Braund, Mr. Owen Harris</td>\n",
       "      <td>male</td>\n",
       "      <td>22.0</td>\n",
       "      <td>1</td>\n",
       "      <td>0</td>\n",
       "      <td>A/5 21171</td>\n",
       "      <td>7.2500</td>\n",
       "      <td>NaN</td>\n",
       "      <td>S</td>\n",
       "    </tr>\n",
       "    <tr>\n",
       "      <th>1</th>\n",
       "      <td>2</td>\n",
       "      <td>1</td>\n",
       "      <td>1</td>\n",
       "      <td>Cumings, Mrs. John Bradley (Florence Briggs Th...</td>\n",
       "      <td>female</td>\n",
       "      <td>38.0</td>\n",
       "      <td>1</td>\n",
       "      <td>0</td>\n",
       "      <td>PC 17599</td>\n",
       "      <td>71.2833</td>\n",
       "      <td>C85</td>\n",
       "      <td>C</td>\n",
       "    </tr>\n",
       "    <tr>\n",
       "      <th>2</th>\n",
       "      <td>3</td>\n",
       "      <td>1</td>\n",
       "      <td>3</td>\n",
       "      <td>Heikkinen, Miss. Laina</td>\n",
       "      <td>female</td>\n",
       "      <td>26.0</td>\n",
       "      <td>0</td>\n",
       "      <td>0</td>\n",
       "      <td>STON/O2. 3101282</td>\n",
       "      <td>7.9250</td>\n",
       "      <td>NaN</td>\n",
       "      <td>S</td>\n",
       "    </tr>\n",
       "    <tr>\n",
       "      <th>3</th>\n",
       "      <td>4</td>\n",
       "      <td>1</td>\n",
       "      <td>1</td>\n",
       "      <td>Futrelle, Mrs. Jacques Heath (Lily May Peel)</td>\n",
       "      <td>female</td>\n",
       "      <td>35.0</td>\n",
       "      <td>1</td>\n",
       "      <td>0</td>\n",
       "      <td>113803</td>\n",
       "      <td>53.1000</td>\n",
       "      <td>C123</td>\n",
       "      <td>S</td>\n",
       "    </tr>\n",
       "    <tr>\n",
       "      <th>4</th>\n",
       "      <td>5</td>\n",
       "      <td>0</td>\n",
       "      <td>3</td>\n",
       "      <td>Allen, Mr. William Henry</td>\n",
       "      <td>male</td>\n",
       "      <td>35.0</td>\n",
       "      <td>0</td>\n",
       "      <td>0</td>\n",
       "      <td>373450</td>\n",
       "      <td>8.0500</td>\n",
       "      <td>NaN</td>\n",
       "      <td>S</td>\n",
       "    </tr>\n",
       "  </tbody>\n",
       "</table>\n",
       "</div>"
      ],
      "text/plain": [
       "   PassengerId  Survived  Pclass  \\\n",
       "0            1         0       3   \n",
       "1            2         1       1   \n",
       "2            3         1       3   \n",
       "3            4         1       1   \n",
       "4            5         0       3   \n",
       "\n",
       "                                                Name     Sex   Age  SibSp  \\\n",
       "0                            Braund, Mr. Owen Harris    male  22.0      1   \n",
       "1  Cumings, Mrs. John Bradley (Florence Briggs Th...  female  38.0      1   \n",
       "2                             Heikkinen, Miss. Laina  female  26.0      0   \n",
       "3       Futrelle, Mrs. Jacques Heath (Lily May Peel)  female  35.0      1   \n",
       "4                           Allen, Mr. William Henry    male  35.0      0   \n",
       "\n",
       "   Parch            Ticket     Fare Cabin Embarked  \n",
       "0      0         A/5 21171   7.2500   NaN        S  \n",
       "1      0          PC 17599  71.2833   C85        C  \n",
       "2      0  STON/O2. 3101282   7.9250   NaN        S  \n",
       "3      0            113803  53.1000  C123        S  \n",
       "4      0            373450   8.0500   NaN        S  "
      ]
     },
     "metadata": {},
     "output_type": "display_data"
    },
    {
     "data": {
      "text/html": [
       "<div>\n",
       "<style scoped>\n",
       "    .dataframe tbody tr th:only-of-type {\n",
       "        vertical-align: middle;\n",
       "    }\n",
       "\n",
       "    .dataframe tbody tr th {\n",
       "        vertical-align: top;\n",
       "    }\n",
       "\n",
       "    .dataframe thead th {\n",
       "        text-align: right;\n",
       "    }\n",
       "</style>\n",
       "<table border=\"1\" class=\"dataframe\">\n",
       "  <thead>\n",
       "    <tr style=\"text-align: right;\">\n",
       "      <th></th>\n",
       "      <th>PassengerId</th>\n",
       "      <th>Pclass</th>\n",
       "      <th>Name</th>\n",
       "      <th>Sex</th>\n",
       "      <th>Age</th>\n",
       "      <th>SibSp</th>\n",
       "      <th>Parch</th>\n",
       "      <th>Ticket</th>\n",
       "      <th>Fare</th>\n",
       "      <th>Cabin</th>\n",
       "      <th>Embarked</th>\n",
       "    </tr>\n",
       "  </thead>\n",
       "  <tbody>\n",
       "    <tr>\n",
       "      <th>0</th>\n",
       "      <td>892</td>\n",
       "      <td>3</td>\n",
       "      <td>Kelly, Mr. James</td>\n",
       "      <td>male</td>\n",
       "      <td>34.5</td>\n",
       "      <td>0</td>\n",
       "      <td>0</td>\n",
       "      <td>330911</td>\n",
       "      <td>7.8292</td>\n",
       "      <td>NaN</td>\n",
       "      <td>Q</td>\n",
       "    </tr>\n",
       "    <tr>\n",
       "      <th>1</th>\n",
       "      <td>893</td>\n",
       "      <td>3</td>\n",
       "      <td>Wilkes, Mrs. James (Ellen Needs)</td>\n",
       "      <td>female</td>\n",
       "      <td>47.0</td>\n",
       "      <td>1</td>\n",
       "      <td>0</td>\n",
       "      <td>363272</td>\n",
       "      <td>7.0000</td>\n",
       "      <td>NaN</td>\n",
       "      <td>S</td>\n",
       "    </tr>\n",
       "    <tr>\n",
       "      <th>2</th>\n",
       "      <td>894</td>\n",
       "      <td>2</td>\n",
       "      <td>Myles, Mr. Thomas Francis</td>\n",
       "      <td>male</td>\n",
       "      <td>62.0</td>\n",
       "      <td>0</td>\n",
       "      <td>0</td>\n",
       "      <td>240276</td>\n",
       "      <td>9.6875</td>\n",
       "      <td>NaN</td>\n",
       "      <td>Q</td>\n",
       "    </tr>\n",
       "    <tr>\n",
       "      <th>3</th>\n",
       "      <td>895</td>\n",
       "      <td>3</td>\n",
       "      <td>Wirz, Mr. Albert</td>\n",
       "      <td>male</td>\n",
       "      <td>27.0</td>\n",
       "      <td>0</td>\n",
       "      <td>0</td>\n",
       "      <td>315154</td>\n",
       "      <td>8.6625</td>\n",
       "      <td>NaN</td>\n",
       "      <td>S</td>\n",
       "    </tr>\n",
       "    <tr>\n",
       "      <th>4</th>\n",
       "      <td>896</td>\n",
       "      <td>3</td>\n",
       "      <td>Hirvonen, Mrs. Alexander (Helga E Lindqvist)</td>\n",
       "      <td>female</td>\n",
       "      <td>22.0</td>\n",
       "      <td>1</td>\n",
       "      <td>1</td>\n",
       "      <td>3101298</td>\n",
       "      <td>12.2875</td>\n",
       "      <td>NaN</td>\n",
       "      <td>S</td>\n",
       "    </tr>\n",
       "  </tbody>\n",
       "</table>\n",
       "</div>"
      ],
      "text/plain": [
       "   PassengerId  Pclass                                          Name     Sex  \\\n",
       "0          892       3                              Kelly, Mr. James    male   \n",
       "1          893       3              Wilkes, Mrs. James (Ellen Needs)  female   \n",
       "2          894       2                     Myles, Mr. Thomas Francis    male   \n",
       "3          895       3                              Wirz, Mr. Albert    male   \n",
       "4          896       3  Hirvonen, Mrs. Alexander (Helga E Lindqvist)  female   \n",
       "\n",
       "    Age  SibSp  Parch   Ticket     Fare Cabin Embarked  \n",
       "0  34.5      0      0   330911   7.8292   NaN        Q  \n",
       "1  47.0      1      0   363272   7.0000   NaN        S  \n",
       "2  62.0      0      0   240276   9.6875   NaN        Q  \n",
       "3  27.0      0      0   315154   8.6625   NaN        S  \n",
       "4  22.0      1      1  3101298  12.2875   NaN        S  "
      ]
     },
     "metadata": {},
     "output_type": "display_data"
    },
    {
     "data": {
      "text/html": [
       "<div>\n",
       "<style scoped>\n",
       "    .dataframe tbody tr th:only-of-type {\n",
       "        vertical-align: middle;\n",
       "    }\n",
       "\n",
       "    .dataframe tbody tr th {\n",
       "        vertical-align: top;\n",
       "    }\n",
       "\n",
       "    .dataframe thead th {\n",
       "        text-align: right;\n",
       "    }\n",
       "</style>\n",
       "<table border=\"1\" class=\"dataframe\">\n",
       "  <thead>\n",
       "    <tr style=\"text-align: right;\">\n",
       "      <th></th>\n",
       "      <th>PassengerId</th>\n",
       "      <th>Survived</th>\n",
       "      <th>Pclass</th>\n",
       "      <th>Age</th>\n",
       "      <th>SibSp</th>\n",
       "      <th>Parch</th>\n",
       "      <th>Fare</th>\n",
       "    </tr>\n",
       "  </thead>\n",
       "  <tbody>\n",
       "    <tr>\n",
       "      <th>count</th>\n",
       "      <td>891.000000</td>\n",
       "      <td>891.000000</td>\n",
       "      <td>891.000000</td>\n",
       "      <td>714.000000</td>\n",
       "      <td>891.000000</td>\n",
       "      <td>891.000000</td>\n",
       "      <td>891.000000</td>\n",
       "    </tr>\n",
       "    <tr>\n",
       "      <th>mean</th>\n",
       "      <td>446.000000</td>\n",
       "      <td>0.383838</td>\n",
       "      <td>2.308642</td>\n",
       "      <td>29.699118</td>\n",
       "      <td>0.523008</td>\n",
       "      <td>0.381594</td>\n",
       "      <td>32.204208</td>\n",
       "    </tr>\n",
       "    <tr>\n",
       "      <th>std</th>\n",
       "      <td>257.353842</td>\n",
       "      <td>0.486592</td>\n",
       "      <td>0.836071</td>\n",
       "      <td>14.526497</td>\n",
       "      <td>1.102743</td>\n",
       "      <td>0.806057</td>\n",
       "      <td>49.693429</td>\n",
       "    </tr>\n",
       "    <tr>\n",
       "      <th>min</th>\n",
       "      <td>1.000000</td>\n",
       "      <td>0.000000</td>\n",
       "      <td>1.000000</td>\n",
       "      <td>0.420000</td>\n",
       "      <td>0.000000</td>\n",
       "      <td>0.000000</td>\n",
       "      <td>0.000000</td>\n",
       "    </tr>\n",
       "    <tr>\n",
       "      <th>25%</th>\n",
       "      <td>223.500000</td>\n",
       "      <td>0.000000</td>\n",
       "      <td>2.000000</td>\n",
       "      <td>20.125000</td>\n",
       "      <td>0.000000</td>\n",
       "      <td>0.000000</td>\n",
       "      <td>7.910400</td>\n",
       "    </tr>\n",
       "    <tr>\n",
       "      <th>50%</th>\n",
       "      <td>446.000000</td>\n",
       "      <td>0.000000</td>\n",
       "      <td>3.000000</td>\n",
       "      <td>28.000000</td>\n",
       "      <td>0.000000</td>\n",
       "      <td>0.000000</td>\n",
       "      <td>14.454200</td>\n",
       "    </tr>\n",
       "    <tr>\n",
       "      <th>75%</th>\n",
       "      <td>668.500000</td>\n",
       "      <td>1.000000</td>\n",
       "      <td>3.000000</td>\n",
       "      <td>38.000000</td>\n",
       "      <td>1.000000</td>\n",
       "      <td>0.000000</td>\n",
       "      <td>31.000000</td>\n",
       "    </tr>\n",
       "    <tr>\n",
       "      <th>max</th>\n",
       "      <td>891.000000</td>\n",
       "      <td>1.000000</td>\n",
       "      <td>3.000000</td>\n",
       "      <td>80.000000</td>\n",
       "      <td>8.000000</td>\n",
       "      <td>6.000000</td>\n",
       "      <td>512.329200</td>\n",
       "    </tr>\n",
       "  </tbody>\n",
       "</table>\n",
       "</div>"
      ],
      "text/plain": [
       "       PassengerId    Survived      Pclass         Age       SibSp  \\\n",
       "count   891.000000  891.000000  891.000000  714.000000  891.000000   \n",
       "mean    446.000000    0.383838    2.308642   29.699118    0.523008   \n",
       "std     257.353842    0.486592    0.836071   14.526497    1.102743   \n",
       "min       1.000000    0.000000    1.000000    0.420000    0.000000   \n",
       "25%     223.500000    0.000000    2.000000   20.125000    0.000000   \n",
       "50%     446.000000    0.000000    3.000000   28.000000    0.000000   \n",
       "75%     668.500000    1.000000    3.000000   38.000000    1.000000   \n",
       "max     891.000000    1.000000    3.000000   80.000000    8.000000   \n",
       "\n",
       "            Parch        Fare  \n",
       "count  891.000000  891.000000  \n",
       "mean     0.381594   32.204208  \n",
       "std      0.806057   49.693429  \n",
       "min      0.000000    0.000000  \n",
       "25%      0.000000    7.910400  \n",
       "50%      0.000000   14.454200  \n",
       "75%      0.000000   31.000000  \n",
       "max      6.000000  512.329200  "
      ]
     },
     "metadata": {},
     "output_type": "display_data"
    },
    {
     "data": {
      "text/html": [
       "<div>\n",
       "<style scoped>\n",
       "    .dataframe tbody tr th:only-of-type {\n",
       "        vertical-align: middle;\n",
       "    }\n",
       "\n",
       "    .dataframe tbody tr th {\n",
       "        vertical-align: top;\n",
       "    }\n",
       "\n",
       "    .dataframe thead th {\n",
       "        text-align: right;\n",
       "    }\n",
       "</style>\n",
       "<table border=\"1\" class=\"dataframe\">\n",
       "  <thead>\n",
       "    <tr style=\"text-align: right;\">\n",
       "      <th></th>\n",
       "      <th>PassengerId</th>\n",
       "      <th>Pclass</th>\n",
       "      <th>Age</th>\n",
       "      <th>SibSp</th>\n",
       "      <th>Parch</th>\n",
       "      <th>Fare</th>\n",
       "    </tr>\n",
       "  </thead>\n",
       "  <tbody>\n",
       "    <tr>\n",
       "      <th>count</th>\n",
       "      <td>418.000000</td>\n",
       "      <td>418.000000</td>\n",
       "      <td>332.000000</td>\n",
       "      <td>418.000000</td>\n",
       "      <td>418.000000</td>\n",
       "      <td>417.000000</td>\n",
       "    </tr>\n",
       "    <tr>\n",
       "      <th>mean</th>\n",
       "      <td>1100.500000</td>\n",
       "      <td>2.265550</td>\n",
       "      <td>30.272590</td>\n",
       "      <td>0.447368</td>\n",
       "      <td>0.392344</td>\n",
       "      <td>35.627188</td>\n",
       "    </tr>\n",
       "    <tr>\n",
       "      <th>std</th>\n",
       "      <td>120.810458</td>\n",
       "      <td>0.841838</td>\n",
       "      <td>14.181209</td>\n",
       "      <td>0.896760</td>\n",
       "      <td>0.981429</td>\n",
       "      <td>55.907576</td>\n",
       "    </tr>\n",
       "    <tr>\n",
       "      <th>min</th>\n",
       "      <td>892.000000</td>\n",
       "      <td>1.000000</td>\n",
       "      <td>0.170000</td>\n",
       "      <td>0.000000</td>\n",
       "      <td>0.000000</td>\n",
       "      <td>0.000000</td>\n",
       "    </tr>\n",
       "    <tr>\n",
       "      <th>25%</th>\n",
       "      <td>996.250000</td>\n",
       "      <td>1.000000</td>\n",
       "      <td>21.000000</td>\n",
       "      <td>0.000000</td>\n",
       "      <td>0.000000</td>\n",
       "      <td>7.895800</td>\n",
       "    </tr>\n",
       "    <tr>\n",
       "      <th>50%</th>\n",
       "      <td>1100.500000</td>\n",
       "      <td>3.000000</td>\n",
       "      <td>27.000000</td>\n",
       "      <td>0.000000</td>\n",
       "      <td>0.000000</td>\n",
       "      <td>14.454200</td>\n",
       "    </tr>\n",
       "    <tr>\n",
       "      <th>75%</th>\n",
       "      <td>1204.750000</td>\n",
       "      <td>3.000000</td>\n",
       "      <td>39.000000</td>\n",
       "      <td>1.000000</td>\n",
       "      <td>0.000000</td>\n",
       "      <td>31.500000</td>\n",
       "    </tr>\n",
       "    <tr>\n",
       "      <th>max</th>\n",
       "      <td>1309.000000</td>\n",
       "      <td>3.000000</td>\n",
       "      <td>76.000000</td>\n",
       "      <td>8.000000</td>\n",
       "      <td>9.000000</td>\n",
       "      <td>512.329200</td>\n",
       "    </tr>\n",
       "  </tbody>\n",
       "</table>\n",
       "</div>"
      ],
      "text/plain": [
       "       PassengerId      Pclass         Age       SibSp       Parch        Fare\n",
       "count   418.000000  418.000000  332.000000  418.000000  418.000000  417.000000\n",
       "mean   1100.500000    2.265550   30.272590    0.447368    0.392344   35.627188\n",
       "std     120.810458    0.841838   14.181209    0.896760    0.981429   55.907576\n",
       "min     892.000000    1.000000    0.170000    0.000000    0.000000    0.000000\n",
       "25%     996.250000    1.000000   21.000000    0.000000    0.000000    7.895800\n",
       "50%    1100.500000    3.000000   27.000000    0.000000    0.000000   14.454200\n",
       "75%    1204.750000    3.000000   39.000000    1.000000    0.000000   31.500000\n",
       "max    1309.000000    3.000000   76.000000    8.000000    9.000000  512.329200"
      ]
     },
     "metadata": {},
     "output_type": "display_data"
    }
   ],
   "source": [
    "train_df = pd.read_csv(\"data/train.csv\")\n",
    "test_df = pd.read_csv(\"data/test.csv\")\n",
    "\n",
    "display(train_df.head())\n",
    "display(test_df.head())\n",
    "display(train_df.describe())\n",
    "display(test_df.describe())\n"
   ]
  },
  {
   "cell_type": "code",
   "execution_count": 37,
   "metadata": {},
   "outputs": [
    {
     "name": "stdout",
     "output_type": "stream",
     "text": [
      "0      X\n",
      "1      C\n",
      "2      X\n",
      "3      C\n",
      "4      X\n",
      "      ..\n",
      "886    X\n",
      "887    B\n",
      "888    X\n",
      "889    C\n",
      "890    X\n",
      "Name: Room_letter, Length: 891, dtype: object\n"
     ]
    },
    {
     "data": {
      "image/png": "[encoded data removed]",
      "text/plain": [
       "<Figure size 288x432 with 1 Axes>"
      ]
     },
     "metadata": {
      "needs_background": "light"
     },
     "output_type": "display_data"
    }
   ],
   "source": [
    "# Data bekjken (Lotte) - lelijkste code ooit!! Heb enorm rondgeklooid haha\n",
    "#for col in train_df:\n",
    "#    print(f\"Column name: {train_df[col]} data type: {train_df[col].dtypes} distinct values: {train_df[col].unique()}\")\n",
    "\n",
    "roomletters = []\n",
    "# print(train_df['Cabin'].unique())\n",
    "#counter = 0\n",
    "for room in train_df['Cabin']:\n",
    "    if room != room:\n",
    "        roomletters.append('X')\n",
    "    elif len(str(room)) < 2:\n",
    "        roomletters.append('X')\n",
    "    else:\n",
    "        roomletters.append(str(room)[0])\n",
    "\n",
    "train_df['Died'] = 1 - train_df['Survived']\n",
    "train_df['Room_letter'] = roomletters\n",
    "print(train_df['Room_letter'])\n",
    "plot = train_df.groupby('Room_letter').agg('sum')[['Survived', 'Died']].plot(kind='bar', \n",
    "                                                                    fontsize=14, \n",
    "                                                                    figsize=(4, 6),\n",
    "                                                                    stacked=True, \n",
    "                                                                    color=['black', 'grey'],\n",
    "                                                                    title=\"Survival based on gender\");\n",
    "plot.figure.savefig(\"results/roomletter\")\n",
    "\n",
    "# train_df['Died'] = 1 - train_df['Survived']\n",
    "# # alldata = train_df.groupby('Sex').agg('sum')[['Survived', 'Died']]\n",
    "# plt.style.use('seaborn')\n",
    "\n",
    "# plot = train_df.groupby('Fare').agg('sum')[['Survived', 'Died']].plot(kind='bar', \n",
    "#                                                                     fontsize=14, \n",
    "#                                                                     figsize=(4, 6),\n",
    "#                                                                     stacked=False, \n",
    "#                                                                     color=['black', 'grey'],\n",
    "#                                                                     title=\"Survival based on place of embarkment\");\n",
    "# # plot.figure.savefig(\"results/embark\")\n",
    "#plt.hist(train_df['SibSp'])\n",
    "# plot = train_df['Fare'].plot(kind='hist', fontsize=14, figsize=(4, 6),stacked=False, title=\"Fare\");\n",
    "# plot.figure.savefig(\"results/Fare_histo\")\n",
    "# plt.plot(train_df['Fare'],train_df['Survived'])\n",
    "# plot = train_df['Age'].plot(kind='hist', fontsize=14, figsize=(4, 6),stacked=False, color=['black','grey']title=\"Age\");\n",
    "# plot.figure.savefig(\"results/Age_box\")\n",
    "# import scipy.stats as stats\n",
    "# import statsmodels.api as sm\n",
    "# x = train_df[['Pclass', 'Fare']]\n",
    "# y = train_df['Survived']\n",
    "\n",
    "# results = sm.OLS(y,x).fit()\n",
    "# results.summary()\n",
    "\n",
    "# import numpy as np\n",
    "\n",
    "# r = np.corrcoef(train_df[['Pclass', 'Fare']],rowvar=False)\n",
    "# print(r)\n",
    "\n",
    "# import scipy.stats as st\n",
    "# print(st.pointbiserialr(train_df['Pclass'], train_df['Fare']))\n",
    "\n",
    "# print(train_df['Fare'].unique())\n",
    "\n",
    "# import numpy as np\n",
    "# from scipy.stats import kruskal\n",
    "\n",
    "# #cont_table=pd.pivot_table(train_df,index=[‘Hair’],columns=[‘Eye’],aggfunc=np.sum)\n",
    "# print(kruskal(train_df['Pclass'], train_df['Fare'],nan_policy='omit'))\n"
   ]
  },
  {
   "cell_type": "markdown",
   "metadata": {},
   "source": [
    "Survived: int64, [0,1]\n",
    "\n",
    "Pclass: int64, [3,1,2]\n",
    "\n",
    "Name: __weghalen__\n",
    "\n",
    "Sex: object (= string?), [male,female]\n",
    "\n",
    "Age: float 64, soms NaN data, nog naar distributie kijken, en waarom is dit een float? hoe kan je 0.67 zijn?\n",
    "\n",
    "Sibsp: int64, [1,0,3,4,2,5,8]\n",
    "\n",
    "Parch: int64, [0,1,2,3,4,5,6]\n",
    "\n",
    "Ticket: object(string?),  __weghalen?__\n",
    "\n",
    "Fare(tarief): float64, duurdere tickets is betere kamer? verband met cabin & pclass bekijken.\n",
    "\n",
    "Cabin: object(string?), er zijn missing values (nan), cabin nr bestaat uit: [letter,cijfer,(cijfer),(cijfer)]. Kamerletters zijn: {'G', 'F', 'D', 'T', 'C', 'A', 'E', 'B'} (op volgorde: A,B,C,D,E,F,G,T). Maar, sommige mensen hebben meerdere cabins:'D10 D12' en 'B51 B53 B55' of een kamernummer met alleen een letter 'D'. Hoe eerder in het alfabet de letter van je kamer, hoe hoger de verdieping waarop je slaapt. Kijken naar verband met Pclass: mensen met meer geld slapen misschien op bepaalde verdiepingen? En hogere verdieping is hogere kans op overleven?\n",
    "\n",
    "Embarked: object(string), [S,C,Q,nan] & [644,168,77,2] dus er zijn 2 missing values\n",
    "\n",
    "Died: explicit relation met survived, toch? even checken of de data overeen komt. [0,1]: gecheckt, iedereen die overleefd heeft is niet dood en iedereen die niet overleefd heeft is wel dood. dus __weghalen?__"
   ]
  },
  {
   "cell_type": "markdown",
   "metadata": {
    "button": false,
    "new_sheet": false,
    "run_control": {
     "read_only": false
    }
   },
   "source": [
    "### Plotjes"
   ]
  },
  {
   "cell_type": "code",
   "execution_count": null,
   "metadata": {
    "button": false,
    "new_sheet": false,
    "run_control": {
     "read_only": false
    }
   },
   "outputs": [],
   "source": [
    "import os\n",
    "if not os.path.exists('results/titanic/'):\n",
    "    os.makedirs('results/titanic/')\n",
    "    \n",
    "from collections import Counter\n",
    "\n",
    "\n",
    "def show_save_histogram(df, column_name):\n",
    "    \"\"\" Makes and saves a histogram of a specific df column. \"\"\"\n",
    "    train_df.hist(column=column_name)\n",
    "    plt.savefig(\"results/titanic/\" + column_name + \".png\")\n",
    "\n",
    "def make_bar_chart(df, column_name):\n",
    "    \"\"\" Makes a bar chart given a data frame column. \"\"\"\n",
    "    \n",
    "    freqs = Counter(df[column_name])\n",
    "    xvals = range(len(freqs.values()))\n",
    "    \n",
    "    plt.figure()\n",
    "    plt.bar(xvals, freqs.values())\n",
    "    plt.xticks(xvals, freqs.keys())\n",
    "    \n",
    "    plt.savefig(\"results/titanic/\" + column_name + \".png\")\n",
    "\n",
    "\n",
    "make_bar_chart(train_df, \"Sex\")\n",
    "make_bar_chart(train_df, \"Embarked\")\n",
    "make_bar_chart(train_df, \"Cabin\")"
   ]
  },
  {
   "cell_type": "code",
   "execution_count": null,
   "metadata": {
    "button": false,
    "new_sheet": false,
    "run_control": {
     "read_only": false
    }
   },
   "outputs": [],
   "source": [
    "train_df['Died'] = 1 - train_df['Survived']\n",
    "alldata = train_df.groupby('Sex').agg('sum')[['Survived', 'Died']]\n",
    "plt.style.use('seaborn')\n",
    "\n",
    "print(alldata)\n",
    "plot = train_df.groupby('Sex').agg('sum')[['Survived', 'Died']].plot(kind='bar', \n",
    "                                                                    fontsize=14, \n",
    "                                                                    figsize=(4, 6),\n",
    "                                                                    stacked=False, \n",
    "                                                                    color=['black', 'grey'],\n",
    "                                                                    title=\"Survival based on gender\");\n",
    "plot.figure.savefig(\"results/gender\")"
   ]
  },
  {
   "cell_type": "code",
   "execution_count": null,
   "metadata": {
    "button": false,
    "new_sheet": false,
    "run_control": {
     "read_only": false
    }
   },
   "outputs": [],
   "source": [
    "# g = sns.FacetGrid(train_df, col='Survived', height=5, aspect=.9, col_order=[1, 0])\n",
    "# g.map(plt.hist, 'Age', bins=25, color='black')\n",
    "# g.fig.subplots_adjust(top=0.9)\n",
    "# g.fig.suptitle('Survival based on age', fontsize=16)\n",
    "# g.savefig(\"results/age\")\n",
    "\n",
    "figure = plt.figure(figsize=(6, 6))\n",
    "plt.hist([data[data['Survived'] == 1]['Age'], data[data['Survived'] == 0]['Age']], \n",
    "         stacked=True, color = ['black','grey'],\n",
    "         bins = 25, label = ['Survived','Dead'])\n",
    "plt.title('Survival based on age')\n",
    "plt.xlabel('Age')\n",
    "plt.ylabel('Number of passengers')\n",
    "plt.legend();\n",
    "plt.savefig(\"results/agestacked\")"
   ]
  },
  {
   "cell_type": "code",
   "execution_count": null,
   "metadata": {
    "button": false,
    "new_sheet": false,
    "run_control": {
     "read_only": false
    },
    "scrolled": false
   },
   "outputs": [],
   "source": [
    "g = sns.FacetGrid(train_df, col='Survived')\n",
    "g.map(plt.hist, 'Fare', bins=20)\n",
    "\n",
    "g = sns.FacetGrid(train_df, col='Survived', height=5, aspect=.9, col_order=[1, 0])\n",
    "g.map(plt.hist, 'Fare', bins=25, color='black')\n",
    "g.fig.subplots_adjust(top=0.9)\n",
    "g.fig.suptitle('Survival based on fare', fontsize=16)\n",
    "# g.savefig(\"results/age\")"
   ]
  },
  {
   "cell_type": "markdown",
   "metadata": {
    "button": false,
    "new_sheet": false,
    "run_control": {
     "read_only": false
    }
   },
   "source": [
    "### Task 2B: Classification and Evaluation"
   ]
  },
  {
   "cell_type": "markdown",
   "metadata": {
    "run_control": {}
   },
   "source": [
    "#### Random solution"
   ]
  },
  {
   "cell_type": "code",
   "execution_count": null,
   "metadata": {
    "button": false,
    "new_sheet": false,
    "run_control": {
     "read_only": false
    }
   },
   "outputs": [],
   "source": [
    "# Random solution to titanic kaggle competition\n",
    "\n",
    "# Create basis for dataframe\n",
    "random_data = {'PassengerId': [], 'Survived':[]}\n",
    "\n",
    "# Iterate over test data\n",
    "for index,row in test_df.iterrows():\n",
    "\n",
    "    # Append Passenger ID\n",
    "    random_data['PassengerId'].append(row['PassengerId'])\n",
    "    \n",
    "    # Append random survival value from (0,1)\n",
    "    random_data['Survived'].append(randrange(2))\n",
    "\n",
    "# Make pandas dataframe\n",
    "df_random_solution = pd.DataFrame(random_data)\n",
    "\n",
    "# Save solution as csv\n",
    "df_random_solution.to_csv('results/randomsol.csv', index=False)"
   ]
  },
  {
   "cell_type": "markdown",
   "metadata": {
    "run_control": {}
   },
   "source": [
    "#### Non-random solution"
   ]
  },
  {
   "cell_type": "code",
   "execution_count": null,
   "metadata": {
    "button": false,
    "new_sheet": false,
    "run_control": {
     "read_only": false
    }
   },
   "outputs": [],
   "source": [
    "train_df = pd.read_csv(\"data/train.csv\")\n",
    "test_df = pd.read_csv(\"data/test.csv\")\n",
    "\n",
    "# Trainingset: Preprocess data\n",
    "train_df.info()"
   ]
  },
  {
   "cell_type": "markdown",
   "metadata": {
    "button": false,
    "new_sheet": false,
    "run_control": {
     "read_only": false
    }
   },
   "source": [
    "#### It is clear that some data is missing for 'age', 'cabin' and 'embarked'. Cabin has too little data, so it is dropped from the dataset. Name and ticket seem to not be relevant."
   ]
  },
  {
   "cell_type": "code",
   "execution_count": null,
   "metadata": {
    "button": false,
    "new_sheet": false,
    "run_control": {
     "read_only": false
    }
   },
   "outputs": [],
   "source": [
    "# Drop from training and test set\n",
    "try: \n",
    "    train_df = train_df.drop(['Ticket', 'Cabin', 'Name'], axis=1)\n",
    "    test_df = test_df.drop(['Ticket', 'Cabin', 'Name'], axis=1)\n",
    "except KeyError:\n",
    "    print(\"Already deleted columns\")\n",
    "train_df.head(15)"
   ]
  },
  {
   "cell_type": "markdown",
   "metadata": {
    "button": false,
    "new_sheet": false,
    "run_control": {
     "read_only": false
    }
   },
   "source": [
    "#### From the plots of survived people in a specific age category, it seems that the most people between 20 and 30 did not survive. "
   ]
  },
  {
   "cell_type": "code",
   "execution_count": null,
   "metadata": {
    "button": false,
    "new_sheet": false,
    "run_control": {
     "read_only": false
    }
   },
   "outputs": [],
   "source": [
    "# Obtain 4 category's for age\n",
    "train_df['age_category'] = pd.cut(train_df['Age'], 5)\n",
    "\n",
    "# Fill missing value with mean age\n",
    "mean_age = train_df.Age.dropna().mean()\n",
    "train_df.Age.fillna(mean_age, inplace=True)\n",
    "test_df.Age.fillna(mean_age, inplace=True)\n",
    "\n",
    "# Change in both datasets\n",
    "train_df.loc[ train_df['Age'] <= 16, 'Age'] = 0\n",
    "train_df.loc[(train_df['Age'] > 16) & (train_df['Age'] <= 32), 'Age'] = 1\n",
    "train_df.loc[(train_df['Age'] > 32) & (train_df['Age'] <= 48), 'Age'] = 2\n",
    "train_df.loc[(train_df['Age'] > 48) & (train_df['Age'] <= 64), 'Age'] = 3\n",
    "train_df.loc[ train_df['Age'] > 64, 'Age'] = 4\n",
    "\n",
    "test_df.loc[ test_df['Age'] <= 16, 'Age'] = 0\n",
    "test_df.loc[(test_df['Age'] > 16) & (test_df['Age'] <= 32), 'Age'] = 1\n",
    "test_df.loc[(test_df['Age'] > 32) & (test_df['Age'] <= 48), 'Age'] = 2\n",
    "test_df.loc[(test_df['Age'] > 48) & (test_df['Age'] <= 64), 'Age'] = 3\n",
    "test_df.loc[ test_df['Age'] > 64, 'Age'] = 4\n",
    "\n",
    "train_df.head(10)\n",
    "\n",
    "# Drop age category from dataframe\n",
    "train_df.drop(columns=['age_category'], axis=1, inplace=True)"
   ]
  },
  {
   "cell_type": "code",
   "execution_count": null,
   "metadata": {
    "button": false,
    "new_sheet": false,
    "run_control": {
     "read_only": false
    }
   },
   "outputs": [],
   "source": [
    "# Convert sex to only have zeros and ones\n",
    "train_df['Sex'] = train_df['Sex'].map({'female': 1, 'male': 0})\n",
    "test_df['Sex'] = test_df['Sex'].map({'female': 1, 'male': 0})\n",
    "\n",
    "train_df.head()"
   ]
  },
  {
   "cell_type": "code",
   "execution_count": null,
   "metadata": {
    "button": false,
    "new_sheet": false,
    "run_control": {
     "read_only": false
    }
   },
   "outputs": [],
   "source": [
    "# Preprocess embarked\n",
    "\n",
    "# Get mode for missing values\n",
    "mode = train_df.Embarked.dropna().mode()[0]\n",
    "\n",
    " # Fill missing values with mode\n",
    "train_df['Embarked'] = train_df['Embarked'].fillna(mode)\n",
    "test_df['Embarked'] = test_df['Embarked'].fillna(mode)\n",
    "    \n",
    "train_df[['Embarked', 'Survived']].groupby(['Embarked'], as_index=False).mean().sort_values(by='Survived', ascending=False)\n",
    "\n",
    "# Convert to integers\n",
    "train_df['Embarked'] = train_df['Embarked'].map( {'S': 0, 'C': 1, 'Q': 2} ).astype(int)\n",
    "test_df['Embarked'] = test_df['Embarked'].map( {'S': 0, 'C': 1, 'Q': 2} ).astype(int)\n",
    "\n",
    "train_df.head()"
   ]
  },
  {
   "cell_type": "markdown",
   "metadata": {
    "button": false,
    "new_sheet": false,
    "run_control": {
     "read_only": false
    }
   },
   "source": [
    "#### Process fare information"
   ]
  },
  {
   "cell_type": "code",
   "execution_count": null,
   "metadata": {
    "button": false,
    "new_sheet": false,
    "run_control": {
     "read_only": false
    }
   },
   "outputs": [],
   "source": [
    "g = sns.FacetGrid(train_df, col='Survived')\n",
    "g.map(plt.hist, 'Fare', bins=20)"
   ]
  },
  {
   "cell_type": "markdown",
   "metadata": {
    "button": false,
    "new_sheet": false,
    "run_control": {
     "read_only": false
    }
   },
   "source": [
    "#### It seems like survivalrate is small when fare rate was little and that survival rate is higher when fare rate is very high. "
   ]
  },
  {
   "cell_type": "code",
   "execution_count": null,
   "metadata": {
    "button": false,
    "new_sheet": false,
    "run_control": {
     "read_only": false
    }
   },
   "outputs": [],
   "source": [
    "# First, fill in missing values with the median\n",
    "median_fare = test_df['Fare'].dropna().median()\n",
    "test_df['Fare'].fillna(median_fare, inplace=True)\n",
    "\n",
    "train_df['FareBand'] = pd.qcut(train_df['Fare'], 3)\n",
    "train_df[['FareBand', 'Survived']].groupby(['FareBand'], as_index=False).mean().sort_values(by='FareBand', ascending=True)\n",
    "\n",
    "# Categorize\n",
    "train_df.loc[ (train_df['Fare'] <= 8.662) & (train_df['Fare'] > 0.0), 'Fare'] = 0\n",
    "train_df.loc[(train_df['Fare'] > 8.662) & (train_df['Fare'] <= 26.0), 'Fare'] = 1\n",
    "train_df.loc[ train_df['Fare'] > 26.0, 'Fare'] = 3\n",
    "\n",
    "test_df.loc[ (test_df['Fare'] <= 8.662) & (test_df['Fare'] > 0.0), 'Fare'] = 0\n",
    "test_df.loc[(test_df['Fare'] > 8.662) & (test_df['Fare'] <= 26.0), 'Fare'] = 1\n",
    "test_df.loc[ test_df['Fare'] > 26.0, 'Fare'] = 3\n",
    "\n",
    "# Drop fareband from dataset\n",
    "train_df = train_df.drop(['FareBand'], axis=1)"
   ]
  },
  {
   "cell_type": "code",
   "execution_count": null,
   "metadata": {
    "button": false,
    "new_sheet": false,
    "run_control": {
     "read_only": false
    }
   },
   "outputs": [],
   "source": [
    "for column in train_df:\n",
    "    train_df[column].astype(int)\n",
    "\n",
    "train_df.head(10)"
   ]
  },
  {
   "cell_type": "code",
   "execution_count": null,
   "metadata": {
    "button": false,
    "new_sheet": false,
    "run_control": {
     "read_only": false
    }
   },
   "outputs": [],
   "source": [
    "X_train = train_df.drop(\"Survived\", axis=1).copy()\n",
    "X_train = X_train.drop(\"PassengerId\", axis=1).copy()\n",
    "Y_train = train_df[\"Survived\"]\n",
    "X_test  = test_df.drop(\"PassengerId\", axis=1).copy()\n",
    "X_train.shape, Y_train.shape, X_test.shape\n",
    "\n",
    "# Random forest\n",
    "random_forest = RandomForestClassifier(n_estimators=100)\n",
    "random_forest.fit(X_train, Y_train)\n",
    "Y_pred = random_forest.predict(X_test)\n",
    "random_forest.score(X_train, Y_train)\n",
    "acc_random_forest = round(random_forest.score(X_train, Y_train) * 100, 2)\n",
    "acc_random_forest"
   ]
  }
 ],
 "metadata": {
  "kernelspec": {
   "display_name": "Python 3",
   "language": "python",
   "name": "python3"
  },
  "language_info": {
   "codemirror_mode": {
    "name": "ipython",
    "version": 3
   },
   "file_extension": ".py",
   "mimetype": "text/x-python",
   "name": "python",
   "nbconvert_exporter": "python",
   "pygments_lexer": "ipython3",
   "version": "3.7.4"
  }
 },
 "nbformat": 4,
 "nbformat_minor": 2
}
