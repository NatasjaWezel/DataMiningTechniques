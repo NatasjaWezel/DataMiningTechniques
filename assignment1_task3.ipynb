{
 "cells": [
  {
   "cell_type": "code",
   "execution_count": null,
   "metadata": {
    "scrolled": false
   },
   "outputs": [],
   "source": [
    "import pandas as pd\n",
    "import matplotlib.pyplot as plt\n",
    "%matplotlib inline\n",
    "from random import randrange\n",
    "import random"
   ]
  },
  {
   "cell_type": "markdown",
   "metadata": {},
   "source": [
    "# Task 3: Research and theory\n",
    "### Task 3A: Research - State of the art solutions\n",
    "### Task 3B: Theory - MSE versus MAE\n",
    "### Task 3C: Theory - analyze a less obvious dataset"
   ]
  },
  {
   "cell_type": "code",
   "execution_count": null,
   "metadata": {},
   "outputs": [],
   "source": [
    "def read_file(filename):\n",
    "    \"\"\" Reads a file. \"\"\"\n",
    "    \n",
    "    f = open(filename, \"r\")\n",
    "    lines = f.readlines()\n",
    "    f.close()\n",
    "    \n",
    "    return lines\n",
    "\n",
    "\n",
    "def create_dataframe(lines):\n",
    "    \"\"\" Create a dataframe from a csv file. \"\"\"\n",
    "    \n",
    "    # get column names from first line\n",
    "    col_names = lines[0].split(';')\n",
    "    cols = [col_names[i].strip() for i in range(len(col_names))]\n",
    "    \n",
    "    # prepare data frame\n",
    "    amount_lines = len(lines)\n",
    "    df = pd.DataFrame(columns=cols, index=range(amount_lines - 1))\n",
    "    \n",
    "    # fill dataframe\n",
    "    i = 0\n",
    "    for line in lines[1:]:\n",
    "\n",
    "        parts = line.split(';', 1)\n",
    "\n",
    "        df.loc[i].label = parts[0]\n",
    "        df.loc[i].text = parts[1].strip()\n",
    "\n",
    "        i = i + 1\n",
    "        \n",
    "    return df"
   ]
  },
  {
   "cell_type": "code",
   "execution_count": null,
   "metadata": {
    "scrolled": false
   },
   "outputs": [],
   "source": [
    "lines = read_file(\"data/SmsCollection.csv\")\n",
    "\n",
    "import html\n",
    "\n",
    "df = create_dataframe(lines)\n",
    "\n",
    "display(df)\n",
    "\n"
   ]
  },
  {
   "cell_type": "code",
   "execution_count": null,
   "metadata": {},
   "outputs": [],
   "source": []
  }
 ],
 "metadata": {
  "kernelspec": {
   "display_name": "Python 3",
   "language": "python",
   "name": "python3"
  },
  "language_info": {
   "codemirror_mode": {
    "name": "ipython",
    "version": 3
   },
   "file_extension": ".py",
   "mimetype": "text/x-python",
   "name": "python",
   "nbconvert_exporter": "python",
   "pygments_lexer": "ipython3",
   "version": "3.7.3"
  }
 },
 "nbformat": 4,
 "nbformat_minor": 2
}
