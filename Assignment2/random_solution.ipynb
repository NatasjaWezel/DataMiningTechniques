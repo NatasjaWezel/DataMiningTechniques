{
 "cells": [
  {
   "cell_type": "code",
   "execution_count": null,
   "metadata": {},
   "outputs": [],
   "source": [
    "import pandas as pd\n",
    "import random\n",
    "import csv\n",
    "import os"
   ]
  },
  {
   "cell_type": "code",
   "execution_count": null,
   "metadata": {},
   "outputs": [],
   "source": [
    "def random_solution(df, csv_name):\n",
    "    \n",
    "    csv_name = \"./results/\" + csv_name\n",
    "    \n",
    "    # get list of hotels per search id\n",
    "    results_per_search = df.groupby('srch_id').size()\n",
    "    \n",
    "    column_values = df[\"srch_id\"].values\n",
    "    ids =  pd.unique(column_values) \n",
    "    \n",
    "    if not os.path.exists(\"./results\"):\n",
    "        os.mkdir(\"./results\")\n",
    "        \n",
    "    with open(csv_name, 'w', newline='') as file:\n",
    "        writer = csv.writer(file)\n",
    "        writer.writerow([\"srch_id\", \"prop_id\"])\n",
    "\n",
    "    for i, ideetje in enumerate(ids):\n",
    "        df_temp = df[df[\"srch_id\"] == ideetje]\n",
    "        prop_ids = df_temp[\"prop_id\"].values\n",
    "        \n",
    "        # shuffle hotels\n",
    "        random.shuffle(prop_ids)\n",
    "    \n",
    "        # write csv\n",
    "        with open(csv_name, 'a', newline='') as file:\n",
    "            writer = csv.writer(file)\n",
    "            \n",
    "            for prop_id in prop_ids:\n",
    "                writer.writerow([ideetje, prop_id])"
   ]
  },
  {
   "cell_type": "code",
   "execution_count": null,
   "metadata": {},
   "outputs": [],
   "source": [
    "testdf = pd.read_csv(\"data/test_set_VU_DM.csv\")"
   ]
  },
  {
   "cell_type": "code",
   "execution_count": null,
   "metadata": {},
   "outputs": [],
   "source": [
    "random_solution(testdf, \"total_test_set_random.csv\")"
   ]
  },
  {
   "cell_type": "code",
   "execution_count": null,
   "metadata": {},
   "outputs": [],
   "source": []
  }
 ],
 "metadata": {
  "kernelspec": {
   "display_name": "Python 3",
   "language": "python",
   "name": "python3"
  },
  "language_info": {
   "codemirror_mode": {
    "name": "ipython",
    "version": 3
   },
   "file_extension": ".py",
   "mimetype": "text/x-python",
   "name": "python",
   "nbconvert_exporter": "python",
   "pygments_lexer": "ipython3",
   "version": "3.7.3"
  }
 },
 "nbformat": 4,
 "nbformat_minor": 2
}
