{
 "cells": [
  {
   "cell_type": "code",
   "execution_count": null,
   "metadata": {},
   "outputs": [],
   "source": [
    "import pandas as pd\n",
    "import matplotlib.pyplot as plt"
   ]
  },
  {
   "cell_type": "markdown",
   "metadata": {},
   "source": [
    "### Exploratory Data Analysis"
   ]
  },
  {
   "cell_type": "code",
   "execution_count": null,
   "metadata": {},
   "outputs": [],
   "source": [
    "df = pd.read_csv(\"data/training_set_VU_DM.csv\")\n",
    "display(df.describe())"
   ]
  },
  {
   "cell_type": "code",
   "execution_count": null,
   "metadata": {
    "scrolled": false
   },
   "outputs": [],
   "source": [
    "count_non_nan = df.count()\n",
    "display(count_non_nan)\n",
    "\n",
    "plt.figure(figsize=(15,8))\n",
    "count_non_nan.plot.bar(width=0.5)"
   ]
  },
  {
   "cell_type": "code",
   "execution_count": null,
   "metadata": {},
   "outputs": [],
   "source": [
    "print(df[\"srch_id\"].count())\n",
    "print(df[\"srch_id\"].nunique())\n",
    "print(df[\"date_time\"].count())\n",
    "print(df[\"date_time\"].nunique())"
   ]
  },
  {
   "cell_type": "markdown",
   "metadata": {},
   "source": [
    "### This means that we have almost 5 million rows, but these retain from 199.795 unique searches. This means that per search about 25 hotels are shown.\n",
    "##### Indeed there are 199.795 unique searches, but be aware the srch_id column has gaps! For example the first id's are: 1,4,6,8,11\n",
    "##### Range of number of hotels shown in a search is [5,38] consecutive (no missing number in this range)"
   ]
  },
  {
   "cell_type": "code",
   "execution_count": null,
   "metadata": {},
   "outputs": [],
   "source": [
    "print(df[\"prop_id\"].count())\n",
    "print(df[\"prop_id\"].nunique())"
   ]
  },
  {
   "cell_type": "code",
   "execution_count": null,
   "metadata": {},
   "outputs": [],
   "source": [
    "count_unique = df.nunique()"
   ]
  },
  {
   "cell_type": "code",
   "execution_count": null,
   "metadata": {},
   "outputs": [],
   "source": [
    "print(count_unique)"
   ]
  },
  {
   "cell_type": "code",
   "execution_count": null,
   "metadata": {},
   "outputs": [],
   "source": [
    "plt.figure(figsize=(15,8))\n",
    "count_unique.plot.bar(width=0.5)"
   ]
  },
  {
   "cell_type": "code",
   "execution_count": null,
   "metadata": {},
   "outputs": [],
   "source": [
    "less_unique = count_unique.drop(labels=[\"srch_id\", \"date_time\", \"prop_id\", \"price_usd\",\n",
    "                                            \"srch_query_affinity_score\", \"orig_destination_distance\",\n",
    "                                            \"gross_bookings_usd\", \"srch_destination_id\", \"visitor_hist_adr_usd\",\n",
    "                                            \"prop_location_score2\", \"comp1_rate_percent_diff\"])\n",
    "plt.figure(figsize=(15,8))\n",
    "less_unique.plot.bar(width=0.5)"
   ]
  },
  {
   "cell_type": "markdown",
   "metadata": {},
   "source": [
    "### In this dataset we count 129.113 unique hotels"
   ]
  },
  {
   "cell_type": "code",
   "execution_count": null,
   "metadata": {},
   "outputs": [],
   "source": [
    "df = pd.read_csv(\"data/test_set_VU_DM.csv\")\n",
    "display(df.describe())"
   ]
  },
  {
   "cell_type": "code",
   "execution_count": null,
   "metadata": {},
   "outputs": [],
   "source": [
    "# Lotte Donderdag 23 april\n",
    "# TODO: een kleinere dataset maken, bv van 1000 searches dat is dan ± 25.000 rows aan data\n",
    "\n",
    "# wat pandas commands die handig zijn\n",
    "# df.dtypes\n",
    "# pd.isnull(df).any()\n",
    "# df.query('prop_location_score2 > prop_location_score1')\n",
    "\n",
    "def count_of_column_per_search(df):\n",
    "    \"\"\"\n",
    "    Met deze code kun je de count van een bepaalde kolom (zoals 'promotion_flag') per complete search bekijken\n",
    "    \"\"\"\n",
    "    grouped_searches = df.groupby('srch_id')[['promotion_flag']].count()\n",
    "    grouped_searches.sort_values('promotion_flag').reset_index()\n",
    "    grouped_searches.columns = ['test']\n",
    "    grouped_searches\n",
    "\n",
    "\n",
    "def number_of_hotels_per_search(df):\n",
    "    \"\"\"\n",
    "    Print hoeveel hotels er per search worden weergegeven, print het minimum, maximum, en de unieke waardes\n",
    "    Handig linkje: https://towardsdatascience.com/data-visualization-exploration-using-pandas-only-beginner-a0a52eb723d5\n",
    "    \"\"\"\n",
    "    \n",
    "    grouped_searches = df.groupby('srch_id')[['prop_id']].count()\n",
    "    grouped_searches.sort_values('prop_id').reset_index()\n",
    "    grouped_searches.columns = ['nr_hotels']\n",
    "    nr_hotels = grouped_searches['nr_hotels'].unique()\n",
    "    print(min(nr_hotels))\n",
    "    print(max(nr_hotels))\n",
    "    print(sorted(nr_hotels))\n",
    "    grouped_searches['nr_hotels'].plot(kind='kde')\n",
    "\n",
    "# number_of_hotels_per_search(df)\n",
    "def database_correlations(df):\n",
    "    \"\"\"\n",
    "    Correlations in de database bekijken\n",
    "    https://www.datacamp.com/community/tutorials/exploratory-data-analysis-python#comments\n",
    "    \"\"\"\n",
    "    # Pearson correlations\n",
    "    pearson = df.corr()\n",
    "    correlation_plot(pearson, 'pearson_corr')\n",
    "    # print(pearson['srch_id'])\n",
    "    \n",
    "#     # Kendall tau correlations\n",
    "#     df.rank()\n",
    "#     df.corr('kendall')\n",
    "    \n",
    "#     # Spearman rank correlations\n",
    "#     df.corr('spearman')\n",
    "\n",
    "def correlation_plot(df_corr, figure_name):\n",
    "    \"\"\"\n",
    "    Plot correlations\n",
    "    Input arguments: the correlation matrix (can be any kind eg pearson/kendall etc), file name for the plot\n",
    "    \"\"\"\n",
    "    f = plt.figure(figsize=(19, 19))\n",
    "    plt.matshow(df_corr, fignum=f.number)\n",
    "    plt.xticks(range(df.shape[1]), df.columns, fontsize=14, rotation=45)\n",
    "    plt.yticks(range(df.shape[1]), df.columns, fontsize=14)\n",
    "    cb = plt.colorbar()\n",
    "    cb.ax.tick_params(labelsize=14)\n",
    "    plt.title('Correlation Matrix', fontsize=16);\n",
    "    fig_name = 'plots/' + str(figure_name) + '.jpg'\n",
    "    print(fig_name)\n",
    "    plt.savefig(fig_name)\n",
    "    plt.show()\n",
    "    \n",
    "database_correlations(df)"
   ]
  }
 ],
 "metadata": {
  "kernelspec": {
   "display_name": "Python 3",
   "language": "python",
   "name": "python3"
  },
  "language_info": {
   "codemirror_mode": {
    "name": "ipython",
    "version": 3
   },
   "file_extension": ".py",
   "mimetype": "text/x-python",
   "name": "python",
   "nbconvert_exporter": "python",
   "pygments_lexer": "ipython3",
   "version": "3.7.4"
  }
 },
 "nbformat": 4,
 "nbformat_minor": 2
}
