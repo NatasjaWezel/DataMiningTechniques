{
 "cells": [
  {
   "cell_type": "code",
   "execution_count": null,
   "metadata": {},
   "outputs": [],
   "source": [
    "import pandas as pd\n",
    "import xgboost as xgb\n",
    "from sklearn.datasets import load_svmlight_file\n",
    "from sklearn.model_selection import train_test_split\n",
    "from sklearn.model_selection import GridSearchCV "
   ]
  },
  {
   "cell_type": "code",
   "execution_count": null,
   "metadata": {},
   "outputs": [],
   "source": [
    "traindf = pd.read_hdf(\"../data/traindf_clean.hdf\")\n",
    "testdf = pd.read_hdf(\"../data/test_clean.hdf\")"
   ]
  },
  {
   "cell_type": "code",
   "execution_count": null,
   "metadata": {},
   "outputs": [],
   "source": [
    "# Toch niet met priceband want categorie\n",
    "testdf = testdf.drop(\"PriceBand\", axis=1)\n",
    "traindf = traindf.drop(\"PriceBand\", axis=1)"
   ]
  },
  {
   "cell_type": "code",
   "execution_count": null,
   "metadata": {},
   "outputs": [],
   "source": [
    "print(list(traindf.columns))\n",
    "print(list(testdf.columns))"
   ]
  },
  {
   "cell_type": "code",
   "execution_count": null,
   "metadata": {},
   "outputs": [],
   "source": [
    "# split label and other variables\n",
    "x_train, y_train = traindf, traindf[\"position\"]\n",
    "positions = pd.DataFrame(y_train).set_index(traindf.srch_id)\n",
    "\n",
    "# 1 procent van totale data\n",
    "x_train, x_test, y_train, y_test = train_test_split(x_train, y_train, test_size=0.99, random_state=42, shuffle=False)\n",
    "x_train.drop(columns=[\"position\", \"importance\", \"click_bool\", \"booking_bool\"])\n",
    "\n",
    "# x_test, y_test = testdf.drop(columns=[\"position\", \"click_bool\", \"booking_bool\"]), testdf[\"position\"]\n",
    "x_test = testdf\n",
    "\n",
    "x_train.shape, y_train.shape, x_test.shape"
   ]
  },
  {
   "cell_type": "code",
   "execution_count": null,
   "metadata": {},
   "outputs": [],
   "source": [
    "params = {'objective': 'rank:pairwise', 'learning_rate': 0.1,\n",
    "          'gamma': 1.0, 'min_child_weight': 0.1,\n",
    "          'max_depth': 6,  'n_estimators': 1000}\n",
    "\n",
    "# TODO: ik snap niet precies wat de groups zijn in XGBRanker\n",
    "query_lengths = []\n",
    "for group_unique in x_train.groupby('srch_id'):\n",
    "    query_lengths.append(len(group_unique[1]))\n",
    "    "
   ]
  },
  {
   "cell_type": "code",
   "execution_count": null,
   "metadata": {},
   "outputs": [],
   "source": [
    "model = xgb.sklearn.XGBRanker(**params)\n",
    "model.fit(x_train, y_train, query_lengths, verbose=True)"
   ]
  },
  {
   "cell_type": "code",
   "execution_count": null,
   "metadata": {},
   "outputs": [],
   "source": [
    "pred = model.predict(x_train)\n",
    "\n",
    "predictions_sorted = []\n",
    "x_train[\"position\"] = y_train\n",
    "\n",
    "# Sort predictions for each group SEPERATELY\n",
    "for srchid, group in x_train.groupby('srch_id'):\n",
    "    \n",
    "    pred = model.predict(group.drop(\"position\", axis=1))\n",
    "\n",
    "    predictions = [x for _,x in sorted(zip(pred, group.position), reverse=True)] # TODO: Reverse = False toch? Hoezo werkt dit..\n",
    "    predictions_sorted.append(predictions)\n",
    "    \n",
    "predictions_sorted = [item for sublist in predictions_sorted for item in sublist]"
   ]
  },
  {
   "cell_type": "code",
   "execution_count": null,
   "metadata": {},
   "outputs": [],
   "source": [
    "\n",
    "x_traincopy[\"predicted_rank\"] = predictions_sorted"
   ]
  },
  {
   "cell_type": "code",
   "execution_count": null,
   "metadata": {},
   "outputs": [],
   "source": [
    "x_traincopy.to_pickle(\"../pickles/XGBoost_solution.pkl\")"
   ]
  },
  {
   "cell_type": "markdown",
   "metadata": {},
   "source": [
    "## Test set only"
   ]
  },
  {
   "cell_type": "code",
   "execution_count": null,
   "metadata": {},
   "outputs": [],
   "source": [
    "pred = model.predict(x_test)\n",
    "\n",
    "x_test[\"predicted_rank\"] = pred\n",
    "predictions_sorted = []\n",
    "\n",
    "# Sort predictions for each group SEPERATELY\n",
    "for srchid, group in x_test.groupby('srch_id'):\n",
    "    \n",
    "    predictions = [x for _,x in sorted(zip(group.predicted_rank, group.prop_id))]\n",
    "    predictions_sorted.append(predictions)\n",
    "    \n",
    "predictions_sorted = [item for sublist in predictions_sorted for item in sublist]"
   ]
  },
  {
   "cell_type": "code",
   "execution_count": null,
   "metadata": {},
   "outputs": [],
   "source": [
    "# final_df = x_test[[\"srch_id\", \"prop_id\"]]\n",
    "# final_df.to_csv(\"submission5mei.csv\", columns=[\"srch_id\", \"prop_id\"], index=False)"
   ]
  },
  {
   "cell_type": "code",
   "execution_count": null,
   "metadata": {},
   "outputs": [],
   "source": [
    "# # Test if it worked\n",
    "# test = pd.read_csv(\"submission5mei.csv\")\n",
    "# test.head()"
   ]
  },
  {
   "cell_type": "code",
   "execution_count": null,
   "metadata": {},
   "outputs": [],
   "source": [
    "importances = pd.DataFrame(x_test.columns, model.feature_importances_)\n",
    "importances.head(10)\n"
   ]
  },
  {
   "cell_type": "code",
   "execution_count": null,
   "metadata": {},
   "outputs": [],
   "source": []
  }
 ],
 "metadata": {
  "kernelspec": {
   "display_name": "Python 3",
   "language": "python",
   "name": "python3"
  },
  "language_info": {
   "codemirror_mode": {
    "name": "ipython",
    "version": 3
   },
   "file_extension": ".py",
   "mimetype": "text/x-python",
   "name": "python",
   "nbconvert_exporter": "python",
   "pygments_lexer": "ipython3",
   "version": "3.7.1"
  }
 },
 "nbformat": 4,
 "nbformat_minor": 2
}
