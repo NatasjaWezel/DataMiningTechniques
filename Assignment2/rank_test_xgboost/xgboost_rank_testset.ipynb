{
 "cells": [
  {
   "cell_type": "code",
   "execution_count": null,
   "metadata": {},
   "outputs": [],
   "source": [
    "import pandas as pd\n",
    "import xgboost as xgb\n",
    "from sklearn.datasets import load_svmlight_file\n",
    "from sklearn.model_selection import train_test_split\n",
    "from sklearn.model_selection import GridSearchCV "
   ]
  },
  {
   "cell_type": "code",
   "execution_count": null,
   "metadata": {},
   "outputs": [],
   "source": [
    "traindf = pd.read_hdf(\"../data/traindf_clean.hdf\")\n",
    "testdf = pd.read_hdf(\"../data/test_clean.hdf\")"
   ]
  },
  {
   "cell_type": "code",
   "execution_count": null,
   "metadata": {},
   "outputs": [],
   "source": [
    "# Toch niet met priceband want categorie\n",
    "testdf = testdf.drop(\"PriceBand\", axis=1)\n",
    "traindf = traindf.drop(\"PriceBand\", axis=1)"
   ]
  },
  {
   "cell_type": "code",
   "execution_count": null,
   "metadata": {},
   "outputs": [],
   "source": [
    "print(list(traindf.columns))\n",
    "print(list(testdf.columns))\n",
    "\n",
    "traindf = traindf.sort_values(by=['srch_id'])"
   ]
  },
  {
   "cell_type": "code",
   "execution_count": null,
   "metadata": {},
   "outputs": [],
   "source": [
    "# split label and other variables\n",
    "x_train, y_train = traindf, traindf[\"importance\"]\n",
    "positions = pd.DataFrame(y_train).set_index(traindf.srch_id)\n",
    "\n",
    "# 1 procent van totale data\n",
    "x_train, x_test, y_train, y_test = train_test_split(x_train, y_train, test_size=0.2, random_state=42, shuffle=False, stratify = None)\n",
    "x_traincopy = x_train.copy()\n",
    "x_train = x_train.drop(columns=[\"position\", \"importance\", \"booking_bool\", \"click_bool\"])\n",
    "\n",
    "# x_test, y_test = testdf.drop(columns=[\"position\", \"click_bool\", \"booking_bool\"]), testdf[\"position\"]\n",
    "x_test = testdf\n",
    "\n",
    "x_train.shape, y_train.shape, x_test.shape\n",
    "print(list(x_train.columns))\n",
    "print(list(x_test.columns))\n",
    "\n"
   ]
  },
  {
   "cell_type": "code",
   "execution_count": null,
   "metadata": {},
   "outputs": [],
   "source": [
    "params = {'objective': 'rank:pairwise', 'learning_rate': 0.1,\n",
    "          'gamma': 1.0, 'min_child_weight': 0.1,\n",
    "          'max_depth': 6,  'n_estimators': 500}\n",
    "\n",
    "# groups equal to length of queries\n",
    "query_lengths = x_train.groupby('srch_id').size().values\n",
    "    "
   ]
  },
  {
   "cell_type": "code",
   "execution_count": null,
   "metadata": {},
   "outputs": [],
   "source": [
    "model = xgb.sklearn.XGBRanker(**params)\n",
    "model.fit(x_train, y_train, query_lengths, verbose=True)"
   ]
  },
  {
   "cell_type": "code",
   "execution_count": null,
   "metadata": {},
   "outputs": [],
   "source": [
    "# Make fake column of positions to test score in ndcg scoring function\n",
    "x_train[\"position_temp\"] = x_train.groupby(['srch_id']).cumcount()+1"
   ]
  },
  {
   "cell_type": "code",
   "execution_count": null,
   "metadata": {},
   "outputs": [],
   "source": [
    "# x_train[\"position\"] = y_train\n",
    "predictions_sorted = []\n",
    "prop_ids_sorted = []\n",
    "\n",
    "# Sort predictions for each group SEPERATELY\n",
    "for srchid, group in x_test.groupby('srch_id'):\n",
    "    \n",
    "    # Predictions for one search_id\n",
    "    pred = model.predict(group)\n",
    "    \n",
    "    prop_id = [x for _,x in sorted(zip(pred, group.prop_id), reverse=True)]\n",
    "    prop_ids_sorted.append(prop_id)\n",
    "    \n",
    "# Flatten lists\n",
    "predictions_sorted = [item for sublist in predictions_sorted for item in sublist]\n",
    "prop_ids_sorted = [item for sublist in prop_ids_sorted for item in sublist]\n"
   ]
  },
  {
   "cell_type": "code",
   "execution_count": null,
   "metadata": {},
   "outputs": [],
   "source": [
    "x_test[\"prop_id\"] = prop_ids_sorted"
   ]
  },
  {
   "cell_type": "code",
   "execution_count": null,
   "metadata": {},
   "outputs": [],
   "source": [
    "# final_df[\"predicted_rank\"] = final_df[\"position_temp\"]\n",
    "# final_df.head()"
   ]
  },
  {
   "cell_type": "code",
   "execution_count": null,
   "metadata": {},
   "outputs": [],
   "source": [
    "# pred = model.predict(x_train.drop(\"position\", axis=1))\n",
    "# x_traincopy[\"pred\"] = pred\n",
    "# x_temp = x_traincopy.sort_values(by=['pred'], ascending=False)[\"position\"]\n",
    "\n",
    "# predictions_sorted = []\n",
    "# x_train[\"position\"] = y_train\n",
    "\n",
    "# # Sort predictions for each group SEPERATELY\n",
    "# for srchid, group in x_train.groupby('srch_id'):\n",
    "    \n",
    "#     # Predictions for one search_id\n",
    "#     pred = model.predict(group.drop(\"position\", axis=1))\n",
    "# #     print(pred, group)\n",
    "# #     group['predicted_rank'] = pred\n",
    "# #     group = group.sort_values('predicted_rank')\n",
    "        \n",
    "#     predictions = [x for _,x in sorted(zip(pred, group.position), reverse=True)] # TODO: Reverse = False toch? Hoezo werkt dit..\n",
    "#     predictions_sorted.append(predictions)\n",
    "    \n",
    "# predictions_sorted = [item for sublist in predictions_sorted for item in sublist]\n",
    "\n",
    "\n"
   ]
  },
  {
   "cell_type": "code",
   "execution_count": null,
   "metadata": {},
   "outputs": [],
   "source": [
    "# x_traincopy[\"predicted_rank\"] = x_temp"
   ]
  },
  {
   "cell_type": "code",
   "execution_count": null,
   "metadata": {},
   "outputs": [],
   "source": [
    "# x_traincopy.to_pickle(\"../pickles/XGBoost_solution.pkl\")"
   ]
  },
  {
   "cell_type": "markdown",
   "metadata": {},
   "source": [
    "## Test set only"
   ]
  },
  {
   "cell_type": "code",
   "execution_count": null,
   "metadata": {},
   "outputs": [],
   "source": [
    "# pred = model.predict(x_test)\n",
    "\n",
    "# x_test[\"predicted_rank\"] = pred\n",
    "# predictions_sorted = []\n",
    "\n",
    "# # Sort predictions for each group SEPERATELY\n",
    "# for srchid, group in x_test.groupby('srch_id'):\n",
    "    \n",
    "#     predictions = [x for _,x in sorted(zip(group.predicted_rank, group.prop_id))]\n",
    "#     predictions_sorted.append(predictions)\n",
    "    \n",
    "# predictions_sorted = [item for sublist in predictions_sorted for item in sublist]"
   ]
  },
  {
   "cell_type": "code",
   "execution_count": null,
   "metadata": {},
   "outputs": [],
   "source": [
    "final_df = x_test[[\"srch_id\", \"prop_id\"]]\n",
    "final_df.to_csv(\"submission7mei_best.csv\", columns=[\"srch_id\", \"prop_id\"], index=False)"
   ]
  },
  {
   "cell_type": "code",
   "execution_count": null,
   "metadata": {},
   "outputs": [],
   "source": [
    "# # Test if it worked\n",
    "test = pd.read_csv(\"submission7mei_best.csv\")\n",
    "test.head()"
   ]
  },
  {
   "cell_type": "code",
   "execution_count": null,
   "metadata": {},
   "outputs": [],
   "source": [
    "# importances = pd.DataFrame(x_test.columns, model.feature_importances_)\n",
    "# importances.head(10)"
   ]
  },
  {
   "cell_type": "code",
   "execution_count": null,
   "metadata": {},
   "outputs": [],
   "source": []
  }
 ],
 "metadata": {
  "kernelspec": {
   "display_name": "Python 3",
   "language": "python",
   "name": "python3"
  },
  "language_info": {
   "codemirror_mode": {
    "name": "ipython",
    "version": 3
   },
   "file_extension": ".py",
   "mimetype": "text/x-python",
   "name": "python",
   "nbconvert_exporter": "python",
   "pygments_lexer": "ipython3",
   "version": "3.7.1"
  }
 },
 "nbformat": 4,
 "nbformat_minor": 2
}
