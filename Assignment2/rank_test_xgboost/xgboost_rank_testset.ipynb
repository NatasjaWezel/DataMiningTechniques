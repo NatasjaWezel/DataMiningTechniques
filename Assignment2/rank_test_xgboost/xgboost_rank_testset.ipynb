{
 "cells": [
  {
   "cell_type": "code",
   "execution_count": 1,
   "metadata": {},
   "outputs": [],
   "source": [
    "import pandas as pd\n",
    "import xgboost as xgb\n",
    "from sklearn.datasets import load_svmlight_file\n",
    "from sklearn.model_selection import train_test_split\n",
    "from sklearn.model_selection import GridSearchCV "
   ]
  },
  {
   "cell_type": "code",
   "execution_count": 13,
   "metadata": {},
   "outputs": [],
   "source": [
    "traindf = pd.read_hdf(\"../data/traindf_clean.hdf\")\n",
    "testdf = pd.read_hdf(\"../data/test_clean.hdf\")"
   ]
  },
  {
   "cell_type": "code",
   "execution_count": 14,
   "metadata": {},
   "outputs": [
    {
     "name": "stdout",
     "output_type": "stream",
     "text": [
      "['prop_id', 'srch_id', 'position', 'price_quality', 'click_bool', 'booking_bool', 'price_usd', 'prop_location_score1', 'prop_location_score2', 'avg_price_propid', 'std_avg_price_propid', 'amount_hotels', 'avg_price_propid_after', 'std_avg_price_propid_after', 'price_rank', 'price_correction', 'locationscore2_rank', 'locationscore1_rank', 'importance']\n",
      "['prop_id', 'srch_id', 'price_quality', 'price_usd', 'prop_location_score1', 'prop_location_score2', 'avg_price_propid', 'std_avg_price_propid', 'amount_hotels', 'avg_price_propid_after', 'std_avg_price_propid_after', 'price_rank', 'price_correction', 'locationscore2_rank', 'locationscore1_rank']\n"
     ]
    }
   ],
   "source": [
    "print(list(traindf.columns))\n",
    "print(list(testdf.columns))"
   ]
  },
  {
   "cell_type": "code",
   "execution_count": 4,
   "metadata": {},
   "outputs": [],
   "source": [
    "traindf = traindf.sort_values(by=['srch_id'])"
   ]
  },
  {
   "cell_type": "code",
   "execution_count": 15,
   "metadata": {},
   "outputs": [],
   "source": [
    "# split label and other variables\n",
    "x_train, y_train = traindf, traindf[\"importance\"]\n",
    "\n",
    "# x_train, x_test, y_train, y_test = train_test_split(x_train, y_train, \n",
    "#                                                     test_size=0.99, \n",
    "#                                                     random_state=42, \n",
    "#                                                     shuffle=False, \n",
    "#                                                     stratify = None)\n",
    "\n",
    "\n",
    "# Drop columns that are to be predicted with importance (which is set to y_train)\n",
    "x_train = x_train.drop(columns=[\"position\", \"importance\", \"booking_bool\", \"click_bool\"])\n",
    "\n",
    "# x_test is the total testset with all columns. \n",
    "x_test = testdf"
   ]
  },
  {
   "cell_type": "code",
   "execution_count": 6,
   "metadata": {},
   "outputs": [
    {
     "name": "stdout",
     "output_type": "stream",
     "text": [
      "(4958347, 15) (4958347,) (4959183, 14)\n",
      "['prop_id', 'srch_id', 'price_quality', 'price_usd', 'prop_location_score1', 'prop_location_score2', 'avg_price_propid', 'std_avg_price_propid', 'amount_hotels', 'avg_price_propid_after', 'std_avg_price_propid_after', 'price_rank', 'price_correction', 'locationscore2_rank', 'locationscore1_rank']\n",
      "['prop_id', 'srch_id', 'price_quality', 'price_usd', 'prop_location_score1', 'prop_location_score2', 'avg_price_propid', 'std_avg_price_propid', 'amount_hotels', 'avg_price_propid_after', 'price_rank', 'price_correction', 'locationscore2_rank', 'locationscore1_rank']\n"
     ]
    }
   ],
   "source": [
    "# Check for correct shape and columns;\n",
    "# x_train is probably much smaller because of downsampling: (50% of importance 5 and 1, 50% importance 0). \n",
    "# Number of columns in x_train and x_test must be equal!\n",
    "print(x_train.shape, y_train.shape, x_test.shape)\n",
    "print(list(x_train.columns))\n",
    "print(list(x_test.columns))"
   ]
  },
  {
   "cell_type": "code",
   "execution_count": 7,
   "metadata": {},
   "outputs": [],
   "source": [
    "params = {'objective': 'rank:pairwise', 'learning_rate': 0.15,\n",
    "          'gamma': 1, 'min_child_weight': 0.5,\n",
    "          'max_depth': 8,  'n_estimators': 400}\n",
    "\n",
    "# groups are equal to length of unique queries\n",
    "query_lengths = x_train.groupby('srch_id').size().values"
   ]
  },
  {
   "cell_type": "code",
   "execution_count": 8,
   "metadata": {},
   "outputs": [
    {
     "name": "stdout",
     "output_type": "stream",
     "text": [
      "[20:03:49] WARNING: /private/var/folders/bw/3x1jmlsx18n9l4m5200d38cc0000gn/T/pip-install-9rs4xnl_/xgboost/xgboost/src/gbm/gbtree.cc:138: Tree method is automatically selected to be 'approx' for faster speed. To use old behavior (exact greedy algorithm on single machine), set tree_method to 'exact'.\n"
     ]
    },
    {
     "data": {
      "text/plain": [
       "XGBRanker(base_score=0.5, booster=None, colsample_bylevel=1, colsample_bynode=1,\n",
       "          colsample_bytree=1, gamma=1, gpu_id=-1, importance_type='gain',\n",
       "          interaction_constraints=None, learning_rate=0.15, max_delta_step=0,\n",
       "          max_depth=10, min_child_weight=1.5, missing=nan,\n",
       "          monotone_constraints=None, n_estimators=400, n_jobs=0,\n",
       "          num_parallel_tree=1, objective='rank:pairwise', random_state=0,\n",
       "          reg_alpha=0, reg_lambda=1, scale_pos_weight=None, subsample=1,\n",
       "          tree_method=None, validate_parameters=False, verbosity=None)"
      ]
     },
     "execution_count": 8,
     "metadata": {},
     "output_type": "execute_result"
    }
   ],
   "source": [
    "model = xgb.sklearn.XGBRanker(**params)\n",
    "model.fit(x_train.drop([\"prop_id\", \"srch_id\"], axis=1), y_train, query_lengths, verbose=True)"
   ]
  },
  {
   "cell_type": "code",
   "execution_count": 9,
   "metadata": {},
   "outputs": [],
   "source": [
    "# Make fake column of positions to test score in ndcg scoring function,\n",
    "# This is not needed for the testset, because there is nothing to check in the testset\n",
    "# x_train[\"position_temp\"] = x_train.groupby(['srch_id']).cumcount()+1"
   ]
  },
  {
   "cell_type": "code",
   "execution_count": 16,
   "metadata": {},
   "outputs": [],
   "source": [
    "# x_train[\"position\"] = y_train\n",
    "predictions_sorted = []\n",
    "prop_ids_sorted = []\n",
    "\n",
    "# Sort predictions for each group SEPERATELY\n",
    "for srchid, group in x_test.groupby('srch_id'):\n",
    "    \n",
    "    # Predictions for one search_id\n",
    "    pred = model.predict(group.drop([\"prop_id\", \"srch_id\"], axis=1))\n",
    "    \n",
    "    prop_id = [x for _,x in sorted(zip(pred, group.prop_id), reverse=True)]\n",
    "    prop_ids_sorted.append(prop_id)\n",
    "    \n",
    "# Flatten lists\n",
    "predictions_sorted = [item for sublist in predictions_sorted for item in sublist]\n",
    "prop_ids_sorted = [item for sublist in prop_ids_sorted for item in sublist]\n"
   ]
  },
  {
   "cell_type": "code",
   "execution_count": 17,
   "metadata": {},
   "outputs": [],
   "source": [
    "x_test[\"prop_id\"] = prop_ids_sorted"
   ]
  },
  {
   "cell_type": "code",
   "execution_count": 18,
   "metadata": {},
   "outputs": [
    {
     "data": {
      "text/html": [
       "<div>\n",
       "<style scoped>\n",
       "    .dataframe tbody tr th:only-of-type {\n",
       "        vertical-align: middle;\n",
       "    }\n",
       "\n",
       "    .dataframe tbody tr th {\n",
       "        vertical-align: top;\n",
       "    }\n",
       "\n",
       "    .dataframe thead th {\n",
       "        text-align: right;\n",
       "    }\n",
       "</style>\n",
       "<table border=\"1\" class=\"dataframe\">\n",
       "  <thead>\n",
       "    <tr style=\"text-align: right;\">\n",
       "      <th></th>\n",
       "      <th>prop_id</th>\n",
       "      <th>srch_id</th>\n",
       "      <th>price_quality</th>\n",
       "      <th>price_usd</th>\n",
       "      <th>prop_location_score1</th>\n",
       "      <th>prop_location_score2</th>\n",
       "      <th>avg_price_propid</th>\n",
       "      <th>std_avg_price_propid</th>\n",
       "      <th>amount_hotels</th>\n",
       "      <th>avg_price_propid_after</th>\n",
       "      <th>std_avg_price_propid_after</th>\n",
       "      <th>price_rank</th>\n",
       "      <th>price_correction</th>\n",
       "      <th>locationscore2_rank</th>\n",
       "      <th>locationscore1_rank</th>\n",
       "    </tr>\n",
       "  </thead>\n",
       "  <tbody>\n",
       "    <tr>\n",
       "      <th>0</th>\n",
       "      <td>61934</td>\n",
       "      <td>1</td>\n",
       "      <td>39.666667</td>\n",
       "      <td>119.0</td>\n",
       "      <td>2.94</td>\n",
       "      <td>0.0691</td>\n",
       "      <td>125.520757</td>\n",
       "      <td>11.710160</td>\n",
       "      <td>185.0</td>\n",
       "      <td>125.520757</td>\n",
       "      <td>11.710160</td>\n",
       "      <td>22.5</td>\n",
       "      <td>119.0</td>\n",
       "      <td>10.0</td>\n",
       "      <td>25.5</td>\n",
       "    </tr>\n",
       "    <tr>\n",
       "      <th>1</th>\n",
       "      <td>99484</td>\n",
       "      <td>1</td>\n",
       "      <td>39.333333</td>\n",
       "      <td>118.0</td>\n",
       "      <td>2.64</td>\n",
       "      <td>0.0843</td>\n",
       "      <td>117.532579</td>\n",
       "      <td>20.483788</td>\n",
       "      <td>252.0</td>\n",
       "      <td>117.532579</td>\n",
       "      <td>20.483788</td>\n",
       "      <td>21.0</td>\n",
       "      <td>118.0</td>\n",
       "      <td>13.0</td>\n",
       "      <td>11.0</td>\n",
       "    </tr>\n",
       "    <tr>\n",
       "      <th>2</th>\n",
       "      <td>24194</td>\n",
       "      <td>1</td>\n",
       "      <td>24.500000</td>\n",
       "      <td>49.0</td>\n",
       "      <td>2.71</td>\n",
       "      <td>0.0556</td>\n",
       "      <td>51.886600</td>\n",
       "      <td>4.464016</td>\n",
       "      <td>150.0</td>\n",
       "      <td>51.886600</td>\n",
       "      <td>4.464016</td>\n",
       "      <td>3.0</td>\n",
       "      <td>49.0</td>\n",
       "      <td>6.0</td>\n",
       "      <td>12.0</td>\n",
       "    </tr>\n",
       "    <tr>\n",
       "      <th>3</th>\n",
       "      <td>95031</td>\n",
       "      <td>1</td>\n",
       "      <td>47.666667</td>\n",
       "      <td>143.0</td>\n",
       "      <td>2.40</td>\n",
       "      <td>0.0561</td>\n",
       "      <td>133.987619</td>\n",
       "      <td>27.965448</td>\n",
       "      <td>147.0</td>\n",
       "      <td>133.987619</td>\n",
       "      <td>27.965448</td>\n",
       "      <td>25.0</td>\n",
       "      <td>143.0</td>\n",
       "      <td>7.0</td>\n",
       "      <td>8.0</td>\n",
       "    </tr>\n",
       "    <tr>\n",
       "      <th>4</th>\n",
       "      <td>28181</td>\n",
       "      <td>1</td>\n",
       "      <td>26.333333</td>\n",
       "      <td>79.0</td>\n",
       "      <td>2.94</td>\n",
       "      <td>0.2090</td>\n",
       "      <td>86.308224</td>\n",
       "      <td>14.807339</td>\n",
       "      <td>214.0</td>\n",
       "      <td>86.308224</td>\n",
       "      <td>14.807339</td>\n",
       "      <td>12.0</td>\n",
       "      <td>79.0</td>\n",
       "      <td>22.5</td>\n",
       "      <td>25.5</td>\n",
       "    </tr>\n",
       "  </tbody>\n",
       "</table>\n",
       "</div>"
      ],
      "text/plain": [
       "   prop_id  srch_id  price_quality  price_usd  prop_location_score1  \\\n",
       "0    61934        1      39.666667      119.0                  2.94   \n",
       "1    99484        1      39.333333      118.0                  2.64   \n",
       "2    24194        1      24.500000       49.0                  2.71   \n",
       "3    95031        1      47.666667      143.0                  2.40   \n",
       "4    28181        1      26.333333       79.0                  2.94   \n",
       "\n",
       "   prop_location_score2  avg_price_propid  std_avg_price_propid  \\\n",
       "0                0.0691        125.520757             11.710160   \n",
       "1                0.0843        117.532579             20.483788   \n",
       "2                0.0556         51.886600              4.464016   \n",
       "3                0.0561        133.987619             27.965448   \n",
       "4                0.2090         86.308224             14.807339   \n",
       "\n",
       "   amount_hotels  avg_price_propid_after  std_avg_price_propid_after  \\\n",
       "0          185.0              125.520757                   11.710160   \n",
       "1          252.0              117.532579                   20.483788   \n",
       "2          150.0               51.886600                    4.464016   \n",
       "3          147.0              133.987619                   27.965448   \n",
       "4          214.0               86.308224                   14.807339   \n",
       "\n",
       "   price_rank  price_correction  locationscore2_rank  locationscore1_rank  \n",
       "0        22.5             119.0                 10.0                 25.5  \n",
       "1        21.0             118.0                 13.0                 11.0  \n",
       "2         3.0              49.0                  6.0                 12.0  \n",
       "3        25.0             143.0                  7.0                  8.0  \n",
       "4        12.0              79.0                 22.5                 25.5  "
      ]
     },
     "execution_count": 18,
     "metadata": {},
     "output_type": "execute_result"
    }
   ],
   "source": [
    "x_test.head()"
   ]
  },
  {
   "cell_type": "markdown",
   "metadata": {},
   "source": [
    "## Test set only: convert to csv for submission"
   ]
  },
  {
   "cell_type": "code",
   "execution_count": 19,
   "metadata": {},
   "outputs": [],
   "source": [
    "filename = \"submission9mei.csv\"\n",
    "final_df = x_test[[\"srch_id\", \"prop_id\"]]\n",
    "final_df.to_csv(filename, columns=[\"srch_id\", \"prop_id\"], index=False)"
   ]
  },
  {
   "cell_type": "code",
   "execution_count": 20,
   "metadata": {},
   "outputs": [
    {
     "data": {
      "text/html": [
       "<div>\n",
       "<style scoped>\n",
       "    .dataframe tbody tr th:only-of-type {\n",
       "        vertical-align: middle;\n",
       "    }\n",
       "\n",
       "    .dataframe tbody tr th {\n",
       "        vertical-align: top;\n",
       "    }\n",
       "\n",
       "    .dataframe thead th {\n",
       "        text-align: right;\n",
       "    }\n",
       "</style>\n",
       "<table border=\"1\" class=\"dataframe\">\n",
       "  <thead>\n",
       "    <tr style=\"text-align: right;\">\n",
       "      <th></th>\n",
       "      <th>srch_id</th>\n",
       "      <th>prop_id</th>\n",
       "    </tr>\n",
       "  </thead>\n",
       "  <tbody>\n",
       "    <tr>\n",
       "      <th>0</th>\n",
       "      <td>1</td>\n",
       "      <td>61934</td>\n",
       "    </tr>\n",
       "    <tr>\n",
       "      <th>1</th>\n",
       "      <td>1</td>\n",
       "      <td>99484</td>\n",
       "    </tr>\n",
       "    <tr>\n",
       "      <th>2</th>\n",
       "      <td>1</td>\n",
       "      <td>24194</td>\n",
       "    </tr>\n",
       "    <tr>\n",
       "      <th>3</th>\n",
       "      <td>1</td>\n",
       "      <td>95031</td>\n",
       "    </tr>\n",
       "    <tr>\n",
       "      <th>4</th>\n",
       "      <td>1</td>\n",
       "      <td>28181</td>\n",
       "    </tr>\n",
       "  </tbody>\n",
       "</table>\n",
       "</div>"
      ],
      "text/plain": [
       "   srch_id  prop_id\n",
       "0        1    61934\n",
       "1        1    99484\n",
       "2        1    24194\n",
       "3        1    95031\n",
       "4        1    28181"
      ]
     },
     "execution_count": 20,
     "metadata": {},
     "output_type": "execute_result"
    }
   ],
   "source": [
    "# # Test if it worked\n",
    "test = pd.read_csv(filename)\n",
    "test.head()"
   ]
  },
  {
   "cell_type": "code",
   "execution_count": 22,
   "metadata": {},
   "outputs": [
    {
     "data": {
      "image/png": "[encoded data removed]",
      "text/plain": [
       "<Figure size 432x288 with 1 Axes>"
      ]
     },
     "metadata": {},
     "output_type": "display_data"
    }
   ],
   "source": [
    "from sklearn.feature_selection import SelectFromModel\n",
    "import matplotlib.pylab as plt\n",
    "import seaborn as sns\n",
    "sns.set()\n",
    "\n",
    "xgb.plot_importance(booster=model )\n",
    "plt.show()"
   ]
  },
  {
   "cell_type": "code",
   "execution_count": null,
   "metadata": {},
   "outputs": [],
   "source": []
  }
 ],
 "metadata": {
  "kernelspec": {
   "display_name": "Python 3",
   "language": "python",
   "name": "python3"
  },
  "language_info": {
   "codemirror_mode": {
    "name": "ipython",
    "version": 3
   },
   "file_extension": ".py",
   "mimetype": "text/x-python",
   "name": "python",
   "nbconvert_exporter": "python",
   "pygments_lexer": "ipython3",
   "version": "3.7.1"
  }
 },
 "nbformat": 4,
 "nbformat_minor": 2
}
