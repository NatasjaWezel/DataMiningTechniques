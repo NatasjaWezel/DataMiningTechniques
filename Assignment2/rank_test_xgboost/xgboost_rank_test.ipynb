{
 "cells": [
  {
   "cell_type": "code",
   "execution_count": null,
   "metadata": {
    "scrolled": false
   },
   "outputs": [],
   "source": [
    "import xgboost as xgb\n",
    "from sklearn.datasets import load_svmlight_file\n",
    "\n",
    "#  This script demonstrate how to do ranking with XGBRanker\n",
    "x_train, y_train = load_svmlight_file(\"mq2008.train\")\n",
    "x_valid, y_valid = load_svmlight_file(\"mq2008.vali\")\n",
    "x_test, y_test = load_svmlight_file(\"mq2008.test\")\n",
    "\n",
    "display(x_train)\n",
    "\n",
    "group_train = []\n",
    "with open(\"mq2008.train.group\", \"r\") as f:\n",
    "    data = f.readlines()\n",
    "    for line in data:\n",
    "        group_train.append(int(line.split(\"\\n\")[0]))\n",
    "\n",
    "group_valid = []\n",
    "with open(\"mq2008.vali.group\", \"r\") as f:\n",
    "    data = f.readlines()\n",
    "    for line in data:\n",
    "#         print(line)\n",
    "        group_valid.append(int(line.split(\"\\n\")[0]))\n",
    "\n",
    "params = {'objective': 'rank:ndcg', 'learning_rate': 0.1,\n",
    "          'gamma': 1.0, 'min_child_weight': 0.1,\n",
    "          'max_depth': 6, 'n_estimators': 4}\n",
    "\n",
    "# model = xgb.sklearn.XGBRanker(**params)\n",
    "# model.fit(x_train, y_train, group_train, \n",
    "#           verbose=True,\n",
    "#           eval_set=[(x_valid, y_valid)], \n",
    "#           eval_group=[group_valid])\n",
    "\n",
    "model2 = xgb.sklearn.XGBRanker(**params)\n",
    "model2.fit(x_train, y_train, group_train, \n",
    "          verbose = True)\n",
    "\n",
    "# pred = model.predict(x_test)\n",
    "\n",
    "pred2 = model2.predict(x_test)\n",
    "\n",
    "# print(pred)\n",
    "print(pred2)"
   ]
  },
  {
   "cell_type": "code",
   "execution_count": null,
   "metadata": {},
   "outputs": [],
   "source": [
    "import pandas as pd\n",
    "import xgboost as xgb\n",
    "from sklearn.datasets import load_svmlight_file\n",
    "\n",
    "testdf = pd.read_pickle(\"../pickles/df_small_clean_test.pkl\")\n",
    "traindf = pd.read_pickle(\"../pickles/df_small_clean.pkl\")\n",
    "\n",
    "print(testdf.columns)\n",
    "print(traindf.columns)\n",
    "\n",
    "display(testdf.describe())\n",
    "\n",
    "# split label and other variables\n",
    "x_train, y_train = traindf.drop(columns=[\"position\"]), traindf[\"position\"]\n",
    "x_test, y_test = testdf.drop(columns=[\"position\", \"click_bool\", \"booking_bool\"]), testdf[\"position\"]\n",
    "\n",
    "params = {'objective': 'rank:ndcg', 'learning_rate': 0.1,\n",
    "          'gamma': 1.0, 'min_child_weight': 0.1,\n",
    "          'max_depth': 6, 'n_estimators': 4}\n",
    "\n",
    "\n",
    "model = xgb.sklearn.XGBRanker(**params)\n",
    "model.fit(x_train, y_train, traindf.columns, verbose=True)\n",
    "pred = model.predict(x_test)"
   ]
  },
  {
   "cell_type": "code",
   "execution_count": null,
   "metadata": {},
   "outputs": [],
   "source": []
  }
 ],
 "metadata": {
  "kernelspec": {
   "display_name": "Python 3",
   "language": "python",
   "name": "python3"
  },
  "language_info": {
   "codemirror_mode": {
    "name": "ipython",
    "version": 3
   },
   "file_extension": ".py",
   "mimetype": "text/x-python",
   "name": "python",
   "nbconvert_exporter": "python",
   "pygments_lexer": "ipython3",
   "version": "3.7.3"
  }
 },
 "nbformat": 4,
 "nbformat_minor": 2
}
