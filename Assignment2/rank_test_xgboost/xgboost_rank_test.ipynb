{
 "cells": [
  {
   "cell_type": "code",
   "execution_count": 1,
   "metadata": {},
   "outputs": [
    {
     "data": {
      "text/plain": [
       "<9630x46 sparse matrix of type '<class 'numpy.float64'>'\n",
       "\twith 233775 stored elements in Compressed Sparse Row format>"
      ]
     },
     "metadata": {},
     "output_type": "display_data"
    },
    {
     "data": {
      "text/plain": [
       "array([0., 0., 0., ..., 0., 0., 0.])"
      ]
     },
     "metadata": {},
     "output_type": "display_data"
    },
    {
     "data": {
      "text/plain": [
       "<2707x46 sparse matrix of type '<class 'numpy.float64'>'\n",
       "\twith 64764 stored elements in Compressed Sparse Row format>"
      ]
     },
     "metadata": {},
     "output_type": "display_data"
    },
    {
     "data": {
      "text/plain": [
       "array([0., 0., 1., ..., 0., 0., 0.])"
      ]
     },
     "metadata": {},
     "output_type": "display_data"
    },
    {
     "data": {
      "text/plain": [
       "<2874x46 sparse matrix of type '<class 'numpy.float64'>'\n",
       "\twith 71241 stored elements in Compressed Sparse Row format>"
      ]
     },
     "metadata": {},
     "output_type": "display_data"
    },
    {
     "data": {
      "text/plain": [
       "array([0., 0., 0., ..., 1., 0., 0.])"
      ]
     },
     "metadata": {},
     "output_type": "display_data"
    },
    {
     "name": "stdout",
     "output_type": "stream",
     "text": [
      "[0]\teval_0-map:0.70906\n",
      "[1]\teval_0-map:0.72783\n",
      "[2]\teval_0-map:0.72909\n",
      "[3]\teval_0-map:0.73380\n"
     ]
    }
   ],
   "source": [
    "import xgboost as xgb\n",
    "from sklearn.datasets import load_svmlight_file\n",
    "\n",
    "#  This script demonstrate how to do ranking with XGBRanker\n",
    "x_train, y_train = load_svmlight_file(\"mq2008.train\")\n",
    "x_valid, y_valid = load_svmlight_file(\"mq2008.vali\")\n",
    "x_test, y_test = load_svmlight_file(\"mq2008.test\")\n",
    "\n",
    "display(x_train, y_train, x_valid, y_valid, x_test, y_test)\n",
    "\n",
    "group_train = []\n",
    "with open(\"mq2008.train.group\", \"r\") as f:\n",
    "    data = f.readlines()\n",
    "    for line in data:\n",
    "        group_train.append(int(line.split(\"\\n\")[0]))\n",
    "\n",
    "group_valid = []\n",
    "with open(\"mq2008.vali.group\", \"r\") as f:\n",
    "    data = f.readlines()\n",
    "    for line in data:\n",
    "        group_valid.append(int(line.split(\"\\n\")[0]))\n",
    "\n",
    "params = {'objective': 'rank:ndcg', 'learning_rate': 0.1,\n",
    "          'gamma': 1.0, 'min_child_weight': 0.1,\n",
    "          'max_depth': 6, 'n_estimators': 4}\n",
    "\n",
    "model = xgb.sklearn.XGBRanker(**params)\n",
    "model.fit(x_train, y_train, group_train, verbose=True,\n",
    "          eval_set=[(x_valid, y_valid)], eval_group=[group_valid])\n",
    "\n",
    "pred = model.predict(x_test)"
   ]
  },
  {
   "cell_type": "code",
   "execution_count": 4,
   "metadata": {},
   "outputs": [
    {
     "name": "stdout",
     "output_type": "stream",
     "text": [
      "Index(['prop_id', 'srch_id', 'position', 'price_quality', 'competitor_bool',\n",
      "       'availability_bools', 'visited_before', 'click_bool', 'booking_bool',\n",
      "       'PriceBand', 'promotion_flag', 'prop_brand_bool', 'random_bool'],\n",
      "      dtype='object')\n",
      "Index(['prop_id', 'srch_id', 'position', 'price_quality', 'competitor_bool',\n",
      "       'availability_bools', 'visited_before', 'click_bool', 'booking_bool',\n",
      "       'PriceBand', 'promotion_flag', 'prop_brand_bool', 'random_bool'],\n",
      "      dtype='object')\n"
     ]
    }
   ],
   "source": [
    "import pandas as pd\n",
    "import xgboost as xgb\n",
    "from sklearn.datasets import load_svmlight_file\n",
    "\n",
    "testdf = pd.read_pickle(\"../pickles/df_small_clean_test.pkl\")\n",
    "traindf = pd.read_pickle(\"../pickles/df_small_clean.pkl\")\n",
    "\n",
    "print(testdf.columns)\n",
    "print(traindf.columns)\n",
    "\n",
    "# split label and other variables\n",
    "x_train, y_train = traindf.drop(columns=[\"position\"]), traindf[\"position\"]\n",
    "x_test, y_test = testdf.drop(columns=[\"position\", \"click_bool\", \"booking_bool\"]), testdf[\"position\"]\n",
    "\n",
    "# params = {'objective': 'rank:ndcg', 'learning_rate': 0.1,\n",
    "#           'gamma': 1.0, 'min_child_weight': 0.1,\n",
    "#           'max_depth': 6, 'n_estimators': 4}\n",
    "\n",
    "\n",
    "# model = xgb.sklearn.XGBRanker(**params)\n",
    "# model.fit(x_train, y_train, group_train, verbose=True)\n",
    "# pred = model.predict(x_test)"
   ]
  },
  {
   "cell_type": "code",
   "execution_count": null,
   "metadata": {},
   "outputs": [],
   "source": []
  }
 ],
 "metadata": {
  "kernelspec": {
   "display_name": "Python 3",
   "language": "python",
   "name": "python3"
  },
  "language_info": {
   "codemirror_mode": {
    "name": "ipython",
    "version": 3
   },
   "file_extension": ".py",
   "mimetype": "text/x-python",
   "name": "python",
   "nbconvert_exporter": "python",
   "pygments_lexer": "ipython3",
   "version": "3.7.3"
  }
 },
 "nbformat": 4,
 "nbformat_minor": 2
}
