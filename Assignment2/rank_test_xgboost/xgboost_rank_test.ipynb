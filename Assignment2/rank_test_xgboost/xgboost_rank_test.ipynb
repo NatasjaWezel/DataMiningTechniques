{
 "cells": [
  {
   "cell_type": "code",
   "execution_count": 6,
   "metadata": {},
   "outputs": [
    {
     "data": {
      "text/plain": [
       "<9630x46 sparse matrix of type '<class 'numpy.float64'>'\n",
       "\twith 233775 stored elements in Compressed Sparse Row format>"
      ]
     },
     "metadata": {},
     "output_type": "display_data"
    },
    {
     "data": {
      "text/plain": [
       "array([0., 0., 0., ..., 0., 0., 0.])"
      ]
     },
     "metadata": {},
     "output_type": "display_data"
    },
    {
     "data": {
      "text/plain": [
       "<2707x46 sparse matrix of type '<class 'numpy.float64'>'\n",
       "\twith 64764 stored elements in Compressed Sparse Row format>"
      ]
     },
     "metadata": {},
     "output_type": "display_data"
    },
    {
     "data": {
      "text/plain": [
       "array([0., 0., 1., ..., 0., 0., 0.])"
      ]
     },
     "metadata": {},
     "output_type": "display_data"
    },
    {
     "data": {
      "text/plain": [
       "<2874x46 sparse matrix of type '<class 'numpy.float64'>'\n",
       "\twith 71241 stored elements in Compressed Sparse Row format>"
      ]
     },
     "metadata": {},
     "output_type": "display_data"
    },
    {
     "data": {
      "text/plain": [
       "array([0., 0., 0., ..., 1., 0., 0.])"
      ]
     },
     "metadata": {},
     "output_type": "display_data"
    },
    {
     "name": "stdout",
     "output_type": "stream",
     "text": [
      "[0]\teval_0-map:0.70380\n",
      "[1]\teval_0-map:0.70857\n",
      "[2]\teval_0-map:0.71028\n",
      "[3]\teval_0-map:0.71069\n"
     ]
    }
   ],
   "source": [
    "import xgboost as xgb\n",
    "from sklearn.datasets import load_svmlight_file\n",
    "\n",
    "#  This script demonstrate how to do ranking with XGBRanker\n",
    "x_train, y_train = load_svmlight_file(\"mq2008.train\")\n",
    "x_valid, y_valid = load_svmlight_file(\"mq2008.vali\")\n",
    "x_test, y_test = load_svmlight_file(\"mq2008.test\")\n",
    "\n",
    "display(x_train, y_train, x_valid, y_valid, x_test, y_test)\n",
    "\n",
    "group_train = []\n",
    "with open(\"mq2008.train.group\", \"r\") as f:\n",
    "    data = f.readlines()\n",
    "    for line in data:\n",
    "        group_train.append(int(line.split(\"\\n\")[0]))\n",
    "\n",
    "group_valid = []\n",
    "with open(\"mq2008.vali.group\", \"r\") as f:\n",
    "    data = f.readlines()\n",
    "    for line in data:\n",
    "        group_valid.append(int(line.split(\"\\n\")[0]))\n",
    "\n",
    "params = {'objective': 'rank:ndcg', 'learning_rate': 0.1,\n",
    "          'gamma': 1.0, 'min_child_weight': 0.1,\n",
    "          'max_depth': 6, 'n_estimators': 4}\n",
    "\n",
    "model = xgb.sklearn.XGBRanker(**params)\n",
    "model.fit(x_train, y_train, group_train, verbose=True,\n",
    "          eval_set=[(x_valid, y_valid)], eval_group=[group_valid])\n",
    "\n",
    "pred = model.predict(x_test)"
   ]
  },
  {
   "cell_type": "code",
   "execution_count": 20,
   "metadata": {},
   "outputs": [],
   "source": [
    "import pandas as pd\n",
    "import xgboost as xgb\n",
    "from sklearn.datasets import load_svmlight_file\n",
    "\n",
    "testdf = pd.read_pickle(\"../pickles/df_small_clean_test.pkl\")\n",
    "traindf = pd.read_pickle(\"../pickles/df_small_clean.pkl\")\n",
    "testdf = testdf.drop(\"PriceBand\", axis=1)\n",
    "traindf = traindf.drop(\"PriceBand\", axis=1)"
   ]
  },
  {
   "cell_type": "code",
   "execution_count": 46,
   "metadata": {},
   "outputs": [
    {
     "name": "stdout",
     "output_type": "stream",
     "text": [
      "Index(['prop_id', 'srch_id', 'price_quality', 'competitor_bool',\n",
      "       'availability_bools', 'visited_before', 'promotion_flag',\n",
      "       'prop_brand_bool', 'random_bool', 'prop_location_score1',\n",
      "       'prop_location_score2'],\n",
      "      dtype='object')\n",
      "Index(['prop_id', 'srch_id', 'position', 'price_quality', 'competitor_bool',\n",
      "       'availability_bools', 'visited_before', 'click_bool', 'booking_bool',\n",
      "       'promotion_flag', 'prop_brand_bool', 'random_bool',\n",
      "       'prop_location_score1', 'prop_location_score2', 'importance'],\n",
      "      dtype='object')\n"
     ]
    }
   ],
   "source": [
    "print(testdf.columns)\n",
    "print(traindf.columns)\n",
    "\n",
    "# split label and other variables\n",
    "x_train, y_train = traindf.drop(columns=[\"position\", \"prop_id\"]), traindf[\"position\"]\n",
    "x_test = testdf.drop(columns=[\"prop_id\"])\n",
    "\n",
    "params = {'objective': 'rank:ndcg', 'learning_rate': 0.1,\n",
    "          'gamma': 1.0, 'min_child_weight': 0.1,\n",
    "          'max_depth': 6, 'n_estimators': 4}\n",
    "\n",
    "# TODO: ik snap niet precies wat de groups zijn in XGBRanker\n",
    "query_lengths = []\n",
    "[query_lengths.append(len(group)) for srchid, group in x_train.groupby('srch_id')]\n",
    "\n",
    "model = xgb.sklearn.XGBRanker(**params)\n",
    "model.fit(x_train, y_train, query_lengths, verbose=True)\n",
    "\n",
    "pred = model.predict(x_train)"
   ]
  },
  {
   "cell_type": "code",
   "execution_count": 48,
   "metadata": {},
   "outputs": [
    {
     "name": "stdout",
     "output_type": "stream",
     "text": [
      "{'prop_location_score2': 49, 'price_quality': 56, 'srch_id': 50, 'random_bool': 7, 'prop_location_score1': 40, 'competitor_bool': 5, 'prop_brand_bool': 10, 'availability_bools': 7, 'promotion_flag': 9, 'click_bool': 1, 'visited_before': 1}\n"
     ]
    },
    {
     "data": {
      "text/html": [
       "<div>\n",
       "<style scoped>\n",
       "    .dataframe tbody tr th:only-of-type {\n",
       "        vertical-align: middle;\n",
       "    }\n",
       "\n",
       "    .dataframe tbody tr th {\n",
       "        vertical-align: top;\n",
       "    }\n",
       "\n",
       "    .dataframe thead th {\n",
       "        text-align: right;\n",
       "    }\n",
       "</style>\n",
       "<table border=\"1\" class=\"dataframe\">\n",
       "  <thead>\n",
       "    <tr style=\"text-align: right;\">\n",
       "      <th></th>\n",
       "      <th>0</th>\n",
       "    </tr>\n",
       "  </thead>\n",
       "  <tbody>\n",
       "    <tr>\n",
       "      <th>0.084487</th>\n",
       "      <td>srch_id</td>\n",
       "    </tr>\n",
       "    <tr>\n",
       "      <th>0.052800</th>\n",
       "      <td>price_quality</td>\n",
       "    </tr>\n",
       "    <tr>\n",
       "      <th>0.015565</th>\n",
       "      <td>competitor_bool</td>\n",
       "    </tr>\n",
       "    <tr>\n",
       "      <th>0.033988</th>\n",
       "      <td>availability_bools</td>\n",
       "    </tr>\n",
       "    <tr>\n",
       "      <th>0.000091</th>\n",
       "      <td>visited_before</td>\n",
       "    </tr>\n",
       "    <tr>\n",
       "      <th>0.129069</th>\n",
       "      <td>click_bool</td>\n",
       "    </tr>\n",
       "    <tr>\n",
       "      <th>0.000000</th>\n",
       "      <td>booking_bool</td>\n",
       "    </tr>\n",
       "    <tr>\n",
       "      <th>0.070284</th>\n",
       "      <td>promotion_flag</td>\n",
       "    </tr>\n",
       "    <tr>\n",
       "      <th>0.212696</th>\n",
       "      <td>prop_brand_bool</td>\n",
       "    </tr>\n",
       "    <tr>\n",
       "      <th>0.014002</th>\n",
       "      <td>random_bool</td>\n",
       "    </tr>\n",
       "    <tr>\n",
       "      <th>0.036335</th>\n",
       "      <td>prop_location_score1</td>\n",
       "    </tr>\n",
       "    <tr>\n",
       "      <th>0.350682</th>\n",
       "      <td>prop_location_score2</td>\n",
       "    </tr>\n",
       "    <tr>\n",
       "      <th>0.000000</th>\n",
       "      <td>importance</td>\n",
       "    </tr>\n",
       "  </tbody>\n",
       "</table>\n",
       "</div>"
      ],
      "text/plain": [
       "                             0\n",
       "0.084487               srch_id\n",
       "0.052800         price_quality\n",
       "0.015565       competitor_bool\n",
       "0.033988    availability_bools\n",
       "0.000091        visited_before\n",
       "0.129069            click_bool\n",
       "0.000000          booking_bool\n",
       "0.070284        promotion_flag\n",
       "0.212696       prop_brand_bool\n",
       "0.014002           random_bool\n",
       "0.036335  prop_location_score1\n",
       "0.350682  prop_location_score2\n",
       "0.000000            importance"
      ]
     },
     "execution_count": 48,
     "metadata": {},
     "output_type": "execute_result"
    }
   ],
   "source": [
    "# prop_location_score2 en prop_brand_bool zijn belangrijke features\n",
    "feature_importances = pd.DataFrame(x_train.columns, model.feature_importances_)\n",
    "\n",
    "print(model.get_booster().get_score(importance_type='weight'))\n",
    "feature_importances.head(14)"
   ]
  },
  {
   "cell_type": "code",
   "execution_count": 43,
   "metadata": {},
   "outputs": [],
   "source": [
    "x_train[\"predicted_rank\"] = pred\n",
    "x_train[\"position\"] = y_train\n",
    "predictions_sorted = []\n",
    "\n",
    "for srchid, group in x_train.groupby('srch_id'):\n",
    "\n",
    "    # TODO: predict position with randomforest\n",
    "    predictions = [x for _,x in sorted(zip(group.predicted_rank, group.position))]\n",
    "    predictions_sorted.append(predictions)\n",
    "\n",
    "\n",
    "predictions_sorted = [item for sublist in predictions_sorted for item in sublist]\n",
    "x_train[\"predicted_rank\"] = predictions_sorted\n",
    "x_train.to_pickle(\"../pickles/XGBoost_small_solution.pkl\")"
   ]
  },
  {
   "cell_type": "code",
   "execution_count": null,
   "metadata": {},
   "outputs": [],
   "source": []
  }
 ],
 "metadata": {
  "kernelspec": {
   "display_name": "Python 3",
   "language": "python",
   "name": "python3"
  },
  "language_info": {
   "codemirror_mode": {
    "name": "ipython",
    "version": 3
   },
   "file_extension": ".py",
   "mimetype": "text/x-python",
   "name": "python",
   "nbconvert_exporter": "python",
   "pygments_lexer": "ipython3",
   "version": "3.7.1"
  }
 },
 "nbformat": 4,
 "nbformat_minor": 2
}
