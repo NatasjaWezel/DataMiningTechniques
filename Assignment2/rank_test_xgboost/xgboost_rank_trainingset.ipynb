{
 "cells": [
  {
   "cell_type": "code",
   "execution_count": 1,
   "metadata": {},
   "outputs": [],
   "source": [
    "import pandas as pd\n",
    "import xgboost as xgb\n",
    "from sklearn.datasets import load_svmlight_file\n",
    "from sklearn.model_selection import train_test_split\n",
    "from sklearn.model_selection import GridSearchCV "
   ]
  },
  {
   "cell_type": "code",
   "execution_count": 2,
   "metadata": {},
   "outputs": [],
   "source": [
    "traindf = pd.read_hdf(\"../data/traindf_clean.hdf\")\n",
    "testdf = pd.read_hdf(\"../data/test_clean.hdf\")"
   ]
  },
  {
   "cell_type": "code",
   "execution_count": 3,
   "metadata": {},
   "outputs": [],
   "source": [
    "# Toch niet met priceband want categorie\n",
    "testdf = testdf.drop(\"PriceBand\", axis=1)\n",
    "traindf = traindf.drop(\"PriceBand\", axis=1)"
   ]
  },
  {
   "cell_type": "code",
   "execution_count": 4,
   "metadata": {},
   "outputs": [
    {
     "name": "stdout",
     "output_type": "stream",
     "text": [
      "['prop_id', 'srch_id', 'position', 'price_quality', 'competitor_lower', 'competitor_available', 'visited_before', 'click_bool', 'booking_bool', 'price_usd', 'promotion_flag', 'prop_brand_bool', 'random_bool', 'prop_location_score1', 'prop_location_score2', 'prop_id_price_mean', 'importance']\n",
      "['prop_id', 'srch_id', 'price_quality', 'competitor_lower', 'competitor_available', 'visited_before', 'promotion_flag', 'prop_brand_bool', 'random_bool', 'prop_location_score1', 'prop_location_score2']\n"
     ]
    }
   ],
   "source": [
    "print(list(traindf.columns))\n",
    "print(list(testdf.columns))\n",
    "\n",
    "traindf = traindf.sort_values(by=['srch_id'])"
   ]
  },
  {
   "cell_type": "code",
   "execution_count": 5,
   "metadata": {},
   "outputs": [
    {
     "data": {
      "text/plain": [
       "((355006, 12), (355006,), (4959183, 11))"
      ]
     },
     "execution_count": 5,
     "metadata": {},
     "output_type": "execute_result"
    }
   ],
   "source": [
    "# split label and other variables\n",
    "x_train, y_train = traindf, traindf[\"importance\"]\n",
    "positions = pd.DataFrame(y_train).set_index(traindf.srch_id)\n",
    "\n",
    "# 1 procent van totale data\n",
    "x_train, x_test, y_train, y_test = train_test_split(x_train, y_train, test_size=0.2, random_state=42, shuffle=False, stratify = None)\n",
    "x_traincopy = x_train.copy()\n",
    "x_train = x_train.drop(columns=[\"position\", \"importance\", \"competitor_available\",\n",
    "                               \"competitor_lower\", \"visited_before\"])\n",
    "\n",
    "# x_test, y_test = testdf.drop(columns=[\"position\", \"click_bool\", \"booking_bool\"]), testdf[\"position\"]\n",
    "x_test = testdf\n",
    "\n",
    "x_train.shape, y_train.shape, x_test.shape"
   ]
  },
  {
   "cell_type": "code",
   "execution_count": 6,
   "metadata": {},
   "outputs": [],
   "source": [
    "params = {'objective': 'rank:pairwise', 'learning_rate': 0.1,\n",
    "          'gamma': 1.0, 'min_child_weight': 0.1,\n",
    "          'max_depth': 6,  'n_estimators': 500}\n",
    "\n",
    "# groups equal to length of queries\n",
    "query_lengths = x_train.groupby('srch_id').size().values\n",
    "    "
   ]
  },
  {
   "cell_type": "code",
   "execution_count": 7,
   "metadata": {},
   "outputs": [
    {
     "data": {
      "text/plain": [
       "XGBRanker(base_score=0.5, booster=None, colsample_bylevel=1, colsample_bynode=1,\n",
       "          colsample_bytree=1, gamma=1.0, gpu_id=-1, importance_type='gain',\n",
       "          interaction_constraints=None, learning_rate=0.1, max_delta_step=0,\n",
       "          max_depth=6, min_child_weight=0.1, missing=nan,\n",
       "          monotone_constraints=None, n_estimators=500, n_jobs=0,\n",
       "          num_parallel_tree=1, objective='rank:pairwise', random_state=0,\n",
       "          reg_alpha=0, reg_lambda=1, scale_pos_weight=None, subsample=1,\n",
       "          tree_method=None, validate_parameters=False, verbosity=None)"
      ]
     },
     "execution_count": 7,
     "metadata": {},
     "output_type": "execute_result"
    }
   ],
   "source": [
    "model = xgb.sklearn.XGBRanker(**params)\n",
    "model.fit(x_train, y_train, query_lengths, verbose=True)"
   ]
  },
  {
   "cell_type": "code",
   "execution_count": null,
   "metadata": {},
   "outputs": [],
   "source": [
    "# Make fake column of positions to test score in ndcg scoring function\n",
    "x_train[\"position_temp\"] = x_train.groupby(['srch_id']).cumcount()+1"
   ]
  },
  {
   "cell_type": "code",
   "execution_count": 46,
   "metadata": {},
   "outputs": [],
   "source": [
    "# x_train[\"position\"] = y_train\n",
    "predictions_sorted = []\n",
    "prop_ids_sorted = []\n",
    "\n",
    "# x_train = x_train.drop([\"position\", \"pred\"], axis=1)\n",
    "\n",
    "# Sort predictions for each group SEPERATELY\n",
    "for srchid, group in x_train.groupby('srch_id'):\n",
    "    \n",
    "    # Predictions for one search_id\n",
    "    pred = model.predict(group.drop(\"position_temp\", axis=1))\n",
    "    \n",
    "    # Sort all columns (position and prop_id) from this group based on predictions\n",
    "    predictions = [x for _,x in sorted(zip(pred, group.position_temp), reverse=True)] # TODO: Reverse = False toch? Hoezo werkt dit..\n",
    "    predictions_sorted.append(predictions)\n",
    "    \n",
    "    prop_id = [x for _,x in sorted(zip(pred, group.prop_id), reverse=True)]\n",
    "    prop_ids_sorted.append(prop_id)\n",
    "    \n",
    "# Flatten lists\n",
    "predictions_sorted = [item for sublist in predictions_sorted for item in sublist]\n",
    "prop_ids_sorted = [item for sublist in prop_ids_sorted for item in sublist]\n"
   ]
  },
  {
   "cell_type": "code",
   "execution_count": 48,
   "metadata": {},
   "outputs": [
    {
     "data": {
      "text/html": [
       "<div>\n",
       "<style scoped>\n",
       "    .dataframe tbody tr th:only-of-type {\n",
       "        vertical-align: middle;\n",
       "    }\n",
       "\n",
       "    .dataframe tbody tr th {\n",
       "        vertical-align: top;\n",
       "    }\n",
       "\n",
       "    .dataframe thead th {\n",
       "        text-align: right;\n",
       "    }\n",
       "</style>\n",
       "<table border=\"1\" class=\"dataframe\">\n",
       "  <thead>\n",
       "    <tr style=\"text-align: right;\">\n",
       "      <th></th>\n",
       "      <th>prop_id</th>\n",
       "      <th>srch_id</th>\n",
       "      <th>position</th>\n",
       "      <th>price_quality</th>\n",
       "      <th>competitor_lower</th>\n",
       "      <th>competitor_available</th>\n",
       "      <th>visited_before</th>\n",
       "      <th>click_bool</th>\n",
       "      <th>booking_bool</th>\n",
       "      <th>price_usd</th>\n",
       "      <th>promotion_flag</th>\n",
       "      <th>prop_brand_bool</th>\n",
       "      <th>random_bool</th>\n",
       "      <th>prop_location_score1</th>\n",
       "      <th>prop_location_score2</th>\n",
       "      <th>prop_id_price_mean</th>\n",
       "      <th>importance</th>\n",
       "      <th>pred</th>\n",
       "      <th>predicted_rank</th>\n",
       "    </tr>\n",
       "  </thead>\n",
       "  <tbody>\n",
       "    <tr>\n",
       "      <th>23</th>\n",
       "      <td>68914</td>\n",
       "      <td>1</td>\n",
       "      <td>12</td>\n",
       "      <td>64.030000</td>\n",
       "      <td>1</td>\n",
       "      <td>0</td>\n",
       "      <td>0</td>\n",
       "      <td>0</td>\n",
       "      <td>0</td>\n",
       "      <td>128.06</td>\n",
       "      <td>0</td>\n",
       "      <td>1</td>\n",
       "      <td>1</td>\n",
       "      <td>2.71</td>\n",
       "      <td>0.0465</td>\n",
       "      <td>39.469167</td>\n",
       "      <td>0</td>\n",
       "      <td>-8.781317</td>\n",
       "      <td>2</td>\n",
       "    </tr>\n",
       "    <tr>\n",
       "      <th>2209657</th>\n",
       "      <td>107872</td>\n",
       "      <td>148396</td>\n",
       "      <td>20</td>\n",
       "      <td>38.285000</td>\n",
       "      <td>0</td>\n",
       "      <td>0</td>\n",
       "      <td>0</td>\n",
       "      <td>0</td>\n",
       "      <td>0</td>\n",
       "      <td>153.14</td>\n",
       "      <td>0</td>\n",
       "      <td>0</td>\n",
       "      <td>0</td>\n",
       "      <td>4.84</td>\n",
       "      <td>0.0000</td>\n",
       "      <td>46.419412</td>\n",
       "      <td>0</td>\n",
       "      <td>10.445211</td>\n",
       "      <td>1</td>\n",
       "    </tr>\n",
       "    <tr>\n",
       "      <th>2209666</th>\n",
       "      <td>139893</td>\n",
       "      <td>148396</td>\n",
       "      <td>32</td>\n",
       "      <td>58.384000</td>\n",
       "      <td>1</td>\n",
       "      <td>0</td>\n",
       "      <td>0</td>\n",
       "      <td>0</td>\n",
       "      <td>0</td>\n",
       "      <td>291.92</td>\n",
       "      <td>0</td>\n",
       "      <td>1</td>\n",
       "      <td>0</td>\n",
       "      <td>4.62</td>\n",
       "      <td>0.1326</td>\n",
       "      <td>67.414444</td>\n",
       "      <td>0</td>\n",
       "      <td>-8.781317</td>\n",
       "      <td>2</td>\n",
       "    </tr>\n",
       "    <tr>\n",
       "      <th>2209709</th>\n",
       "      <td>116696</td>\n",
       "      <td>148399</td>\n",
       "      <td>34</td>\n",
       "      <td>49.806667</td>\n",
       "      <td>0</td>\n",
       "      <td>0</td>\n",
       "      <td>0</td>\n",
       "      <td>0</td>\n",
       "      <td>0</td>\n",
       "      <td>149.42</td>\n",
       "      <td>0</td>\n",
       "      <td>1</td>\n",
       "      <td>0</td>\n",
       "      <td>2.56</td>\n",
       "      <td>0.0144</td>\n",
       "      <td>46.710303</td>\n",
       "      <td>0</td>\n",
       "      <td>3.174961</td>\n",
       "      <td>1</td>\n",
       "    </tr>\n",
       "    <tr>\n",
       "      <th>2209734</th>\n",
       "      <td>104251</td>\n",
       "      <td>148401</td>\n",
       "      <td>15</td>\n",
       "      <td>38.000000</td>\n",
       "      <td>0</td>\n",
       "      <td>0</td>\n",
       "      <td>0</td>\n",
       "      <td>0</td>\n",
       "      <td>0</td>\n",
       "      <td>76.00</td>\n",
       "      <td>0</td>\n",
       "      <td>1</td>\n",
       "      <td>0</td>\n",
       "      <td>0.00</td>\n",
       "      <td>0.0000</td>\n",
       "      <td>38.000000</td>\n",
       "      <td>0</td>\n",
       "      <td>9.907165</td>\n",
       "      <td>1</td>\n",
       "    </tr>\n",
       "  </tbody>\n",
       "</table>\n",
       "</div>"
      ],
      "text/plain": [
       "         prop_id  srch_id  position  price_quality  competitor_lower  \\\n",
       "23         68914        1        12      64.030000                 1   \n",
       "2209657   107872   148396        20      38.285000                 0   \n",
       "2209666   139893   148396        32      58.384000                 1   \n",
       "2209709   116696   148399        34      49.806667                 0   \n",
       "2209734   104251   148401        15      38.000000                 0   \n",
       "\n",
       "         competitor_available  visited_before  click_bool  booking_bool  \\\n",
       "23                          0               0           0             0   \n",
       "2209657                     0               0           0             0   \n",
       "2209666                     0               0           0             0   \n",
       "2209709                     0               0           0             0   \n",
       "2209734                     0               0           0             0   \n",
       "\n",
       "         price_usd  promotion_flag  prop_brand_bool  random_bool  \\\n",
       "23          128.06               0                1            1   \n",
       "2209657     153.14               0                0            0   \n",
       "2209666     291.92               0                1            0   \n",
       "2209709     149.42               0                1            0   \n",
       "2209734      76.00               0                1            0   \n",
       "\n",
       "         prop_location_score1  prop_location_score2  prop_id_price_mean  \\\n",
       "23                       2.71                0.0465           39.469167   \n",
       "2209657                  4.84                0.0000           46.419412   \n",
       "2209666                  4.62                0.1326           67.414444   \n",
       "2209709                  2.56                0.0144           46.710303   \n",
       "2209734                  0.00                0.0000           38.000000   \n",
       "\n",
       "         importance       pred  predicted_rank  \n",
       "23                0  -8.781317               2  \n",
       "2209657           0  10.445211               1  \n",
       "2209666           0  -8.781317               2  \n",
       "2209709           0   3.174961               1  \n",
       "2209734           0   9.907165               1  "
      ]
     },
     "execution_count": 48,
     "metadata": {},
     "output_type": "execute_result"
    }
   ],
   "source": [
    "x_traincopy[\"prop_id\"] = prop_ids_sorted\n",
    "x_traincopy[\"predicted_rank\"] = predictions_sorted\n",
    "final_df = x_traincopy\n",
    "final_df.head()"
   ]
  },
  {
   "cell_type": "code",
   "execution_count": null,
   "metadata": {},
   "outputs": [],
   "source": [
    "final_df[\"predicted_rank\"] = final_df[\"position_temp\"]\n",
    "final_df.head()"
   ]
  },
  {
   "cell_type": "code",
   "execution_count": 24,
   "metadata": {},
   "outputs": [
    {
     "data": {
      "text/plain": [
       "943709     110228\n",
       "1508702     24294\n",
       "2298369     59107\n",
       "2520570     88820\n",
       "394821     135806\n",
       "1681663     23016\n",
       "3462287     62215\n",
       "3023470    111449\n",
       "1284776     90809\n",
       "1436242     42175\n",
       "Name: prop_id, dtype: object"
      ]
     },
     "execution_count": 24,
     "metadata": {},
     "output_type": "execute_result"
    }
   ],
   "source": [
    "# pred = model.predict(x_train.drop(\"position\", axis=1))\n",
    "# x_traincopy[\"pred\"] = pred\n",
    "# x_temp = x_traincopy.sort_values(by=['pred'], ascending=False)[\"position\"]\n",
    "\n",
    "# predictions_sorted = []\n",
    "# x_train[\"position\"] = y_train\n",
    "\n",
    "# # Sort predictions for each group SEPERATELY\n",
    "# for srchid, group in x_train.groupby('srch_id'):\n",
    "    \n",
    "#     # Predictions for one search_id\n",
    "#     pred = model.predict(group.drop(\"position\", axis=1))\n",
    "# #     print(pred, group)\n",
    "# #     group['predicted_rank'] = pred\n",
    "# #     group = group.sort_values('predicted_rank')\n",
    "        \n",
    "#     predictions = [x for _,x in sorted(zip(pred, group.position), reverse=True)] # TODO: Reverse = False toch? Hoezo werkt dit..\n",
    "#     predictions_sorted.append(predictions)\n",
    "    \n",
    "# predictions_sorted = [item for sublist in predictions_sorted for item in sublist]\n",
    "\n",
    "\n"
   ]
  },
  {
   "cell_type": "code",
   "execution_count": 21,
   "metadata": {},
   "outputs": [],
   "source": [
    "x_traincopy[\"predicted_rank\"] = x_temp"
   ]
  },
  {
   "cell_type": "code",
   "execution_count": 49,
   "metadata": {},
   "outputs": [],
   "source": [
    "x_traincopy.to_pickle(\"../pickles/XGBoost_solution.pkl\")"
   ]
  },
  {
   "cell_type": "markdown",
   "metadata": {},
   "source": [
    "## Test set only"
   ]
  },
  {
   "cell_type": "code",
   "execution_count": null,
   "metadata": {},
   "outputs": [],
   "source": [
    "# pred = model.predict(x_test)\n",
    "\n",
    "# x_test[\"predicted_rank\"] = pred\n",
    "# predictions_sorted = []\n",
    "\n",
    "# # Sort predictions for each group SEPERATELY\n",
    "# for srchid, group in x_test.groupby('srch_id'):\n",
    "    \n",
    "#     predictions = [x for _,x in sorted(zip(group.predicted_rank, group.prop_id))]\n",
    "#     predictions_sorted.append(predictions)\n",
    "    \n",
    "# predictions_sorted = [item for sublist in predictions_sorted for item in sublist]"
   ]
  },
  {
   "cell_type": "code",
   "execution_count": null,
   "metadata": {},
   "outputs": [],
   "source": [
    "# final_df = x_test[[\"srch_id\", \"prop_id\"]]\n",
    "# final_df.to_csv(\"submission5mei.csv\", columns=[\"srch_id\", \"prop_id\"], index=False)"
   ]
  },
  {
   "cell_type": "code",
   "execution_count": null,
   "metadata": {},
   "outputs": [],
   "source": [
    "# # Test if it worked\n",
    "# test = pd.read_csv(\"submission5mei.csv\")\n",
    "# test.head()"
   ]
  },
  {
   "cell_type": "code",
   "execution_count": null,
   "metadata": {},
   "outputs": [],
   "source": [
    "# importances = pd.DataFrame(x_test.columns, model.feature_importances_)\n",
    "# importances.head(10)"
   ]
  },
  {
   "cell_type": "code",
   "execution_count": null,
   "metadata": {},
   "outputs": [],
   "source": [
    "x_traincopy.head(5)"
   ]
  },
  {
   "cell_type": "code",
   "execution_count": null,
   "metadata": {},
   "outputs": [],
   "source": []
  }
 ],
 "metadata": {
  "kernelspec": {
   "display_name": "Python 3",
   "language": "python",
   "name": "python3"
  },
  "language_info": {
   "codemirror_mode": {
    "name": "ipython",
    "version": 3
   },
   "file_extension": ".py",
   "mimetype": "text/x-python",
   "name": "python",
   "nbconvert_exporter": "python",
   "pygments_lexer": "ipython3",
   "version": "3.7.1"
  }
 },
 "nbformat": 4,
 "nbformat_minor": 2
}
