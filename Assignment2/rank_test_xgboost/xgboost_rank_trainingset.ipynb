{
 "cells": [
  {
   "cell_type": "code",
   "execution_count": null,
   "metadata": {},
   "outputs": [],
   "source": [
    "import pandas as pd\n",
    "import xgboost as xgb\n",
    "from sklearn.datasets import load_svmlight_file\n",
    "from sklearn.model_selection import train_test_split\n",
    "from sklearn.model_selection import GridSearchCV \n",
    "import numpy as np\n",
    "\n",
    "from sklearn.feature_selection import SelectFromModel\n",
    "import matplotlib.pylab as plt\n",
    "import seaborn as sns\n",
    "sns.set()\n",
    "\n",
    "import lightgbm"
   ]
  },
  {
   "cell_type": "code",
   "execution_count": null,
   "metadata": {},
   "outputs": [],
   "source": [
    "traindf = pd.read_hdf(\"../data/traindf_clean.hdf\")\n",
    "traindf = traindf.drop(\"estimated_importance\", axis=1)"
   ]
  },
  {
   "cell_type": "code",
   "execution_count": null,
   "metadata": {},
   "outputs": [],
   "source": [
    "def downsampling(df):\n",
    "    \"\"\"\n",
    "    Balance classes in trainingset, based on click_bool (not booking_bool)\n",
    "    \"\"\"\n",
    "    \n",
    "    length = len(df.loc[df.importance == 5])\n",
    "    length1 = len(df.loc[df.importance == 1])\n",
    "\n",
    "    \n",
    "    # Get 50% of data with importance of 5 or 1\n",
    "    clicks = df[df.importance == 5].index\n",
    "    randoms = np.random.choice(clicks, length , replace=False)\n",
    "    click_sample = df.loc[randoms]\n",
    "    \n",
    "\n",
    "    not_click = df[df.importance == 1].index\n",
    "    random_indices = np.random.choice(not_click, length1, replace=False)\n",
    "    not_click_sample = df.loc[random_indices]\n",
    "    print(len(random_indices))\n",
    "    \n",
    "    not_click = df[df.importance == 0].index\n",
    "    random_indices = np.random.choice(not_click, length1, replace=False)\n",
    "    not_click_sample2 = df.loc[random_indices]\n",
    "    print(len(random_indices))\n",
    "\n",
    "    df_new = pd.concat([click_sample, not_click_sample, not_click_sample2], axis=0)\n",
    "    \n",
    "    print(\"Percentage of not click impressions: \", len(df_new[df_new.importance == 0])/len(df))\n",
    "    print(\"Percentage of click impression: \", len(df_new[df_new.importance != 0])/len(df))\n",
    "    \n",
    "    return df_new\n",
    "\n",
    "traindf = downsampling(traindf)"
   ]
  },
  {
   "cell_type": "code",
   "execution_count": null,
   "metadata": {},
   "outputs": [],
   "source": [
    "print(list(traindf.columns))\n",
    "\n",
    "traindf = traindf.sort_values(by=['srch_id'])\n",
    "# traindf = traindf.drop([\"price_correction\"], axis=1)\n",
    "\n",
    "# traindf = traindf[[\"estimated_importance\", \"estimated_position\", \"price_usd_norm_by_prop_id\", \"prop_starrating_norm_by_srch_id\", \n",
    "#                    \"position\", \"importance\", \"click_bool\", \"booking_bool\", \"srch_id\" ,\"price_review\", \"prop_id\"]]\n",
    "\n"
   ]
  },
  {
   "cell_type": "code",
   "execution_count": null,
   "metadata": {},
   "outputs": [],
   "source": [
    "# split label and other variables\n",
    "x_train, y_train = traindf, traindf[\"importance\"]\n",
    "positions = pd.DataFrame(y_train).set_index(traindf.srch_id)\n",
    "\n",
    "# 1 procent van totale data\n",
    "x_train, x_test, y_train, y_test = train_test_split(x_train, y_train, test_size=0.2, random_state=42, shuffle=False, stratify = None)\n",
    "x_traincopy = x_train.copy()\n",
    "x_train = x_train.drop(columns=[\"position\", \"importance\", \"click_bool\", \"booking_bool\"])\n",
    "x_test = x_test.drop(columns=[\"position\", \"importance\", \"click_bool\", \"booking_bool\"])\n",
    "\n",
    "x_train.shape, y_train.shape, x_test.shape\n",
    "\n"
   ]
  },
  {
   "cell_type": "code",
   "execution_count": null,
   "metadata": {},
   "outputs": [],
   "source": [
    "params = {'objective': 'rank:ndcg', 'learning_rate': 0.12,\n",
    "          'max_depth': 6,  'n_estimators': 1000}\n",
    "    \n",
    "# groups equal to length of queries\n",
    "query_lengths = x_train.groupby('srch_id').size().values\n",
    "query_lengths_y = x_test.groupby('srch_id').size().values"
   ]
  },
  {
   "cell_type": "code",
   "execution_count": null,
   "metadata": {},
   "outputs": [],
   "source": [
    "# dtrain = xgb.DMatrix(x_train, label=y_train)\n",
    "# dtrain.set_group(query_lengths)\n",
    "\n",
    "# dtest = xgb.DMatrix(x_test, label=y_test)\n",
    "# dtest.set_group(query_lengths_y)\n",
    "\n",
    "# params = {\"max_depth\":100, 'objective': 'rank:pairwise', 'eval_metric': 'ndcg@5-'}\n",
    "\n",
    "# evalist= [(dtest, 'eval'), (dtrain, 'train')]\n",
    "# num_round = 50\n",
    "# bst = xgb.train(params, dtrain, num_round, evalist, maximize=True)"
   ]
  },
  {
   "cell_type": "code",
   "execution_count": null,
   "metadata": {},
   "outputs": [],
   "source": [
    "# Make fake column of positions to test score in ndcg scoring function\n",
    "# x_traincopy[\"predicted_rank\"] = x_train.groupby(['srch_id']).cumcount()+1\n",
    "# x_train[\"position_temp\"] = x_train.groupby(['srch_id']).cumcount()+1"
   ]
  },
  {
   "cell_type": "code",
   "execution_count": null,
   "metadata": {},
   "outputs": [],
   "source": [
    "\n",
    "# predictions_sorted = []\n",
    "# prop_ids_sorted = []\n",
    "# x_train[\"y_label\"] = y_train\n",
    "\n",
    "\n",
    "# print(x_train.columns)\n",
    "# # x_train = x_train.drop([\"position\", \"pred\"], axis=1)\n",
    "\n",
    "# # Sort predictions for each group SEPERATELY\n",
    "# for srchid, group in x_train.groupby('srch_id'):\n",
    "\n",
    "#     dtrain_temp = xgb.DMatrix(group.drop([\"position_temp\", \"y_label\"], axis=1), label=y_train)\n",
    "#     # Predictions for one search_id\n",
    "#     pred = bst.predict(dtrain_temp)\n",
    "    \n",
    "#     # Sort all columns (position and prop_id) from this group based on predictions\n",
    "#     predictions = [x for _,x in sorted(zip(pred, group.position_temp), reverse=True)] # TODO: Reverse = False toch? Hoezo werkt dit..\n",
    "#     predictions_sorted.append(predictions)\n",
    "    \n",
    "#     prop_id = [x for _,x in sorted(zip(pred, group.prop_id), reverse=True)]\n",
    "#     prop_ids_sorted.append(prop_id)\n",
    "    \n",
    "# # Flatten lists\n",
    "# predictions_sorted = [item for sublist in predictions_sorted for item in sublist]\n",
    "# prop_ids_sorted = [item for sublist in prop_ids_sorted for item in sublist]\n",
    "\n",
    "# x_traincopy[\"prop_id\"] = prop_ids_sorted\n",
    "# x_traincopy[\"predicted_rank\"] = predictions_sorted\n",
    "# final_df = x_traincopy\n",
    "\n",
    "# print(round(dataframe_ndcg_score(x_traincopy),6))\n",
    "\n",
    "# fig = xgb.plot_importance(booster=model)\n",
    "# # fig.figure.savefig(\"../plots/competitors.pdf\", bbox_inches='tight')\n",
    "# plt.show()"
   ]
  },
  {
   "cell_type": "code",
   "execution_count": null,
   "metadata": {
    "scrolled": true
   },
   "outputs": [],
   "source": [
    "model = xgb.sklearn.XGBRanker(**params)\n",
    "model.fit(x_train.drop([\"prop_id\", \"srch_id\"], axis=1), y_train, query_lengths, verbose=True)"
   ]
  },
  {
   "cell_type": "code",
   "execution_count": null,
   "metadata": {},
   "outputs": [],
   "source": [
    "# Make fake column of positions to test score in ndcg scoring function\n",
    "x_train[\"position_temp\"] = x_train.groupby(['srch_id']).cumcount()+1"
   ]
  },
  {
   "cell_type": "code",
   "execution_count": null,
   "metadata": {},
   "outputs": [],
   "source": [
    "# x_train[\"position\"] = y_train\n",
    "predictions_sorted = []\n",
    "prop_ids_sorted = []\n",
    "\n",
    "# x_train = x_train.drop([\"position\", \"pred\"], axis=1)\n",
    "\n",
    "# Sort predictions for each group SEPERATELY\n",
    "for srchid, group in x_train.groupby('srch_id'):\n",
    "    \n",
    "    # Predictions for one search_id\n",
    "    pred = model.predict(group.drop([\"position_temp\", \"prop_id\", \"srch_id\"], axis=1))\n",
    "    \n",
    "    # Sort all columns (position and prop_id) from this group based on predictions\n",
    "    predictions = [x for _,x in sorted(zip(pred, group.position_temp), reverse=True)] # TODO: Reverse = False toch? Hoezo werkt dit..\n",
    "    predictions_sorted.append(predictions)\n",
    "    \n",
    "    prop_id = [x for _,x in sorted(zip(pred, group.prop_id), reverse=True)]\n",
    "    prop_ids_sorted.append(prop_id)\n",
    "    \n",
    "# Flatten lists\n",
    "predictions_sorted = [item for sublist in predictions_sorted for item in sublist]\n",
    "prop_ids_sorted = [item for sublist in prop_ids_sorted for item in sublist]\n"
   ]
  },
  {
   "cell_type": "code",
   "execution_count": null,
   "metadata": {},
   "outputs": [],
   "source": [
    "x_traincopy[\"prop_id\"] = prop_ids_sorted\n",
    "x_traincopy[\"predicted_rank\"] = predictions_sorted\n",
    "final_df = x_traincopy\n",
    "final_df.head()"
   ]
  },
  {
   "cell_type": "code",
   "execution_count": null,
   "metadata": {},
   "outputs": [],
   "source": [
    "# final_df[\"predicted_rank\"] = final_df[\"position_temp\"]\n",
    "final_df.head()"
   ]
  },
  {
   "cell_type": "code",
   "execution_count": null,
   "metadata": {},
   "outputs": [],
   "source": [
    "# final_df.to_pickle(\"../pickles/XGBoost_test9mei.pkl\")"
   ]
  },
  {
   "cell_type": "code",
   "execution_count": null,
   "metadata": {},
   "outputs": [],
   "source": [
    "def indiv_search_ndcg_score(true_rank, predicted_rank, booked, clicked):\n",
    "    # holder for ideal score\n",
    "    idcg = 0\n",
    "    \n",
    "    # holder for our score\n",
    "    dcg = 0\n",
    "\n",
    "    # itereer over elk resultaat in de search\n",
    "    for i in range(len(true_rank)):\n",
    "        # hotels die geboekt zijn zijn heel belangrijk (5)\n",
    "        if booked[i] == 1:\n",
    "            \n",
    "            # increment ideal score\n",
    "            if i != 0:\n",
    "                idcg = idcg + (5 / np.log2(i+1))\n",
    "            else:\n",
    "                idcg += 5\n",
    "\n",
    "            # if predicted well, increment score\n",
    "            if true_rank[i] == predicted_rank[i]:\n",
    "                if i != 0:\n",
    "                    dcg = dcg + (5 / np.log2(i+1))\n",
    "                else:\n",
    "                    dcg += 5\n",
    "                \n",
    "        # hotels waarop geklikt is zijn een beetje belangrijk (1)\n",
    "        elif clicked[i] == 1:\n",
    "\n",
    "            # increment ideal score\n",
    "            if i != 0:\n",
    "                idcg = idcg + (1 / np.log2(i+1))\n",
    "            else:\n",
    "                idcg += 1\n",
    "            \n",
    "            # if predicted well, increment score\n",
    "            if true_rank[i] == predicted_rank[i]:\n",
    "                dcg = dcg + (1 / np.log2(i+2))\n",
    "\n",
    "    if idcg == 0:\n",
    "        return dcg\n",
    "    return dcg/idcg\n",
    "\n",
    "# score function for every search (thus iterate over groupby object)\n",
    "def dataframe_ndcg_score(solution):\n",
    "    all_scores = []\n",
    "    for srchid, group in solution.groupby('srch_id'):\n",
    "\n",
    "        # true_rank\n",
    "        true_rank = np.asarray(group['position'])\n",
    "\n",
    "        # predicted_rank\n",
    "        predicted_rank = np.asarray(group['predicted_rank'])\n",
    "        \n",
    "        # booking_bool\n",
    "        booked = np.asarray(group['booking_bool'])\n",
    "        \n",
    "        # click_bool\n",
    "        clicked = np.asarray(group['click_bool'])\n",
    "        all_scores.append(indiv_search_ndcg_score(true_rank, predicted_rank, booked, clicked))\n",
    "        \n",
    "    return np.nanmean(all_scores)"
   ]
  },
  {
   "cell_type": "code",
   "execution_count": null,
   "metadata": {},
   "outputs": [],
   "source": [
    "print(round(dataframe_ndcg_score(x_traincopy),6))"
   ]
  },
  {
   "cell_type": "code",
   "execution_count": null,
   "metadata": {},
   "outputs": [],
   "source": [
    "fig = xgb.plot_importance(booster=model)\n",
    "# fig.figure.savefig(\"../plots/competitors.pdf\", bbox_inches='tight')\n",
    "plt.show()"
   ]
  },
  {
   "cell_type": "code",
   "execution_count": null,
   "metadata": {},
   "outputs": [],
   "source": [
    "fig.figure.savefig(\"../plots/final_model_feature_imortance.pdf\", bbox_inches='tight')"
   ]
  },
  {
   "cell_type": "code",
   "execution_count": null,
   "metadata": {},
   "outputs": [],
   "source": []
  }
 ],
 "metadata": {
  "kernelspec": {
   "display_name": "Python 3",
   "language": "python",
   "name": "python3"
  },
  "language_info": {
   "codemirror_mode": {
    "name": "ipython",
    "version": 3
   },
   "file_extension": ".py",
   "mimetype": "text/x-python",
   "name": "python",
   "nbconvert_exporter": "python",
   "pygments_lexer": "ipython3",
   "version": "3.7.1"
  }
 },
 "nbformat": 4,
 "nbformat_minor": 2
}
