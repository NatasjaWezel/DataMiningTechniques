{
 "cells": [
  {
   "cell_type": "code",
   "execution_count": 11,
   "metadata": {},
   "outputs": [],
   "source": [
    "import pandas as pd\n",
    "import numpy as np\n",
    "import matplotlib.pyplot as plt\n",
    "import warnings\n",
    "from importlib import reload\n",
    "import seaborn as sns\n",
    "\n",
    "import xgboost as xgb\n",
    "from xgboost import XGBRanker\n",
    "\n",
    "from sklearn.model_selection import KFold\n",
    "from sklearn.model_selection import cross_val_score\n",
    "from sklearn.model_selection import train_test_split\n",
    "\n",
    "# Metrics\n",
    "from sklearn.metrics import precision_score, recall_score, accuracy_score, average_precision_score"
   ]
  },
  {
   "cell_type": "code",
   "execution_count": 34,
   "metadata": {},
   "outputs": [],
   "source": [
    "df_train = pd.read_hdf(\"../data/traindf_clean.hdf\")\n",
    "df_test = pd.read_hdf(\"../data/test_clean.hdf\")\n",
    "\n",
    "df_train = df_train.drop(columns=[\"prop_id_score\", \"importance\", \"click_bool\", \"booking_bool\"])\n",
    "\n",
    "# Toch niet met priceband want categorie\n",
    "df_test = df_test.drop(\"PriceBand\", axis=1)\n",
    "df_train = df_train.drop(\"PriceBand\", axis=1)\n",
    "\n",
    "raw_train_data = df_train.copy()\n",
    "raw_test_data = df_test.copy()"
   ]
  },
  {
   "cell_type": "code",
   "execution_count": 35,
   "metadata": {},
   "outputs": [
    {
     "data": {
      "text/plain": [
       "((3966677, 11), (991670, 11), (3966677,), (991670,))"
      ]
     },
     "execution_count": 35,
     "metadata": {},
     "output_type": "execute_result"
    }
   ],
   "source": [
    "def split_data(df):\n",
    "    X = df.drop('position', axis=1).copy()\n",
    "    y = df['position'].copy()\n",
    "    return train_test_split(X, y, test_size=0.2, random_state=1)\n",
    "X_train, X_test, y_train, y_test = split_data(df_train)\n",
    "\n",
    "X_train.shape, X_test.shape, y_train.shape, y_test.shape"
   ]
  },
  {
   "cell_type": "code",
   "execution_count": 36,
   "metadata": {},
   "outputs": [],
   "source": [
    "def train_xgb_model(model, X_train, y_train, X_test, y_test, group, eval_group):\n",
    "    model = model.fit(X_train, y_train, group, eval_set=[(X_train, y_train), (X_test, y_test)], eval_group=eval_group)\n",
    "    return model"
   ]
  },
  {
   "cell_type": "code",
   "execution_count": 37,
   "metadata": {},
   "outputs": [],
   "source": [
    "group = X_train.groupby('srch_id').size().values\n",
    "\n",
    "eval_group = [X_train.groupby('srch_id').size().values, X_test.groupby('srch_id').size().values]\n",
    "\n",
    "xgb_model = train_xgb_model(XGBRanker(objective='rank:pairwise', eval_metric='ndcg@50', n_estimators=150, \n",
    "                                      learning_rate=0.1, subsample=0.9, random_state=1), \n",
    "                            X_train, y_train, X_test, y_test, group=group, eval_group=eval_group)\n"
   ]
  },
  {
   "cell_type": "code",
   "execution_count": 38,
   "metadata": {},
   "outputs": [
    {
     "name": "stdout",
     "output_type": "stream",
     "text": [
      "********************TRAIN********************\n",
      "train avg ndcg@50: 0.84\n",
      "********************TEST********************\n",
      "test avg ndcg@50: 0.87\n"
     ]
    }
   ],
   "source": [
    "y_train_pred = xgb_model.predict(X_train)\n",
    "res_train = list(xgb_model.evals_result['eval_0'].values())[0]\n",
    "ndcg_train = round(sum(res_train)/len(res_train), 2)\n",
    "print('*'*20 + 'TRAIN' + '*'*20)\n",
    "print('train avg ndcg@50: %.2f' % ndcg_train)\n",
    "print('*'*20 + 'TEST' + '*'*20)\n",
    "y_test_pred = xgb_model.predict(X_test)\n",
    "res_test = list(xgb_model.evals_result['eval_1'].values())[0]\n",
    "ndcg_test = round(sum(res_test)/len(res_test), 2)\n",
    "print('test avg ndcg@50: %.2f' % ndcg_test)"
   ]
  },
  {
   "cell_type": "code",
   "execution_count": 39,
   "metadata": {},
   "outputs": [],
   "source": [
    "import pickle\n",
    "with open('y_test_predictions6mei.pkl','wb') as f:\n",
    "    pickle.dump(y_test_pred, f)"
   ]
  },
  {
   "cell_type": "code",
   "execution_count": 40,
   "metadata": {},
   "outputs": [],
   "source": [
    "final_df = df_test.reset_index().copy() \n",
    "final_df['rank'] = xgb_model.predict(df_test)"
   ]
  },
  {
   "cell_type": "code",
   "execution_count": 43,
   "metadata": {},
   "outputs": [
    {
     "data": {
      "text/html": [
       "<div>\n",
       "<style scoped>\n",
       "    .dataframe tbody tr th:only-of-type {\n",
       "        vertical-align: middle;\n",
       "    }\n",
       "\n",
       "    .dataframe tbody tr th {\n",
       "        vertical-align: top;\n",
       "    }\n",
       "\n",
       "    .dataframe thead th {\n",
       "        text-align: right;\n",
       "    }\n",
       "</style>\n",
       "<table border=\"1\" class=\"dataframe\">\n",
       "  <thead>\n",
       "    <tr style=\"text-align: right;\">\n",
       "      <th></th>\n",
       "      <th>srch_id</th>\n",
       "      <th>prop_id</th>\n",
       "      <th>rank</th>\n",
       "    </tr>\n",
       "  </thead>\n",
       "  <tbody>\n",
       "    <tr>\n",
       "      <th>0</th>\n",
       "      <td>1</td>\n",
       "      <td>3180</td>\n",
       "      <td>0.612655</td>\n",
       "    </tr>\n",
       "    <tr>\n",
       "      <th>1</th>\n",
       "      <td>1</td>\n",
       "      <td>5543</td>\n",
       "      <td>0.424152</td>\n",
       "    </tr>\n",
       "    <tr>\n",
       "      <th>2</th>\n",
       "      <td>1</td>\n",
       "      <td>14142</td>\n",
       "      <td>0.535589</td>\n",
       "    </tr>\n",
       "    <tr>\n",
       "      <th>3</th>\n",
       "      <td>1</td>\n",
       "      <td>22393</td>\n",
       "      <td>0.439443</td>\n",
       "    </tr>\n",
       "    <tr>\n",
       "      <th>4</th>\n",
       "      <td>1</td>\n",
       "      <td>24194</td>\n",
       "      <td>0.120507</td>\n",
       "    </tr>\n",
       "  </tbody>\n",
       "</table>\n",
       "</div>"
      ],
      "text/plain": [
       "   srch_id  prop_id      rank\n",
       "0        1     3180  0.612655\n",
       "1        1     5543  0.424152\n",
       "2        1    14142  0.535589\n",
       "3        1    22393  0.439443\n",
       "4        1    24194  0.120507"
      ]
     },
     "execution_count": 43,
     "metadata": {},
     "output_type": "execute_result"
    }
   ],
   "source": [
    "final_df[['srch_id', 'prop_id', 'rank']].head()"
   ]
  },
  {
   "cell_type": "code",
   "execution_count": 45,
   "metadata": {},
   "outputs": [],
   "source": [
    "submission_df = final_df[['srch_id', 'prop_id', 'rank']].sort_values(by=['srch_id', 'rank'], ascending=[False, False])\\\n",
    "                .drop('rank', axis=1).set_index('srch_id')"
   ]
  },
  {
   "cell_type": "code",
   "execution_count": 46,
   "metadata": {},
   "outputs": [],
   "source": [
    "submission_df.to_csv('submission.csv')"
   ]
  },
  {
   "cell_type": "code",
   "execution_count": 54,
   "metadata": {},
   "outputs": [],
   "source": [
    "predictions_sorted = []\n",
    "\n",
    "# Sort predictions for each group SEPERATELY\n",
    "for srchid, group in final_df.groupby('srch_id'):\n",
    "\n",
    "        \n",
    "    predictions = [x for _,x in sorted(zip(group[\"rank\"], group.prop_id))] # TODO: Reverse = False toch? Hoezo werkt dit..\n",
    "    predictions_sorted.append(predictions)\n",
    "\n",
    "# Flatten list\n",
    "predictions_sorted = [item for sublist in predictions_sorted for item in sublist]"
   ]
  },
  {
   "cell_type": "code",
   "execution_count": 55,
   "metadata": {},
   "outputs": [
    {
     "data": {
      "text/html": [
       "<div>\n",
       "<style scoped>\n",
       "    .dataframe tbody tr th:only-of-type {\n",
       "        vertical-align: middle;\n",
       "    }\n",
       "\n",
       "    .dataframe tbody tr th {\n",
       "        vertical-align: top;\n",
       "    }\n",
       "\n",
       "    .dataframe thead th {\n",
       "        text-align: right;\n",
       "    }\n",
       "</style>\n",
       "<table border=\"1\" class=\"dataframe\">\n",
       "  <thead>\n",
       "    <tr style=\"text-align: right;\">\n",
       "      <th></th>\n",
       "      <th>index</th>\n",
       "      <th>prop_id</th>\n",
       "      <th>srch_id</th>\n",
       "      <th>price_quality</th>\n",
       "      <th>competitor_lower</th>\n",
       "      <th>competitor_available</th>\n",
       "      <th>visited_before</th>\n",
       "      <th>promotion_flag</th>\n",
       "      <th>prop_brand_bool</th>\n",
       "      <th>random_bool</th>\n",
       "      <th>prop_location_score1</th>\n",
       "      <th>prop_location_score2</th>\n",
       "      <th>rank</th>\n",
       "      <th>prop_ids</th>\n",
       "    </tr>\n",
       "  </thead>\n",
       "  <tbody>\n",
       "    <tr>\n",
       "      <th>0</th>\n",
       "      <td>0</td>\n",
       "      <td>3180</td>\n",
       "      <td>1</td>\n",
       "      <td>39.666667</td>\n",
       "      <td>0</td>\n",
       "      <td>0</td>\n",
       "      <td>0</td>\n",
       "      <td>0</td>\n",
       "      <td>1</td>\n",
       "      <td>0</td>\n",
       "      <td>2.94</td>\n",
       "      <td>0.0691</td>\n",
       "      <td>0.612655</td>\n",
       "      <td>99484</td>\n",
       "    </tr>\n",
       "    <tr>\n",
       "      <th>1</th>\n",
       "      <td>1</td>\n",
       "      <td>5543</td>\n",
       "      <td>1</td>\n",
       "      <td>39.333333</td>\n",
       "      <td>0</td>\n",
       "      <td>0</td>\n",
       "      <td>0</td>\n",
       "      <td>0</td>\n",
       "      <td>1</td>\n",
       "      <td>0</td>\n",
       "      <td>2.64</td>\n",
       "      <td>0.0843</td>\n",
       "      <td>0.424152</td>\n",
       "      <td>54937</td>\n",
       "    </tr>\n",
       "    <tr>\n",
       "      <th>2</th>\n",
       "      <td>2</td>\n",
       "      <td>14142</td>\n",
       "      <td>1</td>\n",
       "      <td>24.500000</td>\n",
       "      <td>1</td>\n",
       "      <td>0</td>\n",
       "      <td>0</td>\n",
       "      <td>0</td>\n",
       "      <td>1</td>\n",
       "      <td>0</td>\n",
       "      <td>2.71</td>\n",
       "      <td>0.0556</td>\n",
       "      <td>0.535589</td>\n",
       "      <td>61934</td>\n",
       "    </tr>\n",
       "    <tr>\n",
       "      <th>3</th>\n",
       "      <td>3</td>\n",
       "      <td>22393</td>\n",
       "      <td>1</td>\n",
       "      <td>47.666667</td>\n",
       "      <td>0</td>\n",
       "      <td>0</td>\n",
       "      <td>0</td>\n",
       "      <td>0</td>\n",
       "      <td>1</td>\n",
       "      <td>0</td>\n",
       "      <td>2.40</td>\n",
       "      <td>0.0561</td>\n",
       "      <td>0.439443</td>\n",
       "      <td>50162</td>\n",
       "    </tr>\n",
       "    <tr>\n",
       "      <th>4</th>\n",
       "      <td>4</td>\n",
       "      <td>24194</td>\n",
       "      <td>1</td>\n",
       "      <td>26.333333</td>\n",
       "      <td>0</td>\n",
       "      <td>0</td>\n",
       "      <td>0</td>\n",
       "      <td>0</td>\n",
       "      <td>1</td>\n",
       "      <td>0</td>\n",
       "      <td>2.94</td>\n",
       "      <td>0.2090</td>\n",
       "      <td>0.120507</td>\n",
       "      <td>28181</td>\n",
       "    </tr>\n",
       "  </tbody>\n",
       "</table>\n",
       "</div>"
      ],
      "text/plain": [
       "   index  prop_id  srch_id  price_quality  competitor_lower  \\\n",
       "0      0     3180        1      39.666667                 0   \n",
       "1      1     5543        1      39.333333                 0   \n",
       "2      2    14142        1      24.500000                 1   \n",
       "3      3    22393        1      47.666667                 0   \n",
       "4      4    24194        1      26.333333                 0   \n",
       "\n",
       "   competitor_available  visited_before  promotion_flag  prop_brand_bool  \\\n",
       "0                     0               0               0                1   \n",
       "1                     0               0               0                1   \n",
       "2                     0               0               0                1   \n",
       "3                     0               0               0                1   \n",
       "4                     0               0               0                1   \n",
       "\n",
       "   random_bool  prop_location_score1  prop_location_score2      rank  prop_ids  \n",
       "0            0                  2.94                0.0691  0.612655     99484  \n",
       "1            0                  2.64                0.0843  0.424152     54937  \n",
       "2            0                  2.71                0.0556  0.535589     61934  \n",
       "3            0                  2.40                0.0561  0.439443     50162  \n",
       "4            0                  2.94                0.2090  0.120507     28181  "
      ]
     },
     "execution_count": 55,
     "metadata": {},
     "output_type": "execute_result"
    }
   ],
   "source": [
    "final_df[\"prop_ids\"] = predictions_sorted\n",
    "final_df.head()"
   ]
  },
  {
   "cell_type": "code",
   "execution_count": 56,
   "metadata": {},
   "outputs": [
    {
     "data": {
      "text/html": [
       "<div>\n",
       "<style scoped>\n",
       "    .dataframe tbody tr th:only-of-type {\n",
       "        vertical-align: middle;\n",
       "    }\n",
       "\n",
       "    .dataframe tbody tr th {\n",
       "        vertical-align: top;\n",
       "    }\n",
       "\n",
       "    .dataframe thead th {\n",
       "        text-align: right;\n",
       "    }\n",
       "</style>\n",
       "<table border=\"1\" class=\"dataframe\">\n",
       "  <thead>\n",
       "    <tr style=\"text-align: right;\">\n",
       "      <th></th>\n",
       "      <th>srch_id</th>\n",
       "      <th>prop_id</th>\n",
       "    </tr>\n",
       "  </thead>\n",
       "  <tbody>\n",
       "    <tr>\n",
       "      <th>0</th>\n",
       "      <td>1</td>\n",
       "      <td>3180</td>\n",
       "    </tr>\n",
       "    <tr>\n",
       "      <th>1</th>\n",
       "      <td>1</td>\n",
       "      <td>5543</td>\n",
       "    </tr>\n",
       "    <tr>\n",
       "      <th>2</th>\n",
       "      <td>1</td>\n",
       "      <td>14142</td>\n",
       "    </tr>\n",
       "    <tr>\n",
       "      <th>3</th>\n",
       "      <td>1</td>\n",
       "      <td>22393</td>\n",
       "    </tr>\n",
       "    <tr>\n",
       "      <th>4</th>\n",
       "      <td>1</td>\n",
       "      <td>24194</td>\n",
       "    </tr>\n",
       "  </tbody>\n",
       "</table>\n",
       "</div>"
      ],
      "text/plain": [
       "   srch_id  prop_id\n",
       "0        1     3180\n",
       "1        1     5543\n",
       "2        1    14142\n",
       "3        1    22393\n",
       "4        1    24194"
      ]
     },
     "execution_count": 56,
     "metadata": {},
     "output_type": "execute_result"
    }
   ],
   "source": [
    "submissiondf = final_df[[\"srch_id\", \"prop_id\"]]\n"
   ]
  },
  {
   "cell_type": "code",
   "execution_count": 57,
   "metadata": {},
   "outputs": [],
   "source": [
    "submission_df.to_csv('submission7mei.csv')"
   ]
  },
  {
   "cell_type": "code",
   "execution_count": null,
   "metadata": {},
   "outputs": [],
   "source": []
  }
 ],
 "metadata": {
  "kernelspec": {
   "display_name": "Python 3",
   "language": "python",
   "name": "python3"
  },
  "language_info": {
   "codemirror_mode": {
    "name": "ipython",
    "version": 3
   },
   "file_extension": ".py",
   "mimetype": "text/x-python",
   "name": "python",
   "nbconvert_exporter": "python",
   "pygments_lexer": "ipython3",
   "version": "3.7.1"
  }
 },
 "nbformat": 4,
 "nbformat_minor": 2
}
