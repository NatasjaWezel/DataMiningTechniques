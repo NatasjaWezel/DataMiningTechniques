{
 "cells": [
  {
   "cell_type": "code",
   "execution_count": null,
   "metadata": {},
   "outputs": [],
   "source": [
    "import pandas as pd\n",
    "import matplotlib.pyplot as plt\n",
    "\n",
    "import os\n",
    "import math\n",
    "import random\n",
    "import numpy as np    "
   ]
  },
  {
   "cell_type": "code",
   "execution_count": null,
   "metadata": {},
   "outputs": [],
   "source": [
    "# run if you want to use the whole train/test dataset\n",
    "df = pd.read_csv(\"data/training_set_VU_DM.csv\")\n",
    "display(df.describe())"
   ]
  },
  {
   "cell_type": "markdown",
   "metadata": {},
   "source": [
    "### Exploratory Data Analysis"
   ]
  },
  {
   "cell_type": "code",
   "execution_count": null,
   "metadata": {},
   "outputs": [],
   "source": [
    "count_non_nan = df.count()"
   ]
  },
  {
   "cell_type": "code",
   "execution_count": null,
   "metadata": {
    "scrolled": false
   },
   "outputs": [],
   "source": [
    "display(count_non_nan)\n",
    "\n",
    "plt.figure(figsize=(15,8))\n",
    "plt.title(\"Amount of non NaN values, train set\")\n",
    "count_non_nan.plot.bar(width=0.5)"
   ]
  },
  {
   "cell_type": "code",
   "execution_count": null,
   "metadata": {},
   "outputs": [],
   "source": [
    "print(df[\"srch_id\"].count())\n",
    "print(df[\"srch_id\"].nunique()\n",
    "print(df[\"date_time\"].count())\n",
    "print(df[\"date_time\"].nunique())"
   ]
  },
  {
   "cell_type": "markdown",
   "metadata": {},
   "source": [
    "### This means that we have almost 5 million rows, but these retain from 199.795 unique searches. This means that per search about 25 hotels are shown.\n",
    "##### Indeed there are 199.795 unique searches, but be aware the srch_id column has gaps! For example the first id's are: 1,4,6,8,11\n",
    "##### Range of number of hotels shown in a search is [5,38] consecutive (no missing number in this range)"
   ]
  },
  {
   "cell_type": "code",
   "execution_count": null,
   "metadata": {},
   "outputs": [],
   "source": [
    "print(df[\"prop_id\"].count())\n",
    "print(df[\"prop_id\"].nunique())"
   ]
  },
  {
   "cell_type": "code",
   "execution_count": null,
   "metadata": {},
   "outputs": [],
   "source": [
    "count_unique = df.nunique()"
   ]
  },
  {
   "cell_type": "code",
   "execution_count": null,
   "metadata": {},
   "outputs": [],
   "source": [
    "print(count_unique)"
   ]
  },
  {
   "cell_type": "code",
   "execution_count": null,
   "metadata": {},
   "outputs": [],
   "source": [
    "plt.figure(figsize=(15,8))\n",
    "count_unique.plot.bar(width=0.5)"
   ]
  },
  {
   "cell_type": "code",
   "execution_count": null,
   "metadata": {},
   "outputs": [],
   "source": [
    "less_unique = count_unique.drop(labels=[\"srch_id\", \"date_time\", \"prop_id\", \"price_usd\",\n",
    "                                            \"srch_query_affinity_score\", \"orig_destination_distance\",\n",
    "                                            \"gross_bookings_usd\", \"srch_destination_id\", \"visitor_hist_adr_usd\",\n",
    "                                            \"prop_location_score2\", \"comp1_rate_percent_diff\"])\n",
    "plt.figure(figsize=(15,8))\n",
    "less_unique.plot.bar(width=0.5)"
   ]
  },
  {
   "cell_type": "markdown",
   "metadata": {},
   "source": [
    "### In this dataset we count 129.113 unique hotels"
   ]
  },
  {
   "cell_type": "code",
   "execution_count": null,
   "metadata": {},
   "outputs": [],
   "source": []
  },
  {
   "cell_type": "code",
   "execution_count": null,
   "metadata": {},
   "outputs": [],
   "source": [
    "# Lotte Donderdag 23 april\n",
    "# TODO: een kleinere dataset maken, bv van 1000 searches dat is dan ± 25.000 rows aan data\n",
    "\n",
    "# wat pandas commands die handig zijn\n",
    "# df.dtypes\n",
    "# pd.isnull(df).any()\n",
    "# df.query('prop_location_score2 > prop_location_score1')\n",
    "\n",
    "def count_of_column_per_search(df, column):\n",
    "    \"\"\"\n",
    "    Met deze code kun je de count van een bepaalde kolom (zoals 'promotion_flag') per complete search bekijken\n",
    "    \"\"\"\n",
    "    grouped_searches = df.groupby('srch_id')[[column]].count()\n",
    "    grouped_searches.sort_values(column).reset_index()\n",
    "    grouped_searches.columns = ['test']\n",
    "    grouped_searches\n",
    "\n",
    "\n",
    "def number_of_hotels_per_search(df):\n",
    "    \"\"\"\n",
    "    Print hoeveel hotels er per search worden weergegeven, print het minimum, maximum, en de unieke waardes\n",
    "    Handig linkje: https://towardsdatascience.com/data-visualization-exploration-using-pandas-only-beginner-a0a52eb723d5\n",
    "    \"\"\"\n",
    "    \n",
    "    grouped_searches = df.groupby('srch_id')[['prop_id']].count()\n",
    "    grouped_searches.sort_values('prop_id').reset_index()\n",
    "    grouped_searches.columns = ['nr_hotels']\n",
    "    nr_hotels = grouped_searches['nr_hotels'].unique()\n",
    "    print(min(nr_hotels))\n",
    "    print(max(nr_hotels))\n",
    "    print(sorted(nr_hotels))\n",
    "    grouped_searches['nr_hotels'].plot(kind='kde')\n",
    "    \n",
    "count_of_column_per_search(df=df, column='promotion_flag')\n",
    "number_of_hotels_per_search(df=df)"
   ]
  },
  {
   "cell_type": "code",
   "execution_count": null,
   "metadata": {
    "scrolled": false
   },
   "outputs": [],
   "source": [
    "# number_of_hotels_per_search(df)\n",
    "def database_correlations(df):\n",
    "    \"\"\"\n",
    "    Correlations in de database bekijken\n",
    "    https://www.datacamp.com/community/tutorials/exploratory-data-analysis-python#comments\n",
    "    \"\"\"\n",
    "    \n",
    "    kendall, spearman, pearson = None, None, None\n",
    "    # Pearson correlations\n",
    "    pearson = df.corr()\n",
    "    \n",
    "    # print(pearson['srch_id'])\n",
    "    \n",
    "    # Kendall tau correlations\n",
    "#     df.rank()\n",
    "#     kendall = df.corr('kendall')\n",
    "\n",
    "    # Spearman rank correlations\n",
    "#     spearman = df.corr('spearman')\n",
    "\n",
    "    return kendall, spearman, pearson\n",
    "    \n",
    "kendall, spearman, pearson = database_correlations(df)"
   ]
  },
  {
   "cell_type": "code",
   "execution_count": null,
   "metadata": {},
   "outputs": [],
   "source": [
    "def correlation_plot(df_corr, figure_name):\n",
    "    \"\"\"\n",
    "    Plot correlations\n",
    "    Input arguments: the correlation matrix (can be any kind eg pearson/kendall etc), file name for the plot\n",
    "    \"\"\"\n",
    "    f = plt.figure(figsize=(19, 19))\n",
    "    \n",
    "    df = df_corr.copy()\n",
    "    \n",
    "    df[df < 0.25] = 0\n",
    "    \n",
    "    plt.matshow(df, fignum=f.number, cmap='BuGn')\n",
    "    plt.xticks(range(df.shape[1]), df.columns, fontsize=14, rotation=90)\n",
    "    plt.yticks(range(df.shape[1]), df.columns, fontsize=14)\n",
    "    cb = plt.colorbar()\n",
    "    cb.ax.tick_params(labelsize=14)\n",
    "#     plt.title('Correlation Matrix', fontsize=16);\n",
    "    fig_name = 'plots/' + str(figure_name) + '.png'\n",
    "    print(fig_name)\n",
    "    plt.savefig(fig_name)\n",
    "    plt.show()\n",
    "\n",
    "correlation_plot(pearson, 'pearson_corr')\n",
    "# correlation_plot(spearson, 'spearson_corr')\n",
    "# correlation_plot(kendall, 'kendall_corr')"
   ]
  },
  {
   "cell_type": "code",
   "execution_count": null,
   "metadata": {},
   "outputs": [],
   "source": [
    "testdf = pd.read_csv(\"data/test_set_VU_DM.csv\")\n",
    "display(testdf.describe())"
   ]
  },
  {
   "cell_type": "code",
   "execution_count": null,
   "metadata": {},
   "outputs": [],
   "source": [
    "count_unique_test = testdf.nunique()\n",
    "print(count_unique_test)"
   ]
  }
 ],
 "metadata": {
  "kernelspec": {
   "display_name": "Python 3",
   "language": "python",
   "name": "python3"
  },
  "language_info": {
   "codemirror_mode": {
    "name": "ipython",
    "version": 3
   },
   "file_extension": ".py",
   "mimetype": "text/x-python",
   "name": "python",
   "nbconvert_exporter": "python",
   "pygments_lexer": "ipython3",
   "version": "3.7.3"
  }
 },
 "nbformat": 4,
 "nbformat_minor": 2
}
