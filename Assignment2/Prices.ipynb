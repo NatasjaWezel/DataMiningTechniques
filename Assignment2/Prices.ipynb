{
 "cells": [
  {
   "cell_type": "code",
   "execution_count": null,
   "metadata": {},
   "outputs": [],
   "source": [
    "from sklearn.ensemble import RandomForestClassifier\n",
    "from sklearn.ensemble import GradientBoostingClassifier\n",
    "from sklearn.model_selection import train_test_split\n",
    "\n",
    "import pandas as pd\n",
    "import random\n",
    "import csv\n",
    "import os\n",
    "import math\n",
    "import numpy as np\n",
    "\n",
    "from numba import jit\n",
    "import matplotlib.pyplot as plt\n",
    "import seaborn as sns\n",
    "\n",
    "pd.options.mode.chained_assignment = None\n",
    "\n",
    "from sklearn.preprocessing import StandardScaler\n",
    "from sklearn.feature_selection import SelectKBest, f_classif"
   ]
  },
  {
   "cell_type": "markdown",
   "metadata": {},
   "source": [
    "Bevindingen:\n",
    "- er zijn 71 verschillende landen van waaruit mensen zoeken (visitor_location_country_id)\n",
    "\n",
    "Uitzoeken:\n",
    "- taxes & fees verschillend per land\n",
    "- is het per nacht of per verblijf > belangrijkste\n",
    "\n",
    "Plan:\n",
    "- done: dictionary maken met key:value pairs van land:hotels, waar hotels weer een dictionary is met prop_id:[prijzen]\n",
    "- todo: aan de hand van de gross booking value bepalen of de weergegeven prijs per nacht of verblijf zijn\n",
    "- todo: kolom met proportionele prijzen toevoegen aan data\n"
   ]
  },
  {
   "cell_type": "code",
   "execution_count": null,
   "metadata": {},
   "outputs": [],
   "source": [
    "# relative price column\n",
    "df = pd.read_pickle(\"./pickles/df_small_test.pkl\")\n",
    "\n",
    "# prop_id +\n",
    "# visitor_location_country_id -\n",
    "# price_usd - \n",
    "# prop_log_historical_price -\n",
    "# promotion_flag +\n"
   ]
  },
  {
   "cell_type": "code",
   "execution_count": null,
   "metadata": {},
   "outputs": [],
   "source": [
    "prices = {}\n",
    "\n",
    "# voor elk land\n",
    "for country,group in df.groupby('visitor_location_country_id'):\n",
    "\n",
    "    # voeg dit land toe aan de dictionary\n",
    "    prices[country] = {}\n",
    "    \n",
    "    # voor elk hotel in dit land\n",
    "    for propid,data in group.groupby('prop_id'):\n",
    "        \n",
    "        # voeg dit hotel toe aan de dictionary bij dit land\n",
    "        prices[country][propid] = []\n",
    "        \n",
    "        for price in data['price_usd']:\n",
    "            \n",
    "            # voeg deze prijs toe aan dit hotel bij dit land\n",
    "            prices[country][propid].append(price)\n",
    "\n",
    "print(prices)\n",
    "\n",
    "# use gross booking id from the train data to determine whether price is per night or per stay"
   ]
  },
  {
   "cell_type": "code",
   "execution_count": null,
   "metadata": {},
   "outputs": [],
   "source": [
    "# taxes & fees: er zijn 71 verschillende landen\n",
    "print(df['visitor_location_country_id'].unique())\n",
    "print(len(df['visitor_location_country_id'].unique()))"
   ]
  },
  {
   "cell_type": "code",
   "execution_count": null,
   "metadata": {},
   "outputs": [],
   "source": [
    "print(496559/12667)"
   ]
  }
 ],
 "metadata": {
  "kernelspec": {
   "display_name": "Python 3",
   "language": "python",
   "name": "python3"
  },
  "language_info": {
   "codemirror_mode": {
    "name": "ipython",
    "version": 3
   },
   "file_extension": ".py",
   "mimetype": "text/x-python",
   "name": "python",
   "nbconvert_exporter": "python",
   "pygments_lexer": "ipython3",
   "version": "3.7.4"
  }
 },
 "nbformat": 4,
 "nbformat_minor": 2
}
