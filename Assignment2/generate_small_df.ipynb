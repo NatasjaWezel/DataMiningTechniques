{
 "cells": [
  {
   "cell_type": "code",
   "execution_count": 1,
   "metadata": {},
   "outputs": [],
   "source": [
    "import pandas as pd\n",
    "import os\n",
    "import math\n",
    "import numpy as np\n",
    "import random"
   ]
  },
  {
   "cell_type": "code",
   "execution_count": 2,
   "metadata": {},
   "outputs": [],
   "source": [
    "def get_small_df(df, name, percent_to_keep=1):\n",
    "    \"\"\" Get 1 % of the data in a preliminary df and pickle that \"\"\"\n",
    "    \n",
    "    if not os.path.exists(name):\n",
    "        unique_searches = df[\"srch_id\"].nunique()\n",
    "        num_to_keep = math.ceil(percent_to_keep * unique_searches/100)\n",
    "\n",
    "        print(\"Unique searches left in dataframe: \", num_to_keep)\n",
    "\n",
    "        column_values = df[\"srch_id\"].values\n",
    "        unique_searches_values =  pd.unique(column_values) \n",
    "        random_ids = np.array(random.sample(set(unique_searches_values), num_to_keep))\n",
    "\n",
    "        df_small = df[df[\"srch_id\"] == random_ids[0]]\n",
    "\n",
    "        for i, ideetje in enumerate(random_ids[1:]):\n",
    "            df_temp = df[df[\"srch_id\"] == ideetje]\n",
    "\n",
    "            frames = [df_temp, df_small]\n",
    "\n",
    "            df_small = pd.concat(frames)\n",
    "\n",
    "        df_small.to_pickle(name)"
   ]
  },
  {
   "cell_type": "code",
   "execution_count": 3,
   "metadata": {},
   "outputs": [],
   "source": [
    "if not os.path.exists(\"./pickles/\"):\n",
    "    os.mkdir(\"./pickles/\")"
   ]
  },
  {
   "cell_type": "code",
   "execution_count": 4,
   "metadata": {},
   "outputs": [],
   "source": [
    "filename = \"./pickles/df_small_train.pkl\"\n",
    "\n",
    "if not os.path.exists(filename):\n",
    "    # run if you want to use the whole train/test dataset\n",
    "    df = pd.read_csv(\"data/training_set_VU_DM.csv\")\n",
    "    get_small_df(df, filename)"
   ]
  },
  {
   "cell_type": "code",
   "execution_count": 5,
   "metadata": {},
   "outputs": [],
   "source": [
    "filename = \"./pickles/df_small_test.pkl\"\n",
    "\n",
    "if not os.path.exists(filename):\n",
    "    # run if you want to use the whole train/test dataset\n",
    "    testdf = pd.read_csv(\"data/test_set_VU_DM.csv\")\n",
    "    get_small_df(testdf, filename)"
   ]
  }
 ],
 "metadata": {
  "kernelspec": {
   "display_name": "Python 3",
   "language": "python",
   "name": "python3"
  },
  "language_info": {
   "codemirror_mode": {
    "name": "ipython",
    "version": 3
   },
   "file_extension": ".py",
   "mimetype": "text/x-python",
   "name": "python",
   "nbconvert_exporter": "python",
   "pygments_lexer": "ipython3",
   "version": "3.7.1"
  }
 },
 "nbformat": 4,
 "nbformat_minor": 2
}
