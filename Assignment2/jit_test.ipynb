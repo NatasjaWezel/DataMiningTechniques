{
 "cells": [
  {
   "cell_type": "code",
   "execution_count": null,
   "metadata": {},
   "outputs": [],
   "source": [
    "import pandas as pd\n",
    "\n",
    "import numpy as np\n",
    "from tqdm import tqdm\n",
    "\n",
    "from numba import jit\n",
    "\n",
    "import matplotlib.pyplot as plt\n",
    "#import seaborn as sns\n",
    "\n",
    "import matplotlib.pyplot as plt"
   ]
  },
  {
   "cell_type": "code",
   "execution_count": null,
   "metadata": {},
   "outputs": [],
   "source": [
    "# read in the dataframe you want to clean, can be a csv, hdf\n",
    "#traindf = pd.read_csv(\"./data/training_set_VU_DM.csv\")\n",
    "traindf = pd.read_pickle(\"./pickles/df_small_train.pkl\")"
   ]
  },
  {
   "cell_type": "code",
   "execution_count": null,
   "metadata": {},
   "outputs": [],
   "source": [
    "# histogram of differences in prices between searches with or without saturdaynight\n",
    "with_saturday = traindf.loc[traindf['srch_saturday_night_bool'] == 1]['price_usd'].to_numpy()\n",
    "\n",
    "without_saturday = traindf.loc[traindf['srch_saturday_night_bool'] == 0]['price_usd'].to_numpy()\n",
    "\n"
   ]
  },
  {
   "cell_type": "code",
   "execution_count": null,
   "metadata": {},
   "outputs": [],
   "source": [
    "# traindf[\"price_usd\"][traindf[\"srch_saturday_night_bool\"] == 1 & (traindf['price_usd'] < 1000)].hist(bins=10000)"
   ]
  },
  {
   "cell_type": "code",
   "execution_count": null,
   "metadata": {},
   "outputs": [],
   "source": [
    "plt.hist([with_saturday, without_saturday], alpha=0.5, bins=10000, label=['with saturday', 'without saturday'])\n",
    "plt.show()"
   ]
  },
  {
   "cell_type": "code",
   "execution_count": null,
   "metadata": {},
   "outputs": [],
   "source": [
    "@jit(nopython=True, parallel=True)\n",
    "def calculate_mean_per_propid(unique_propids, \n",
    "                                    col_propids, \n",
    "                                    col_price, \n",
    "                                    col_mean, \n",
    "                                    col_std, \n",
    "                                    col_no_hotels, \n",
    "                                    col_correct_price, \n",
    "                                    col_nights,\n",
    "                                    col_new_mean,\n",
    "                                    col_new_std):\n",
    "    \n",
    "    total = len(unique_propids)\n",
    "\n",
    "    for i, propid in enumerate(unique_propids):\n",
    "        \n",
    "        if i % 1000 == 0:\n",
    "            print(i, \"/\", total)\n",
    "        \n",
    "        indices = np.where(col_propids == propid)[0]\n",
    "\n",
    "        prices = col_price[indices]\n",
    "        mean_price = np.mean(prices)\n",
    "        std_price = np.std(prices)\n",
    "        \n",
    "        col_mean[indices] = mean_price\n",
    "        col_std[indices] = std_price\n",
    "        col_no_hotels[indices] = indices.size\n",
    "        \n",
    "        if std_price > 100:\n",
    "            col_correct_price[indices] = col_price[indices] / col_nights[indices]\n",
    "            prices = col_correct_price[indices]\n",
    "            mean_price = np.mean(prices)\n",
    "            std_price = np.std(prices)\n",
    "            \n",
    "        col_new_mean[indices] = mean_price\n",
    "        col_new_std[indices] = std_price\n",
    "\n",
    "        return col_mean, col_no_hotels"
   ]
  },
  {
   "cell_type": "code",
   "execution_count": null,
   "metadata": {},
   "outputs": [],
   "source": [
    "def compute_numba(df):\n",
    "    # add columns\n",
    "    columnames = list(df.columns)\n",
    "    columnames.extend([\"avg_price_propid\", \"std_avg_price_propid\", \"amount_hotels\", \n",
    "                       \"avg_price_propid_after\", \"std_avg_price_propid_after\"])\n",
    "\n",
    "    df = df.reindex(columns=columnames)\n",
    "\n",
    "    # copy prices (for now, at the end we will just update the price i suppose)\n",
    "    df[\"price_correction\"] = df[\"price_usd\"]\n",
    "\n",
    "    # get unique propids and put them into numpy array\n",
    "    propids = np.array(df[\"prop_id\"].unique())\n",
    "   \n",
    "    means, no_hotels = calculate_mean_per_propid(propids,\n",
    "                                        df['prop_id'].to_numpy(),\n",
    "                                        df['price_usd'].to_numpy(),\n",
    "                                        df['avg_price_propid'].to_numpy(),\n",
    "                                        df['std_avg_price_propid'].to_numpy(),\n",
    "                                        df['amount_hotels'].to_numpy(),\n",
    "                                        df['price_correction'].to_numpy(),\n",
    "                                        df['srch_length_of_stay'].to_numpy(),\n",
    "                                        df['avg_price_propid_after'].to_numpy(),\n",
    "                                        df['std_avg_price_propid_after'].to_numpy())    \n",
    "    return df"
   ]
  },
  {
   "cell_type": "code",
   "execution_count": null,
   "metadata": {
    "scrolled": false
   },
   "outputs": [],
   "source": [
    "print(\"TEST\")\n",
    "df = compute_numba(traindf)\n",
    "display(df[['prop_id', 'amount_hotels', 'avg_price_propid', 'price_usd', 'std_avg_price_propid', 'srch_length_of_stay', 'price_correction', 'avg_price_propid_after', 'std_avg_price_propid_after']][df['prop_id'] == 37304])\n",
    "display(df[['prop_id', 'amount_hotels', 'avg_price_propid', 'price_usd', 'std_avg_price_propid', 'srch_length_of_stay', 'price_correction', 'avg_price_propid_after', 'std_avg_price_propid_after']])\n",
    "print(len(df['amount_hotels'].notna()))"
   ]
  },
  {
   "cell_type": "code",
   "execution_count": null,
   "metadata": {},
   "outputs": [],
   "source": [
    "arr = np.array([11, 12, 13, 14, 15, 16, 17, 15, 11, 12, 14, 15, 16, 17])\n",
    "indices = np.where(arr==15)\n",
    "print(indices)\n",
    "print(indices[0].size)"
   ]
  },
  {
   "cell_type": "code",
   "execution_count": null,
   "metadata": {},
   "outputs": [],
   "source": [
    "print(\"Std before: \", df['std_avg_price_propid'].mean())\n",
    "print(\"Std after: \", df['std_avg_price_propid_after'].mean())\n",
    "df['std_avg_price_propid'][df['std_avg_price_propid'] < 2000].hist(bins=100)\n",
    "\n",
    "plt.figure()\n",
    "df['std_avg_price_propid_after'][df['std_avg_price_propid'] < 2000].hist(bins=100)"
   ]
  },
  {
   "cell_type": "code",
   "execution_count": null,
   "metadata": {},
   "outputs": [],
   "source": [
    "display(df[['prop_id','std_avg_price_propid', 'std_avg_price_propid_after']][df['std_avg_price_propid_after'] > 10000])\n",
    "display(df[df['prop_id'] == 13878])\n",
    "\n",
    "display(df[['prop_id', 'amount_hotels', 'avg_price_propid', 'price_usd', 'std_avg_price_propid', 'srch_length_of_stay', 'price_correction', 'avg_price_propid_after', 'std_avg_price_propid_after']][df['prop_id'] == 13878])"
   ]
  },
  {
   "cell_type": "code",
   "execution_count": null,
   "metadata": {},
   "outputs": [],
   "source": [
    "df.to_hdf(\"corrected_price.hdf\", key='df')"
   ]
  },
  {
   "cell_type": "code",
   "execution_count": null,
   "metadata": {},
   "outputs": [],
   "source": []
  }
 ],
 "metadata": {
  "kernelspec": {
   "display_name": "Python 3",
   "language": "python",
   "name": "python3"
  },
  "language_info": {
   "codemirror_mode": {
    "name": "ipython",
    "version": 3
   },
   "file_extension": ".py",
   "mimetype": "text/x-python",
   "name": "python",
   "nbconvert_exporter": "python",
   "pygments_lexer": "ipython3",
   "version": "3.7.4"
  }
 },
 "nbformat": 4,
 "nbformat_minor": 2
}
