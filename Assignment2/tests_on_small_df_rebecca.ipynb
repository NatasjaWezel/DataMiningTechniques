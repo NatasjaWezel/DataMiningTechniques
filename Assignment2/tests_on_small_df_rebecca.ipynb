{
 "cells": [
  {
   "cell_type": "code",
   "execution_count": 1,
   "metadata": {},
   "outputs": [],
   "source": [
    "from sklearn.ensemble import RandomForestRegressor\n",
    "from sklearn.model_selection import train_test_split\n",
    "from sklearn.metrics import r2_score\n",
    "\n",
    "import pandas as pd\n",
    "import random\n",
    "import csv\n",
    "import os\n",
    "import math\n",
    "import numpy as np\n",
    "from tqdm import tqdm"
   ]
  },
  {
   "cell_type": "code",
   "execution_count": 2,
   "metadata": {},
   "outputs": [],
   "source": [
    "traindf = pd.read_pickle(\"./pickles/df_small_train.pkl\")\n",
    "testdf = pd.read_pickle(\"./pickles/df_small_test.pkl\")\n",
    "\n",
    "# run if you want to use the whole train/test dataset\n",
    "# traindf = pd.read_csv(\"data/training_set_VU_DM.csv\")"
   ]
  },
  {
   "cell_type": "code",
   "execution_count": 3,
   "metadata": {},
   "outputs": [],
   "source": [
    "def price_quality_solution(df, csv_name):\n",
    "    \n",
    "    csv_name = \"./results/\" + csv_name\n",
    "    \n",
    "    # get list of hotels per search id\n",
    "    results_per_search = df.groupby('srch_id').size()\n",
    "    \n",
    "    column_values = df[\"srch_id\"].values\n",
    "    ids =  pd.unique(column_values) \n",
    "    \n",
    "    if not os.path.exists(\"./results\"):\n",
    "        os.mkdir(\"./results\")\n",
    "        \n",
    "    with open(csv_name, 'w', newline='') as file:\n",
    "        writer = csv.writer(file)\n",
    "        writer.writerow([\"srch_id\", \"prop_id\"])\n",
    "\n",
    "    total_ids = len(ids)    \n",
    "        \n",
    "    for i in tqdm(range(len(ids))):\n",
    "        ideetje = ids[i]\n",
    "        \n",
    "        # get all rows that belong with this search\n",
    "        df_temp = df[df[\"srch_id\"] == ideetje]\n",
    "        \n",
    "        # get list of property ids\n",
    "        prop_ids = df_temp[\"prop_id\"].values\n",
    "        \n",
    "        # rank the property ids based on price/quality\n",
    "        prop_ids_sorted = [x for _, x in sorted(zip(df_temp[\"pricequality\"], prop_ids))]\n",
    "                \n",
    "        # write csv\n",
    "        with open(csv_name, 'a', newline='') as file:\n",
    "            writer = csv.writer(file)\n",
    "            \n",
    "            for prop_id in prop_ids_sorted:\n",
    "                writer.writerow([ideetje, prop_id])"
   ]
  },
  {
   "cell_type": "code",
   "execution_count": 4,
   "metadata": {
    "scrolled": false
   },
   "outputs": [],
   "source": [
    "\n",
    "def random_solution(df, csv_name):\n",
    "    \n",
    "    csv_name = \"./results/\" + csv_name\n",
    "    \n",
    "    # get list of hotels per search id\n",
    "    results_per_search = df.groupby('srch_id').size()\n",
    "    \n",
    "    column_values = df[\"srch_id\"].values\n",
    "    ids =  pd.unique(column_values) \n",
    "    \n",
    "    if not os.path.exists(\"./results\"):\n",
    "        os.mkdir(\"./results\")\n",
    "        \n",
    "    with open(csv_name, 'w', newline='') as file:\n",
    "        writer = csv.writer(file)\n",
    "        writer.writerow([\"srch_id\", \"prop_id\"])\n",
    "\n",
    "    for i, ideetje in enumerate(ids):\n",
    "        df_temp = df[df[\"srch_id\"] == ideetje]\n",
    "        prop_ids = df_temp[\"prop_id\"].values\n",
    "        \n",
    "        # shuffle hotels\n",
    "        random.shuffle(prop_ids)\n",
    "    \n",
    "        # write csv\n",
    "        with open(csv_name, 'a', newline='') as file:\n",
    "            writer = csv.writer(file)\n",
    "            \n",
    "            for prop_id in prop_ids:\n",
    "                writer.writerow([ideetje, prop_id])"
   ]
  },
  {
   "cell_type": "code",
   "execution_count": 5,
   "metadata": {},
   "outputs": [],
   "source": [
    "def price_quality(df):\n",
    "\n",
    "    df['pricequality'] = df['price_usd'] / df['prop_starrating']\n",
    "    \n",
    "    return df"
   ]
  },
  {
   "cell_type": "code",
   "execution_count": 6,
   "metadata": {},
   "outputs": [],
   "source": [
    "def competitors(df):\n",
    "    \"\"\"\n",
    "    Make a new column in the dataframe (competitor_bool) for when there \n",
    "    exists a competitor, 1 is True, 0 is False.\n",
    "    \"\"\"\n",
    "    competitor_bools = []\n",
    "    compare_cols = [\"comp1_rate\", \"comp2_rate\", \"comp3_rate\", \"comp4_rate\", \"comp5_rate\",\n",
    "                \"comp6_rate\", \"comp7_rate\", \"comp8_rate\"]\n",
    "\n",
    "    for index, row in df.iterrows():\n",
    "        comp_bool = 0\n",
    "\n",
    "        # compare_cols_total exists of a column of data from comp_rate and \n",
    "        # comp_inv. So, a combination of competitor price and room-availability. \n",
    "        for competitor in compare_cols:\n",
    "            if row[competitor] == 1:\n",
    "                comp_bool = 1\n",
    "        competitor_bools.append(comp_bool)\n",
    "    \n",
    "    # Append list of bools to new column\n",
    "    df[\"competitor_bool\"] = competitor_bools\n",
    "    \n",
    "    return df"
   ]
  },
  {
   "cell_type": "code",
   "execution_count": 7,
   "metadata": {},
   "outputs": [],
   "source": [
    "def visitor_history(df):\n",
    "    \"\"\"\n",
    "    Add column that tells us whether someone has visited a hotel before.\n",
    "    Column name = total_visited; 1 is True, 0 is False.\n",
    "    \"\"\"\n",
    "    \n",
    "    # Get none-missing values\n",
    "    hist_starrating = df.visitor_hist_starrating.isna()\n",
    "    hist_adr = df.visitor_hist_adr_usd.isna()\n",
    "\n",
    "    # Dit kan waarschijnlijk veel mooier en sneller maar het werkt...\n",
    "    total_visited = []\n",
    "    for index, row in df.iterrows():\n",
    "        if hist_starrating[index] or hist_adr[index]:\n",
    "            visited = 0\n",
    "        else:\n",
    "            visited = 1\n",
    "        total_visited.append(visited)\n",
    "\n",
    "    df[\"total_visited\"] = total_visited\n",
    "    \n",
    "    return df"
   ]
  },
  {
   "cell_type": "code",
   "execution_count": 8,
   "metadata": {},
   "outputs": [],
   "source": [
    "from tqdm import tqdm\n",
    "\n",
    "def price_quality_solution(df, csv_name):\n",
    "    \n",
    "    csv_name = \"./results/\" + csv_name\n",
    "    \n",
    "    # get list of hotels per search id\n",
    "    results_per_search = df.groupby('srch_id').size()\n",
    "    \n",
    "    column_values = df[\"srch_id\"].values\n",
    "    ids =  pd.unique(column_values) \n",
    "    \n",
    "    if not os.path.exists(\"./results\"):\n",
    "        os.mkdir(\"./results\")\n",
    "        \n",
    "    with open(csv_name, 'w', newline='') as file:\n",
    "        writer = csv.writer(file)\n",
    "        writer.writerow([\"srch_id\", \"prop_id\"])\n",
    "\n",
    "    total_ids = len(ids)    \n",
    "        \n",
    "    for i in tqdm(range(len(ids))):\n",
    "        ideetje = ids[i]\n",
    "        \n",
    "        # get all rows that belong with this search\n",
    "        df_temp = df[df[\"srch_id\"] == ideetje]\n",
    "        \n",
    "        # get list of property ids\n",
    "        prop_ids = df_temp[\"prop_id\"].values\n",
    "        \n",
    "        # rank the property ids based on price/quality\n",
    "        prop_ids_sorted = [x for _, x in sorted(zip(df_temp[\"pricequality\"], prop_ids))]\n",
    "                \n",
    "        # write csv\n",
    "        with open(csv_name, 'a', newline='') as file:\n",
    "            writer = csv.writer(file)\n",
    "            \n",
    "            for prop_id in prop_ids_sorted:\n",
    "                writer.writerow([ideetje, prop_id])"
   ]
  },
  {
   "cell_type": "code",
   "execution_count": 9,
   "metadata": {},
   "outputs": [],
   "source": [
    "traindf = price_quality(traindf)\n",
    "traindf = competitors(traindf)\n",
    "traindf = visitor_history(traindf)n"
   ]
  },
  {
   "cell_type": "code",
   "execution_count": 10,
   "metadata": {},
   "outputs": [],
   "source": [
    "def change_time(df):\n",
    "    \n",
    "    if 'date_time' in df.columns:\n",
    "        # Change time information to year and month columns\n",
    "        df[\"date_time\"] = pd.to_datetime(df[\"date_time\"])\n",
    "        df[\"year\"] = df[\"date_time\"].dt.year\n",
    "        df[\"month\"] = df[\"date_time\"].dt.month\n",
    "\n",
    "        #Delete column date-time\n",
    "        df = df.drop('date_time', 1)\n",
    "        \n",
    "    return df"
   ]
  },
  {
   "cell_type": "code",
   "execution_count": 11,
   "metadata": {},
   "outputs": [],
   "source": [
    "# Without price_quality because of floating error (TODO)\n",
    "df = traindf[[\"prop_id\", \"srch_id\", \"position\", \"competitor_bool\", \"total_visited\", \"click_bool\", \"booking_bool\"]]\n"
   ]
  },
  {
   "cell_type": "code",
   "execution_count": 12,
   "metadata": {},
   "outputs": [
    {
     "name": "stderr",
     "output_type": "stream",
     "text": [
      "/Library/Frameworks/Python.framework/Versions/3.7/lib/python3.7/site-packages/ipykernel_launcher.py:1: SettingWithCopyWarning: \n",
      "A value is trying to be set on a copy of a slice from a DataFrame.\n",
      "Try using .loc[row_indexer,col_indexer] = value instead\n",
      "\n",
      "See the caveats in the documentation: https://pandas.pydata.org/pandas-docs/stable/user_guide/indexing.html#returning-a-view-versus-a-copy\n",
      "  \"\"\"Entry point for launching an IPython kernel.\n"
     ]
    }
   ],
   "source": [
    "df['price'] = traindf['price_usd'].fillna((traindf['price_usd'].median()))\n",
    "# df['pricequality'] = df['pricequality'].fillna(0)\n",
    "# df['pricequality'] = df['pricequality'].astype(int)\n",
    "# df['pricequality'] = df['pricequality'].fillna(0).astype(np.int64)"
   ]
  },
  {
   "cell_type": "code",
   "execution_count": 13,
   "metadata": {},
   "outputs": [
    {
     "name": "stderr",
     "output_type": "stream",
     "text": [
      "/Library/Frameworks/Python.framework/Versions/3.7/lib/python3.7/site-packages/ipykernel_launcher.py:11: SettingWithCopyWarning: \n",
      "A value is trying to be set on a copy of a slice from a DataFrame.\n",
      "Try using .loc[row_indexer,col_indexer] = value instead\n",
      "\n",
      "See the caveats in the documentation: https://pandas.pydata.org/pandas-docs/stable/user_guide/indexing.html#returning-a-view-versus-a-copy\n",
      "  # This is added back by InteractiveShellApp.init_path()\n"
     ]
    }
   ],
   "source": [
    "def add_score(df):\n",
    "    \"\"\"\n",
    "    Add a score \n",
    "    \"\"\"\n",
    "    if df[\"booking_bool\"] == 1 or df[\"click_bool\"] == 1:\n",
    "        score = 1\n",
    "    else:\n",
    "        score = 0\n",
    "    return score\n",
    "\n",
    "df['score'] = df.apply(add_score , axis=1)"
   ]
  },
  {
   "cell_type": "code",
   "execution_count": 14,
   "metadata": {},
   "outputs": [],
   "source": [
    "y = df[\"prop_id\"]\n",
    "X = df.copy()"
   ]
  },
  {
   "cell_type": "code",
   "execution_count": 15,
   "metadata": {},
   "outputs": [],
   "source": [
    "X_train, X_test, y_train, y_test = train_test_split(X, y, test_size=0.2, random_state=1)"
   ]
  },
  {
   "cell_type": "code",
   "execution_count": 16,
   "metadata": {
    "scrolled": false
   },
   "outputs": [
    {
     "name": "stderr",
     "output_type": "stream",
     "text": [
      "/Library/Frameworks/Python.framework/Versions/3.7/lib/python3.7/site-packages/sklearn/ensemble/forest.py:245: FutureWarning: The default value of n_estimators will change from 10 in version 0.20 to 100 in 0.22.\n",
      "  \"10 in version 0.20 to 100 in 0.22.\", FutureWarning)\n"
     ]
    },
    {
     "name": "stdout",
     "output_type": "stream",
     "text": [
      "0.9999999999953617\n"
     ]
    }
   ],
   "source": [
    "regr = RandomForestRegressor(n_jobs=1)\n",
    "rfr = regr.fit(X_train, y_train)\n",
    "prediction = rfr.predict(X_test)\n",
    "print(r2_score(prediction, y_test))"
   ]
  },
  {
   "cell_type": "code",
   "execution_count": 17,
   "metadata": {},
   "outputs": [],
   "source": [
    "prediction = pd.DataFrame(data=prediction, columns=[\"prop_id\"])\n",
    "searchid = pd.DataFrame(data=traindf[\"srch_id\"], columns=[\"srch_id\"])\n",
    "X = X.reset_index()"
   ]
  },
  {
   "cell_type": "code",
   "execution_count": 18,
   "metadata": {},
   "outputs": [],
   "source": [
    "# write csv\n",
    "with open(\"random_forest.csv\", 'a', newline='') as file:\n",
    "    writer = csv.writer(file)\n",
    "\n",
    "    for index in range(0,len(prediction)):\n",
    "        writer.writerow([X.loc[index ,\"srch_id\"], int(prediction.loc[index ,\"prop_id\"])])"
   ]
  },
  {
   "cell_type": "code",
   "execution_count": null,
   "metadata": {},
   "outputs": [],
   "source": []
  }
 ],
 "metadata": {
  "kernelspec": {
   "display_name": "Python 3",
   "language": "python",
   "name": "python3"
  },
  "language_info": {
   "codemirror_mode": {
    "name": "ipython",
    "version": 3
   },
   "file_extension": ".py",
   "mimetype": "text/x-python",
   "name": "python",
   "nbconvert_exporter": "python",
   "pygments_lexer": "ipython3",
   "version": "3.7.1"
  }
 },
 "nbformat": 4,
 "nbformat_minor": 2
}
