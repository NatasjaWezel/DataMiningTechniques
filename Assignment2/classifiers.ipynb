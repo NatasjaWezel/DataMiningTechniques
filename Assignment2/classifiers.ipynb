{
 "cells": [
  {
   "cell_type": "code",
   "execution_count": null,
   "metadata": {},
   "outputs": [],
   "source": [
    "from sklearn.ensemble import RandomForestClassifier\n",
    "from sklearn.ensemble import GradientBoostingClassifier\n",
    "from sklearn.model_selection import train_test_split\n",
    "\n",
    "import pandas as pd\n",
    "import random\n",
    "import csv\n",
    "import os\n",
    "import math\n",
    "import numpy as np\n",
    "from tqdm import tqdm\n",
    "from numba import jit\n",
    "import matplotlib.pyplot as plt\n",
    "import seaborn as sns\n",
    "\n",
    "pd.options.mode.chained_assignment = None"
   ]
  },
  {
   "cell_type": "markdown",
   "metadata": {},
   "source": [
    "## Run model on clean dataset"
   ]
  },
  {
   "cell_type": "code",
   "execution_count": null,
   "metadata": {},
   "outputs": [],
   "source": [
    "df = pd.read_pickle(\"./pickles/df_small_clean.pkl\")\n",
    "df.describe()"
   ]
  },
  {
   "cell_type": "code",
   "execution_count": null,
   "metadata": {},
   "outputs": [],
   "source": [
    "# y = df[\"position\"]\n",
    "# # X = df.drop(\"position\", axis=1).copy()\n",
    "# X = df.copy()\n",
    "\n",
    "y = df[\"importance\"]\n",
    "X = df.drop([\"importance\",\"click_bool\",\"booking_bool\"], axis=1).copy()\n",
    "\n",
    "X_train, X_test, y_train, y_test = train_test_split(X, y, test_size=0.2, random_state=1)\n"
   ]
  },
  {
   "cell_type": "code",
   "execution_count": null,
   "metadata": {},
   "outputs": [],
   "source": [
    "rfc = RandomForestClassifier(n_jobs=1)\n",
    "model = rfc.fit(X_train, y_train)\n",
    "predictions = model.predict(X_test)"
   ]
  },
  {
   "cell_type": "code",
   "execution_count": null,
   "metadata": {},
   "outputs": [],
   "source": [
    "# make a solution\n",
    "X_test['predicted_importance'] = predictions\n",
    "print(X_test['predicted_importance'].unique())\n",
    "# X_test.head(25)\n",
    "\n",
    "X_test.groupby('srch_id').apply(lambda x: x.sort_values([\"predicted_importance\"], ascending = False)).reset_index(drop=True)\n",
    "# X_test.head(25)\n"
   ]
  },
  {
   "cell_type": "code",
   "execution_count": null,
   "metadata": {},
   "outputs": [],
   "source": [
    "print(np.arange(1,10+1))"
   ]
  },
  {
   "cell_type": "code",
   "execution_count": null,
   "metadata": {},
   "outputs": [],
   "source": [
    "# oke predicted_importance kolom is nu gesorteerd, dus nu predicted_rank toevoegen\n",
    "for srchid, group in X_test.groupby('srch_id'):\n",
    "    length = len(group['predicted_importance'])\n",
    "    group['predicted_rank'] = np.arange(1,length+1)\n",
    "\n",
    "# nu de positions, click_bool en book_bool weer terughalen\n",
    "X_test['position'] = pos\n",
    "X_test['click_bool'] = click\n",
    "X_test['book_bool'] = book\n",
    "\n",
    "# en picklen\n",
    "X_test.to_pickle(\"./pickles/random_forest_small_solution.pkl\")"
   ]
  },
  {
   "cell_type": "code",
   "execution_count": null,
   "metadata": {},
   "outputs": [],
   "source": []
  },
  {
   "cell_type": "code",
   "execution_count": null,
   "metadata": {},
   "outputs": [],
   "source": [
    "pred_groups = X_test.groupby('srch_id').agg({'predicted_values':lambda x: list(x)})\n",
    "print(pred_groups)"
   ]
  },
  {
   "cell_type": "code",
   "execution_count": null,
   "metadata": {},
   "outputs": [],
   "source": [
    "X_test['predicted_rank'] = predictions\n",
    "X_test['position'] = y\n",
    "X_test.to_pickle(\"./pickles/random_forest_small_solution.pkl\")"
   ]
  },
  {
   "cell_type": "code",
   "execution_count": null,
   "metadata": {},
   "outputs": [],
   "source": [
    "# convert to numpy array\n",
    "y = df['prop_id'].to_numpy()\n",
    "X = df.drop(\"prop_id\", axis=1).copy().to_numpy()"
   ]
  },
  {
   "cell_type": "code",
   "execution_count": null,
   "metadata": {},
   "outputs": [],
   "source": [
    "@jit\n",
    "def rand_for(X_train, y_train, X_test):\n",
    "    rfc = RandomForestClassifier(n_jobs=1)\n",
    "    model = rfc.fit(X_train, y_train)\n",
    "    predictions = model.predict(X_test)\n",
    "    \n",
    "    return predictions\n",
    "\n",
    "    \n",
    "df = pd.read_pickle(\"./pickles/df_small_clean.pkl\")\n",
    "y = df[\"position\"]\n",
    "# X = df.drop(\"position\", axis=1).copy()\n",
    "X = df.copy()\n",
    "\n",
    "X_train, X_test, y_train, y_test = train_test_split(X, y, test_size=0.2, random_state=1)\n",
    "\n",
    "X_test.drop(\"position\", axis=1)\n",
    "X_test['position'] = 0\n",
    "\n",
    "numpy_result = rand_for(X_train.to_numpy(), y_train.to_numpy(), X_test.to_numpy())\n",
    "\n",
    "#df = pd.DataFrame(data=numpy_result, index=df['srch_id'], columns=[\"prop_id\", \"srch_id\", \"position\", \"price_quality\", \"competitor_bool\", \"availability_bools\", \"visited_before\", \"click_bool\", \"booking_bool\", \"promotion_flag\", \"prop_brand_bool\", \"random_bool\"])\n",
    "\n",
    "X_test['predicted_rank'] = numpy_result\n",
    "X_test['position'] = y\n",
    "X_test.to_pickle(\"./pickles/random_forest_small_solution.pkl\")"
   ]
  }
 ],
 "metadata": {
  "kernelspec": {
   "display_name": "Python 3",
   "language": "python",
   "name": "python3"
  },
  "language_info": {
   "codemirror_mode": {
    "name": "ipython",
    "version": 3
   },
   "file_extension": ".py",
   "mimetype": "text/x-python",
   "name": "python",
   "nbconvert_exporter": "python",
   "pygments_lexer": "ipython3",
   "version": "3.7.1"
  }
 },
 "nbformat": 4,
 "nbformat_minor": 2
}
