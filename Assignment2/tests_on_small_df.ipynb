{
 "cells": [
  {
   "cell_type": "code",
   "execution_count": 7,
   "metadata": {},
   "outputs": [],
   "source": [
    "import pandas as pd\n",
    "import random\n",
    "import csv\n",
    "import os\n",
    "import math\n",
    "\n",
    "traindf = pd.read_pickle(\"./pickles/df_small_train.pkl\")\n",
    "testdf = pd.read_pickle(\"./pickles/df_small_test.pkl\")"
   ]
  },
  {
   "cell_type": "code",
   "execution_count": 8,
   "metadata": {
    "scrolled": false
   },
   "outputs": [],
   "source": [
    "def random_solution(df, csv_name):\n",
    "    \n",
    "    csv_name = \"./results/\" + csv_name\n",
    "    \n",
    "    # get list of hotels per search id\n",
    "    results_per_search = df.groupby('srch_id').size()\n",
    "    \n",
    "    column_values = df[\"srch_id\"].values\n",
    "    ids =  pd.unique(column_values) \n",
    "    \n",
    "    if not os.path.exists(\"./results\"):\n",
    "        os.mkdir(\"./results\")\n",
    "        \n",
    "    with open(csv_name, 'w', newline='') as file:\n",
    "        writer = csv.writer(file)\n",
    "        writer.writerow([\"srch_id\", \"prop_id\"])\n",
    "\n",
    "    for i, ideetje in enumerate(ids):\n",
    "        df_temp = df[df[\"srch_id\"] == ideetje]\n",
    "        prop_ids = df_temp[\"prop_id\"].values\n",
    "        \n",
    "        # shuffle hotels\n",
    "        random.shuffle(prop_ids)\n",
    "    \n",
    "        # write csv\n",
    "        with open(csv_name, 'a', newline='') as file:\n",
    "            writer = csv.writer(file)\n",
    "            \n",
    "            for prop_id in prop_ids:\n",
    "                writer.writerow([ideetje, prop_id])\n",
    "                \n",
    "random_solution(testdf, 'random_solution_small.csv')"
   ]
  },
  {
   "cell_type": "code",
   "execution_count": 9,
   "metadata": {},
   "outputs": [],
   "source": [
    "def price_quality(df):\n",
    "\n",
    "    df['pricequality'] = df['price_usd'] / df['prop_starrating']\n",
    "    df[df['pricequality'] == math.inf] = 0\n",
    "    \n",
    "    return df\n",
    "\n",
    "def price_quality_solution(test_df):\n",
    "    \n",
    "    csv_name = \"./results/\" + csv_name\n",
    "    \n",
    "    # get list of hotels per search id\n",
    "    results_per_search = df.groupby('srch_id').size()\n",
    "    \n",
    "    column_values = df[\"srch_id\"].values\n",
    "    ids =  pd.unique(column_values) \n",
    "    \n",
    "    if not os.path.exists(\"./results\"):\n",
    "        os.mkdir(\"./results\")\n",
    "        \n",
    "    with open(csv_name, 'w', newline='') as file:\n",
    "        writer = csv.writer(file)\n",
    "        writer.writerow([\"srch_id\", \"prop_id\"])\n",
    "\n",
    "    for i, ideetje in enumerate(ids):\n",
    "        # get all rows that belong with this search\n",
    "        df_temp = df[df[\"srch_id\"] == ideetje]\n",
    "        \n",
    "        # get list of property ids\n",
    "        prop_ids = df_temp[\"prop_id\"].values\n",
    "        \n",
    "        # rank them based on price/quality\n",
    "        # think about what you'll do when it's 0\n",
    "    \n",
    "        # write csv\n",
    "        with open(csv_name, 'a', newline='') as file:\n",
    "            writer = csv.writer(file)\n",
    "            \n",
    "            for prop_id in prop_ids:\n",
    "                writer.writerow([ideetje, prop_id])\n",
    "    \n",
    "    \n",
    "    \n",
    "    "
   ]
  },
  {
   "cell_type": "code",
   "execution_count": 10,
   "metadata": {},
   "outputs": [],
   "source": [
    "testdf = price_quality(testdf)\n"
   ]
  },
  {
   "cell_type": "code",
   "execution_count": 11,
   "metadata": {},
   "outputs": [],
   "source": [
    "def change_time(df):\n",
    "    \n",
    "    if 'date_time' in df.columns:\n",
    "        # Change time information to year and month columns\n",
    "        df[\"date_time\"] = pd.to_datetime(df[\"date_time\"])\n",
    "        df[\"year\"] = df[\"date_time\"].dt.year\n",
    "        df[\"month\"] = df[\"date_time\"].dt.month\n",
    "\n",
    "        #Delete column date-time\n",
    "        df = df.drop('date_time', 1)\n",
    "    return df"
   ]
  },
  {
   "cell_type": "code",
   "execution_count": 12,
   "metadata": {},
   "outputs": [],
   "source": [
    "X = [\"0\", \"1\", \"3\", \"20\", \"8\"]\n",
    "Y = [0, 1, 3, 20, 8]\n"
   ]
  },
  {
   "cell_type": "code",
   "execution_count": 13,
   "metadata": {},
   "outputs": [
    {
     "name": "stdout",
     "output_type": "stream",
     "text": [
      "['0', '1', '3', '8', '20']\n"
     ]
    }
   ],
   "source": [
    "srtd = [x for _,x in sorted(zip(Y,X))]\n",
    "print(srtd)"
   ]
  },
  {
   "cell_type": "code",
   "execution_count": 14,
   "metadata": {},
   "outputs": [
    {
     "name": "stdout",
     "output_type": "stream",
     "text": [
      "Progress: |██████████████████████████████████████████████████| 100.0% Complete\n"
     ]
    }
   ],
   "source": [
    "# Print iterations progress\n",
    "def printProgressBar (iteration, total, prefix = '', suffix = '', decimals = 1, length = 100, fill = '█', printEnd = \"\\r\"):\n",
    "    \"\"\"\n",
    "    Call in a loop to create terminal progress bar\n",
    "    @params:\n",
    "        iteration   - Required  : current iteration (Int)\n",
    "        total       - Required  : total iterations (Int)\n",
    "        prefix      - Optional  : prefix string (Str)\n",
    "        suffix      - Optional  : suffix string (Str)\n",
    "        decimals    - Optional  : positive number of decimals in percent complete (Int)\n",
    "        length      - Optional  : character length of bar (Int)\n",
    "        fill        - Optional  : bar fill character (Str)\n",
    "        printEnd    - Optional  : end character (e.g. \"\\r\", \"\\r\\n\") (Str)\n",
    "    \"\"\"\n",
    "    percent = (\"{0:.\" + str(decimals) + \"f}\").format(100 * (iteration / float(total)))\n",
    "    filledLength = int(length * iteration // total)\n",
    "    bar = fill * filledLength + '-' * (length - filledLength)\n",
    "    print('\\r%s |%s| %s%% %s' % (prefix, bar, percent, suffix), end = printEnd)\n",
    "    # Print New Line on Complete\n",
    "    if iteration == total: \n",
    "        print()\n",
    "        \n",
    "import time\n",
    "\n",
    "# A List of Items\n",
    "items = list(range(0, 57))\n",
    "l = len(items)\n",
    "\n",
    "# Initial call to print 0% progress\n",
    "printProgressBar(0, l, prefix = 'Progress:', suffix = 'Complete', length = 50)\n",
    "for i, item in enumerate(items):\n",
    "    # Do stuff...\n",
    "    time.sleep(0.1)\n",
    "    # Update Progress Bar\n",
    "    printProgressBar(i + 1, l, prefix = 'Progress:', suffix = 'Complete', length = 50)"
   ]
  },
  {
   "cell_type": "code",
   "execution_count": null,
   "metadata": {},
   "outputs": [],
   "source": []
  }
 ],
 "metadata": {
  "kernelspec": {
   "display_name": "Python 3",
   "language": "python",
   "name": "python3"
  },
  "language_info": {
   "codemirror_mode": {
    "name": "ipython",
    "version": 3
   },
   "file_extension": ".py",
   "mimetype": "text/x-python",
   "name": "python",
   "nbconvert_exporter": "python",
   "pygments_lexer": "ipython3",
   "version": "3.7.1"
  }
 },
 "nbformat": 4,
 "nbformat_minor": 2
}
