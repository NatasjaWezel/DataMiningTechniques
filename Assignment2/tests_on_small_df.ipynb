{
 "cells": [
  {
   "cell_type": "code",
   "execution_count": 3,
   "metadata": {},
   "outputs": [],
   "source": [
    "import pandas as pd\n",
    "import random\n",
    "import csv\n",
    "import os\n",
    "import math\n",
    "\n",
    "traindf = pd.read_pickle(\"./pickles/df_small_train.pkl\")\n",
    "testdf = pd.read_pickle(\"./pickles/df_small_test.pkl\")"
   ]
  },
  {
   "cell_type": "code",
   "execution_count": 4,
   "metadata": {
    "scrolled": false
   },
   "outputs": [],
   "source": [
    "def random_solution(df, csv_name):\n",
    "    \n",
    "    csv_name = \"./results/\" + csv_name\n",
    "    \n",
    "    # get list of hotels per search id\n",
    "    results_per_search = df.groupby('srch_id').size()\n",
    "    \n",
    "    column_values = df[\"srch_id\"].values\n",
    "    ids =  pd.unique(column_values) \n",
    "    \n",
    "    if not os.path.exists(\"./results\"):\n",
    "        os.mkdir(\"./results\")\n",
    "        \n",
    "    with open(csv_name, 'w', newline='') as file:\n",
    "        writer = csv.writer(file)\n",
    "        writer.writerow([\"srch_id\", \"prop_id\"])\n",
    "\n",
    "    for i, ideetje in enumerate(ids):\n",
    "        df_temp = df[df[\"srch_id\"] == ideetje]\n",
    "        prop_ids = df_temp[\"prop_id\"].values\n",
    "        \n",
    "        # shuffle hotels\n",
    "        random.shuffle(prop_ids)\n",
    "    \n",
    "        # write csv\n",
    "        with open(csv_name, 'a', newline='') as file:\n",
    "            writer = csv.writer(file)\n",
    "            \n",
    "            for prop_id in prop_ids:\n",
    "                writer.writerow([ideetje, prop_id])"
   ]
  },
  {
   "cell_type": "code",
   "execution_count": 5,
   "metadata": {},
   "outputs": [],
   "source": [
    "def price_quality(df):\n",
    "\n",
    "    df['pricequality'] = df['price_usd'] / df['prop_starrating']\n",
    "    \n",
    "    return df"
   ]
  },
  {
   "cell_type": "code",
   "execution_count": 12,
   "metadata": {},
   "outputs": [],
   "source": [
    "from tqdm import tqdm\n",
    "\n",
    "def price_quality_solution(df, csv_name):\n",
    "    \n",
    "    csv_name = \"./results/\" + csv_name\n",
    "    \n",
    "    # get list of hotels per search id\n",
    "    results_per_search = df.groupby('srch_id').size()\n",
    "    \n",
    "    column_values = df[\"srch_id\"].values\n",
    "    ids =  pd.unique(column_values) \n",
    "    \n",
    "    if not os.path.exists(\"./results\"):\n",
    "        os.mkdir(\"./results\")\n",
    "        \n",
    "    with open(csv_name, 'w', newline='') as file:\n",
    "        writer = csv.writer(file)\n",
    "        writer.writerow([\"srch_id\", \"prop_id\"])\n",
    "\n",
    "    total_ids = len(ids)    \n",
    "        \n",
    "    for i in tqdm(range(len(ids))):\n",
    "        ideetje = ids[i]\n",
    "        \n",
    "        # get all rows that belong with this search\n",
    "        df_temp = df[df[\"srch_id\"] == ideetje]\n",
    "        \n",
    "        # get list of property ids\n",
    "        prop_ids = df_temp[\"prop_id\"].values\n",
    "        \n",
    "        # rank the property ids based on price/quality\n",
    "        prop_ids_sorted = [x for _, x in sorted(zip(df_temp[\"pricequality\"], prop_ids))]\n",
    "                \n",
    "        # write csv\n",
    "        with open(csv_name, 'a', newline='') as file:\n",
    "            writer = csv.writer(file)\n",
    "            \n",
    "            for prop_id in prop_ids_sorted:\n",
    "                writer.writerow([ideetje, prop_id])"
   ]
  },
  {
   "cell_type": "code",
   "execution_count": 13,
   "metadata": {},
   "outputs": [
    {
     "name": "stderr",
     "output_type": "stream",
     "text": [
      "100%|████████████████████████████████████████████████████████████████████████████| 1996/1996 [00:01<00:00, 1005.10it/s]\n"
     ]
    }
   ],
   "source": [
    "testdf = price_quality(testdf)\n",
    "price_quality_solution(df=testdf, csv_name=\"price_quality_sol_small.csv\")"
   ]
  },
  {
   "cell_type": "code",
   "execution_count": 8,
   "metadata": {},
   "outputs": [],
   "source": [
    "def change_time(df):\n",
    "    \n",
    "    if 'date_time' in df.columns:\n",
    "        # Change time information to year and month columns\n",
    "        df[\"date_time\"] = pd.to_datetime(df[\"date_time\"])\n",
    "        df[\"year\"] = df[\"date_time\"].dt.year\n",
    "        df[\"month\"] = df[\"date_time\"].dt.month\n",
    "\n",
    "        #Delete column date-time\n",
    "        df = df.drop('date_time', 1)\n",
    "        \n",
    "    return df"
   ]
  },
  {
   "cell_type": "code",
   "execution_count": 12,
   "metadata": {},
   "outputs": [],
   "source": [
    "X = [\"0\", \"1\", \"3\", \"20\", \"8\"]\n",
    "Y = [0, 1, 3, 20, 8]\n"
   ]
  },
  {
   "cell_type": "code",
   "execution_count": 13,
   "metadata": {},
   "outputs": [
    {
     "name": "stdout",
     "output_type": "stream",
     "text": [
      "['0', '1', '3', '8', '20']\n"
     ]
    }
   ],
   "source": [
    "srtd = [x for _,x in sorted(zip(Y,X))]\n",
    "print(srtd)"
   ]
  },
  {
   "cell_type": "code",
   "execution_count": null,
   "metadata": {},
   "outputs": [],
   "source": []
  },
  {
   "cell_type": "code",
   "execution_count": 20,
   "metadata": {},
   "outputs": [
    {
     "name": "stdout",
     "output_type": "stream",
     "text": [
      "1587981335.8008757\n"
     ]
    }
   ],
   "source": []
  },
  {
   "cell_type": "code",
   "execution_count": null,
   "metadata": {},
   "outputs": [],
   "source": []
  }
 ],
 "metadata": {
  "kernelspec": {
   "display_name": "Python 3",
   "language": "python",
   "name": "python3"
  },
  "language_info": {
   "codemirror_mode": {
    "name": "ipython",
    "version": 3
   },
   "file_extension": ".py",
   "mimetype": "text/x-python",
   "name": "python",
   "nbconvert_exporter": "python",
   "pygments_lexer": "ipython3",
   "version": "3.7.3"
  }
 },
 "nbformat": 4,
 "nbformat_minor": 2
}
