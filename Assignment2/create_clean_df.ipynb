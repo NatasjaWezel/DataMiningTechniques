{
 "cells": [
  {
   "cell_type": "code",
   "execution_count": null,
   "metadata": {},
   "outputs": [],
   "source": [
    "from sklearn.ensemble import RandomForestClassifier\n",
    "from sklearn.ensemble import GradientBoostingClassifier\n",
    "from sklearn.model_selection import train_test_split\n",
    "\n",
    "import pandas as pd\n",
    "import random\n",
    "import csv\n",
    "import os\n",
    "import math\n",
    "import numpy as np\n",
    "\n",
    "from numba import jit\n",
    "import matplotlib.pyplot as plt\n",
    "import seaborn as sns\n",
    "\n",
    "pd.options.mode.chained_assignment = None\n",
    "\n",
    "from sklearn.preprocessing import StandardScaler\n",
    "from sklearn.feature_selection import SelectKBest, f_classif"
   ]
  },
  {
   "cell_type": "code",
   "execution_count": null,
   "metadata": {},
   "outputs": [],
   "source": [
    "# read in the dataframe you want to clean, can be a csv, hdf\n",
    "traindf = pd.read_csv(\"./data/training_set_VU_DM.csv\")\n",
    "\n",
    "traindf = traindf[:10000]\n",
    "\n",
    "# put filename here: we use hdf because it can store the entire dataset, while pickle files can't\n",
    "filename = \"./data/traindf_clean.hdf\"\n",
    "\n",
    "# if testing set is True we will not add the importance column (because we can't)\n",
    "testing_set = False"
   ]
  },
  {
   "cell_type": "code",
   "execution_count": null,
   "metadata": {},
   "outputs": [],
   "source": [
    "def competitors(df):\n",
    "    \"\"\"\n",
    "    Make a new column in the dataframe (competitor_bool) for when there \n",
    "    exists a competitor and there are available rooms.\n",
    "    1 is True, 0 is False.\n",
    "    \"\"\"\n",
    "\n",
    "    # we say that there is no competitor with a lower price\n",
    "    df[\"competitor_lower\"] = 0 #competitor_bools\n",
    "    \n",
    "    # comp1rate = 1 if price is lower\n",
    "    df[\"competitor_lower\"][df[\"comp1_rate\"] == 1] = 1\n",
    "    df[\"competitor_lower\"][df[\"comp2_rate\"] == 1] = 1\n",
    "    df[\"competitor_lower\"][df[\"comp3_rate\"] == 1] = 1\n",
    "    df[\"competitor_lower\"][df[\"comp4_rate\"] == 1] = 1\n",
    "    df[\"competitor_lower\"][df[\"comp5_rate\"] == 1] = 1\n",
    "    df[\"competitor_lower\"][df[\"comp6_rate\"] == 1] = 1\n",
    "    df[\"competitor_lower\"][df[\"comp7_rate\"] == 1] = 1\n",
    "    df[\"competitor_lower\"][df[\"comp8_rate\"] == 1] = 1\n",
    "    \n",
    "    # we say at first there is no competitor hotel available\n",
    "    df[\"competitor_available\"] = 0\n",
    "    \n",
    "    # availability bool = 1 if there if the competitor and expedia are available\n",
    "    df[\"competitor_available\"][df[\"comp1_inv\"] == 1] = 1\n",
    "    df[\"competitor_available\"][df[\"comp2_inv\"] == 1] = 1\n",
    "    df[\"competitor_available\"][df[\"comp3_inv\"] == 1] = 1\n",
    "    df[\"competitor_available\"][df[\"comp4_inv\"] == 1] = 1\n",
    "    df[\"competitor_available\"][df[\"comp5_inv\"] == 1] = 1\n",
    "    df[\"competitor_available\"][df[\"comp6_inv\"] == 1] = 1\n",
    "    df[\"competitor_available\"][df[\"comp7_inv\"] == 1] = 1\n",
    "    df[\"competitor_available\"][df[\"comp8_inv\"] == 1] = 1\n",
    "\n",
    "    return df\n"
   ]
  },
  {
   "cell_type": "code",
   "execution_count": null,
   "metadata": {},
   "outputs": [],
   "source": [
    "def visitor_history(df):\n",
    "    \"\"\"\n",
    "    Add column that tells us whether someone has visited a hotel before.\n",
    "    Column name = total_visited; 1 is True, 0 is False.\n",
    "    \"\"\"\n",
    "    \n",
    "    # most visitors haven't visited a hotel yet\n",
    "    df[\"visited_before\"] = 0\n",
    "    \n",
    "    # where there is a history field filled in, visited_before is turned into 21\n",
    "    df[\"visited_before\"][df[\"visitor_hist_starrating\"].notna() | df[\"visitor_hist_adr_usd\"].notna()] = 1\n",
    "    \n",
    "    return df"
   ]
  },
  {
   "cell_type": "code",
   "execution_count": null,
   "metadata": {},
   "outputs": [],
   "source": []
  },
  {
   "cell_type": "code",
   "execution_count": null,
   "metadata": {},
   "outputs": [],
   "source": [
    "def price_category(df):\n",
    "    \"\"\"\n",
    "    Add a column of categories of price_usd and a column\n",
    "    that corrected price for number of nights.\n",
    "    Preprocessing of quantile cut showed that categories are:\n",
    "    [(6.0889999999999995, 69.0] < (69.0, 90.0] < (90.0, 110.0] \n",
    "    < (110.0, 136.0] < (136.0, 170.077] < (170.077, 239.0] < (239.0, 554655.0]]\n",
    "    \n",
    "    \"\"\"\n",
    "    \n",
    "    df[\"avg_price_propid\"] = None\n",
    "    df[\"std_avg_price_propid\"] = None\n",
    "    \n",
    "    for prop_id, group in df.groupby([\"prop_id\"]):      \n",
    "        df[\"avg_price_propid\"][df[\"prop_id\"] == prop_id] = group[\"price_usd\"].mean()\n",
    "        df[\"std_avg_price_propid\"][df[\"prop_id\"] == prop_id] = group[\"price_usd\"].std()\n",
    "        \n",
    "    df[\"price_correction\"] = df[\"price_usd\"]\n",
    "    \n",
    "    print(\"Correcting \", len(df[\"std_avg_price_propid\"] > 50), \" property prices\")\n",
    "    df[\"price_correction\"][df[\"std_avg_price_propid\"] > 50] = df[\"price_usd\"] / df[\"srch_length_of_stay\"]\n",
    "                      \n",
    "    # Correct for number of nights ad add as new column\n",
    "#     df[\"price_correction\"] = df[\"price_usd\"] / df[\"srch_length_of_stay\"]\n",
    "    \n",
    "    # Replace missing values\n",
    "#     df[\"price_correction\"].fillna((df[\"price_correction\"].median()), inplace=True)\n",
    "#     df[\"price_usd\"].fillna((df[\"price_usd\"].median()), inplace=True)\n",
    "    \n",
    "    # Make a new column of price categories\n",
    "    # TODO: apparently this is not a number\n",
    "#     df['PriceBand'] = pd.qcut(df[\"price_correction\"], 7, labels=np.arange(1,8))\n",
    "    \n",
    "    return df\n",
    "\n"
   ]
  },
  {
   "cell_type": "code",
   "execution_count": null,
   "metadata": {},
   "outputs": [],
   "source": [
    "before = price_category(traindf)"
   ]
  },
  {
   "cell_type": "code",
   "execution_count": null,
   "metadata": {
    "scrolled": false
   },
   "outputs": [],
   "source": [
    "after = probeerdf.copy()\n",
    "for prop_id, group in df2.groupby([\"prop_id\"]):\n",
    "    after[\"avg_price_propid\"][after[\"prop_id\"] == prop_id] = group[\"price_correction\"].mean()\n",
    "    after[\"std_avg_price_propid\"][after[\"prop_id\"] == prop_id] = group[\"price_correction\"].std()"
   ]
  },
  {
   "cell_type": "code",
   "execution_count": null,
   "metadata": {
    "scrolled": false
   },
   "outputs": [],
   "source": [
    "print(\"Average standard deviation before correction:\", before[\"std_avg_price_propid\"].mean())\n",
    "print(\"Average standard deviation after correction:\", after[\"std_avg_price_propid\"].mean())\n",
    "\n",
    "print(len(before))\n",
    "print(len(before[\"std_avg_price_propid\"]))\n",
    "print(len(before[\"std_avg_price_propid\"].notna()))\n",
    "display(before[\"price_usd\"].describe())\n",
    "display(before[\"std_avg_price_propid\"].describe())\n",
    "\n",
    "plt.figure()\n",
    "plt.title(\"Standard deviation of mean property prices\")\n",
    "before[\"std_avg_price_propid\"].hist(bins=100)\n",
    "\n",
    "plt.figure()\n",
    "plt.title(\"Difference between prices before and after correction\")\n",
    "after[\"price_usd_diff\"] = abs(before[\"price_usd\"] - before[\"price_correction\"])\n",
    "after[\"price_usd_diff\"][after[\"price_usd_diff\"] > 1].hist(bins=100)"
   ]
  },
  {
   "cell_type": "code",
   "execution_count": null,
   "metadata": {},
   "outputs": [],
   "source": [
    "def price_quality(df):\n",
    "    \"\"\"\n",
    "    Add a column of ratio price/quality to the DataFrame.\n",
    "    \"\"\"\n",
    "    \n",
    "    df[\"price_quality\"] = None\n",
    "    \n",
    "    df[\"price_quality\"][df[\"price_usd\"].notna() & df[\"prop_starrating\"].notna() & df[\"prop_starrating\"] != 0] = df[\"price_usd\"] / df[\"prop_starrating\"]\n",
    "\n",
    "    # Replace missing values with median\n",
    "    df[\"price_quality\"].fillna((df[\"price_quality\"].median()), inplace=True)\n",
    "    \n",
    "    return df "
   ]
  },
  {
   "cell_type": "code",
   "execution_count": null,
   "metadata": {},
   "outputs": [],
   "source": [
    "def process_remaining_cols(df):\n",
    "    \"\"\"\n",
    "    Add some remaining (and interesting columns) to the dataframe.\n",
    "    \"\"\"\n",
    "    \n",
    "    # Replace missing values with median\n",
    "    df[\"prop_brand_bool\"].fillna((df[\"prop_brand_bool\"].median()), inplace=True)\n",
    "    df[\"random_bool\"].fillna((df[\"random_bool\"].median()), inplace=True)\n",
    "    \n",
    "    # Boolians\n",
    "    df[\"prop_location_score1\"].fillna((df[\"prop_location_score1\"].mean()), inplace=True)\n",
    "    df[\"prop_location_score2\"].fillna((df[\"prop_location_score2\"].mean()), inplace=True)\n",
    "        \n",
    "     # Replace missing values with mean\n",
    "    df[\"promotion_flag\"].fillna((df[\"promotion_flag\"].mean()), inplace=True)\n",
    "    \n",
    "    return df"
   ]
  },
  {
   "cell_type": "code",
   "execution_count": null,
   "metadata": {},
   "outputs": [],
   "source": [
    "def add_score(df):\n",
    "    \"\"\"\n",
    "    Add a score \n",
    "    \"\"\"\n",
    "    \n",
    "    # every hotel that is clicked on gets an importance score of 1\n",
    "    df[\"importance\"] = df[\"click_bool\"]\n",
    "    \n",
    "    # every hotel that is booked gets an importance score of 5 \n",
    "    df[\"importance\"][df[\"booking_bool\"] == 1] = 5\n",
    "        \n",
    "    return df\n",
    "\n",
    "\n",
    "def preprocessing(traindf, dollarprice=True):\n",
    "    traindf = competitors(traindf)\n",
    "    print(\"cleaned competitors\")\n",
    "    \n",
    "    traindf = visitor_history(traindf)\n",
    "    print(\"cleaned visitor history\")\n",
    "    \n",
    "    traindf = price_quality(traindf)\n",
    "    print(\"cleaned price quality\")\n",
    "    \n",
    "    traindf = price_category(traindf)\n",
    "    print(\"cleaned price category\")\n",
    "    \n",
    "    traindf = process_remaining_cols(traindf)\n",
    "    print(\"did remaining columns\")\n",
    "    \n",
    "     # Add relevant columns    \n",
    "    if testing_set is False:\n",
    "\n",
    "        df = traindf[[\"prop_id\", \"srch_id\", \"position\", \"price_quality\", \n",
    "                  \"competitor_lower\", \"competitor_available\", \"visited_before\", \n",
    "                  \"click_bool\", \"booking_bool\", \"PriceBand\", \n",
    "                  \"promotion_flag\", \"prop_brand_bool\", \"random_bool\",\n",
    "                  \"prop_location_score1\", \"prop_location_score2\"]]\n",
    "        df = add_score(df)\n",
    "        df.drop(columns=[\"click_bool\", \"booking_bool\"])\n",
    "    else:\n",
    "        df = traindf[[\"prop_id\", \"srch_id\", \"price_quality\", \n",
    "                  \"competitor_lower\", \"competitor_available\", \"visited_before\", \n",
    "                  \"PriceBand\", \n",
    "                  \"promotion_flag\", \"prop_brand_bool\", \"random_bool\",\n",
    "                  \"prop_location_score1\", \"prop_location_score2\"]]\n",
    "    \n",
    "    return df"
   ]
  },
  {
   "cell_type": "code",
   "execution_count": null,
   "metadata": {},
   "outputs": [],
   "source": [
    "# Oh jit kan niet met pandas Series werken, moet omgeschreven worden naar np arrays\n",
    "# @jit(nopython=True)\n",
    "df = preprocessing(traindf)"
   ]
  },
  {
   "cell_type": "code",
   "execution_count": null,
   "metadata": {},
   "outputs": [],
   "source": [
    "display(df.head())\n",
    "display(df.describe())"
   ]
  },
  {
   "cell_type": "code",
   "execution_count": null,
   "metadata": {},
   "outputs": [],
   "source": [
    "# df[\"price_quality\"] = df.price_quality.astype(np.float32)\n",
    "print(df.dtypes)\n",
    "print()\n",
    "\n",
    "if df.isnull().sum().sum() != 0:    \n",
    "    print(\"\\x1b[31mMissing values: \\'\\x1b[0m\")\n",
    "    print(df.isnull().sum())\n",
    "else:\n",
    "    print(\"\\x1b[31mNo missing values!! :D \\'\\x1b[0m\")"
   ]
  },
  {
   "cell_type": "markdown",
   "metadata": {},
   "source": [
    "## Totale dataset zonder missende waardes, hier kan RandomForestClassifier op gerund worden"
   ]
  },
  {
   "cell_type": "code",
   "execution_count": null,
   "metadata": {},
   "outputs": [],
   "source": [
    "# save the dataframe if it does not exist yet\n",
    "if not os.path.exists(filename):\n",
    "    df.to_hdf(filename, key=\"df\", format=\"table\")"
   ]
  },
  {
   "cell_type": "code",
   "execution_count": null,
   "metadata": {},
   "outputs": [],
   "source": [
    "# test if it worked\n",
    "reread = pd.read_hdf(filename)"
   ]
  },
  {
   "cell_type": "code",
   "execution_count": null,
   "metadata": {},
   "outputs": [],
   "source": [
    "display(reread.describe())"
   ]
  },
  {
   "cell_type": "code",
   "execution_count": null,
   "metadata": {},
   "outputs": [],
   "source": []
  }
 ],
 "metadata": {
  "kernelspec": {
   "display_name": "Python 3",
   "language": "python",
   "name": "python3"
  },
  "language_info": {
   "codemirror_mode": {
    "name": "ipython",
    "version": 3
   },
   "file_extension": ".py",
   "mimetype": "text/x-python",
   "name": "python",
   "nbconvert_exporter": "python",
   "pygments_lexer": "ipython3",
   "version": "3.7.3"
  }
 },
 "nbformat": 4,
 "nbformat_minor": 2
}
