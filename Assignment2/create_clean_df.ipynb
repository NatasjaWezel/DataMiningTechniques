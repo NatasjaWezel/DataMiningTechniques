{
 "cells": [
  {
   "cell_type": "code",
   "execution_count": null,
   "metadata": {},
   "outputs": [],
   "source": [
    "from sklearn.ensemble import RandomForestClassifier\n",
    "from sklearn.ensemble import GradientBoostingClassifier\n",
    "from sklearn.model_selection import train_test_split\n",
    "\n",
    "import pandas as pd\n",
    "import random\n",
    "import csv\n",
    "import os\n",
    "import math\n",
    "import numpy as np\n",
    "from tqdm import tqdm\n",
    "from numba import jit\n",
    "import matplotlib.pyplot as plt\n",
    "import seaborn as sns\n",
    "\n",
    "pd.options.mode.chained_assignment = None"
   ]
  },
  {
   "cell_type": "code",
   "execution_count": null,
   "metadata": {},
   "outputs": [],
   "source": [
    "traindf = pd.read_pickle(\"./pickles/df_small_train.pkl\")\n",
    "# testdf = pd.read_pickle(\"./pickles/df_small_test.pkl\")\n",
    "# nep_testdf = pd.read_pickle(\"./pickles/df_small_train_test_yk.pkl\")\n",
    "\n",
    "# run for a very small dataset for testing\n",
    "# traindf = pd.read_pickle(\"./pickles/df_verysmall_train_test_yk.pkl\")\n",
    "\n",
    "\n",
    "# run if you want to use the whole train/test dataset\n",
    "# traindf = pd.read_csv(\"data/training_set_VU_DM.csv\")\n",
    "traindf.head()"
   ]
  },
  {
   "cell_type": "code",
   "execution_count": null,
   "metadata": {},
   "outputs": [],
   "source": [
    "def competitors(df):\n",
    "    \"\"\"\n",
    "    Make a new column in the dataframe (competitor_bool) for when there \n",
    "    exists a competitor and there are available rooms.\n",
    "    1 is True, 0 is False.\n",
    "    \"\"\"\n",
    "    competitor_bools = []\n",
    "    availability_bools = []\n",
    "    \n",
    "    # Columns for existing competitors\n",
    "    compare_cols = [\"comp1_rate\", \"comp2_rate\", \"comp3_rate\", \"comp4_rate\", \"comp5_rate\",\n",
    "                \"comp6_rate\", \"comp7_rate\", \"comp8_rate\"]\n",
    "    \n",
    "    # Columns for room availability\n",
    "    availability_cols = [\"comp1_inv\", \"comp2_inv\", \"comp3_inv\", \"comp4_inv\", \"comp5_inv\", \n",
    "                        \"comp6_inv\", \"comp7_inv\", \"comp8_inv\"]\n",
    "\n",
    "    for index, row in df.iterrows():\n",
    "        comp_bool = 0\n",
    "        available = 0\n",
    "\n",
    "        # Check for a combination of competitor price and room-availability. \n",
    "        for competitor, availability in zip(compare_cols, availability_cols):\n",
    "            if row[competitor] == 1: # and row[availability] == 1: TODO!!!\n",
    "                comp_bool = 1\n",
    "            if row[availability] == 1:\n",
    "                available = 1\n",
    "        \n",
    "        competitor_bools.append(comp_bool)\n",
    "        availability_bools.append(available)\n",
    "        \n",
    "    # Append list of bools to new column\n",
    "    df[\"competitor_bool\"] = competitor_bools\n",
    "    df[\"availability_bools\"] = availability_bools\n",
    "    \n",
    "    return df"
   ]
  },
  {
   "cell_type": "code",
   "execution_count": null,
   "metadata": {},
   "outputs": [],
   "source": [
    "def visitor_history(df):\n",
    "    \"\"\"\n",
    "    Add column that tells us whether someone has visited a hotel before.\n",
    "    Column name = total_visited; 1 is True, 0 is False.\n",
    "    \"\"\"\n",
    "    \n",
    "    # Get none-missing values\n",
    "    hist_starrating = df.visitor_hist_starrating.isna()\n",
    "    hist_adr = df.visitor_hist_adr_usd.isna()\n",
    "\n",
    "    # Dit kan waarschijnlijk veel mooier en sneller maar het werkt...\n",
    "    total_visited = []\n",
    "    for index, row in df.iterrows():\n",
    "        if hist_starrating[index] or hist_adr[index]:\n",
    "            visited = 0\n",
    "        else:\n",
    "            visited = 1\n",
    "        total_visited.append(visited)\n",
    "\n",
    "    df[\"visited_before\"] = total_visited\n",
    "    \n",
    "    return df"
   ]
  },
  {
   "cell_type": "code",
   "execution_count": null,
   "metadata": {},
   "outputs": [],
   "source": [
    "def price_quality(df):\n",
    "    \"\"\"\n",
    "    Add a column of ratio price/quality to the DataFrame.\n",
    "    \"\"\"\n",
    "    price_quality = []\n",
    "    \n",
    "    # Check for missing values\n",
    "    for index, row in df.iterrows():\n",
    "        price, quality =  row[\"price_usd\"],  row[\"prop_starrating\"]\n",
    "        if price and quality:\n",
    "            ratio = price / quality\n",
    "        else:\n",
    "            ratio = None\n",
    "        price_quality.append(ratio)\n",
    "        \n",
    "    df[\"price_quality\"] = price_quality\n",
    "    \n",
    "    # Replace missing values with median\n",
    "    df[\"price_quality\"].fillna((df[\"price_quality\"].median()), inplace=True)\n",
    "    \n",
    "    return df "
   ]
  },
  {
   "cell_type": "code",
   "execution_count": null,
   "metadata": {},
   "outputs": [],
   "source": [
    "def price_category(df):\n",
    "    \"\"\"\n",
    "    Add a column of categories of price_usd and a column\n",
    "    that corrected price for number of nights.\n",
    "    Preprocessing of quantile cut showed that categories are:\n",
    "    [(6.0889999999999995, 69.0] < (69.0, 90.0] < (90.0, 110.0] \n",
    "    < (110.0, 136.0] < (136.0, 170.077] < (170.077, 239.0] < (239.0, 554655.0]]\n",
    "    \n",
    "    \"\"\"\n",
    "    \n",
    "    # Correct for number of nights ad add as new column\n",
    "    df[\"price_correction\"] = df[\"price_usd\"] / df[\"srch_length_of_stay\"]\n",
    "    \n",
    "    # Replace missing values\n",
    "    df[\"price_correction\"].fillna((df[\"price_correction\"].median()), inplace=True)\n",
    "    df[\"price_usd\"].fillna((df[\"price_usd\"].median()), inplace=True)\n",
    "    \n",
    "    # Make a new column of price categories\n",
    "    df['PriceBand'] = pd.qcut(df[\"price_correction\"], 7, labels=np.arange(1,8))\n",
    "    \n",
    "    return df"
   ]
  },
  {
   "cell_type": "code",
   "execution_count": null,
   "metadata": {},
   "outputs": [],
   "source": [
    "def process_remaining_cols(df):\n",
    "    \"\"\"\n",
    "    Add some remaining (and interesting columns) to the dataframe.\n",
    "    \"\"\"\n",
    "    \n",
    "    # Replace missing values\n",
    "    df[\"promotion_flag\"].fillna((df[\"promotion_flag\"].mean()), inplace=True)\n",
    "    df[\"prop_brand_bool\"].fillna((df[\"prop_brand_bool\"].median()), inplace=True)\n",
    "    df[\"random_bool\"].fillna((df[\"random_bool\"].median()), inplace=True)\n",
    "    \n",
    "    return df"
   ]
  },
  {
   "cell_type": "code",
   "execution_count": null,
   "metadata": {},
   "outputs": [],
   "source": [
    "def add_score(df):\n",
    "    \"\"\"\n",
    "    Add a score \n",
    "    \"\"\"\n",
    "    \n",
    "    # every hotel that is clicked on gets an importance score of 1\n",
    "    df[\"importance\"] = df[\"click_bool\"]\n",
    "    \n",
    "    # every hotel that is booked gets an importance score of 5 \n",
    "    df[\"importance\"][df[\"booking_bool\"] == 1] = 5\n",
    "        \n",
    "    return df\n",
    "\n",
    "\n",
    "def preprocessing(traindf, dollarprice=True):\n",
    "    traindf = competitors(traindf)\n",
    "    print(\"cleaned competitors\")\n",
    "    \n",
    "    traindf = visitor_history(traindf)\n",
    "    print(\"cleaned visitor history\")\n",
    "    \n",
    "    traindf = price_quality(traindf)\n",
    "    print(\"cleaned price quality\")\n",
    "    \n",
    "    traindf = price_category(traindf)\n",
    "    print(\"cleaned price category\")\n",
    "    \n",
    "    traindf = process_remaining_cols(traindf)\n",
    "    print(\"did remaining columns\")\n",
    "    \n",
    "    \n",
    "    # Add relevant columns\n",
    "    df = traindf[[\"prop_id\", \"srch_id\", \"position\", \"price_quality\", \n",
    "                  \"competitor_bool\", \"availability_bools\", \"visited_before\", \n",
    "                  \"click_bool\", \"booking_bool\", \"PriceBand\", \n",
    "                  \"promotion_flag\", \"prop_brand_bool\", \"random_bool\"]]\n",
    "        \n",
    "    traindf = add_score(traindf)\n",
    "    df.drop(columns=[\"click_bool\", \"booking_bool\"])\n",
    "    \n",
    "    return traindf"
   ]
  },
  {
   "cell_type": "code",
   "execution_count": null,
   "metadata": {},
   "outputs": [],
   "source": [
    "# Oh jit kan niet met pandas Series werken, moet omgeschreven worden naar np arrays\n",
    "# @jit(nopython=True)\n",
    "df = preprocessing(traindf)\n",
    "# df.head(5)\n",
    "df.describe()"
   ]
  },
  {
   "cell_type": "code",
   "execution_count": null,
   "metadata": {},
   "outputs": [],
   "source": [
    "display(df.describe())"
   ]
  },
  {
   "cell_type": "code",
   "execution_count": null,
   "metadata": {},
   "outputs": [],
   "source": [
    "df[\"price_quality\"] = df.price_quality.astype(np.float32)\n",
    "print(df.dtypes)\n",
    "print()\n",
    "\n",
    "if df.isnull().sum().sum() != 0:    \n",
    "    print(\"\\x1b[31mMissing values: \\'\\x1b[0m\")\n",
    "    print(df.isnull().sum())\n",
    "else:\n",
    "    print(\"\\x1b[31mNo missing values!! :D \\'\\x1b[0m\")"
   ]
  },
  {
   "cell_type": "markdown",
   "metadata": {},
   "source": [
    "## Totale dataset zonder missende waardes, hier kan RandomForestClassifier op gerund worden"
   ]
  },
  {
   "cell_type": "code",
   "execution_count": null,
   "metadata": {},
   "outputs": [],
   "source": [
    "filename = \"./pickles/df_small_clean_test.pkl\"\n",
    "if not os.path.exists(filename):\n",
    "    df.to_pickle(filename)\n",
    "\n",
    "df.describe()"
   ]
  },
  {
   "cell_type": "code",
   "execution_count": null,
   "metadata": {},
   "outputs": [],
   "source": [
    "y = df[\"prop_id\"]\n",
    "X = df.drop(\"prop_id\", axis=1).copy()\n",
    "\n",
    "X_train, X_test, y_train, y_test = train_test_split(X, y, test_size=0.2, random_state=1)"
   ]
  },
  {
   "cell_type": "code",
   "execution_count": null,
   "metadata": {},
   "outputs": [],
   "source": [
    "# Fit model on whole dataset\n",
    "rfc = RandomForestClassifier(n_jobs=1)\n",
    "model = rfc.fit(X_train, y_train)\n",
    "predictions = model.predict(X_test)"
   ]
  },
  {
   "cell_type": "code",
   "execution_count": null,
   "metadata": {
    "scrolled": false
   },
   "outputs": [],
   "source": [
    "X_test[\"predictions\"] = predictions\n",
    "X_test.head(10)\n",
    "\n",
    "pred_groups = X_test.groupby('srch_id').agg({'position':lambda x: list(x)})\n",
    "pred_groups"
   ]
  },
  {
   "cell_type": "code",
   "execution_count": null,
   "metadata": {},
   "outputs": [],
   "source": [
    "rank_pred_groups   = X.groupby('srch_id').agg({'position':lambda x: list(x)})\n",
    "\n",
    "# Get unique srchids to group by\n",
    "unique_srchid = X.srch_id.unique()"
   ]
  },
  {
   "cell_type": "code",
   "execution_count": null,
   "metadata": {},
   "outputs": [],
   "source": []
  }
 ],
 "metadata": {
  "kernelspec": {
   "display_name": "Python 3",
   "language": "python",
   "name": "python3"
  },
  "language_info": {
   "codemirror_mode": {
    "name": "ipython",
    "version": 3
   },
   "file_extension": ".py",
   "mimetype": "text/x-python",
   "name": "python",
   "nbconvert_exporter": "python",
   "pygments_lexer": "ipython3",
   "version": "3.7.3"
  }
 },
 "nbformat": 4,
 "nbformat_minor": 2
}
