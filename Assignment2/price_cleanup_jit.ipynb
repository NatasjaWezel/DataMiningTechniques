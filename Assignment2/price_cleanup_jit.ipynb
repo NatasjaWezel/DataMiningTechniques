{
 "cells": [
  {
   "cell_type": "code",
   "execution_count": null,
   "metadata": {},
   "outputs": [],
   "source": [
    "import pandas as pd\n",
    "\n",
    "import numpy as np\n",
    "from tqdm import tqdm\n",
    "\n",
    "from numba import jit\n",
    "import time\n",
    "\n",
    "import os\n",
    "\n",
    "import matplotlib.pyplot as plt\n",
    "import seaborn as sns"
   ]
  },
  {
   "cell_type": "code",
   "execution_count": null,
   "metadata": {},
   "outputs": [],
   "source": [
    "# read in the dataframe you want to clean, can be a csv, hdf\n",
    "\n",
    "traindf = pd.read_csv(\"./data/test_set_VU_DM.csv\")\n",
    "    \n",
    "# traindf = traindf[:100000]"
   ]
  },
  {
   "cell_type": "code",
   "execution_count": null,
   "metadata": {},
   "outputs": [],
   "source": [
    "traindf[\"price_usd\"][(traindf[\"srch_saturday_night_bool\"] == 1) & (traindf[\"price_usd\"] < 1000)].hist(bins=100, color='DarkGreen')\n",
    "traindf[\"price_usd\"][(traindf[\"srch_saturday_night_bool\"] == 0) & (traindf[\"price_usd\"] < 1000)].hist(bins=100)"
   ]
  },
  {
   "cell_type": "code",
   "execution_count": null,
   "metadata": {},
   "outputs": [],
   "source": [
    "@jit(nopython=True, parallel=True)\n",
    "def calculate_mean_per_propid(unique_propids, \n",
    "                                    col_propids, \n",
    "                                    col_price, \n",
    "                                    col_mean, \n",
    "                                    col_std, \n",
    "                                    col_no_hotels, \n",
    "                                    col_correct_price, \n",
    "                                    col_nights,\n",
    "                                    col_new_mean,\n",
    "                                    col_new_std,\n",
    "                                    cut_off):\n",
    "    \n",
    "    total = len(unique_propids)\n",
    "\n",
    "    worse, better = 0, 0\n",
    "    \n",
    "    print(\"Cutoff: \", cut_off, \"\\nChanged everything to numpy arrays, starting now with processing data\")\n",
    "        \n",
    "    for i, propid in enumerate(unique_propids):\n",
    "        \n",
    "        if i % 1000 == 0:\n",
    "            print(cut_off, \": \", i, \"/\", total)\n",
    "        \n",
    "        indices = np.where(col_propids == propid)[0]\n",
    "\n",
    "        prices = col_price[indices]\n",
    "        mean_price = np.mean(prices)\n",
    "        std_price = np.std(prices)\n",
    "        \n",
    "        col_mean[indices] = mean_price\n",
    "        col_std[indices] = std_price\n",
    "        col_no_hotels[indices] = indices.size\n",
    "        \n",
    "        col_new_mean[indices] = mean_price\n",
    "        col_new_std[indices] = std_price\n",
    "                       \n",
    "        if std_price > cut_off:\n",
    "            col_correct_price[indices] = col_price[indices] / col_nights[indices]\n",
    "            prices = col_correct_price[indices]\n",
    "            \n",
    "            std_price_after = np.std(prices)\n",
    "            \n",
    "            # rollback\n",
    "            if std_price_after > std_price:\n",
    "                worse += 1\n",
    "                col_correct_price[indices] = col_price[indices]\n",
    "            else:\n",
    "                mean_price_after = np.mean(prices)\n",
    "                \n",
    "                col_new_mean[indices] = mean_price_after\n",
    "                col_new_std[indices] = std_price_after\n",
    "                better += 1\n",
    "    \n",
    "    print(\"Better: \", better, \"\\nWorse: \", worse)\n",
    "    print(\"Std before: \", np.mean(col_std), \"\\nStd after: \", np.mean(col_new_std))\n"
   ]
  },
  {
   "cell_type": "code",
   "execution_count": null,
   "metadata": {},
   "outputs": [],
   "source": [
    "def compute_numba(df, cut_off):\n",
    "    time_start = time.time()\n",
    "        \n",
    "    # add columns\n",
    "    columnames = list(df.columns)\n",
    "    columnames.extend([\"avg_price_propid\", \"std_avg_price_propid\", \"amount_hotels\", \n",
    "                       \"avg_price_propid_after\", \"std_avg_price_propid_after\"])\n",
    "\n",
    "    df = df.reindex(columns=columnames)\n",
    "\n",
    "    # copy prices (for now, at the end we will just update the price i suppose)\n",
    "    df[\"price_correction\"] = df[\"price_usd\"]\n",
    "\n",
    "    # get unique propids and put them into numpy array\n",
    "    propids = np.array(df[\"prop_id\"].unique())\n",
    "    \n",
    "    print(\"Appended columns.\")\n",
    "   \n",
    "    calculate_mean_per_propid(propids,\n",
    "                                    df['prop_id'].to_numpy(),\n",
    "                                    df['price_usd'].to_numpy(),\n",
    "                                    df['avg_price_propid'].to_numpy(),\n",
    "                                    df['std_avg_price_propid'].to_numpy(),\n",
    "                                    df['amount_hotels'].to_numpy(),\n",
    "                                    df['price_correction'].to_numpy(),\n",
    "                                    df['srch_length_of_stay'].to_numpy(),\n",
    "                                    df['avg_price_propid_after'].to_numpy(),\n",
    "                                    df['std_avg_price_propid_after'].to_numpy(),\n",
    "                                     cut_off)   \n",
    "    \n",
    "    print(\"This took: \", time.time() - time_start)\n",
    "        \n",
    "    display(df.head())\n",
    "    return df"
   ]
  },
  {
   "cell_type": "code",
   "execution_count": null,
   "metadata": {
    "scrolled": false
   },
   "outputs": [],
   "source": [
    "# display(traindf.head())\n",
    "\n",
    "cutoff = 0\n",
    "df = compute_numba(traindf, cutoff)"
   ]
  },
  {
   "cell_type": "code",
   "execution_count": null,
   "metadata": {},
   "outputs": [],
   "source": [
    "display(df[['prop_id', 'amount_hotels', 'avg_price_propid', 'price_usd', 'std_avg_price_propid', 'srch_length_of_stay', 'price_correction', 'avg_price_propid_after', 'std_avg_price_propid_after']][df['prop_id'] == 37304])\n",
    "\n",
    "display(df[['prop_id', 'amount_hotels', 'avg_price_propid', 'price_usd', 'std_avg_price_propid', 'srch_length_of_stay', 'price_correction', 'avg_price_propid_after', 'std_avg_price_propid_after']].describe())\n",
    "\n",
    "print(len(df['amount_hotels']), len(df['amount_hotels'].notna()))"
   ]
  },
  {
   "cell_type": "code",
   "execution_count": null,
   "metadata": {},
   "outputs": [],
   "source": [
    "\n",
    "print(\"Std before: \", df['std_avg_price_propid'].mean())\n",
    "print(\"Std after: \", df['std_avg_price_propid_after'].mean())\n",
    "df['std_avg_price_propid'][df['std_avg_price_propid'] < 2000].hist(bins=100)\n",
    "\n",
    "plt.figure()\n",
    "df['std_avg_price_propid_after'][df['std_avg_price_propid'] < 2000].hist(bins=100)"
   ]
  },
  {
   "cell_type": "code",
   "execution_count": null,
   "metadata": {},
   "outputs": [],
   "source": [
    "display(df[['prop_id','std_avg_price_propid', 'std_avg_price_propid_after']][df['std_avg_price_propid_after'] > 10000])\n",
    "display(df[df['prop_id'] == 13878])\n",
    "\n",
    "display(df[['prop_id', 'amount_hotels', 'avg_price_propid', 'price_usd', 'std_avg_price_propid', 'srch_length_of_stay', 'price_correction', 'avg_price_propid_after', 'std_avg_price_propid_after']][df['prop_id'] == 13878])"
   ]
  },
  {
   "cell_type": "code",
   "execution_count": null,
   "metadata": {},
   "outputs": [],
   "source": [
    "df.to_hdf(\"corrected_price_testset_rollback.hdf\", key='df')"
   ]
  },
  {
   "cell_type": "code",
   "execution_count": null,
   "metadata": {},
   "outputs": [],
   "source": [
    "@jit(nopython=True, parallel=True)\n",
    "def calculate_mean_per_srch_id(unique_srchids,\n",
    "                                    col_srchids,\n",
    "                                    col_price, \n",
    "                                    col_mean_per_srch_id):\n",
    "    \n",
    "    total = len(unique_srchids)\n",
    "        \n",
    "    for i, srchid in enumerate(unique_srchids):\n",
    "        \n",
    "        if i % 1000 == 0:\n",
    "            print(i, \"/\", total)\n",
    "        \n",
    "        indices = np.where(col_srchids == srchid)[0]\n",
    "\n",
    "        prices = col_price[indices]\n",
    "        mean_price = np.mean(prices)\n",
    "        \n",
    "        col_mean_per_srch_id[indices] = mean_price\n"
   ]
  },
  {
   "cell_type": "code",
   "execution_count": null,
   "metadata": {},
   "outputs": [],
   "source": [
    "def compute_mean_numba(df):\n",
    "    time_start = time.time()\n",
    "        \n",
    "    # add columns\n",
    "    columnames = list(df.columns)\n",
    "    columnames.extend([\"avg_price_srchid\"])\n",
    "\n",
    "    df = df.reindex(columns=columnames)\n",
    "\n",
    "    # get unique propids and put them into numpy array\n",
    "    srchids = np.array(df[\"srch_id\"].unique())\n",
    "    \n",
    "    print(\"Appended columns.\")\n",
    "   \n",
    "    calculate_mean_per_srch_id(srchids,\n",
    "                                    df['srch_id'].to_numpy(),\n",
    "                                    df['price_correction'].to_numpy(),\n",
    "                                    df['avg_price_srchid'].to_numpy())   \n",
    "    \n",
    "    print(\"This took: \", time.time() - time_start)\n",
    "        \n",
    "    display(df.head())\n",
    "    return df"
   ]
  },
  {
   "cell_type": "code",
   "execution_count": null,
   "metadata": {},
   "outputs": [],
   "source": [
    "df = pd.read_hdf(\"./data/corrected_price_rollback.hdf\")\n",
    "\n",
    "df2 = compute_mean_numba(df)"
   ]
  },
  {
   "cell_type": "code",
   "execution_count": null,
   "metadata": {
    "scrolled": true
   },
   "outputs": [],
   "source": [
    "display(df2[\"avg_price_srchid\"])\n",
    "# print(col_mean_per_srch_id)"
   ]
  },
  {
   "cell_type": "code",
   "execution_count": null,
   "metadata": {},
   "outputs": [],
   "source": [
    "df2.to_hdf(\"corrected_price_rollback_and_avg.hdf\", key='df2')"
   ]
  },
  {
   "cell_type": "code",
   "execution_count": null,
   "metadata": {},
   "outputs": [],
   "source": []
  }
 ],
 "metadata": {
  "kernelspec": {
   "display_name": "Python 3",
   "language": "python",
   "name": "python3"
  },
  "language_info": {
   "codemirror_mode": {
    "name": "ipython",
    "version": 3
   },
   "file_extension": ".py",
   "mimetype": "text/x-python",
   "name": "python",
   "nbconvert_exporter": "python",
   "pygments_lexer": "ipython3",
   "version": "3.7.3"
  }
 },
 "nbformat": 4,
 "nbformat_minor": 2
}
