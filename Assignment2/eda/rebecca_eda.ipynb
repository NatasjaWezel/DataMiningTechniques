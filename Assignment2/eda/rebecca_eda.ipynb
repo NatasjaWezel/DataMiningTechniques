{
 "cells": [
  {
   "cell_type": "code",
   "execution_count": 1,
   "metadata": {},
   "outputs": [],
   "source": [
    "import pandas as pd\n",
    "import matplotlib.pyplot as plt\n",
    "import pickle\n",
    "import os\n",
    "import math\n",
    "import random\n",
    "import numpy as np    \n",
    "from sklearn.ensemble import GradientBoostingClassifier"
   ]
  },
  {
   "cell_type": "markdown",
   "metadata": {},
   "source": [
    "### Exploratory Data Analysis"
   ]
  },
  {
   "cell_type": "code",
   "execution_count": 2,
   "metadata": {},
   "outputs": [
    {
     "data": {
      "text/html": [
       "<div>\n",
       "<style scoped>\n",
       "    .dataframe tbody tr th:only-of-type {\n",
       "        vertical-align: middle;\n",
       "    }\n",
       "\n",
       "    .dataframe tbody tr th {\n",
       "        vertical-align: top;\n",
       "    }\n",
       "\n",
       "    .dataframe thead th {\n",
       "        text-align: right;\n",
       "    }\n",
       "</style>\n",
       "<table border=\"1\" class=\"dataframe\">\n",
       "  <thead>\n",
       "    <tr style=\"text-align: right;\">\n",
       "      <th></th>\n",
       "      <th>srch_id</th>\n",
       "      <th>site_id</th>\n",
       "      <th>visitor_location_country_id</th>\n",
       "      <th>visitor_hist_starrating</th>\n",
       "      <th>visitor_hist_adr_usd</th>\n",
       "      <th>prop_country_id</th>\n",
       "      <th>prop_id</th>\n",
       "      <th>prop_starrating</th>\n",
       "      <th>prop_review_score</th>\n",
       "      <th>prop_brand_bool</th>\n",
       "      <th>...</th>\n",
       "      <th>comp6_rate_percent_diff</th>\n",
       "      <th>comp7_rate</th>\n",
       "      <th>comp7_inv</th>\n",
       "      <th>comp7_rate_percent_diff</th>\n",
       "      <th>comp8_rate</th>\n",
       "      <th>comp8_inv</th>\n",
       "      <th>comp8_rate_percent_diff</th>\n",
       "      <th>click_bool</th>\n",
       "      <th>gross_bookings_usd</th>\n",
       "      <th>booking_bool</th>\n",
       "    </tr>\n",
       "  </thead>\n",
       "  <tbody>\n",
       "    <tr>\n",
       "      <th>count</th>\n",
       "      <td>49335.000000</td>\n",
       "      <td>49335.000000</td>\n",
       "      <td>49335.000000</td>\n",
       "      <td>2061.000000</td>\n",
       "      <td>2105.000000</td>\n",
       "      <td>49335.000000</td>\n",
       "      <td>49335.000000</td>\n",
       "      <td>49335.000000</td>\n",
       "      <td>49255.000000</td>\n",
       "      <td>49335.000000</td>\n",
       "      <td>...</td>\n",
       "      <td>1100.000000</td>\n",
       "      <td>3742.000000</td>\n",
       "      <td>4209.000000</td>\n",
       "      <td>1705.000000</td>\n",
       "      <td>18315.000000</td>\n",
       "      <td>18895.000000</td>\n",
       "      <td>5785.000000</td>\n",
       "      <td>49335.000000</td>\n",
       "      <td>1365.000000</td>\n",
       "      <td>49335.000000</td>\n",
       "    </tr>\n",
       "    <tr>\n",
       "      <th>mean</th>\n",
       "      <td>164188.521577</td>\n",
       "      <td>10.128975</td>\n",
       "      <td>175.190372</td>\n",
       "      <td>3.427952</td>\n",
       "      <td>195.600418</td>\n",
       "      <td>173.419479</td>\n",
       "      <td>70233.165501</td>\n",
       "      <td>3.172150</td>\n",
       "      <td>3.787768</td>\n",
       "      <td>0.634053</td>\n",
       "      <td>...</td>\n",
       "      <td>17.168182</td>\n",
       "      <td>0.167557</td>\n",
       "      <td>0.089808</td>\n",
       "      <td>21.055718</td>\n",
       "      <td>-0.061807</td>\n",
       "      <td>0.009844</td>\n",
       "      <td>14.729646</td>\n",
       "      <td>0.044532</td>\n",
       "      <td>377.469392</td>\n",
       "      <td>0.027668</td>\n",
       "    </tr>\n",
       "    <tr>\n",
       "      <th>std</th>\n",
       "      <td>94670.449020</td>\n",
       "      <td>7.738712</td>\n",
       "      <td>66.350922</td>\n",
       "      <td>0.615106</td>\n",
       "      <td>103.703116</td>\n",
       "      <td>68.706884</td>\n",
       "      <td>40668.580445</td>\n",
       "      <td>1.064249</td>\n",
       "      <td>1.042209</td>\n",
       "      <td>0.481700</td>\n",
       "      <td>...</td>\n",
       "      <td>29.084044</td>\n",
       "      <td>0.592644</td>\n",
       "      <td>0.315947</td>\n",
       "      <td>52.523009</td>\n",
       "      <td>0.471767</td>\n",
       "      <td>0.194963</td>\n",
       "      <td>15.867684</td>\n",
       "      <td>0.206277</td>\n",
       "      <td>507.073012</td>\n",
       "      <td>0.164021</td>\n",
       "    </tr>\n",
       "    <tr>\n",
       "      <th>min</th>\n",
       "      <td>124.000000</td>\n",
       "      <td>1.000000</td>\n",
       "      <td>4.000000</td>\n",
       "      <td>2.000000</td>\n",
       "      <td>39.770000</td>\n",
       "      <td>2.000000</td>\n",
       "      <td>1.000000</td>\n",
       "      <td>0.000000</td>\n",
       "      <td>0.000000</td>\n",
       "      <td>0.000000</td>\n",
       "      <td>...</td>\n",
       "      <td>2.000000</td>\n",
       "      <td>-1.000000</td>\n",
       "      <td>-1.000000</td>\n",
       "      <td>2.000000</td>\n",
       "      <td>-1.000000</td>\n",
       "      <td>-1.000000</td>\n",
       "      <td>2.000000</td>\n",
       "      <td>0.000000</td>\n",
       "      <td>0.000000</td>\n",
       "      <td>0.000000</td>\n",
       "    </tr>\n",
       "    <tr>\n",
       "      <th>25%</th>\n",
       "      <td>85522.000000</td>\n",
       "      <td>5.000000</td>\n",
       "      <td>100.000000</td>\n",
       "      <td>2.960000</td>\n",
       "      <td>115.320000</td>\n",
       "      <td>100.000000</td>\n",
       "      <td>35122.000000</td>\n",
       "      <td>3.000000</td>\n",
       "      <td>3.500000</td>\n",
       "      <td>0.000000</td>\n",
       "      <td>...</td>\n",
       "      <td>5.000000</td>\n",
       "      <td>0.000000</td>\n",
       "      <td>0.000000</td>\n",
       "      <td>7.000000</td>\n",
       "      <td>0.000000</td>\n",
       "      <td>0.000000</td>\n",
       "      <td>7.000000</td>\n",
       "      <td>0.000000</td>\n",
       "      <td>120.560000</td>\n",
       "      <td>0.000000</td>\n",
       "    </tr>\n",
       "    <tr>\n",
       "      <th>50%</th>\n",
       "      <td>163166.000000</td>\n",
       "      <td>5.000000</td>\n",
       "      <td>219.000000</td>\n",
       "      <td>3.500000</td>\n",
       "      <td>165.270000</td>\n",
       "      <td>219.000000</td>\n",
       "      <td>70065.000000</td>\n",
       "      <td>3.000000</td>\n",
       "      <td>4.000000</td>\n",
       "      <td>1.000000</td>\n",
       "      <td>...</td>\n",
       "      <td>11.000000</td>\n",
       "      <td>0.000000</td>\n",
       "      <td>0.000000</td>\n",
       "      <td>12.000000</td>\n",
       "      <td>0.000000</td>\n",
       "      <td>0.000000</td>\n",
       "      <td>11.000000</td>\n",
       "      <td>0.000000</td>\n",
       "      <td>218.680000</td>\n",
       "      <td>0.000000</td>\n",
       "    </tr>\n",
       "    <tr>\n",
       "      <th>75%</th>\n",
       "      <td>242490.000000</td>\n",
       "      <td>15.000000</td>\n",
       "      <td>219.000000</td>\n",
       "      <td>3.890000</td>\n",
       "      <td>249.680000</td>\n",
       "      <td>219.000000</td>\n",
       "      <td>105183.000000</td>\n",
       "      <td>4.000000</td>\n",
       "      <td>4.500000</td>\n",
       "      <td>1.000000</td>\n",
       "      <td>...</td>\n",
       "      <td>18.000000</td>\n",
       "      <td>1.000000</td>\n",
       "      <td>0.000000</td>\n",
       "      <td>21.000000</td>\n",
       "      <td>0.000000</td>\n",
       "      <td>0.000000</td>\n",
       "      <td>17.000000</td>\n",
       "      <td>0.000000</td>\n",
       "      <td>433.450000</td>\n",
       "      <td>0.000000</td>\n",
       "    </tr>\n",
       "    <tr>\n",
       "      <th>max</th>\n",
       "      <td>332740.000000</td>\n",
       "      <td>34.000000</td>\n",
       "      <td>229.000000</td>\n",
       "      <td>5.000000</td>\n",
       "      <td>560.060000</td>\n",
       "      <td>230.000000</td>\n",
       "      <td>140816.000000</td>\n",
       "      <td>5.000000</td>\n",
       "      <td>5.000000</td>\n",
       "      <td>1.000000</td>\n",
       "      <td>...</td>\n",
       "      <td>456.000000</td>\n",
       "      <td>1.000000</td>\n",
       "      <td>1.000000</td>\n",
       "      <td>1074.000000</td>\n",
       "      <td>1.000000</td>\n",
       "      <td>1.000000</td>\n",
       "      <td>525.000000</td>\n",
       "      <td>1.000000</td>\n",
       "      <td>4902.040000</td>\n",
       "      <td>1.000000</td>\n",
       "    </tr>\n",
       "  </tbody>\n",
       "</table>\n",
       "<p>8 rows × 53 columns</p>\n",
       "</div>"
      ],
      "text/plain": [
       "             srch_id       site_id  visitor_location_country_id  \\\n",
       "count   49335.000000  49335.000000                 49335.000000   \n",
       "mean   164188.521577     10.128975                   175.190372   \n",
       "std     94670.449020      7.738712                    66.350922   \n",
       "min       124.000000      1.000000                     4.000000   \n",
       "25%     85522.000000      5.000000                   100.000000   \n",
       "50%    163166.000000      5.000000                   219.000000   \n",
       "75%    242490.000000     15.000000                   219.000000   \n",
       "max    332740.000000     34.000000                   229.000000   \n",
       "\n",
       "       visitor_hist_starrating  visitor_hist_adr_usd  prop_country_id  \\\n",
       "count              2061.000000           2105.000000     49335.000000   \n",
       "mean                  3.427952            195.600418       173.419479   \n",
       "std                   0.615106            103.703116        68.706884   \n",
       "min                   2.000000             39.770000         2.000000   \n",
       "25%                   2.960000            115.320000       100.000000   \n",
       "50%                   3.500000            165.270000       219.000000   \n",
       "75%                   3.890000            249.680000       219.000000   \n",
       "max                   5.000000            560.060000       230.000000   \n",
       "\n",
       "             prop_id  prop_starrating  prop_review_score  prop_brand_bool  \\\n",
       "count   49335.000000     49335.000000       49255.000000     49335.000000   \n",
       "mean    70233.165501         3.172150           3.787768         0.634053   \n",
       "std     40668.580445         1.064249           1.042209         0.481700   \n",
       "min         1.000000         0.000000           0.000000         0.000000   \n",
       "25%     35122.000000         3.000000           3.500000         0.000000   \n",
       "50%     70065.000000         3.000000           4.000000         1.000000   \n",
       "75%    105183.000000         4.000000           4.500000         1.000000   \n",
       "max    140816.000000         5.000000           5.000000         1.000000   \n",
       "\n",
       "       ...  comp6_rate_percent_diff   comp7_rate    comp7_inv  \\\n",
       "count  ...              1100.000000  3742.000000  4209.000000   \n",
       "mean   ...                17.168182     0.167557     0.089808   \n",
       "std    ...                29.084044     0.592644     0.315947   \n",
       "min    ...                 2.000000    -1.000000    -1.000000   \n",
       "25%    ...                 5.000000     0.000000     0.000000   \n",
       "50%    ...                11.000000     0.000000     0.000000   \n",
       "75%    ...                18.000000     1.000000     0.000000   \n",
       "max    ...               456.000000     1.000000     1.000000   \n",
       "\n",
       "       comp7_rate_percent_diff    comp8_rate     comp8_inv  \\\n",
       "count              1705.000000  18315.000000  18895.000000   \n",
       "mean                 21.055718     -0.061807      0.009844   \n",
       "std                  52.523009      0.471767      0.194963   \n",
       "min                   2.000000     -1.000000     -1.000000   \n",
       "25%                   7.000000      0.000000      0.000000   \n",
       "50%                  12.000000      0.000000      0.000000   \n",
       "75%                  21.000000      0.000000      0.000000   \n",
       "max                1074.000000      1.000000      1.000000   \n",
       "\n",
       "       comp8_rate_percent_diff    click_bool  gross_bookings_usd  booking_bool  \n",
       "count              5785.000000  49335.000000         1365.000000  49335.000000  \n",
       "mean                 14.729646      0.044532          377.469392      0.027668  \n",
       "std                  15.867684      0.206277          507.073012      0.164021  \n",
       "min                   2.000000      0.000000            0.000000      0.000000  \n",
       "25%                   7.000000      0.000000          120.560000      0.000000  \n",
       "50%                  11.000000      0.000000          218.680000      0.000000  \n",
       "75%                  17.000000      0.000000          433.450000      0.000000  \n",
       "max                 525.000000      1.000000         4902.040000      1.000000  \n",
       "\n",
       "[8 rows x 53 columns]"
      ]
     },
     "metadata": {},
     "output_type": "display_data"
    }
   ],
   "source": [
    "# df_loaded = pd.read_csv(\"data/training_set_VU_DM.csv\")\n",
    "df_loaded = pickle.load(open(\"pickles/df_small_train.pkl\", \"rb\"))\n",
    "display(df_loaded.describe())"
   ]
  },
  {
   "cell_type": "code",
   "execution_count": 42,
   "metadata": {
    "scrolled": false
   },
   "outputs": [
    {
     "data": {
      "text/html": [
       "<div>\n",
       "<style scoped>\n",
       "    .dataframe tbody tr th:only-of-type {\n",
       "        vertical-align: middle;\n",
       "    }\n",
       "\n",
       "    .dataframe tbody tr th {\n",
       "        vertical-align: top;\n",
       "    }\n",
       "\n",
       "    .dataframe thead th {\n",
       "        text-align: right;\n",
       "    }\n",
       "</style>\n",
       "<table border=\"1\" class=\"dataframe\">\n",
       "  <thead>\n",
       "    <tr style=\"text-align: right;\">\n",
       "      <th></th>\n",
       "      <th>srch_id</th>\n",
       "      <th>date_time</th>\n",
       "      <th>site_id</th>\n",
       "      <th>visitor_location_country_id</th>\n",
       "      <th>visitor_hist_starrating</th>\n",
       "      <th>visitor_hist_adr_usd</th>\n",
       "      <th>prop_country_id</th>\n",
       "      <th>prop_id</th>\n",
       "      <th>prop_starrating</th>\n",
       "      <th>prop_review_score</th>\n",
       "      <th>...</th>\n",
       "      <th>month</th>\n",
       "      <th>combine_inv_rate1</th>\n",
       "      <th>combine_inv_rate2</th>\n",
       "      <th>combine_inv_rate3</th>\n",
       "      <th>combine_inv_rate4</th>\n",
       "      <th>combine_inv_rate5</th>\n",
       "      <th>combine_inv_rate6</th>\n",
       "      <th>combine_inv_rate7</th>\n",
       "      <th>combine_inv_rate8</th>\n",
       "      <th>competitor_bool</th>\n",
       "    </tr>\n",
       "  </thead>\n",
       "  <tbody>\n",
       "    <tr>\n",
       "      <th>1196703</th>\n",
       "      <td>79994</td>\n",
       "      <td>2013-01-03 13:23:33</td>\n",
       "      <td>29</td>\n",
       "      <td>132</td>\n",
       "      <td>NaN</td>\n",
       "      <td>NaN</td>\n",
       "      <td>219</td>\n",
       "      <td>2990</td>\n",
       "      <td>3</td>\n",
       "      <td>4.5</td>\n",
       "      <td>...</td>\n",
       "      <td>1</td>\n",
       "      <td>NaN</td>\n",
       "      <td>0.0</td>\n",
       "      <td>0.0</td>\n",
       "      <td>NaN</td>\n",
       "      <td>0.0</td>\n",
       "      <td>NaN</td>\n",
       "      <td>NaN</td>\n",
       "      <td>0.0</td>\n",
       "      <td>0</td>\n",
       "    </tr>\n",
       "    <tr>\n",
       "      <th>1196704</th>\n",
       "      <td>79994</td>\n",
       "      <td>2013-01-03 13:23:33</td>\n",
       "      <td>29</td>\n",
       "      <td>132</td>\n",
       "      <td>NaN</td>\n",
       "      <td>NaN</td>\n",
       "      <td>219</td>\n",
       "      <td>4256</td>\n",
       "      <td>4</td>\n",
       "      <td>4.5</td>\n",
       "      <td>...</td>\n",
       "      <td>1</td>\n",
       "      <td>NaN</td>\n",
       "      <td>NaN</td>\n",
       "      <td>0.0</td>\n",
       "      <td>NaN</td>\n",
       "      <td>0.0</td>\n",
       "      <td>NaN</td>\n",
       "      <td>NaN</td>\n",
       "      <td>0.0</td>\n",
       "      <td>0</td>\n",
       "    </tr>\n",
       "    <tr>\n",
       "      <th>1196705</th>\n",
       "      <td>79994</td>\n",
       "      <td>2013-01-03 13:23:33</td>\n",
       "      <td>29</td>\n",
       "      <td>132</td>\n",
       "      <td>NaN</td>\n",
       "      <td>NaN</td>\n",
       "      <td>219</td>\n",
       "      <td>6427</td>\n",
       "      <td>4</td>\n",
       "      <td>4.0</td>\n",
       "      <td>...</td>\n",
       "      <td>1</td>\n",
       "      <td>NaN</td>\n",
       "      <td>NaN</td>\n",
       "      <td>NaN</td>\n",
       "      <td>NaN</td>\n",
       "      <td>0.0</td>\n",
       "      <td>NaN</td>\n",
       "      <td>NaN</td>\n",
       "      <td>0.0</td>\n",
       "      <td>0</td>\n",
       "    </tr>\n",
       "    <tr>\n",
       "      <th>1196706</th>\n",
       "      <td>79994</td>\n",
       "      <td>2013-01-03 13:23:33</td>\n",
       "      <td>29</td>\n",
       "      <td>132</td>\n",
       "      <td>NaN</td>\n",
       "      <td>NaN</td>\n",
       "      <td>219</td>\n",
       "      <td>8289</td>\n",
       "      <td>4</td>\n",
       "      <td>4.5</td>\n",
       "      <td>...</td>\n",
       "      <td>1</td>\n",
       "      <td>NaN</td>\n",
       "      <td>0.0</td>\n",
       "      <td>0.0</td>\n",
       "      <td>NaN</td>\n",
       "      <td>0.0</td>\n",
       "      <td>NaN</td>\n",
       "      <td>NaN</td>\n",
       "      <td>0.0</td>\n",
       "      <td>0</td>\n",
       "    </tr>\n",
       "    <tr>\n",
       "      <th>1196707</th>\n",
       "      <td>79994</td>\n",
       "      <td>2013-01-03 13:23:33</td>\n",
       "      <td>29</td>\n",
       "      <td>132</td>\n",
       "      <td>NaN</td>\n",
       "      <td>NaN</td>\n",
       "      <td>219</td>\n",
       "      <td>13668</td>\n",
       "      <td>4</td>\n",
       "      <td>4.0</td>\n",
       "      <td>...</td>\n",
       "      <td>1</td>\n",
       "      <td>NaN</td>\n",
       "      <td>0.0</td>\n",
       "      <td>0.0</td>\n",
       "      <td>NaN</td>\n",
       "      <td>0.0</td>\n",
       "      <td>NaN</td>\n",
       "      <td>NaN</td>\n",
       "      <td>0.0</td>\n",
       "      <td>0</td>\n",
       "    </tr>\n",
       "  </tbody>\n",
       "</table>\n",
       "<p>5 rows × 65 columns</p>\n",
       "</div>"
      ],
      "text/plain": [
       "         srch_id           date_time  site_id  visitor_location_country_id  \\\n",
       "1196703    79994 2013-01-03 13:23:33       29                          132   \n",
       "1196704    79994 2013-01-03 13:23:33       29                          132   \n",
       "1196705    79994 2013-01-03 13:23:33       29                          132   \n",
       "1196706    79994 2013-01-03 13:23:33       29                          132   \n",
       "1196707    79994 2013-01-03 13:23:33       29                          132   \n",
       "\n",
       "         visitor_hist_starrating  visitor_hist_adr_usd  prop_country_id  \\\n",
       "1196703                      NaN                   NaN              219   \n",
       "1196704                      NaN                   NaN              219   \n",
       "1196705                      NaN                   NaN              219   \n",
       "1196706                      NaN                   NaN              219   \n",
       "1196707                      NaN                   NaN              219   \n",
       "\n",
       "         prop_id  prop_starrating  prop_review_score  ...  month  \\\n",
       "1196703     2990                3                4.5  ...      1   \n",
       "1196704     4256                4                4.5  ...      1   \n",
       "1196705     6427                4                4.0  ...      1   \n",
       "1196706     8289                4                4.5  ...      1   \n",
       "1196707    13668                4                4.0  ...      1   \n",
       "\n",
       "         combine_inv_rate1  combine_inv_rate2  combine_inv_rate3  \\\n",
       "1196703                NaN                0.0                0.0   \n",
       "1196704                NaN                NaN                0.0   \n",
       "1196705                NaN                NaN                NaN   \n",
       "1196706                NaN                0.0                0.0   \n",
       "1196707                NaN                0.0                0.0   \n",
       "\n",
       "         combine_inv_rate4  combine_inv_rate5  combine_inv_rate6  \\\n",
       "1196703                NaN                0.0                NaN   \n",
       "1196704                NaN                0.0                NaN   \n",
       "1196705                NaN                0.0                NaN   \n",
       "1196706                NaN                0.0                NaN   \n",
       "1196707                NaN                0.0                NaN   \n",
       "\n",
       "         combine_inv_rate7  combine_inv_rate8  competitor_bool  \n",
       "1196703                NaN                0.0                0  \n",
       "1196704                NaN                0.0                0  \n",
       "1196705                NaN                0.0                0  \n",
       "1196706                NaN                0.0                0  \n",
       "1196707                NaN                0.0                0  \n",
       "\n",
       "[5 rows x 65 columns]"
      ]
     },
     "execution_count": 42,
     "metadata": {},
     "output_type": "execute_result"
    }
   ],
   "source": [
    "# temporally store\n",
    "df = df_loaded\n",
    "df.head(5)"
   ]
  },
  {
   "cell_type": "markdown",
   "metadata": {},
   "source": [
    "### In this dataset we count 129.113 unique hotels"
   ]
  },
  {
   "cell_type": "code",
   "execution_count": 4,
   "metadata": {},
   "outputs": [],
   "source": [
    "# Change time information to year and month columns\n",
    "df[\"date_time\"] = pd.to_datetime(df[\"date_time\"])\n",
    "df[\"year\"] = df[\"date_time\"].dt.year\n",
    "df[\"month\"] = df[\"date_time\"].dt.month"
   ]
  },
  {
   "cell_type": "markdown",
   "metadata": {},
   "source": [
    "## Analyse comp_rate_diff --> difference in price for Expedia competitor and difference in availability"
   ]
  },
  {
   "cell_type": "code",
   "execution_count": 5,
   "metadata": {},
   "outputs": [
    {
     "name": "stderr",
     "output_type": "stream",
     "text": [
      "/Library/Frameworks/Python.framework/Versions/3.7/lib/python3.7/site-packages/statsmodels/tools/_testing.py:19: FutureWarning: pandas.util.testing is deprecated. Use the functions in the public API at pandas.testing instead.\n",
      "  import pandas.util.testing as tm\n"
     ]
    },
    {
     "data": {
      "image/png": "[encoded data removed]",
      "text/plain": [
       "<Figure size 720x360 with 1 Axes>"
      ]
     },
     "metadata": {},
     "output_type": "display_data"
    }
   ],
   "source": [
    "import seaborn as sns\n",
    "sns.set()\n",
    "\n",
    "compare_cols = [\"comp1_rate\", \"comp2_rate\", \"comp3_rate\", \"comp4_rate\", \"comp5_rate\",\n",
    "                \"comp6_rate\", \"comp7_rate\", \"comp8_rate\"]\n",
    "\n",
    "total_diff = []\n",
    "[total_diff.append(np.mean(df[col])) for col in compare_cols]\n",
    "\n",
    "def showcompareplot(compare_cols, total_diff, title):\n",
    "    fig, ax = plt.subplots(figsize=(10,5))\n",
    "    ax.set(ylabel='Mean of the whole column', title=title)\n",
    "    sns.barplot(compare_cols, total_diff)\n",
    "\n",
    "showcompareplot(compare_cols, total_diff, title=\"Price in comparison to competitor 1 for all data; \\\n",
    "            positive = lower price!\")"
   ]
  },
  {
   "cell_type": "markdown",
   "metadata": {},
   "source": [
    "### On average, Expedia has a lower price than competitor 1 for the hotel. For competitor 4, Expedia has a higher price (on average!). However, when we look at availability we see that for competitor 4, the availability is slightly higher than other competitors. On the other hand, this is only about 10%. "
   ]
  },
  {
   "cell_type": "code",
   "execution_count": 6,
   "metadata": {},
   "outputs": [
    {
     "data": {
      "image/png": "[encoded data removed]",
      "text/plain": [
       "<Figure size 720x360 with 1 Axes>"
      ]
     },
     "metadata": {},
     "output_type": "display_data"
    }
   ],
   "source": [
    "compare_cols_inv = [\"comp1_inv\", \"comp2_inv\", \"comp3_inv\", \"comp4_inv\", \"comp5_inv\",\n",
    "                \"comp6_inv\", \"comp7_inv\", \"comp8_inv\"]\n",
    "\n",
    "total_diff = []\n",
    "[total_diff.append(np.mean(df[col])) for col in compare_cols_inv]\n",
    "    \n",
    "showcompareplot(compare_cols_inv, total_diff, \"Availability rates for all dataset\")"
   ]
  },
  {
   "cell_type": "code",
   "execution_count": 7,
   "metadata": {},
   "outputs": [
    {
     "data": {
      "image/png": "[encoded data removed]",
      "text/plain": [
       "<Figure size 720x360 with 1 Axes>"
      ]
     },
     "metadata": {},
     "output_type": "display_data"
    }
   ],
   "source": [
    "# Add comp_inv and comp_rate together \n",
    "for i in range (len(compare_cols)):\n",
    "    df[\"combine_inv_rate\" + str(i + 1)] = df[compare_cols_inv[i]] + df[compare_cols[i]]\n",
    "\n",
    "compare_cols_total = [\"combine_inv_rate1\", \"combine_inv_rate2\", \"combine_inv_rate3\", \"combine_inv_rate4\",\n",
    "                      \"combine_inv_rate5\", \"combine_inv_rate6\", \"combine_inv_rate7\", \"combine_inv_rate8\"]\n",
    "total_diff = []\n",
    "[total_diff.append(np.mean(df[col])) for col in compare_cols_total]\n",
    "    \n",
    "showcompareplot(compare_cols_total, total_diff, \"Availability rates for all dataset\")"
   ]
  },
  {
   "cell_type": "code",
   "execution_count": 8,
   "metadata": {},
   "outputs": [],
   "source": [
    "# Make a new column for when there exists a competitor\n",
    "competitor_bools = []\n",
    "\n",
    "for index, row in df.iterrows():\n",
    "    comp_bool = 0\n",
    "    \n",
    "    # compare_cols_total exists of a column of data from comp_rate and comp_inv,\n",
    "    # so, a combination of competitor price and room-availability. \n",
    "    for competitor in compare_cols_total:\n",
    "        if row[competitor] == 1:\n",
    "            comp_bool = 1\n",
    "    competitor_bools.append(comp_bool)\n",
    "df[\"competitor_bool\"] = competitor_bools"
   ]
  },
  {
   "cell_type": "code",
   "execution_count": 9,
   "metadata": {},
   "outputs": [
    {
     "data": {
      "text/plain": [
       "Text(0.5, 1.0, 'Existence of a competitor; 0 = False, 1 = True')"
      ]
     },
     "execution_count": 9,
     "metadata": {},
     "output_type": "execute_result"
    },
    {
     "data": {
      "image/png": "[encoded data removed]",
      "text/plain": [
       "<Figure size 288x288 with 1 Axes>"
      ]
     },
     "metadata": {},
     "output_type": "display_data"
    }
   ],
   "source": [
    "plt.figure(figsize=(4, 4))\n",
    "sns.countplot(x=\"competitor_bool\", data=df).set_title(\"Existence of a competitor; 0 = False, 1 = True\")"
   ]
  },
  {
   "cell_type": "code",
   "execution_count": 10,
   "metadata": {},
   "outputs": [],
   "source": [
    "# Drop all other comp_rate and comp_inv columns:\n",
    "df = df.drop(compare_cols_inv, axis=1)\n",
    "df = df.drop(compare_cols, axis=1)\n",
    "df = df.drop(compare_cols_total, axis=1)"
   ]
  },
  {
   "cell_type": "markdown",
   "metadata": {},
   "source": [
    "### Most people search for a one night stay and with two people (adults) and no children. "
   ]
  },
  {
   "cell_type": "code",
   "execution_count": 11,
   "metadata": {},
   "outputs": [
    {
     "data": {
      "text/plain": [
       "<matplotlib.axes._subplots.AxesSubplot at 0x1278dd7f0>"
      ]
     },
     "execution_count": 11,
     "metadata": {},
     "output_type": "execute_result"
    },
    {
     "data": {
      "image/png": "[encoded data removed]",
      "text/plain": [
       "<Figure size 792x360 with 1 Axes>"
      ]
     },
     "metadata": {},
     "output_type": "display_data"
    },
    {
     "data": {
      "image/png": "[encoded data removed]",
      "text/plain": [
       "<Figure size 792x288 with 1 Axes>"
      ]
     },
     "metadata": {},
     "output_type": "display_data"
    },
    {
     "data": {
      "image/png": "[encoded data removed]",
      "text/plain": [
       "<Figure size 792x288 with 1 Axes>"
      ]
     },
     "metadata": {},
     "output_type": "display_data"
    }
   ],
   "source": [
    "plt.figure(figsize=(11, 5))\n",
    "sns.countplot(x=\"srch_length_of_stay\", data=df)\n",
    "\n",
    "plt.figure(figsize=(11, 4))\n",
    "sns.countplot(x=\"srch_adults_count\", data=df)\n",
    "\n",
    "plt.figure(figsize=(11, 4))\n",
    "sns.countplot(x=\"srch_children_count\", data=df)"
   ]
  },
  {
   "cell_type": "markdown",
   "metadata": {},
   "source": [
    "### Most people visit the website from the US (id = 219)."
   ]
  },
  {
   "cell_type": "code",
   "execution_count": 12,
   "metadata": {},
   "outputs": [
    {
     "name": "stdout",
     "output_type": "stream",
     "text": [
      "[219, 100, 55, 216, 220]\n"
     ]
    },
    {
     "data": {
      "text/plain": [
       "<matplotlib.legend.Legend at 0x11b649da0>"
      ]
     },
     "execution_count": 12,
     "metadata": {},
     "output_type": "execute_result"
    },
    {
     "data": {
      "image/png": "[encoded data removed]",
      "text/plain": [
       "<Figure size 432x288 with 1 Axes>"
      ]
     },
     "metadata": {},
     "output_type": "display_data"
    }
   ],
   "source": [
    "# Get five most frequent countries \n",
    "print(df['visitor_location_country_id'].value_counts()[:5].index.tolist())\n",
    "sns.distplot(df['visitor_location_country_id'], label=\"User country\")\n",
    "plt.legend()"
   ]
  },
  {
   "cell_type": "markdown",
   "metadata": {},
   "source": [
    "## Clean price data\n",
    "\n",
    "#### There are a lot of prices between 7 and 240, then outlying category between 240 and 554655:\n",
    "#### Categories (7, interval[float64]): [(6.0889999999999995, 69.0] < (69.0, 90.0] < (90.0, 110.0] < (110.0, 136.0] < (136.0, 170.077] < (170.077, 239.0] < (239.0, 554655.0]]\n",
    "\n",
    "## Note that different countries have different conventions regarding displaying taxes and fees and the value may be per night or for the whole stay\n",
    "\n",
    "## For this reason, the choice was made to only select the US "
   ]
  },
  {
   "cell_type": "code",
   "execution_count": 13,
   "metadata": {},
   "outputs": [],
   "source": [
    "df_us = df.loc[df['visitor_location_country_id'] == 219].copy()"
   ]
  },
  {
   "cell_type": "markdown",
   "metadata": {},
   "source": [
    "### There are a lot less clicks for the hotels with higher price (as expected)"
   ]
  },
  {
   "cell_type": "code",
   "execution_count": 14,
   "metadata": {},
   "outputs": [
    {
     "data": {
      "text/html": [
       "<div>\n",
       "<style scoped>\n",
       "    .dataframe tbody tr th:only-of-type {\n",
       "        vertical-align: middle;\n",
       "    }\n",
       "\n",
       "    .dataframe tbody tr th {\n",
       "        vertical-align: top;\n",
       "    }\n",
       "\n",
       "    .dataframe thead th {\n",
       "        text-align: right;\n",
       "    }\n",
       "</style>\n",
       "<table border=\"1\" class=\"dataframe\">\n",
       "  <thead>\n",
       "    <tr style=\"text-align: right;\">\n",
       "      <th></th>\n",
       "      <th>count</th>\n",
       "      <th>mean</th>\n",
       "      <th>std</th>\n",
       "      <th>min</th>\n",
       "      <th>25%</th>\n",
       "      <th>50%</th>\n",
       "      <th>75%</th>\n",
       "      <th>max</th>\n",
       "    </tr>\n",
       "    <tr>\n",
       "      <th>click_bool</th>\n",
       "      <th></th>\n",
       "      <th></th>\n",
       "      <th></th>\n",
       "      <th></th>\n",
       "      <th></th>\n",
       "      <th></th>\n",
       "      <th></th>\n",
       "      <th></th>\n",
       "    </tr>\n",
       "  </thead>\n",
       "  <tbody>\n",
       "    <tr>\n",
       "      <th>0</th>\n",
       "      <td>27454.0</td>\n",
       "      <td>308.040788</td>\n",
       "      <td>5721.827452</td>\n",
       "      <td>13.0</td>\n",
       "      <td>81.0</td>\n",
       "      <td>116.0</td>\n",
       "      <td>171.0</td>\n",
       "      <td>418446.0</td>\n",
       "    </tr>\n",
       "    <tr>\n",
       "      <th>1</th>\n",
       "      <td>1221.0</td>\n",
       "      <td>227.268182</td>\n",
       "      <td>3210.130045</td>\n",
       "      <td>23.0</td>\n",
       "      <td>84.0</td>\n",
       "      <td>112.0</td>\n",
       "      <td>159.0</td>\n",
       "      <td>112266.0</td>\n",
       "    </tr>\n",
       "  </tbody>\n",
       "</table>\n",
       "</div>"
      ],
      "text/plain": [
       "              count        mean          std   min   25%    50%    75%  \\\n",
       "click_bool                                                               \n",
       "0           27454.0  308.040788  5721.827452  13.0  81.0  116.0  171.0   \n",
       "1            1221.0  227.268182  3210.130045  23.0  84.0  112.0  159.0   \n",
       "\n",
       "                 max  \n",
       "click_bool            \n",
       "0           418446.0  \n",
       "1           112266.0  "
      ]
     },
     "execution_count": 14,
     "metadata": {},
     "output_type": "execute_result"
    }
   ],
   "source": [
    "# Correct for number of nights\n",
    "df_us[\"price_correction\"] = df_us[\"price_usd\"] / df_us[\"srch_length_of_stay\"]\n",
    "\n",
    "df_us.groupby('click_bool')['price_usd'].describe()"
   ]
  },
  {
   "cell_type": "code",
   "execution_count": null,
   "metadata": {},
   "outputs": [],
   "source": [
    "df_us['PriceBand'] = pd.qcut(df_us[\"price_correction\"], 7)\n",
    "df_us['PriceBand'].head(10)"
   ]
  },
  {
   "cell_type": "code",
   "execution_count": 15,
   "metadata": {},
   "outputs": [
    {
     "data": {
      "text/plain": [
       "1050185      (29.5, 46.0]\n",
       "1050186      (63.0, 83.0]\n",
       "1050187      (63.0, 83.0]\n",
       "1050188      (46.0, 63.0]\n",
       "1050189    (108.5, 150.0]\n",
       "1050190      (46.0, 63.0]\n",
       "1050191      (63.0, 83.0]\n",
       "1050192     (83.0, 108.5]\n",
       "1050193      (46.0, 63.0]\n",
       "1050194      (29.5, 46.0]\n",
       "Name: PriceBand, dtype: category\n",
       "Categories (7, interval[float64]): [(1.7770000000000001, 29.5] < (29.5, 46.0] < (46.0, 63.0] < (63.0, 83.0] < (83.0, 108.5] < (108.5, 150.0] < (150.0, 418446.0]]"
      ]
     },
     "execution_count": 15,
     "metadata": {},
     "output_type": "execute_result"
    }
   ],
   "source": [
    "import seaborn as sns\n",
    "import matplotlib.pylab as plt\n",
    "\n",
    "plt.clf()\n",
    "plt.xlim(0, 1000)\n",
    "sns.distplot(df_us['price_usd'], bins=10000, label=\"User country\")"
   ]
  },
  {
   "cell_type": "code",
   "execution_count": 16,
   "metadata": {},
   "outputs": [],
   "source": [
    "# Categorize into labels\n",
    "df_us['PriceBand'] = pd.qcut(df_us[\"price_correction\"], 7, labels=[0,1,2,3,4,5,6])"
   ]
  },
  {
   "cell_type": "markdown",
   "metadata": {},
   "source": [
    "### Add column that tells us whether someone has visited a hotel before"
   ]
  },
  {
   "cell_type": "code",
   "execution_count": 50,
   "metadata": {},
   "outputs": [],
   "source": [
    "hist_starrating = df.visitor_hist_starrating.isna()\n",
    "hist_adr = df.visitor_hist_adr_usd.isna()\n",
    "\n",
    "# Dit kan waarschijnlijk veel mooier en sneller maar het werkt...\n",
    "total_visited = []\n",
    "for index, row in df.iterrows():\n",
    "    if hist_starrating[index] or hist_adr[index]:\n",
    "        visited = 0\n",
    "    else:\n",
    "        visited = 1\n",
    "    total_visited.append(visited)\n",
    "    \n",
    "df[\"total_visited\"] = total_visited\n",
    "\n",
    "# lookup = df.loc[:, 'visitor_hist_starrating':'visitor_hist_adr_usd'].notnull().idxmax(1)\n",
    "# df.assign(visited_before=df.lookup(lookup.index, lookup.values))"
   ]
  },
  {
   "cell_type": "code",
   "execution_count": 51,
   "metadata": {},
   "outputs": [
    {
     "data": {
      "text/plain": [
       "Text(0.5, 1.0, 'Visited hotel before or not; 0 = False, 1 = True')"
      ]
     },
     "execution_count": 51,
     "metadata": {},
     "output_type": "execute_result"
    },
    {
     "data": {
      "image/png": "[encoded data removed]",
      "text/plain": [
       "<Figure size 288x288 with 1 Axes>"
      ]
     },
     "metadata": {},
     "output_type": "display_data"
    }
   ],
   "source": [
    "plt.figure(figsize=(4, 4))\n",
    "sns.countplot(x=\"total_visited\", data=df).set_title(\"Visited hotel before or not; 0 = False, 1 = True\")"
   ]
  },
  {
   "cell_type": "code",
   "execution_count": null,
   "metadata": {},
   "outputs": [],
   "source": [
    "sns.distplot(df['prop_location_score1'], label=\"prop_location_score\")"
   ]
  }
 ],
 "metadata": {
  "kernelspec": {
   "display_name": "Python 3",
   "language": "python",
   "name": "python3"
  },
  "language_info": {
   "codemirror_mode": {
    "name": "ipython",
    "version": 3
   },
   "file_extension": ".py",
   "mimetype": "text/x-python",
   "name": "python",
   "nbconvert_exporter": "python",
   "pygments_lexer": "ipython3",
   "version": "3.7.1"
  }
 },
 "nbformat": 4,
 "nbformat_minor": 2
}
