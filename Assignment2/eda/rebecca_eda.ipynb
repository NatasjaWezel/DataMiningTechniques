{
 "cells": [
  {
   "cell_type": "code",
   "execution_count": null,
   "metadata": {},
   "outputs": [],
   "source": [
    "import pandas as pd\n",
    "import matplotlib.pyplot as plt\n",
    "import pickle\n",
    "import os\n",
    "import math\n",
    "import random\n",
    "import numpy as np    \n",
    "import seaborn as sns\n",
    "import missingno as msno\n",
    "\n",
    "# Configure Visualization Defaults\n",
    "%matplotlib inline\n",
    "plt.rcParams['figure.figsize'] = 12,8"
   ]
  },
  {
   "cell_type": "markdown",
   "metadata": {},
   "source": [
    "### Exploratory Data Analysis"
   ]
  },
  {
   "cell_type": "code",
   "execution_count": null,
   "metadata": {},
   "outputs": [],
   "source": [
    "df = pd.read_csv(\"../data/training_set_VU_DM.csv\", nrows=3000)\n",
    "# df = pd.read_csv(\"../data/training_set_VU_DM.csv\")"
   ]
  },
  {
   "cell_type": "code",
   "execution_count": null,
   "metadata": {},
   "outputs": [],
   "source": [
    "df.head()"
   ]
  },
  {
   "cell_type": "markdown",
   "metadata": {},
   "source": [
    "### In this dataset we count 129.113 unique hotels"
   ]
  },
  {
   "cell_type": "code",
   "execution_count": null,
   "metadata": {},
   "outputs": [],
   "source": [
    "# Change time information to year and month columns\n",
    "df[\"date_time\"] = pd.to_datetime(df[\"date_time\"])\n",
    "df[\"year\"] = df[\"date_time\"].dt.year\n",
    "df[\"month\"] = df[\"date_time\"].dt.month"
   ]
  },
  {
   "cell_type": "code",
   "execution_count": null,
   "metadata": {},
   "outputs": [],
   "source": [
    "# Correlation heatmap of dataset\n",
    "def correlation_heatmap(df):\n",
    "    sns.set(font_scale=1)\n",
    "    fig = plt.figure()\n",
    "    _ , ax = plt.subplots(figsize =(9, 9))\n",
    "#     colormap = sns.diverging_palette(220, 10, as_cmap = True)\n",
    "    cmap = sns.cubehelix_palette(light=1.2, as_cmap=True)\n",
    "    plt.title('Pearson correlation matrix of proptery features',fontdict = {'fontsize' : 16})\n",
    "    cbar_ax = _.add_axes([.905, .3, .05, .5])\n",
    "    _ = sns.heatmap(\n",
    "        df.corr(), \n",
    "        cmap = cmap,\n",
    "        square=True,\n",
    "        ax=ax,\n",
    "        annot=True, \n",
    "        linewidths=0.1,vmax=1.0, linecolor='white',\n",
    "        annot_kws={'fontsize':10 },\n",
    "        cbar_ax = cbar_ax)\n",
    "#     _.figure.tight_layout()"
   ]
  },
  {
   "cell_type": "code",
   "execution_count": null,
   "metadata": {},
   "outputs": [],
   "source": [
    "# Groups of attributes\n",
    "visitor = list(range(3,6))\n",
    "prop = list(range(6,17))\n",
    "prop.remove(14)\n",
    "srch = list(range(17,24))\n",
    "target = list(range(51,54))\n",
    "target.append(14)\n",
    "\n",
    "correlation_heatmap(df.iloc[:,prop+target])\n",
    "\n",
    "plt.savefig(\"../plots/correlation.pdf\", bbox_inches='tight')"
   ]
  },
  {
   "cell_type": "code",
   "execution_count": null,
   "metadata": {},
   "outputs": [],
   "source": [
    "from matplotlib.ticker import PercentFormatter\n",
    "\n",
    "sns.set()\n",
    "df_random = df[df['random_bool'] == 1]\n",
    "hist1 = df_random.loc[df_random['click_bool'] == 1, 'position']\n",
    "df_nonrandom = df[df['random_bool'] == 0]\n",
    "hist2 = df_nonrandom.loc[df_nonrandom['click_bool'] == 1, 'position']\n",
    "\n",
    "# fig = plt.gcf()\n",
    "\n",
    "fig, ax = plt.subplots(figsize=(6,3))\n",
    "\n",
    "a_heights, a_bins = np.histogram(hist1, bins=40,  weights=np.ones(len(hist1)) / len(hist1))\n",
    "b_heights, b_bins = np.histogram(hist2, bins=a_bins,  weights=np.ones(len(hist2)) / len(hist2))\n",
    "\n",
    "width = (a_bins[1] - a_bins[0])\n",
    "\n",
    "ax.bar(a_bins[:-1], a_heights, width=width, facecolor='cornflowerblue')\n",
    "ax.bar(b_bins[:-1]+width - 0.93, b_heights, width=width, facecolor='seagreen', bottom=a_heights)\n",
    "\n",
    "plt.legend([\"Random order\", \"Non-random order\"])\n",
    "plt.title(\"Number of clicks per position for random and non random order\")\n",
    "plt.ylabel(\"Clicks\")\n",
    "plt.xlabel(\"Position\")\n",
    "plt.gca().yaxis.set_major_formatter(PercentFormatter(1))\n",
    "plt.show()\n",
    "\n",
    "\n",
    "fig.savefig(\"../plots/bookings_per_pos.pdf\", bbox_inches='tight')"
   ]
  },
  {
   "cell_type": "code",
   "execution_count": null,
   "metadata": {},
   "outputs": [],
   "source": [
    "import seaborn as sns\n",
    "sns.set()\n",
    "\n",
    "fig, ax = plt.subplots(figsize=(14,3))\n",
    "missing = df.isnull().sum()/len(df)*100\n",
    "missing.sort_values(inplace=True)\n",
    "plt.xticks(rotation=90)\n",
    "plt.ylabel(\"Percentage of missing values\")\n",
    "plt.title(\"Overview of missing values for the trainingset\")\n",
    "plt.bar(missing.index, height = missing, color=\"seagreen\")\n",
    "plt.savefig(\"../plots/missingvalues.pdf\", bbox_inches = 'tight')"
   ]
  },
  {
   "cell_type": "code",
   "execution_count": null,
   "metadata": {},
   "outputs": [],
   "source": [
    "# msno.matrix(df, labels=True, figsize=(20, 5))\n",
    "# msno.bar(df2, labels=True, figsize=(20, 5))\n",
    "# dendo = msno.dendrogram(df)\n",
    "# fig_copy = dendo.get_figure()\n",
    "# fig_copy.savefig(\"../plots/dendogram.pdf\")"
   ]
  },
  {
   "cell_type": "markdown",
   "metadata": {},
   "source": [
    "## Analyse comp_rate_diff --> difference in price for Expedia competitor and difference in availability"
   ]
  },
  {
   "cell_type": "code",
   "execution_count": null,
   "metadata": {},
   "outputs": [],
   "source": [
    "import seaborn as sns\n",
    "sns.set()\n",
    "\n",
    "compare_cols = [\"comp1_rate\", \"comp2_rate\", \"comp3_rate\", \"comp4_rate\", \"comp5_rate\",\n",
    "                \"comp6_rate\", \"comp7_rate\", \"comp8_rate\"]\n",
    "\n",
    "total_diff = []\n",
    "[total_diff.append(np.mean(df[col])) for col in compare_cols]\n",
    "\n",
    "def showcompareplot(compare_cols, total_diff, title):\n",
    "    fig, ax = plt.subplots(figsize=(10,5))\n",
    "    ax.set(ylabel='Mean of the whole column', title=title)\n",
    "    sns.barplot(compare_cols, total_diff)\n",
    "\n",
    "showcompareplot(compare_cols, total_diff, title=\"Price in comparison to competitor 1 for all data; \\\n",
    "            positive = lower price!\")"
   ]
  },
  {
   "cell_type": "markdown",
   "metadata": {},
   "source": [
    "### On average, Expedia has a lower price than competitor 1 for the hotel. For competitor 4, Expedia has a higher price (on average!). However, when we look at availability we see that for competitor 4, the availability is slightly higher than other competitors. On the other hand, this is only about 10%. "
   ]
  },
  {
   "cell_type": "code",
   "execution_count": null,
   "metadata": {},
   "outputs": [],
   "source": [
    "compare_cols_inv = [\"comp1_inv\", \"comp2_inv\", \"comp3_inv\", \"comp4_inv\", \"comp5_inv\",\n",
    "                \"comp6_inv\", \"comp7_inv\", \"comp8_inv\"]\n",
    "\n",
    "total_diff = []\n",
    "[total_diff.append(np.mean(df[col])) for col in compare_cols_inv]\n",
    "    \n",
    "showcompareplot(compare_cols_inv, total_diff, \"Availability rates for all dataset\")"
   ]
  },
  {
   "cell_type": "code",
   "execution_count": null,
   "metadata": {},
   "outputs": [],
   "source": [
    "# Add comp_inv and comp_rate together \n",
    "for i in range (len(compare_cols)):\n",
    "    df[\"combine_inv_rate\" + str(i + 1)] = df[compare_cols_inv[i]] + df[compare_cols[i]]\n",
    "\n",
    "compare_cols_total = [\"combine_inv_rate1\", \"combine_inv_rate2\", \"combine_inv_rate3\", \"combine_inv_rate4\",\n",
    "                      \"combine_inv_rate5\", \"combine_inv_rate6\", \"combine_inv_rate7\", \"combine_inv_rate8\"]\n",
    "total_diff = []\n",
    "[total_diff.append(np.mean(df[col])) for col in compare_cols_total]\n",
    "    \n",
    "showcompareplot(compare_cols_total, total_diff, \"Availability rates for all dataset\")"
   ]
  },
  {
   "cell_type": "code",
   "execution_count": null,
   "metadata": {},
   "outputs": [],
   "source": [
    "# Make a new column for when there exists a competitor\n",
    "competitor_bools = []\n",
    "\n",
    "for index, row in df.iterrows():\n",
    "    comp_bool = 0\n",
    "    \n",
    "    # compare_cols_total exists of a column of data from comp_rate and comp_inv,\n",
    "    # so, a combination of competitor price and room-availability. \n",
    "    for competitor in compare_cols_total:\n",
    "        if row[competitor] == 1:\n",
    "            comp_bool = 1\n",
    "    competitor_bools.append(comp_bool)\n",
    "df[\"competitor_bool\"] = competitor_bools"
   ]
  },
  {
   "cell_type": "code",
   "execution_count": null,
   "metadata": {},
   "outputs": [],
   "source": [
    "plt.figure(figsize=(4, 4))\n",
    "sns.countplot(x=\"competitor_bool\", data=df).set_title(\"Existence of a competitor; 0 = False, 1 = True\")"
   ]
  },
  {
   "cell_type": "code",
   "execution_count": null,
   "metadata": {},
   "outputs": [],
   "source": [
    "# Drop all other comp_rate and comp_inv columns:\n",
    "df = df.drop(compare_cols_inv, axis=1)\n",
    "df = df.drop(compare_cols, axis=1)\n",
    "df = df.drop(compare_cols_total, axis=1)"
   ]
  },
  {
   "cell_type": "markdown",
   "metadata": {},
   "source": [
    "### Most people search for a one night stay and with two people (adults) and no children. "
   ]
  },
  {
   "cell_type": "code",
   "execution_count": null,
   "metadata": {},
   "outputs": [],
   "source": [
    "from matplotlib.ticker import ScalarFormatter\n",
    "\n",
    "plt.figure(figsize=(7, 4))\n",
    "countplot = sns.countplot(x=\"srch_length_of_stay\", data=df)\n",
    "plt.xlabel('Length of stay')\n",
    "plt.ylabel('Frequency')\n",
    "plt.title(\"Number of search per length of stay\")\n",
    "countplot.set_xlim(-1,14)\n",
    "# plt.ticker.LogFormatterSciNotation\n",
    "\n",
    "plt.show()\n",
    "countplot.figure.savefig(\"plots/srch_length_of_stay.pdf\", bbox_inches='tight')\n",
    "\n",
    "\n",
    "plt.figure(figsize=(11, 4))\n",
    "sns.countplot(x=\"srch_adults_count\", data=df)\n",
    "\n",
    "plt.figure(figsize=(11, 4))\n",
    "sns.countplot(x=\"srch_children_count\", data=df)"
   ]
  },
  {
   "cell_type": "markdown",
   "metadata": {},
   "source": [
    "### Most people visit the website from the US (id = 219)."
   ]
  },
  {
   "cell_type": "code",
   "execution_count": null,
   "metadata": {},
   "outputs": [],
   "source": [
    "# Get five most frequent countries \n",
    "print(df['visitor_location_country_id'].value_counts()[:5].index.tolist())\n",
    "sns.distplot(df['visitor_location_country_id'], label=\"User country\")\n",
    "plt.legend()"
   ]
  },
  {
   "cell_type": "markdown",
   "metadata": {},
   "source": [
    "## Clean price data\n",
    "\n",
    "#### There are a lot of prices between 7 and 240, then outlying category between 240 and 554655:\n",
    "#### Categories (7, interval[float64]): [(6.0889999999999995, 69.0] < (69.0, 90.0] < (90.0, 110.0] < (110.0, 136.0] < (136.0, 170.077] < (170.077, 239.0] < (239.0, 554655.0]]\n",
    "\n",
    "## Note that different countries have different conventions regarding displaying taxes and fees and the value may be per night or for the whole stay\n",
    "\n",
    "## For this reason, the choice was made to only select the US "
   ]
  },
  {
   "cell_type": "code",
   "execution_count": null,
   "metadata": {},
   "outputs": [],
   "source": [
    "df_us = df.loc[df['visitor_location_country_id'] == 219].copy()"
   ]
  },
  {
   "cell_type": "markdown",
   "metadata": {},
   "source": [
    "### There are a lot less clicks for the hotels with higher price (as expected)"
   ]
  },
  {
   "cell_type": "code",
   "execution_count": null,
   "metadata": {},
   "outputs": [],
   "source": [
    "# Correct for number of nights\n",
    "df_us[\"price_correction\"] = df_us[\"price_usd\"] / df_us[\"srch_length_of_stay\"]\n",
    "\n",
    "df_us.groupby('click_bool')['price_usd'].describe()"
   ]
  },
  {
   "cell_type": "code",
   "execution_count": null,
   "metadata": {},
   "outputs": [],
   "source": [
    "df_us['PriceBand'] = pd.qcut(df_us[\"price_correction\"], 7)\n",
    "df_us['PriceBand'].head(10)"
   ]
  },
  {
   "cell_type": "code",
   "execution_count": null,
   "metadata": {},
   "outputs": [],
   "source": [
    "import seaborn as sns\n",
    "import matplotlib.pylab as plt\n",
    "sns.set()\n",
    "\n",
    "\n",
    "ax = plt.subplots(figsize=(14,4))\n",
    "plt.rcParams[\"axes.labelsize\"] = 17\n",
    "plt.rcParams[\"axes.titlesize\"] = 17\n",
    "plt.clf()\n",
    "plt.xlim(0, 900)\n",
    "ax = sns.distplot(df['price_usd'], bins=500, label=\"Distribution of prices\", color = 'blue')\n",
    "ax.set(xlabel='Price in dollars', ylabel='Percentage of queries', title=\"Distribution of prices\")\n",
    "plt.show()\n",
    "ax.figure.savefig(\"../plots/prices.pdf\", bbox_inches='tight')"
   ]
  },
  {
   "cell_type": "code",
   "execution_count": null,
   "metadata": {},
   "outputs": [],
   "source": [
    "# Categorize into labels\n",
    "df_us['PriceBand'] = pd.qcut(df_us[\"price_correction\"], 7, labels=[0,1,2,3,4,5,6])"
   ]
  },
  {
   "cell_type": "markdown",
   "metadata": {},
   "source": [
    "### Add column that tells us whether someone has visited a hotel before"
   ]
  },
  {
   "cell_type": "code",
   "execution_count": null,
   "metadata": {},
   "outputs": [],
   "source": [
    "hist_starrating = df.visitor_hist_starrating.isna()\n",
    "hist_adr = df.visitor_hist_adr_usd.isna()\n",
    "\n",
    "# Dit kan waarschijnlijk veel mooier en sneller maar het werkt...\n",
    "total_visited = []\n",
    "for index, row in df.iterrows():\n",
    "    if hist_starrating[index] or hist_adr[index]:\n",
    "        visited = 0\n",
    "    else:\n",
    "        visited = 1\n",
    "    total_visited.append(visited)\n",
    "    \n",
    "df[\"total_visited\"] = total_visited\n",
    "\n",
    "# lookup = df.loc[:, 'visitor_hist_starrating':'visitor_hist_adr_usd'].notnull().idxmax(1)\n",
    "# df.assign(visited_before=df.lookup(lookup.index, lookup.values))"
   ]
  },
  {
   "cell_type": "code",
   "execution_count": null,
   "metadata": {},
   "outputs": [],
   "source": [
    "plt.figure(figsize=(4, 4))\n",
    "sns.countplot(x=\"total_visited\", data=df).set_title(\"Visited hotel before or not; 0 = False, 1 = True\")"
   ]
  },
  {
   "cell_type": "code",
   "execution_count": null,
   "metadata": {},
   "outputs": [],
   "source": [
    "sns.distplot(df['prop_location_score1'], label=\"prop_location_score\")"
   ]
  },
  {
   "cell_type": "code",
   "execution_count": null,
   "metadata": {},
   "outputs": [],
   "source": [
    "from matplotlib.ticker import PercentFormatter\n",
    "\n",
    "sns.set()\n",
    "# fig, axs = plt.subplots(2, 2)\n",
    "# fig, ax = plt.subplots(figsize=(10,7)) \n",
    "    \n",
    "fig = plt.figure(figsize=(15,10))\n",
    "plt.rcParams[\"axes.labelsize\"] = 14\n",
    "plt.rcParams[\"axes.titlesize\"] = 14\n",
    "\n",
    "\n",
    "plt.subplot(2, 2, 1)\n",
    "data1 = df[df['click_bool']==0][\"prop_location_score1\"]\n",
    "data1.hist(color='cornflowerblue', \n",
    "          label='No click', \n",
    "          weights=np.ones(len(data1)) / len(data1),  bins=7)\n",
    "data = df[df['click_bool']==1][\"prop_location_score1\"]\n",
    "data.hist(color='seagreen', label='Click',  weights=np.ones(len(data)) / len(data1),bins=7)\n",
    "plt.gca().yaxis.set_major_formatter(PercentFormatter(1))\n",
    "plt.legend(loc='best')\n",
    "plt.title(\"Property locationscore (1)\")\n",
    "plt.ylabel(\"Percentage of responses\")\n",
    "plt.xlabel(\"Score\")\n",
    "\n",
    "\n",
    "plt.subplot(2, 2, 2)\n",
    "plt.xlim(0,1)\n",
    "data1 = df[df['click_bool']==0][\"prop_location_score2\"].dropna()\n",
    "data1.hist( color='cornflowerblue', label='No click', weights=np.ones(len(data1)) / len(data1), bins=11)\n",
    "data = df[df['click_bool']==1][\"prop_location_score2\"].dropna()\n",
    "data.hist(color='seagreen', label='Click', weights=np.ones(len(data)) / len(data1), bins=10)\n",
    "plt.gca().yaxis.set_major_formatter(PercentFormatter(1))\n",
    "plt.legend(loc='best')\n",
    "plt.title(\"Property locationscore (2)\")\n",
    "plt.xlabel(\"Score\")\n",
    "\n",
    "\n",
    "plt.subplot(2, 2, 3)\n",
    "plt.xlim(0,5)\n",
    "data1 = df[df['click_bool']==0][\"prop_review_score\"].dropna()\n",
    "data1.hist(color='cornflowerblue', label='No click', weights=np.ones(len(data1)) / len(data1))\n",
    "data = df[df['click_bool']==1][\"prop_review_score\"].dropna()\n",
    "data.hist(color='seagreen', label='Clicked', weights=np.ones(len(data)) / len(data1))\n",
    "plt.legend(loc='best')\n",
    "plt.gca().yaxis.set_major_formatter(PercentFormatter(1))\n",
    "plt.title(\"Property review score\")\n",
    "plt.ylabel(\"Percentage of responses\")\n",
    "plt.xlabel(\"Score\")\n",
    "\n",
    "plt.subplot(2, 2, 4)\n",
    "data1 = df[df['click_bool']==0][\"prop_starrating\"].dropna()\n",
    "data1.hist(color='cornflowerblue', label='No click', bins=5, weights=np.ones(len(data1)) / len(data1))\n",
    "data = df[df['click_bool']==1][\"prop_starrating\"].dropna()\n",
    "data.hist( color='seagreen', label='Clicked', stacked=True, bins=5, weights=np.ones(len(data)) / len(data1))\n",
    "# df[df['booking_bool']==1][\"prop_starrating\"].hist( color='gold', label='Booked', stacked=True, bins=5)\n",
    "plt.legend(loc='best')\n",
    "plt.gca().yaxis.set_major_formatter(PercentFormatter(1))\n",
    "plt.title(\"Property starrating\")\n",
    "plt.xlabel(\"Score\")\n",
    "\n",
    "plt.subplots_adjust(left=None, bottom=0, right=None, top=None, wspace=0.25, hspace=None)\n",
    "\n",
    "plt.show()\n",
    "\n",
    "fig.savefig(\"../plots/overviewratings.pdf\", bbox_inches='tight')\n"
   ]
  },
  {
   "cell_type": "code",
   "execution_count": null,
   "metadata": {},
   "outputs": [],
   "source": [
    "sns.set()\n",
    "sns.distplot(df['srch_booking_window'],\n",
    "hist = False, label = 'Booking window')\n",
    "plt.xlabel('dist')\n",
    "sns.despine()"
   ]
  },
  {
   "cell_type": "code",
   "execution_count": null,
   "metadata": {},
   "outputs": [],
   "source": []
  }
 ],
 "metadata": {
  "kernelspec": {
   "display_name": "Python 3",
   "language": "python",
   "name": "python3"
  },
  "language_info": {
   "codemirror_mode": {
    "name": "ipython",
    "version": 3
   },
   "file_extension": ".py",
   "mimetype": "text/x-python",
   "name": "python",
   "nbconvert_exporter": "python",
   "pygments_lexer": "ipython3",
   "version": "3.7.1"
  }
 },
 "nbformat": 4,
 "nbformat_minor": 2
}
