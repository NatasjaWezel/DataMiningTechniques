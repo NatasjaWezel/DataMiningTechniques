{
 "cells": [
  {
   "cell_type": "code",
   "execution_count": 1,
   "metadata": {},
   "outputs": [
    {
     "name": "stderr",
     "output_type": "stream",
     "text": [
      "/Library/Frameworks/Python.framework/Versions/3.7/lib/python3.7/site-packages/statsmodels/tools/_testing.py:19: FutureWarning: pandas.util.testing is deprecated. Use the functions in the public API at pandas.testing instead.\n",
      "  import pandas.util.testing as tm\n"
     ]
    }
   ],
   "source": [
    "import pandas as pd\n",
    "import matplotlib.pyplot as plt\n",
    "import pickle\n",
    "import os\n",
    "import math\n",
    "import random\n",
    "import numpy as np    \n",
    "import seaborn as sns\n",
    "\n",
    "# Configure Visualization Defaults\n",
    "%matplotlib inline\n",
    "plt.rcParams['figure.figsize'] = 12,8"
   ]
  },
  {
   "cell_type": "markdown",
   "metadata": {},
   "source": [
    "### Exploratory Data Analysis"
   ]
  },
  {
   "cell_type": "code",
   "execution_count": 2,
   "metadata": {},
   "outputs": [],
   "source": [
    "df = pd.read_csv(\"../data/training_set_VU_DM.csv\", nrows=5000)"
   ]
  },
  {
   "cell_type": "code",
   "execution_count": 3,
   "metadata": {},
   "outputs": [
    {
     "data": {
      "text/html": [
       "<div>\n",
       "<style scoped>\n",
       "    .dataframe tbody tr th:only-of-type {\n",
       "        vertical-align: middle;\n",
       "    }\n",
       "\n",
       "    .dataframe tbody tr th {\n",
       "        vertical-align: top;\n",
       "    }\n",
       "\n",
       "    .dataframe thead th {\n",
       "        text-align: right;\n",
       "    }\n",
       "</style>\n",
       "<table border=\"1\" class=\"dataframe\">\n",
       "  <thead>\n",
       "    <tr style=\"text-align: right;\">\n",
       "      <th></th>\n",
       "      <th>srch_id</th>\n",
       "      <th>date_time</th>\n",
       "      <th>site_id</th>\n",
       "      <th>visitor_location_country_id</th>\n",
       "      <th>visitor_hist_starrating</th>\n",
       "      <th>visitor_hist_adr_usd</th>\n",
       "      <th>prop_country_id</th>\n",
       "      <th>prop_id</th>\n",
       "      <th>prop_starrating</th>\n",
       "      <th>prop_review_score</th>\n",
       "      <th>...</th>\n",
       "      <th>comp6_rate_percent_diff</th>\n",
       "      <th>comp7_rate</th>\n",
       "      <th>comp7_inv</th>\n",
       "      <th>comp7_rate_percent_diff</th>\n",
       "      <th>comp8_rate</th>\n",
       "      <th>comp8_inv</th>\n",
       "      <th>comp8_rate_percent_diff</th>\n",
       "      <th>click_bool</th>\n",
       "      <th>gross_bookings_usd</th>\n",
       "      <th>booking_bool</th>\n",
       "    </tr>\n",
       "  </thead>\n",
       "  <tbody>\n",
       "    <tr>\n",
       "      <th>0</th>\n",
       "      <td>1</td>\n",
       "      <td>2013-04-04 08:32:15</td>\n",
       "      <td>12</td>\n",
       "      <td>187</td>\n",
       "      <td>NaN</td>\n",
       "      <td>NaN</td>\n",
       "      <td>219</td>\n",
       "      <td>893</td>\n",
       "      <td>3</td>\n",
       "      <td>3.5</td>\n",
       "      <td>...</td>\n",
       "      <td>NaN</td>\n",
       "      <td>NaN</td>\n",
       "      <td>NaN</td>\n",
       "      <td>NaN</td>\n",
       "      <td>0.0</td>\n",
       "      <td>0.0</td>\n",
       "      <td>NaN</td>\n",
       "      <td>0</td>\n",
       "      <td>NaN</td>\n",
       "      <td>0</td>\n",
       "    </tr>\n",
       "    <tr>\n",
       "      <th>1</th>\n",
       "      <td>1</td>\n",
       "      <td>2013-04-04 08:32:15</td>\n",
       "      <td>12</td>\n",
       "      <td>187</td>\n",
       "      <td>NaN</td>\n",
       "      <td>NaN</td>\n",
       "      <td>219</td>\n",
       "      <td>10404</td>\n",
       "      <td>4</td>\n",
       "      <td>4.0</td>\n",
       "      <td>...</td>\n",
       "      <td>NaN</td>\n",
       "      <td>NaN</td>\n",
       "      <td>NaN</td>\n",
       "      <td>NaN</td>\n",
       "      <td>0.0</td>\n",
       "      <td>0.0</td>\n",
       "      <td>NaN</td>\n",
       "      <td>0</td>\n",
       "      <td>NaN</td>\n",
       "      <td>0</td>\n",
       "    </tr>\n",
       "    <tr>\n",
       "      <th>2</th>\n",
       "      <td>1</td>\n",
       "      <td>2013-04-04 08:32:15</td>\n",
       "      <td>12</td>\n",
       "      <td>187</td>\n",
       "      <td>NaN</td>\n",
       "      <td>NaN</td>\n",
       "      <td>219</td>\n",
       "      <td>21315</td>\n",
       "      <td>3</td>\n",
       "      <td>4.5</td>\n",
       "      <td>...</td>\n",
       "      <td>NaN</td>\n",
       "      <td>NaN</td>\n",
       "      <td>NaN</td>\n",
       "      <td>NaN</td>\n",
       "      <td>0.0</td>\n",
       "      <td>0.0</td>\n",
       "      <td>NaN</td>\n",
       "      <td>0</td>\n",
       "      <td>NaN</td>\n",
       "      <td>0</td>\n",
       "    </tr>\n",
       "    <tr>\n",
       "      <th>3</th>\n",
       "      <td>1</td>\n",
       "      <td>2013-04-04 08:32:15</td>\n",
       "      <td>12</td>\n",
       "      <td>187</td>\n",
       "      <td>NaN</td>\n",
       "      <td>NaN</td>\n",
       "      <td>219</td>\n",
       "      <td>27348</td>\n",
       "      <td>2</td>\n",
       "      <td>4.0</td>\n",
       "      <td>...</td>\n",
       "      <td>NaN</td>\n",
       "      <td>NaN</td>\n",
       "      <td>NaN</td>\n",
       "      <td>NaN</td>\n",
       "      <td>-1.0</td>\n",
       "      <td>0.0</td>\n",
       "      <td>5.0</td>\n",
       "      <td>0</td>\n",
       "      <td>NaN</td>\n",
       "      <td>0</td>\n",
       "    </tr>\n",
       "    <tr>\n",
       "      <th>4</th>\n",
       "      <td>1</td>\n",
       "      <td>2013-04-04 08:32:15</td>\n",
       "      <td>12</td>\n",
       "      <td>187</td>\n",
       "      <td>NaN</td>\n",
       "      <td>NaN</td>\n",
       "      <td>219</td>\n",
       "      <td>29604</td>\n",
       "      <td>4</td>\n",
       "      <td>3.5</td>\n",
       "      <td>...</td>\n",
       "      <td>NaN</td>\n",
       "      <td>NaN</td>\n",
       "      <td>NaN</td>\n",
       "      <td>NaN</td>\n",
       "      <td>0.0</td>\n",
       "      <td>0.0</td>\n",
       "      <td>NaN</td>\n",
       "      <td>0</td>\n",
       "      <td>NaN</td>\n",
       "      <td>0</td>\n",
       "    </tr>\n",
       "  </tbody>\n",
       "</table>\n",
       "<p>5 rows × 54 columns</p>\n",
       "</div>"
      ],
      "text/plain": [
       "   srch_id            date_time  site_id  visitor_location_country_id  \\\n",
       "0        1  2013-04-04 08:32:15       12                          187   \n",
       "1        1  2013-04-04 08:32:15       12                          187   \n",
       "2        1  2013-04-04 08:32:15       12                          187   \n",
       "3        1  2013-04-04 08:32:15       12                          187   \n",
       "4        1  2013-04-04 08:32:15       12                          187   \n",
       "\n",
       "   visitor_hist_starrating  visitor_hist_adr_usd  prop_country_id  prop_id  \\\n",
       "0                      NaN                   NaN              219      893   \n",
       "1                      NaN                   NaN              219    10404   \n",
       "2                      NaN                   NaN              219    21315   \n",
       "3                      NaN                   NaN              219    27348   \n",
       "4                      NaN                   NaN              219    29604   \n",
       "\n",
       "   prop_starrating  prop_review_score  ...  comp6_rate_percent_diff  \\\n",
       "0                3                3.5  ...                      NaN   \n",
       "1                4                4.0  ...                      NaN   \n",
       "2                3                4.5  ...                      NaN   \n",
       "3                2                4.0  ...                      NaN   \n",
       "4                4                3.5  ...                      NaN   \n",
       "\n",
       "   comp7_rate  comp7_inv  comp7_rate_percent_diff  comp8_rate  comp8_inv  \\\n",
       "0         NaN        NaN                      NaN         0.0        0.0   \n",
       "1         NaN        NaN                      NaN         0.0        0.0   \n",
       "2         NaN        NaN                      NaN         0.0        0.0   \n",
       "3         NaN        NaN                      NaN        -1.0        0.0   \n",
       "4         NaN        NaN                      NaN         0.0        0.0   \n",
       "\n",
       "   comp8_rate_percent_diff  click_bool  gross_bookings_usd  booking_bool  \n",
       "0                      NaN           0                 NaN             0  \n",
       "1                      NaN           0                 NaN             0  \n",
       "2                      NaN           0                 NaN             0  \n",
       "3                      5.0           0                 NaN             0  \n",
       "4                      NaN           0                 NaN             0  \n",
       "\n",
       "[5 rows x 54 columns]"
      ]
     },
     "execution_count": 3,
     "metadata": {},
     "output_type": "execute_result"
    }
   ],
   "source": [
    "df.head()"
   ]
  },
  {
   "cell_type": "markdown",
   "metadata": {},
   "source": [
    "### In this dataset we count 129.113 unique hotels"
   ]
  },
  {
   "cell_type": "code",
   "execution_count": 4,
   "metadata": {},
   "outputs": [],
   "source": [
    "# Change time information to year and month columns\n",
    "df[\"date_time\"] = pd.to_datetime(df[\"date_time\"])\n",
    "df[\"year\"] = df[\"date_time\"].dt.year\n",
    "df[\"month\"] = df[\"date_time\"].dt.month"
   ]
  },
  {
   "cell_type": "code",
   "execution_count": 60,
   "metadata": {},
   "outputs": [],
   "source": [
    "# Correlation heatmap of dataset\n",
    "def correlation_heatmap(df):\n",
    "    sns.set(font_scale=1)\n",
    "    fig = plt.figure()\n",
    "    _ , ax = plt.subplots(figsize =(10, 10))\n",
    "#     colormap = sns.diverging_palette(220, 10, as_cmap = True)\n",
    "    cmap = sns.cubehelix_palette(light=1.2, as_cmap=True)\n",
    "    \n",
    "    _ = sns.heatmap(\n",
    "        df.corr(), \n",
    "        cmap = cmap,\n",
    "        square=True,\n",
    "        ax=ax,\n",
    "        annot=True, \n",
    "        linewidths=0.1,vmax=1.0, linecolor='white',\n",
    "        annot_kws={'fontsize':10 }\n",
    "    )\n",
    "    _.figure.tight_layout()"
   ]
  },
  {
   "cell_type": "code",
   "execution_count": null,
   "metadata": {},
   "outputs": [],
   "source": [
    "# Groups of attributes\n",
    "visitor = list(range(3,6))\n",
    "prop = list(range(6,17))\n",
    "prop.remove(14)\n",
    "srch = list(range(17,24))\n",
    "target = list(range(51,54))\n",
    "target.append(14)\n",
    "\n",
    "correlation_heatmap(df.iloc[:,prop+target])\n",
    "plt.title('Correlation Matrix of proptery features',fontdict = {'fontsize' : 16})\n",
    "plt.savefig(\"../plots/correlation.pdf\")"
   ]
  },
  {
   "cell_type": "code",
   "execution_count": 111,
   "metadata": {},
   "outputs": [
    {
     "data": {
      "image/png": "[encoded data removed]",
      "text/plain": [
       "<Figure size 432x288 with 1 Axes>"
      ]
     },
     "metadata": {},
     "output_type": "display_data"
    }
   ],
   "source": [
    "fig = plt.gcf()\n",
    "sns.set_style(\"darkgrid\")\n",
    "plt.xlim(0, 30)\n",
    "sns.distplot(df.loc[df['booking_bool'] == 1, 'position'], \n",
    "             bins=30,  \n",
    "             hist_kws={ \"linewidth\": 1,\"alpha\": 0.9, \"color\": \"maroon\"},\n",
    "             kde_kws={\"color\": \"k\", \"lw\": 0})\n",
    "plt.ylabel('Counts'), plt.xlabel('position')\n",
    "plt.title('Percentage of bookings per position')\n",
    "plt.show()\n",
    "fig.savefig(\"../plots/bookings_per_pos.pdf\")"
   ]
  },
  {
   "cell_type": "markdown",
   "metadata": {},
   "source": [
    "## Analyse comp_rate_diff --> difference in price for Expedia competitor and difference in availability"
   ]
  },
  {
   "cell_type": "code",
   "execution_count": null,
   "metadata": {},
   "outputs": [],
   "source": [
    "import seaborn as sns\n",
    "sns.set()\n",
    "\n",
    "compare_cols = [\"comp1_rate\", \"comp2_rate\", \"comp3_rate\", \"comp4_rate\", \"comp5_rate\",\n",
    "                \"comp6_rate\", \"comp7_rate\", \"comp8_rate\"]\n",
    "\n",
    "total_diff = []\n",
    "[total_diff.append(np.mean(df[col])) for col in compare_cols]\n",
    "\n",
    "def showcompareplot(compare_cols, total_diff, title):\n",
    "    fig, ax = plt.subplots(figsize=(10,5))\n",
    "    ax.set(ylabel='Mean of the whole column', title=title)\n",
    "    sns.barplot(compare_cols, total_diff)\n",
    "\n",
    "showcompareplot(compare_cols, total_diff, title=\"Price in comparison to competitor 1 for all data; \\\n",
    "            positive = lower price!\")"
   ]
  },
  {
   "cell_type": "markdown",
   "metadata": {},
   "source": [
    "### On average, Expedia has a lower price than competitor 1 for the hotel. For competitor 4, Expedia has a higher price (on average!). However, when we look at availability we see that for competitor 4, the availability is slightly higher than other competitors. On the other hand, this is only about 10%. "
   ]
  },
  {
   "cell_type": "code",
   "execution_count": null,
   "metadata": {},
   "outputs": [],
   "source": [
    "compare_cols_inv = [\"comp1_inv\", \"comp2_inv\", \"comp3_inv\", \"comp4_inv\", \"comp5_inv\",\n",
    "                \"comp6_inv\", \"comp7_inv\", \"comp8_inv\"]\n",
    "\n",
    "total_diff = []\n",
    "[total_diff.append(np.mean(df[col])) for col in compare_cols_inv]\n",
    "    \n",
    "showcompareplot(compare_cols_inv, total_diff, \"Availability rates for all dataset\")"
   ]
  },
  {
   "cell_type": "code",
   "execution_count": null,
   "metadata": {},
   "outputs": [],
   "source": [
    "# Add comp_inv and comp_rate together \n",
    "for i in range (len(compare_cols)):\n",
    "    df[\"combine_inv_rate\" + str(i + 1)] = df[compare_cols_inv[i]] + df[compare_cols[i]]\n",
    "\n",
    "compare_cols_total = [\"combine_inv_rate1\", \"combine_inv_rate2\", \"combine_inv_rate3\", \"combine_inv_rate4\",\n",
    "                      \"combine_inv_rate5\", \"combine_inv_rate6\", \"combine_inv_rate7\", \"combine_inv_rate8\"]\n",
    "total_diff = []\n",
    "[total_diff.append(np.mean(df[col])) for col in compare_cols_total]\n",
    "    \n",
    "showcompareplot(compare_cols_total, total_diff, \"Availability rates for all dataset\")"
   ]
  },
  {
   "cell_type": "code",
   "execution_count": null,
   "metadata": {},
   "outputs": [],
   "source": [
    "# Make a new column for when there exists a competitor\n",
    "competitor_bools = []\n",
    "\n",
    "for index, row in df.iterrows():\n",
    "    comp_bool = 0\n",
    "    \n",
    "    # compare_cols_total exists of a column of data from comp_rate and comp_inv,\n",
    "    # so, a combination of competitor price and room-availability. \n",
    "    for competitor in compare_cols_total:\n",
    "        if row[competitor] == 1:\n",
    "            comp_bool = 1\n",
    "    competitor_bools.append(comp_bool)\n",
    "df[\"competitor_bool\"] = competitor_bools"
   ]
  },
  {
   "cell_type": "code",
   "execution_count": null,
   "metadata": {},
   "outputs": [],
   "source": [
    "plt.figure(figsize=(4, 4))\n",
    "sns.countplot(x=\"competitor_bool\", data=df).set_title(\"Existence of a competitor; 0 = False, 1 = True\")"
   ]
  },
  {
   "cell_type": "code",
   "execution_count": null,
   "metadata": {},
   "outputs": [],
   "source": [
    "# Drop all other comp_rate and comp_inv columns:\n",
    "df = df.drop(compare_cols_inv, axis=1)\n",
    "df = df.drop(compare_cols, axis=1)\n",
    "df = df.drop(compare_cols_total, axis=1)"
   ]
  },
  {
   "cell_type": "markdown",
   "metadata": {},
   "source": [
    "### Most people search for a one night stay and with two people (adults) and no children. "
   ]
  },
  {
   "cell_type": "code",
   "execution_count": null,
   "metadata": {},
   "outputs": [],
   "source": [
    "from matplotlib.ticker import ScalarFormatter\n",
    "\n",
    "plt.figure(figsize=(7, 4))\n",
    "countplot = sns.countplot(x=\"srch_length_of_stay\", data=df)\n",
    "plt.xlabel('Length of stay')\n",
    "plt.ylabel('Frequency')\n",
    "plt.title(\"Number of search per length of stay\")\n",
    "countplot.set_xlim(-1,14)\n",
    "# plt.ticker.LogFormatterSciNotation\n",
    "\n",
    "plt.show()\n",
    "countplot.figure.savefig(\"plots/srch_length_of_stay.pdf\", bbox_inches='tight')\n",
    "\n",
    "\n",
    "plt.figure(figsize=(11, 4))\n",
    "sns.countplot(x=\"srch_adults_count\", data=df)\n",
    "\n",
    "plt.figure(figsize=(11, 4))\n",
    "sns.countplot(x=\"srch_children_count\", data=df)"
   ]
  },
  {
   "cell_type": "markdown",
   "metadata": {},
   "source": [
    "### Most people visit the website from the US (id = 219)."
   ]
  },
  {
   "cell_type": "code",
   "execution_count": null,
   "metadata": {},
   "outputs": [],
   "source": [
    "# Get five most frequent countries \n",
    "print(df['visitor_location_country_id'].value_counts()[:5].index.tolist())\n",
    "sns.distplot(df['visitor_location_country_id'], label=\"User country\")\n",
    "plt.legend()"
   ]
  },
  {
   "cell_type": "markdown",
   "metadata": {},
   "source": [
    "## Clean price data\n",
    "\n",
    "#### There are a lot of prices between 7 and 240, then outlying category between 240 and 554655:\n",
    "#### Categories (7, interval[float64]): [(6.0889999999999995, 69.0] < (69.0, 90.0] < (90.0, 110.0] < (110.0, 136.0] < (136.0, 170.077] < (170.077, 239.0] < (239.0, 554655.0]]\n",
    "\n",
    "## Note that different countries have different conventions regarding displaying taxes and fees and the value may be per night or for the whole stay\n",
    "\n",
    "## For this reason, the choice was made to only select the US "
   ]
  },
  {
   "cell_type": "code",
   "execution_count": null,
   "metadata": {},
   "outputs": [],
   "source": [
    "df_us = df.loc[df['visitor_location_country_id'] == 219].copy()"
   ]
  },
  {
   "cell_type": "markdown",
   "metadata": {},
   "source": [
    "### There are a lot less clicks for the hotels with higher price (as expected)"
   ]
  },
  {
   "cell_type": "code",
   "execution_count": null,
   "metadata": {},
   "outputs": [],
   "source": [
    "# Correct for number of nights\n",
    "df_us[\"price_correction\"] = df_us[\"price_usd\"] / df_us[\"srch_length_of_stay\"]\n",
    "\n",
    "df_us.groupby('click_bool')['price_usd'].describe()"
   ]
  },
  {
   "cell_type": "code",
   "execution_count": null,
   "metadata": {},
   "outputs": [],
   "source": [
    "df_us['PriceBand'] = pd.qcut(df_us[\"price_correction\"], 7)\n",
    "df_us['PriceBand'].head(10)"
   ]
  },
  {
   "cell_type": "code",
   "execution_count": null,
   "metadata": {},
   "outputs": [],
   "source": [
    "import seaborn as sns\n",
    "import matplotlib.pylab as plt\n",
    "\n",
    "plt.clf()\n",
    "plt.xlim(0, 1000)\n",
    "sns.distplot(df_us['price_usd'], bins=10000, label=\"User country\")"
   ]
  },
  {
   "cell_type": "code",
   "execution_count": null,
   "metadata": {},
   "outputs": [],
   "source": [
    "# Categorize into labels\n",
    "df_us['PriceBand'] = pd.qcut(df_us[\"price_correction\"], 7, labels=[0,1,2,3,4,5,6])"
   ]
  },
  {
   "cell_type": "markdown",
   "metadata": {},
   "source": [
    "### Add column that tells us whether someone has visited a hotel before"
   ]
  },
  {
   "cell_type": "code",
   "execution_count": null,
   "metadata": {},
   "outputs": [],
   "source": [
    "hist_starrating = df.visitor_hist_starrating.isna()\n",
    "hist_adr = df.visitor_hist_adr_usd.isna()\n",
    "\n",
    "# Dit kan waarschijnlijk veel mooier en sneller maar het werkt...\n",
    "total_visited = []\n",
    "for index, row in df.iterrows():\n",
    "    if hist_starrating[index] or hist_adr[index]:\n",
    "        visited = 0\n",
    "    else:\n",
    "        visited = 1\n",
    "    total_visited.append(visited)\n",
    "    \n",
    "df[\"total_visited\"] = total_visited\n",
    "\n",
    "# lookup = df.loc[:, 'visitor_hist_starrating':'visitor_hist_adr_usd'].notnull().idxmax(1)\n",
    "# df.assign(visited_before=df.lookup(lookup.index, lookup.values))"
   ]
  },
  {
   "cell_type": "code",
   "execution_count": null,
   "metadata": {},
   "outputs": [],
   "source": [
    "plt.figure(figsize=(4, 4))\n",
    "sns.countplot(x=\"total_visited\", data=df).set_title(\"Visited hotel before or not; 0 = False, 1 = True\")"
   ]
  },
  {
   "cell_type": "code",
   "execution_count": null,
   "metadata": {},
   "outputs": [],
   "source": [
    "sns.distplot(df['prop_location_score1'], label=\"prop_location_score\")"
   ]
  }
 ],
 "metadata": {
  "kernelspec": {
   "display_name": "Python 3",
   "language": "python",
   "name": "python3"
  },
  "language_info": {
   "codemirror_mode": {
    "name": "ipython",
    "version": 3
   },
   "file_extension": ".py",
   "mimetype": "text/x-python",
   "name": "python",
   "nbconvert_exporter": "python",
   "pygments_lexer": "ipython3",
   "version": "3.7.1"
  }
 },
 "nbformat": 4,
 "nbformat_minor": 2
}
