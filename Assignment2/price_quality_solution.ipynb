{
 "cells": [
  {
   "cell_type": "code",
   "execution_count": 1,
   "metadata": {},
   "outputs": [],
   "source": [
    "import pandas as pd\n",
    "import random\n",
    "import csv\n",
    "import os\n",
    "from tqdm import tqdm"
   ]
  },
  {
   "cell_type": "code",
   "execution_count": 2,
   "metadata": {},
   "outputs": [],
   "source": [
    "def price_quality_solution(df, csv_name):\n",
    "    \n",
    "    csv_name = \"./results/\" + csv_name\n",
    "    \n",
    "    # get list of hotels per search id\n",
    "    results_per_search = df.groupby('srch_id').size()\n",
    "    \n",
    "    column_values = df[\"srch_id\"].values\n",
    "    ids =  pd.unique(column_values) \n",
    "    \n",
    "    if not os.path.exists(\"./results\"):\n",
    "        os.mkdir(\"./results\")\n",
    "        \n",
    "    with open(csv_name, 'w', newline='') as file:\n",
    "        writer = csv.writer(file)\n",
    "        writer.writerow([\"srch_id\", \"prop_id\"])\n",
    "\n",
    "    total_ids = len(ids)    \n",
    "        \n",
    "    for i in tqdm(range(len(ids))):\n",
    "        ideetje = ids[i]\n",
    "        \n",
    "        # get all rows that belong with this search\n",
    "        df_temp = df[df[\"srch_id\"] == ideetje]\n",
    "        \n",
    "        # get list of property ids\n",
    "        prop_ids = df_temp[\"prop_id\"].values\n",
    "        \n",
    "        # rank the property ids based on price/quality\n",
    "        prop_ids_sorted = [x for _, x in sorted(zip(df_temp[\"pricequality\"], prop_ids))]\n",
    "                \n",
    "        # write csv\n",
    "        with open(csv_name, 'a', newline='') as file:\n",
    "            writer = csv.writer(file)\n",
    "            \n",
    "            for prop_id in prop_ids_sorted:\n",
    "                writer.writerow([ideetje, prop_id])"
   ]
  },
  {
   "cell_type": "code",
   "execution_count": 3,
   "metadata": {},
   "outputs": [],
   "source": [
    "testdf = pd.read_csv(\"data/test_set_VU_DM.csv\")"
   ]
  },
  {
   "cell_type": "code",
   "execution_count": 7,
   "metadata": {},
   "outputs": [],
   "source": [
    "def price_quality(df):\n",
    "\n",
    "    df['pricequality'] = df['price_usd'] / df['prop_starrating']\n",
    "    \n",
    "    return df\n",
    "\n",
    "testdf = price_quality(testdf)"
   ]
  },
  {
   "cell_type": "code",
   "execution_count": 8,
   "metadata": {},
   "outputs": [
    {
     "name": "stderr",
     "output_type": "stream",
     "text": [
      "100%|█████████████████████████████████████████████████████████████████████████| 199549/199549 [26:02<00:00, 127.72it/s]\n"
     ]
    }
   ],
   "source": [
    "price_quality_solution(testdf, \"total_test_set_pricequality.csv\")"
   ]
  },
  {
   "cell_type": "code",
   "execution_count": 9,
   "metadata": {},
   "outputs": [
    {
     "name": "stdout",
     "output_type": "stream",
     "text": [
      "00:00:00\n"
     ]
    }
   ],
   "source": [
    "import time\n",
    "print(time.time())t"
   ]
  },
  {
   "cell_type": "code",
   "execution_count": null,
   "metadata": {},
   "outputs": [],
   "source": []
  }
 ],
 "metadata": {
  "kernelspec": {
   "display_name": "Python 3",
   "language": "python",
   "name": "python3"
  },
  "language_info": {
   "codemirror_mode": {
    "name": "ipython",
    "version": 3
   },
   "file_extension": ".py",
   "mimetype": "text/x-python",
   "name": "python",
   "nbconvert_exporter": "python",
   "pygments_lexer": "ipython3",
   "version": "3.7.3"
  }
 },
 "nbformat": 4,
 "nbformat_minor": 2
}
