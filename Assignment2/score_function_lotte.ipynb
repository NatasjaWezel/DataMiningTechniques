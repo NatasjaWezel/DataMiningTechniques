{
 "cells": [
  {
   "cell_type": "code",
   "execution_count": 1,
   "metadata": {},
   "outputs": [],
   "source": [
    "# imports\n",
    "import pandas as pd\n",
    "import numpy as np\n",
    "import random\n",
    "import statistics as stat\n",
    "\n",
    "# traindf = pd.read_pickle(\"./pickles/df_small_clean.pkl\")\n",
    "\n",
    "# display(traindf[traindf[\"position\"] == 11])"
   ]
  },
  {
   "cell_type": "code",
   "execution_count": 2,
   "metadata": {},
   "outputs": [],
   "source": [
    "def random_solution(df):\n",
    "    \n",
    "    # csv_name = \"./results/\" + csv_name\n",
    "    \n",
    "    # get list of hotels per search id\n",
    "    results_per_search = df.groupby('srch_id').size()\n",
    "    \n",
    "    column_values = df[\"srch_id\"].values\n",
    "    \n",
    "    ids =  pd.unique(column_values) \n",
    "    \n",
    "    all_ranks = []\n",
    "    \n",
    "    for i, ideetje in enumerate(ids):\n",
    "        df_temp = df[df[\"srch_id\"] == ideetje]\n",
    "        \n",
    "        ranks = df_temp[\"position\"].values\n",
    "        \n",
    "        # shuffle ranks\n",
    "        random.shuffle(ranks)\n",
    "        all_ranks.extend(ranks)\n",
    "\n",
    "    df[\"predicted_rank\"] = all_ranks\n",
    "    return df"
   ]
  },
  {
   "cell_type": "code",
   "execution_count": 3,
   "metadata": {},
   "outputs": [],
   "source": [
    "def indiv_search_ndcg_score(true_rank, predicted_rank, booked, clicked):\n",
    "    # holder for ideal score\n",
    "    idcg = 0\n",
    "    \n",
    "    # holder for our score\n",
    "    dcg = 0\n",
    "\n",
    "    # itereer over elk resultaat in de search\n",
    "    for i in range(len(true_rank)):\n",
    "        # hotels die geboekt zijn zijn heel belangrijk (5)\n",
    "        if booked[i] == 1:\n",
    "            \n",
    "            # increment ideal score\n",
    "            if i != 0:\n",
    "                idcg = idcg + (5 / np.log2(i+1))\n",
    "            else:\n",
    "                idcg += 5\n",
    "\n",
    "            # if predicted well, increment score\n",
    "            if true_rank[i] == predicted_rank[i]:\n",
    "                if i != 0:\n",
    "                    dcg = dcg + (5 / np.log2(i+1))\n",
    "                else:\n",
    "                    dcg += 5\n",
    "                \n",
    "        # hotels waarop geklikt is zijn een beetje belangrijk (1)\n",
    "        elif clicked[i] == 1:\n",
    "\n",
    "            # increment ideal score\n",
    "            if i != 0:\n",
    "                idcg = idcg + (1 / np.log2(i+1))\n",
    "            else:\n",
    "                idcg += 1\n",
    "            \n",
    "            # if predicted well, increment score\n",
    "            if true_rank[i] == predicted_rank[i]:\n",
    "                dcg = dcg + (1 / np.log2(i+2))\n",
    "\n",
    "    if idcg == 0:\n",
    "        return dcg\n",
    "    return dcg/idcg"
   ]
  },
  {
   "cell_type": "code",
   "execution_count": 4,
   "metadata": {},
   "outputs": [],
   "source": [
    "# score function for every search (thus iterate over groupby object)\n",
    "def dataframe_ndcg_score(solution):\n",
    "    all_scores = []\n",
    "    for srchid, group in solution.groupby('srch_id'):\n",
    "\n",
    "        # true_rank\n",
    "        true_rank = np.asarray(group['position'])\n",
    "\n",
    "        # predicted_rank\n",
    "        predicted_rank = np.asarray(group['predicted_rank'])\n",
    "        \n",
    "        # booking_bool\n",
    "        booked = np.asarray(group['booking_bool'])\n",
    "        \n",
    "        # click_bool\n",
    "        clicked = np.asarray(group['click_bool'])\n",
    "        all_scores.append(indiv_search_ndcg_score(true_rank, predicted_rank, booked, clicked))\n",
    "        \n",
    "    return np.nanmean(all_scores)"
   ]
  },
  {
   "cell_type": "code",
   "execution_count": 5,
   "metadata": {},
   "outputs": [],
   "source": [
    "# for i in range(5):\n",
    "#     print(i, dataframe_ndcg_score(random_solution(traindf)))"
   ]
  },
  {
   "cell_type": "code",
   "execution_count": 7,
   "metadata": {},
   "outputs": [
    {
     "name": "stdout",
     "output_type": "stream",
     "text": [
      "5.7562 %\n"
     ]
    }
   ],
   "source": [
    "rf = pd.read_pickle(\"./pickles/XGBoost_test9mei.pkl\")\n",
    "\n",
    "print(round(dataframe_ndcg_score(rf),6) * 100, \"%\")"
   ]
  },
  {
   "cell_type": "code",
   "execution_count": 8,
   "metadata": {},
   "outputs": [
    {
     "name": "stderr",
     "output_type": "stream",
     "text": [
      "/Library/Frameworks/Python.framework/Versions/3.7/lib/python3.7/site-packages/statsmodels/tools/_testing.py:19: FutureWarning: pandas.util.testing is deprecated. Use the functions in the public API at pandas.testing instead.\n",
      "  import pandas.util.testing as tm\n"
     ]
    },
    {
     "ename": "NameError",
     "evalue": "name 'xgb' is not defined",
     "output_type": "error",
     "traceback": [
      "\u001b[0;31m---------------------------------------------------------------------------\u001b[0m",
      "\u001b[0;31mNameError\u001b[0m                                 Traceback (most recent call last)",
      "\u001b[0;32m<ipython-input-8-bfaf2a8c0056>\u001b[0m in \u001b[0;36m<module>\u001b[0;34m()\u001b[0m\n\u001b[1;32m      4\u001b[0m \u001b[0msns\u001b[0m\u001b[0;34m.\u001b[0m\u001b[0mset\u001b[0m\u001b[0;34m(\u001b[0m\u001b[0;34m)\u001b[0m\u001b[0;34m\u001b[0m\u001b[0;34m\u001b[0m\u001b[0m\n\u001b[1;32m      5\u001b[0m \u001b[0;34m\u001b[0m\u001b[0m\n\u001b[0;32m----> 6\u001b[0;31m \u001b[0mxgb\u001b[0m\u001b[0;34m.\u001b[0m\u001b[0mplot_importance\u001b[0m\u001b[0;34m(\u001b[0m\u001b[0mbooster\u001b[0m\u001b[0;34m=\u001b[0m\u001b[0mmodel\u001b[0m \u001b[0;34m)\u001b[0m\u001b[0;34m\u001b[0m\u001b[0;34m\u001b[0m\u001b[0m\n\u001b[0m\u001b[1;32m      7\u001b[0m \u001b[0mplt\u001b[0m\u001b[0;34m.\u001b[0m\u001b[0mshow\u001b[0m\u001b[0;34m(\u001b[0m\u001b[0;34m)\u001b[0m\u001b[0;34m\u001b[0m\u001b[0;34m\u001b[0m\u001b[0m\n",
      "\u001b[0;31mNameError\u001b[0m: name 'xgb' is not defined"
     ]
    }
   ],
   "source": [
    "rf.head(5)"
   ]
  },
  {
   "cell_type": "code",
   "execution_count": null,
   "metadata": {},
   "outputs": [],
   "source": []
  }
 ],
 "metadata": {
  "kernelspec": {
   "display_name": "Python 3",
   "language": "python",
   "name": "python3"
  },
  "language_info": {
   "codemirror_mode": {
    "name": "ipython",
    "version": 3
   },
   "file_extension": ".py",
   "mimetype": "text/x-python",
   "name": "python",
   "nbconvert_exporter": "python",
   "pygments_lexer": "ipython3",
   "version": "3.7.1"
  }
 },
 "nbformat": 4,
 "nbformat_minor": 2
}
