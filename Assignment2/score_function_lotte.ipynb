{
 "cells": [
  {
   "cell_type": "code",
   "execution_count": 1,
   "metadata": {},
   "outputs": [],
   "source": [
    "# imports\n",
    "import pandas as pd\n",
    "import numpy as np\n",
    "import random\n",
    "import statistics as stat\n",
    "\n",
    "traindf = pd.read_pickle(\"./pickles/df_small_train.pkl\")"
   ]
  },
  {
   "cell_type": "code",
   "execution_count": 2,
   "metadata": {},
   "outputs": [],
   "source": [
    "def random_solution(df):\n",
    "    \n",
    "    # csv_name = \"./results/\" + csv_name\n",
    "    \n",
    "    # get list of hotels per search id\n",
    "    results_per_search = df.groupby('srch_id').size()\n",
    "    \n",
    "    column_values = df[\"srch_id\"].values\n",
    "    \n",
    "    ids =  pd.unique(column_values) \n",
    "    \n",
    "    all_ranks = []\n",
    "    \n",
    "    for i, ideetje in enumerate(ids):\n",
    "        df_temp = df[df[\"srch_id\"] == ideetje]\n",
    "        \n",
    "        ranks = df_temp[\"position\"].values\n",
    "        \n",
    "        # shuffle ranks\n",
    "        random.shuffle(ranks)\n",
    "        all_ranks.extend(ranks)\n",
    "\n",
    "    df[\"predicted_rank\"] = all_ranks\n",
    "    return df"
   ]
  },
  {
   "cell_type": "code",
   "execution_count": 3,
   "metadata": {},
   "outputs": [],
   "source": [
    "def indiv_search_ndcg_score(true_rank, predicted_rank, booked, clicked):\n",
    "    idcg = 0\n",
    "    dcg = 0\n",
    "\n",
    "    # itereer over elk resultaat in de search\n",
    "    for i in range(len(true_rank)):\n",
    "        # hotels die geboekt zijn zijn heel belangrijk (5)\n",
    "        if booked[i] == 1:\n",
    "            \n",
    "            # increment ideal score\n",
    "            if i != 0:\n",
    "                idcg = idcg + (5 / np.log2(i+1))\n",
    "            else:\n",
    "                idcg += 5\n",
    "            \n",
    "            # if predicted well, increment score\n",
    "            if true_rank[i] == predicted_rank[i]:\n",
    "                if i != 0:\n",
    "                    dcg = dcg + (5 / np.log2(i+1))\n",
    "                else:\n",
    "                    dcg += 5\n",
    "                \n",
    "        # hotels waarop geklikt is zijn een beetje belangrijk (1)\n",
    "        elif clicked[i] == 1:\n",
    "            \n",
    "            # increment ideal score\n",
    "            if i != 0:\n",
    "                idcg = idcg + (1 / np.log2(i+1))\n",
    "            else:\n",
    "                idcg += 1\n",
    "            \n",
    "            # if predicted well, increment score\n",
    "            if true_rank[i] == predicted_rank[i]:\n",
    "                if i != 0:\n",
    "                    dcg = dcg + (1 / np.log2(i+1))\n",
    "                else:\n",
    "                    dcg += 1\n",
    "    \n",
    "    return dcg/idcg"
   ]
  },
  {
   "cell_type": "code",
   "execution_count": 4,
   "metadata": {},
   "outputs": [],
   "source": [
    "# score function for every search (thus iterate over groupby object)\n",
    "def dataframe_ndcg_score(solution):\n",
    "    all_scores = []\n",
    "    for srchid, group in solution.groupby('srch_id'):\n",
    "\n",
    "        # true_rank\n",
    "        true_rank = np.arange(1,len(group)+1)\n",
    "\n",
    "        # predicted_rank\n",
    "        predicted_rank = np.asarray(group['predicted_rank'])\n",
    "\n",
    "        # booking_bool\n",
    "        booked = np.asarray(group['booking_bool'])\n",
    "\n",
    "        # click_bool\n",
    "        clicked = np.asarray(group['click_bool'])\n",
    "\n",
    "        all_scores.append(indiv_search_ndcg_score(true_rank, predicted_rank, booked, clicked))\n",
    "    return np.nanmean(all_scores)"
   ]
  },
  {
   "cell_type": "code",
   "execution_count": 5,
   "metadata": {},
   "outputs": [
    {
     "name": "stdout",
     "output_type": "stream",
     "text": [
      "0.046578241539181\n"
     ]
    }
   ],
   "source": [
    "print(dataframe_ndcg_score(random_solution(traindf)))"
   ]
  }
 ],
 "metadata": {
  "kernelspec": {
   "display_name": "Python 3",
   "language": "python",
   "name": "python3"
  },
  "language_info": {
   "codemirror_mode": {
    "name": "ipython",
    "version": 3
   },
   "file_extension": ".py",
   "mimetype": "text/x-python",
   "name": "python",
   "nbconvert_exporter": "python",
   "pygments_lexer": "ipython3",
   "version": "3.7.4"
  }
 },
 "nbformat": 4,
 "nbformat_minor": 2
}
